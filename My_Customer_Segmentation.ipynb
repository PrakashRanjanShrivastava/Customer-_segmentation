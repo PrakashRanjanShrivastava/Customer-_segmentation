{
  "cells": [
    {
      "cell_type": "markdown",
      "metadata": {
        "id": "view-in-github",
        "colab_type": "text"
      },
      "source": [
        "<a href=\"https://colab.research.google.com/github/PrakashRanjanShrivastava/Customer-_segmentation/blob/main/My_Customer_Segmentation.ipynb\" target=\"_parent\"><img src=\"https://colab.research.google.com/assets/colab-badge.svg\" alt=\"Open In Colab\"/></a>"
      ]
    },
    {
      "cell_type": "markdown",
      "source": [
        "**Problem Statement**::\n",
        "Customer Personality Analysis is a detailed analysis of a company’s ideal customers. It helps a business to better understand its customers and makes it easier for them to modify products according to the specific needs, behaviors and concerns of different types of customers.\n",
        "\n",
        "\n",
        "Customer personality analysis helps a business to modify its product based on its target customers from different types of customer segments. For example, instead of spending money to market a new product to every customer in the company’s database, a company can analyze which customer segment is most likely to buy the product and then market the product only on that particular segment"
      ],
      "metadata": {
        "id": "coeHgBNfm83R"
      }
    },
    {
      "cell_type": "markdown",
      "source": [
        "Content Attributes::\n",
        "\n",
        "\n",
        "People--\n",
        "\n",
        "ID: Customer's unique identifier\n",
        "\n",
        "\n",
        "Year_Birth: Customer's birth year\n",
        "\n",
        "\n",
        "Education: Customer's education level\n",
        "\n",
        "\n",
        "Marital_Status: Customer's marital status\n",
        "\n",
        "\n",
        "Income: Customer's yearly household income\n",
        "\n",
        "\n",
        "Kidhome: Number of children in customer's household\n",
        "\n",
        "\n",
        "Teenhome: Number of teenagers in customer's household\n",
        "\n",
        "\n",
        "Dt_Customer: Date of customer's enrollment with the company\n",
        "\n",
        "\n",
        "Recency: Number of days since customer's last purchase\n",
        "\n",
        "\n",
        "Complain: 1 if the customer complained in the last 2 years, 0 otherwise\n",
        "\n",
        "\n",
        "Products--\n",
        "\n",
        "\n",
        "MntWines: Amount spent on wine in last 2 years\n",
        "\n",
        "\n",
        "MntFruits: Amount spent on fruits in last 2 years\n",
        "\n",
        "\n",
        "MntMeatProducts: Amount spent on meat in last 2 years\n",
        "\n",
        "\n",
        "MntFishProducts: Amount spent on fish in last 2 years\n",
        "\n",
        "\n",
        "MntSweetProducts: Amount spent on sweets in last 2 years\n",
        "\n",
        "\n",
        "MntGoldProds: Amount spent on gold in last 2 years\n",
        "\n",
        "\n",
        "\n",
        "Promotion--\n",
        "\n",
        "\n",
        "NumDealsPurchases: Number of purchases made with a discount\n",
        "\n",
        "\n",
        "AcceptedCmp1: 1 if customer accepted the offer in the 1st campaign, 0 otherwise\n",
        "\n",
        "\n",
        "AcceptedCmp2: 1 if customer accepted the offer in the 2nd campaign, 0 otherwise\n",
        "\n",
        "\n",
        "AcceptedCmp3: 1 if customer accepted the offer in the 3rd campaign, 0 otherwise\n",
        "\n",
        "\n",
        "AcceptedCmp4: 1 if customer accepted the offer in the 4th campaign, 0 otherwise\n",
        "\n",
        "\n",
        "AcceptedCmp5: 1 if customer accepted the offer in the 5th campaign, 0 otherwise\n",
        "\n",
        "\n",
        "Response: 1 if customer accepted the offer in the last campaign, 0 otherwise\n",
        "\n",
        "\n",
        "\n",
        "Place--\n",
        "\n",
        "\n",
        "NumWebPurchases: Number of purchases made through the company’s website\n",
        "\n",
        "\n",
        "NumCatalogPurchases: Number of purchases made using a catalogue\n",
        "\n",
        "\n",
        "NumStorePurchases: Number of purchases made directly in stores\n",
        "\n",
        "\n",
        "NumWebVisitsMonth: Number of visits to company’s website in the last month"
      ],
      "metadata": {
        "id": "vZfQgKh3nNLf"
      }
    },
    {
      "cell_type": "code",
      "execution_count": 1,
      "metadata": {
        "id": "60Tg5FiTZbyG"
      },
      "outputs": [],
      "source": [
        "import numpy as np \n",
        "import pandas as pd\n",
        "import matplotlib.pyplot as plt\n",
        "import seaborn as sns\n",
        "import io"
      ]
    },
    {
      "cell_type": "code",
      "execution_count": 2,
      "metadata": {
        "colab": {
          "base_uri": "https://localhost:8080/",
          "height": 73
        },
        "id": "f56ho5ygaMbu",
        "outputId": "e26bcbb8-f814-444a-fd1f-197c0a3c03ad"
      },
      "outputs": [
        {
          "output_type": "display_data",
          "data": {
            "text/plain": [
              "<IPython.core.display.HTML object>"
            ],
            "text/html": [
              "\n",
              "     <input type=\"file\" id=\"files-be38cab2-d0cb-4fd8-83b3-fbc0cf39722d\" name=\"files[]\" multiple disabled\n",
              "        style=\"border:none\" />\n",
              "     <output id=\"result-be38cab2-d0cb-4fd8-83b3-fbc0cf39722d\">\n",
              "      Upload widget is only available when the cell has been executed in the\n",
              "      current browser session. Please rerun this cell to enable.\n",
              "      </output>\n",
              "      <script>// Copyright 2017 Google LLC\n",
              "//\n",
              "// Licensed under the Apache License, Version 2.0 (the \"License\");\n",
              "// you may not use this file except in compliance with the License.\n",
              "// You may obtain a copy of the License at\n",
              "//\n",
              "//      http://www.apache.org/licenses/LICENSE-2.0\n",
              "//\n",
              "// Unless required by applicable law or agreed to in writing, software\n",
              "// distributed under the License is distributed on an \"AS IS\" BASIS,\n",
              "// WITHOUT WARRANTIES OR CONDITIONS OF ANY KIND, either express or implied.\n",
              "// See the License for the specific language governing permissions and\n",
              "// limitations under the License.\n",
              "\n",
              "/**\n",
              " * @fileoverview Helpers for google.colab Python module.\n",
              " */\n",
              "(function(scope) {\n",
              "function span(text, styleAttributes = {}) {\n",
              "  const element = document.createElement('span');\n",
              "  element.textContent = text;\n",
              "  for (const key of Object.keys(styleAttributes)) {\n",
              "    element.style[key] = styleAttributes[key];\n",
              "  }\n",
              "  return element;\n",
              "}\n",
              "\n",
              "// Max number of bytes which will be uploaded at a time.\n",
              "const MAX_PAYLOAD_SIZE = 100 * 1024;\n",
              "\n",
              "function _uploadFiles(inputId, outputId) {\n",
              "  const steps = uploadFilesStep(inputId, outputId);\n",
              "  const outputElement = document.getElementById(outputId);\n",
              "  // Cache steps on the outputElement to make it available for the next call\n",
              "  // to uploadFilesContinue from Python.\n",
              "  outputElement.steps = steps;\n",
              "\n",
              "  return _uploadFilesContinue(outputId);\n",
              "}\n",
              "\n",
              "// This is roughly an async generator (not supported in the browser yet),\n",
              "// where there are multiple asynchronous steps and the Python side is going\n",
              "// to poll for completion of each step.\n",
              "// This uses a Promise to block the python side on completion of each step,\n",
              "// then passes the result of the previous step as the input to the next step.\n",
              "function _uploadFilesContinue(outputId) {\n",
              "  const outputElement = document.getElementById(outputId);\n",
              "  const steps = outputElement.steps;\n",
              "\n",
              "  const next = steps.next(outputElement.lastPromiseValue);\n",
              "  return Promise.resolve(next.value.promise).then((value) => {\n",
              "    // Cache the last promise value to make it available to the next\n",
              "    // step of the generator.\n",
              "    outputElement.lastPromiseValue = value;\n",
              "    return next.value.response;\n",
              "  });\n",
              "}\n",
              "\n",
              "/**\n",
              " * Generator function which is called between each async step of the upload\n",
              " * process.\n",
              " * @param {string} inputId Element ID of the input file picker element.\n",
              " * @param {string} outputId Element ID of the output display.\n",
              " * @return {!Iterable<!Object>} Iterable of next steps.\n",
              " */\n",
              "function* uploadFilesStep(inputId, outputId) {\n",
              "  const inputElement = document.getElementById(inputId);\n",
              "  inputElement.disabled = false;\n",
              "\n",
              "  const outputElement = document.getElementById(outputId);\n",
              "  outputElement.innerHTML = '';\n",
              "\n",
              "  const pickedPromise = new Promise((resolve) => {\n",
              "    inputElement.addEventListener('change', (e) => {\n",
              "      resolve(e.target.files);\n",
              "    });\n",
              "  });\n",
              "\n",
              "  const cancel = document.createElement('button');\n",
              "  inputElement.parentElement.appendChild(cancel);\n",
              "  cancel.textContent = 'Cancel upload';\n",
              "  const cancelPromise = new Promise((resolve) => {\n",
              "    cancel.onclick = () => {\n",
              "      resolve(null);\n",
              "    };\n",
              "  });\n",
              "\n",
              "  // Wait for the user to pick the files.\n",
              "  const files = yield {\n",
              "    promise: Promise.race([pickedPromise, cancelPromise]),\n",
              "    response: {\n",
              "      action: 'starting',\n",
              "    }\n",
              "  };\n",
              "\n",
              "  cancel.remove();\n",
              "\n",
              "  // Disable the input element since further picks are not allowed.\n",
              "  inputElement.disabled = true;\n",
              "\n",
              "  if (!files) {\n",
              "    return {\n",
              "      response: {\n",
              "        action: 'complete',\n",
              "      }\n",
              "    };\n",
              "  }\n",
              "\n",
              "  for (const file of files) {\n",
              "    const li = document.createElement('li');\n",
              "    li.append(span(file.name, {fontWeight: 'bold'}));\n",
              "    li.append(span(\n",
              "        `(${file.type || 'n/a'}) - ${file.size} bytes, ` +\n",
              "        `last modified: ${\n",
              "            file.lastModifiedDate ? file.lastModifiedDate.toLocaleDateString() :\n",
              "                                    'n/a'} - `));\n",
              "    const percent = span('0% done');\n",
              "    li.appendChild(percent);\n",
              "\n",
              "    outputElement.appendChild(li);\n",
              "\n",
              "    const fileDataPromise = new Promise((resolve) => {\n",
              "      const reader = new FileReader();\n",
              "      reader.onload = (e) => {\n",
              "        resolve(e.target.result);\n",
              "      };\n",
              "      reader.readAsArrayBuffer(file);\n",
              "    });\n",
              "    // Wait for the data to be ready.\n",
              "    let fileData = yield {\n",
              "      promise: fileDataPromise,\n",
              "      response: {\n",
              "        action: 'continue',\n",
              "      }\n",
              "    };\n",
              "\n",
              "    // Use a chunked sending to avoid message size limits. See b/62115660.\n",
              "    let position = 0;\n",
              "    do {\n",
              "      const length = Math.min(fileData.byteLength - position, MAX_PAYLOAD_SIZE);\n",
              "      const chunk = new Uint8Array(fileData, position, length);\n",
              "      position += length;\n",
              "\n",
              "      const base64 = btoa(String.fromCharCode.apply(null, chunk));\n",
              "      yield {\n",
              "        response: {\n",
              "          action: 'append',\n",
              "          file: file.name,\n",
              "          data: base64,\n",
              "        },\n",
              "      };\n",
              "\n",
              "      let percentDone = fileData.byteLength === 0 ?\n",
              "          100 :\n",
              "          Math.round((position / fileData.byteLength) * 100);\n",
              "      percent.textContent = `${percentDone}% done`;\n",
              "\n",
              "    } while (position < fileData.byteLength);\n",
              "  }\n",
              "\n",
              "  // All done.\n",
              "  yield {\n",
              "    response: {\n",
              "      action: 'complete',\n",
              "    }\n",
              "  };\n",
              "}\n",
              "\n",
              "scope.google = scope.google || {};\n",
              "scope.google.colab = scope.google.colab || {};\n",
              "scope.google.colab._files = {\n",
              "  _uploadFiles,\n",
              "  _uploadFilesContinue,\n",
              "};\n",
              "})(self);\n",
              "</script> "
            ]
          },
          "metadata": {}
        },
        {
          "output_type": "stream",
          "name": "stdout",
          "text": [
            "Saving marketing_campaign1.csv to marketing_campaign1.csv\n"
          ]
        }
      ],
      "source": [
        "from google.colab import files\n",
        "Data_to_load =files.upload()"
      ]
    },
    {
      "cell_type": "code",
      "execution_count": 3,
      "metadata": {
        "id": "WEuDhDpFdewJ"
      },
      "outputs": [],
      "source": [
        "df_mc = pd.read_csv(io.BytesIO(Data_to_load['marketing_campaign1.csv']))"
      ]
    },
    {
      "cell_type": "markdown",
      "source": [
        "# ***Exploratory Data Analysis***"
      ],
      "metadata": {
        "id": "gXBpSn7JoByl"
      }
    },
    {
      "cell_type": "code",
      "execution_count": 4,
      "metadata": {
        "colab": {
          "base_uri": "https://localhost:8080/",
          "height": 487
        },
        "id": "oTqXDBkmfTry",
        "outputId": "c0fab726-d1e2-457d-dbac-07b17628191b"
      },
      "outputs": [
        {
          "output_type": "execute_result",
          "data": {
            "text/plain": [
              "         ID  Year_Birth   Education Marital_Status   Income  Kidhome  \\\n",
              "0      5524        1957  Graduation         Single  58138.0        0   \n",
              "1      2174        1954  Graduation         Single  46344.0        1   \n",
              "2      4141        1965  Graduation       Together  71613.0        0   \n",
              "3      6182        1984  Graduation       Together  26646.0        1   \n",
              "4      5324        1981         PhD        Married  58293.0        1   \n",
              "...     ...         ...         ...            ...      ...      ...   \n",
              "2235  10870        1967  Graduation        Married  61223.0        0   \n",
              "2236   4001        1946         PhD       Together  64014.0        2   \n",
              "2237   7270        1981  Graduation       Divorced  56981.0        0   \n",
              "2238   8235        1956      Master       Together  69245.0        0   \n",
              "2239   9405        1954         PhD        Married  52869.0        1   \n",
              "\n",
              "      Teenhome Dt_Customer  Recency  MntWines  ...  NumWebVisitsMonth  \\\n",
              "0            0    4/9/2012       58       635  ...                  7   \n",
              "1            1    8/3/2014       38        11  ...                  5   \n",
              "2            0  21-08-2013       26       426  ...                  4   \n",
              "3            0   10/2/2014       26        11  ...                  6   \n",
              "4            0  19-01-2014       94       173  ...                  5   \n",
              "...        ...         ...      ...       ...  ...                ...   \n",
              "2235         1  13-06-2013       46       709  ...                  5   \n",
              "2236         1   10/6/2014       56       406  ...                  7   \n",
              "2237         0  25-01-2014       91       908  ...                  6   \n",
              "2238         1  24-01-2014        8       428  ...                  3   \n",
              "2239         1  15-10-2012       40        84  ...                  7   \n",
              "\n",
              "      AcceptedCmp3  AcceptedCmp4  AcceptedCmp5  AcceptedCmp1  AcceptedCmp2  \\\n",
              "0                0             0             0             0             0   \n",
              "1                0             0             0             0             0   \n",
              "2                0             0             0             0             0   \n",
              "3                0             0             0             0             0   \n",
              "4                0             0             0             0             0   \n",
              "...            ...           ...           ...           ...           ...   \n",
              "2235             0             0             0             0             0   \n",
              "2236             0             0             0             1             0   \n",
              "2237             0             1             0             0             0   \n",
              "2238             0             0             0             0             0   \n",
              "2239             0             0             0             0             0   \n",
              "\n",
              "      Complain  Z_CostContact  Z_Revenue  Response  \n",
              "0            0              3         11         1  \n",
              "1            0              3         11         0  \n",
              "2            0              3         11         0  \n",
              "3            0              3         11         0  \n",
              "4            0              3         11         0  \n",
              "...        ...            ...        ...       ...  \n",
              "2235         0              3         11         0  \n",
              "2236         0              3         11         0  \n",
              "2237         0              3         11         0  \n",
              "2238         0              3         11         0  \n",
              "2239         0              3         11         1  \n",
              "\n",
              "[2240 rows x 29 columns]"
            ],
            "text/html": [
              "\n",
              "  <div id=\"df-afcfd618-fe68-4a54-bc81-cbc8144e4e06\">\n",
              "    <div class=\"colab-df-container\">\n",
              "      <div>\n",
              "<style scoped>\n",
              "    .dataframe tbody tr th:only-of-type {\n",
              "        vertical-align: middle;\n",
              "    }\n",
              "\n",
              "    .dataframe tbody tr th {\n",
              "        vertical-align: top;\n",
              "    }\n",
              "\n",
              "    .dataframe thead th {\n",
              "        text-align: right;\n",
              "    }\n",
              "</style>\n",
              "<table border=\"1\" class=\"dataframe\">\n",
              "  <thead>\n",
              "    <tr style=\"text-align: right;\">\n",
              "      <th></th>\n",
              "      <th>ID</th>\n",
              "      <th>Year_Birth</th>\n",
              "      <th>Education</th>\n",
              "      <th>Marital_Status</th>\n",
              "      <th>Income</th>\n",
              "      <th>Kidhome</th>\n",
              "      <th>Teenhome</th>\n",
              "      <th>Dt_Customer</th>\n",
              "      <th>Recency</th>\n",
              "      <th>MntWines</th>\n",
              "      <th>...</th>\n",
              "      <th>NumWebVisitsMonth</th>\n",
              "      <th>AcceptedCmp3</th>\n",
              "      <th>AcceptedCmp4</th>\n",
              "      <th>AcceptedCmp5</th>\n",
              "      <th>AcceptedCmp1</th>\n",
              "      <th>AcceptedCmp2</th>\n",
              "      <th>Complain</th>\n",
              "      <th>Z_CostContact</th>\n",
              "      <th>Z_Revenue</th>\n",
              "      <th>Response</th>\n",
              "    </tr>\n",
              "  </thead>\n",
              "  <tbody>\n",
              "    <tr>\n",
              "      <th>0</th>\n",
              "      <td>5524</td>\n",
              "      <td>1957</td>\n",
              "      <td>Graduation</td>\n",
              "      <td>Single</td>\n",
              "      <td>58138.0</td>\n",
              "      <td>0</td>\n",
              "      <td>0</td>\n",
              "      <td>4/9/2012</td>\n",
              "      <td>58</td>\n",
              "      <td>635</td>\n",
              "      <td>...</td>\n",
              "      <td>7</td>\n",
              "      <td>0</td>\n",
              "      <td>0</td>\n",
              "      <td>0</td>\n",
              "      <td>0</td>\n",
              "      <td>0</td>\n",
              "      <td>0</td>\n",
              "      <td>3</td>\n",
              "      <td>11</td>\n",
              "      <td>1</td>\n",
              "    </tr>\n",
              "    <tr>\n",
              "      <th>1</th>\n",
              "      <td>2174</td>\n",
              "      <td>1954</td>\n",
              "      <td>Graduation</td>\n",
              "      <td>Single</td>\n",
              "      <td>46344.0</td>\n",
              "      <td>1</td>\n",
              "      <td>1</td>\n",
              "      <td>8/3/2014</td>\n",
              "      <td>38</td>\n",
              "      <td>11</td>\n",
              "      <td>...</td>\n",
              "      <td>5</td>\n",
              "      <td>0</td>\n",
              "      <td>0</td>\n",
              "      <td>0</td>\n",
              "      <td>0</td>\n",
              "      <td>0</td>\n",
              "      <td>0</td>\n",
              "      <td>3</td>\n",
              "      <td>11</td>\n",
              "      <td>0</td>\n",
              "    </tr>\n",
              "    <tr>\n",
              "      <th>2</th>\n",
              "      <td>4141</td>\n",
              "      <td>1965</td>\n",
              "      <td>Graduation</td>\n",
              "      <td>Together</td>\n",
              "      <td>71613.0</td>\n",
              "      <td>0</td>\n",
              "      <td>0</td>\n",
              "      <td>21-08-2013</td>\n",
              "      <td>26</td>\n",
              "      <td>426</td>\n",
              "      <td>...</td>\n",
              "      <td>4</td>\n",
              "      <td>0</td>\n",
              "      <td>0</td>\n",
              "      <td>0</td>\n",
              "      <td>0</td>\n",
              "      <td>0</td>\n",
              "      <td>0</td>\n",
              "      <td>3</td>\n",
              "      <td>11</td>\n",
              "      <td>0</td>\n",
              "    </tr>\n",
              "    <tr>\n",
              "      <th>3</th>\n",
              "      <td>6182</td>\n",
              "      <td>1984</td>\n",
              "      <td>Graduation</td>\n",
              "      <td>Together</td>\n",
              "      <td>26646.0</td>\n",
              "      <td>1</td>\n",
              "      <td>0</td>\n",
              "      <td>10/2/2014</td>\n",
              "      <td>26</td>\n",
              "      <td>11</td>\n",
              "      <td>...</td>\n",
              "      <td>6</td>\n",
              "      <td>0</td>\n",
              "      <td>0</td>\n",
              "      <td>0</td>\n",
              "      <td>0</td>\n",
              "      <td>0</td>\n",
              "      <td>0</td>\n",
              "      <td>3</td>\n",
              "      <td>11</td>\n",
              "      <td>0</td>\n",
              "    </tr>\n",
              "    <tr>\n",
              "      <th>4</th>\n",
              "      <td>5324</td>\n",
              "      <td>1981</td>\n",
              "      <td>PhD</td>\n",
              "      <td>Married</td>\n",
              "      <td>58293.0</td>\n",
              "      <td>1</td>\n",
              "      <td>0</td>\n",
              "      <td>19-01-2014</td>\n",
              "      <td>94</td>\n",
              "      <td>173</td>\n",
              "      <td>...</td>\n",
              "      <td>5</td>\n",
              "      <td>0</td>\n",
              "      <td>0</td>\n",
              "      <td>0</td>\n",
              "      <td>0</td>\n",
              "      <td>0</td>\n",
              "      <td>0</td>\n",
              "      <td>3</td>\n",
              "      <td>11</td>\n",
              "      <td>0</td>\n",
              "    </tr>\n",
              "    <tr>\n",
              "      <th>...</th>\n",
              "      <td>...</td>\n",
              "      <td>...</td>\n",
              "      <td>...</td>\n",
              "      <td>...</td>\n",
              "      <td>...</td>\n",
              "      <td>...</td>\n",
              "      <td>...</td>\n",
              "      <td>...</td>\n",
              "      <td>...</td>\n",
              "      <td>...</td>\n",
              "      <td>...</td>\n",
              "      <td>...</td>\n",
              "      <td>...</td>\n",
              "      <td>...</td>\n",
              "      <td>...</td>\n",
              "      <td>...</td>\n",
              "      <td>...</td>\n",
              "      <td>...</td>\n",
              "      <td>...</td>\n",
              "      <td>...</td>\n",
              "      <td>...</td>\n",
              "    </tr>\n",
              "    <tr>\n",
              "      <th>2235</th>\n",
              "      <td>10870</td>\n",
              "      <td>1967</td>\n",
              "      <td>Graduation</td>\n",
              "      <td>Married</td>\n",
              "      <td>61223.0</td>\n",
              "      <td>0</td>\n",
              "      <td>1</td>\n",
              "      <td>13-06-2013</td>\n",
              "      <td>46</td>\n",
              "      <td>709</td>\n",
              "      <td>...</td>\n",
              "      <td>5</td>\n",
              "      <td>0</td>\n",
              "      <td>0</td>\n",
              "      <td>0</td>\n",
              "      <td>0</td>\n",
              "      <td>0</td>\n",
              "      <td>0</td>\n",
              "      <td>3</td>\n",
              "      <td>11</td>\n",
              "      <td>0</td>\n",
              "    </tr>\n",
              "    <tr>\n",
              "      <th>2236</th>\n",
              "      <td>4001</td>\n",
              "      <td>1946</td>\n",
              "      <td>PhD</td>\n",
              "      <td>Together</td>\n",
              "      <td>64014.0</td>\n",
              "      <td>2</td>\n",
              "      <td>1</td>\n",
              "      <td>10/6/2014</td>\n",
              "      <td>56</td>\n",
              "      <td>406</td>\n",
              "      <td>...</td>\n",
              "      <td>7</td>\n",
              "      <td>0</td>\n",
              "      <td>0</td>\n",
              "      <td>0</td>\n",
              "      <td>1</td>\n",
              "      <td>0</td>\n",
              "      <td>0</td>\n",
              "      <td>3</td>\n",
              "      <td>11</td>\n",
              "      <td>0</td>\n",
              "    </tr>\n",
              "    <tr>\n",
              "      <th>2237</th>\n",
              "      <td>7270</td>\n",
              "      <td>1981</td>\n",
              "      <td>Graduation</td>\n",
              "      <td>Divorced</td>\n",
              "      <td>56981.0</td>\n",
              "      <td>0</td>\n",
              "      <td>0</td>\n",
              "      <td>25-01-2014</td>\n",
              "      <td>91</td>\n",
              "      <td>908</td>\n",
              "      <td>...</td>\n",
              "      <td>6</td>\n",
              "      <td>0</td>\n",
              "      <td>1</td>\n",
              "      <td>0</td>\n",
              "      <td>0</td>\n",
              "      <td>0</td>\n",
              "      <td>0</td>\n",
              "      <td>3</td>\n",
              "      <td>11</td>\n",
              "      <td>0</td>\n",
              "    </tr>\n",
              "    <tr>\n",
              "      <th>2238</th>\n",
              "      <td>8235</td>\n",
              "      <td>1956</td>\n",
              "      <td>Master</td>\n",
              "      <td>Together</td>\n",
              "      <td>69245.0</td>\n",
              "      <td>0</td>\n",
              "      <td>1</td>\n",
              "      <td>24-01-2014</td>\n",
              "      <td>8</td>\n",
              "      <td>428</td>\n",
              "      <td>...</td>\n",
              "      <td>3</td>\n",
              "      <td>0</td>\n",
              "      <td>0</td>\n",
              "      <td>0</td>\n",
              "      <td>0</td>\n",
              "      <td>0</td>\n",
              "      <td>0</td>\n",
              "      <td>3</td>\n",
              "      <td>11</td>\n",
              "      <td>0</td>\n",
              "    </tr>\n",
              "    <tr>\n",
              "      <th>2239</th>\n",
              "      <td>9405</td>\n",
              "      <td>1954</td>\n",
              "      <td>PhD</td>\n",
              "      <td>Married</td>\n",
              "      <td>52869.0</td>\n",
              "      <td>1</td>\n",
              "      <td>1</td>\n",
              "      <td>15-10-2012</td>\n",
              "      <td>40</td>\n",
              "      <td>84</td>\n",
              "      <td>...</td>\n",
              "      <td>7</td>\n",
              "      <td>0</td>\n",
              "      <td>0</td>\n",
              "      <td>0</td>\n",
              "      <td>0</td>\n",
              "      <td>0</td>\n",
              "      <td>0</td>\n",
              "      <td>3</td>\n",
              "      <td>11</td>\n",
              "      <td>1</td>\n",
              "    </tr>\n",
              "  </tbody>\n",
              "</table>\n",
              "<p>2240 rows × 29 columns</p>\n",
              "</div>\n",
              "      <button class=\"colab-df-convert\" onclick=\"convertToInteractive('df-afcfd618-fe68-4a54-bc81-cbc8144e4e06')\"\n",
              "              title=\"Convert this dataframe to an interactive table.\"\n",
              "              style=\"display:none;\">\n",
              "        \n",
              "  <svg xmlns=\"http://www.w3.org/2000/svg\" height=\"24px\"viewBox=\"0 0 24 24\"\n",
              "       width=\"24px\">\n",
              "    <path d=\"M0 0h24v24H0V0z\" fill=\"none\"/>\n",
              "    <path d=\"M18.56 5.44l.94 2.06.94-2.06 2.06-.94-2.06-.94-.94-2.06-.94 2.06-2.06.94zm-11 1L8.5 8.5l.94-2.06 2.06-.94-2.06-.94L8.5 2.5l-.94 2.06-2.06.94zm10 10l.94 2.06.94-2.06 2.06-.94-2.06-.94-.94-2.06-.94 2.06-2.06.94z\"/><path d=\"M17.41 7.96l-1.37-1.37c-.4-.4-.92-.59-1.43-.59-.52 0-1.04.2-1.43.59L10.3 9.45l-7.72 7.72c-.78.78-.78 2.05 0 2.83L4 21.41c.39.39.9.59 1.41.59.51 0 1.02-.2 1.41-.59l7.78-7.78 2.81-2.81c.8-.78.8-2.07 0-2.86zM5.41 20L4 18.59l7.72-7.72 1.47 1.35L5.41 20z\"/>\n",
              "  </svg>\n",
              "      </button>\n",
              "      \n",
              "  <style>\n",
              "    .colab-df-container {\n",
              "      display:flex;\n",
              "      flex-wrap:wrap;\n",
              "      gap: 12px;\n",
              "    }\n",
              "\n",
              "    .colab-df-convert {\n",
              "      background-color: #E8F0FE;\n",
              "      border: none;\n",
              "      border-radius: 50%;\n",
              "      cursor: pointer;\n",
              "      display: none;\n",
              "      fill: #1967D2;\n",
              "      height: 32px;\n",
              "      padding: 0 0 0 0;\n",
              "      width: 32px;\n",
              "    }\n",
              "\n",
              "    .colab-df-convert:hover {\n",
              "      background-color: #E2EBFA;\n",
              "      box-shadow: 0px 1px 2px rgba(60, 64, 67, 0.3), 0px 1px 3px 1px rgba(60, 64, 67, 0.15);\n",
              "      fill: #174EA6;\n",
              "    }\n",
              "\n",
              "    [theme=dark] .colab-df-convert {\n",
              "      background-color: #3B4455;\n",
              "      fill: #D2E3FC;\n",
              "    }\n",
              "\n",
              "    [theme=dark] .colab-df-convert:hover {\n",
              "      background-color: #434B5C;\n",
              "      box-shadow: 0px 1px 3px 1px rgba(0, 0, 0, 0.15);\n",
              "      filter: drop-shadow(0px 1px 2px rgba(0, 0, 0, 0.3));\n",
              "      fill: #FFFFFF;\n",
              "    }\n",
              "  </style>\n",
              "\n",
              "      <script>\n",
              "        const buttonEl =\n",
              "          document.querySelector('#df-afcfd618-fe68-4a54-bc81-cbc8144e4e06 button.colab-df-convert');\n",
              "        buttonEl.style.display =\n",
              "          google.colab.kernel.accessAllowed ? 'block' : 'none';\n",
              "\n",
              "        async function convertToInteractive(key) {\n",
              "          const element = document.querySelector('#df-afcfd618-fe68-4a54-bc81-cbc8144e4e06');\n",
              "          const dataTable =\n",
              "            await google.colab.kernel.invokeFunction('convertToInteractive',\n",
              "                                                     [key], {});\n",
              "          if (!dataTable) return;\n",
              "\n",
              "          const docLinkHtml = 'Like what you see? Visit the ' +\n",
              "            '<a target=\"_blank\" href=https://colab.research.google.com/notebooks/data_table.ipynb>data table notebook</a>'\n",
              "            + ' to learn more about interactive tables.';\n",
              "          element.innerHTML = '';\n",
              "          dataTable['output_type'] = 'display_data';\n",
              "          await google.colab.output.renderOutput(dataTable, element);\n",
              "          const docLink = document.createElement('div');\n",
              "          docLink.innerHTML = docLinkHtml;\n",
              "          element.appendChild(docLink);\n",
              "        }\n",
              "      </script>\n",
              "    </div>\n",
              "  </div>\n",
              "  "
            ]
          },
          "metadata": {},
          "execution_count": 4
        }
      ],
      "source": [
        "df_mc"
      ]
    },
    {
      "cell_type": "code",
      "source": [
        "df_mc.describe()"
      ],
      "metadata": {
        "colab": {
          "base_uri": "https://localhost:8080/",
          "height": 393
        },
        "id": "NLyLE_kz427J",
        "outputId": "2c256d16-ad5c-430d-cf74-bfda59ddaa85"
      },
      "execution_count": 5,
      "outputs": [
        {
          "output_type": "execute_result",
          "data": {
            "text/plain": [
              "                 ID   Year_Birth         Income      Kidhome     Teenhome  \\\n",
              "count   2240.000000  2240.000000    2216.000000  2240.000000  2240.000000   \n",
              "mean    5592.159821  1968.805804   52247.251354     0.444196     0.506250   \n",
              "std     3246.662198    11.984069   25173.076661     0.538398     0.544538   \n",
              "min        0.000000  1893.000000    1730.000000     0.000000     0.000000   \n",
              "25%     2828.250000  1959.000000   35303.000000     0.000000     0.000000   \n",
              "50%     5458.500000  1970.000000   51381.500000     0.000000     0.000000   \n",
              "75%     8427.750000  1977.000000   68522.000000     1.000000     1.000000   \n",
              "max    11191.000000  1996.000000  666666.000000     2.000000     2.000000   \n",
              "\n",
              "           Recency     MntWines    MntFruits  MntMeatProducts  \\\n",
              "count  2240.000000  2240.000000  2240.000000      2240.000000   \n",
              "mean     49.109375   303.935714    26.302232       166.950000   \n",
              "std      28.962453   336.597393    39.773434       225.715373   \n",
              "min       0.000000     0.000000     0.000000         0.000000   \n",
              "25%      24.000000    23.750000     1.000000        16.000000   \n",
              "50%      49.000000   173.500000     8.000000        67.000000   \n",
              "75%      74.000000   504.250000    33.000000       232.000000   \n",
              "max      99.000000  1493.000000   199.000000      1725.000000   \n",
              "\n",
              "       MntFishProducts  ...  NumWebVisitsMonth  AcceptedCmp3  AcceptedCmp4  \\\n",
              "count      2240.000000  ...        2240.000000   2240.000000   2240.000000   \n",
              "mean         37.525446  ...           5.316518      0.072768      0.074554   \n",
              "std          54.628979  ...           2.426645      0.259813      0.262728   \n",
              "min           0.000000  ...           0.000000      0.000000      0.000000   \n",
              "25%           3.000000  ...           3.000000      0.000000      0.000000   \n",
              "50%          12.000000  ...           6.000000      0.000000      0.000000   \n",
              "75%          50.000000  ...           7.000000      0.000000      0.000000   \n",
              "max         259.000000  ...          20.000000      1.000000      1.000000   \n",
              "\n",
              "       AcceptedCmp5  AcceptedCmp1  AcceptedCmp2     Complain  Z_CostContact  \\\n",
              "count   2240.000000   2240.000000   2240.000000  2240.000000         2240.0   \n",
              "mean       0.072768      0.064286      0.013393     0.009375            3.0   \n",
              "std        0.259813      0.245316      0.114976     0.096391            0.0   \n",
              "min        0.000000      0.000000      0.000000     0.000000            3.0   \n",
              "25%        0.000000      0.000000      0.000000     0.000000            3.0   \n",
              "50%        0.000000      0.000000      0.000000     0.000000            3.0   \n",
              "75%        0.000000      0.000000      0.000000     0.000000            3.0   \n",
              "max        1.000000      1.000000      1.000000     1.000000            3.0   \n",
              "\n",
              "       Z_Revenue     Response  \n",
              "count     2240.0  2240.000000  \n",
              "mean        11.0     0.149107  \n",
              "std          0.0     0.356274  \n",
              "min         11.0     0.000000  \n",
              "25%         11.0     0.000000  \n",
              "50%         11.0     0.000000  \n",
              "75%         11.0     0.000000  \n",
              "max         11.0     1.000000  \n",
              "\n",
              "[8 rows x 26 columns]"
            ],
            "text/html": [
              "\n",
              "  <div id=\"df-2122e774-b0ed-42c7-ba2f-1df699af489c\">\n",
              "    <div class=\"colab-df-container\">\n",
              "      <div>\n",
              "<style scoped>\n",
              "    .dataframe tbody tr th:only-of-type {\n",
              "        vertical-align: middle;\n",
              "    }\n",
              "\n",
              "    .dataframe tbody tr th {\n",
              "        vertical-align: top;\n",
              "    }\n",
              "\n",
              "    .dataframe thead th {\n",
              "        text-align: right;\n",
              "    }\n",
              "</style>\n",
              "<table border=\"1\" class=\"dataframe\">\n",
              "  <thead>\n",
              "    <tr style=\"text-align: right;\">\n",
              "      <th></th>\n",
              "      <th>ID</th>\n",
              "      <th>Year_Birth</th>\n",
              "      <th>Income</th>\n",
              "      <th>Kidhome</th>\n",
              "      <th>Teenhome</th>\n",
              "      <th>Recency</th>\n",
              "      <th>MntWines</th>\n",
              "      <th>MntFruits</th>\n",
              "      <th>MntMeatProducts</th>\n",
              "      <th>MntFishProducts</th>\n",
              "      <th>...</th>\n",
              "      <th>NumWebVisitsMonth</th>\n",
              "      <th>AcceptedCmp3</th>\n",
              "      <th>AcceptedCmp4</th>\n",
              "      <th>AcceptedCmp5</th>\n",
              "      <th>AcceptedCmp1</th>\n",
              "      <th>AcceptedCmp2</th>\n",
              "      <th>Complain</th>\n",
              "      <th>Z_CostContact</th>\n",
              "      <th>Z_Revenue</th>\n",
              "      <th>Response</th>\n",
              "    </tr>\n",
              "  </thead>\n",
              "  <tbody>\n",
              "    <tr>\n",
              "      <th>count</th>\n",
              "      <td>2240.000000</td>\n",
              "      <td>2240.000000</td>\n",
              "      <td>2216.000000</td>\n",
              "      <td>2240.000000</td>\n",
              "      <td>2240.000000</td>\n",
              "      <td>2240.000000</td>\n",
              "      <td>2240.000000</td>\n",
              "      <td>2240.000000</td>\n",
              "      <td>2240.000000</td>\n",
              "      <td>2240.000000</td>\n",
              "      <td>...</td>\n",
              "      <td>2240.000000</td>\n",
              "      <td>2240.000000</td>\n",
              "      <td>2240.000000</td>\n",
              "      <td>2240.000000</td>\n",
              "      <td>2240.000000</td>\n",
              "      <td>2240.000000</td>\n",
              "      <td>2240.000000</td>\n",
              "      <td>2240.0</td>\n",
              "      <td>2240.0</td>\n",
              "      <td>2240.000000</td>\n",
              "    </tr>\n",
              "    <tr>\n",
              "      <th>mean</th>\n",
              "      <td>5592.159821</td>\n",
              "      <td>1968.805804</td>\n",
              "      <td>52247.251354</td>\n",
              "      <td>0.444196</td>\n",
              "      <td>0.506250</td>\n",
              "      <td>49.109375</td>\n",
              "      <td>303.935714</td>\n",
              "      <td>26.302232</td>\n",
              "      <td>166.950000</td>\n",
              "      <td>37.525446</td>\n",
              "      <td>...</td>\n",
              "      <td>5.316518</td>\n",
              "      <td>0.072768</td>\n",
              "      <td>0.074554</td>\n",
              "      <td>0.072768</td>\n",
              "      <td>0.064286</td>\n",
              "      <td>0.013393</td>\n",
              "      <td>0.009375</td>\n",
              "      <td>3.0</td>\n",
              "      <td>11.0</td>\n",
              "      <td>0.149107</td>\n",
              "    </tr>\n",
              "    <tr>\n",
              "      <th>std</th>\n",
              "      <td>3246.662198</td>\n",
              "      <td>11.984069</td>\n",
              "      <td>25173.076661</td>\n",
              "      <td>0.538398</td>\n",
              "      <td>0.544538</td>\n",
              "      <td>28.962453</td>\n",
              "      <td>336.597393</td>\n",
              "      <td>39.773434</td>\n",
              "      <td>225.715373</td>\n",
              "      <td>54.628979</td>\n",
              "      <td>...</td>\n",
              "      <td>2.426645</td>\n",
              "      <td>0.259813</td>\n",
              "      <td>0.262728</td>\n",
              "      <td>0.259813</td>\n",
              "      <td>0.245316</td>\n",
              "      <td>0.114976</td>\n",
              "      <td>0.096391</td>\n",
              "      <td>0.0</td>\n",
              "      <td>0.0</td>\n",
              "      <td>0.356274</td>\n",
              "    </tr>\n",
              "    <tr>\n",
              "      <th>min</th>\n",
              "      <td>0.000000</td>\n",
              "      <td>1893.000000</td>\n",
              "      <td>1730.000000</td>\n",
              "      <td>0.000000</td>\n",
              "      <td>0.000000</td>\n",
              "      <td>0.000000</td>\n",
              "      <td>0.000000</td>\n",
              "      <td>0.000000</td>\n",
              "      <td>0.000000</td>\n",
              "      <td>0.000000</td>\n",
              "      <td>...</td>\n",
              "      <td>0.000000</td>\n",
              "      <td>0.000000</td>\n",
              "      <td>0.000000</td>\n",
              "      <td>0.000000</td>\n",
              "      <td>0.000000</td>\n",
              "      <td>0.000000</td>\n",
              "      <td>0.000000</td>\n",
              "      <td>3.0</td>\n",
              "      <td>11.0</td>\n",
              "      <td>0.000000</td>\n",
              "    </tr>\n",
              "    <tr>\n",
              "      <th>25%</th>\n",
              "      <td>2828.250000</td>\n",
              "      <td>1959.000000</td>\n",
              "      <td>35303.000000</td>\n",
              "      <td>0.000000</td>\n",
              "      <td>0.000000</td>\n",
              "      <td>24.000000</td>\n",
              "      <td>23.750000</td>\n",
              "      <td>1.000000</td>\n",
              "      <td>16.000000</td>\n",
              "      <td>3.000000</td>\n",
              "      <td>...</td>\n",
              "      <td>3.000000</td>\n",
              "      <td>0.000000</td>\n",
              "      <td>0.000000</td>\n",
              "      <td>0.000000</td>\n",
              "      <td>0.000000</td>\n",
              "      <td>0.000000</td>\n",
              "      <td>0.000000</td>\n",
              "      <td>3.0</td>\n",
              "      <td>11.0</td>\n",
              "      <td>0.000000</td>\n",
              "    </tr>\n",
              "    <tr>\n",
              "      <th>50%</th>\n",
              "      <td>5458.500000</td>\n",
              "      <td>1970.000000</td>\n",
              "      <td>51381.500000</td>\n",
              "      <td>0.000000</td>\n",
              "      <td>0.000000</td>\n",
              "      <td>49.000000</td>\n",
              "      <td>173.500000</td>\n",
              "      <td>8.000000</td>\n",
              "      <td>67.000000</td>\n",
              "      <td>12.000000</td>\n",
              "      <td>...</td>\n",
              "      <td>6.000000</td>\n",
              "      <td>0.000000</td>\n",
              "      <td>0.000000</td>\n",
              "      <td>0.000000</td>\n",
              "      <td>0.000000</td>\n",
              "      <td>0.000000</td>\n",
              "      <td>0.000000</td>\n",
              "      <td>3.0</td>\n",
              "      <td>11.0</td>\n",
              "      <td>0.000000</td>\n",
              "    </tr>\n",
              "    <tr>\n",
              "      <th>75%</th>\n",
              "      <td>8427.750000</td>\n",
              "      <td>1977.000000</td>\n",
              "      <td>68522.000000</td>\n",
              "      <td>1.000000</td>\n",
              "      <td>1.000000</td>\n",
              "      <td>74.000000</td>\n",
              "      <td>504.250000</td>\n",
              "      <td>33.000000</td>\n",
              "      <td>232.000000</td>\n",
              "      <td>50.000000</td>\n",
              "      <td>...</td>\n",
              "      <td>7.000000</td>\n",
              "      <td>0.000000</td>\n",
              "      <td>0.000000</td>\n",
              "      <td>0.000000</td>\n",
              "      <td>0.000000</td>\n",
              "      <td>0.000000</td>\n",
              "      <td>0.000000</td>\n",
              "      <td>3.0</td>\n",
              "      <td>11.0</td>\n",
              "      <td>0.000000</td>\n",
              "    </tr>\n",
              "    <tr>\n",
              "      <th>max</th>\n",
              "      <td>11191.000000</td>\n",
              "      <td>1996.000000</td>\n",
              "      <td>666666.000000</td>\n",
              "      <td>2.000000</td>\n",
              "      <td>2.000000</td>\n",
              "      <td>99.000000</td>\n",
              "      <td>1493.000000</td>\n",
              "      <td>199.000000</td>\n",
              "      <td>1725.000000</td>\n",
              "      <td>259.000000</td>\n",
              "      <td>...</td>\n",
              "      <td>20.000000</td>\n",
              "      <td>1.000000</td>\n",
              "      <td>1.000000</td>\n",
              "      <td>1.000000</td>\n",
              "      <td>1.000000</td>\n",
              "      <td>1.000000</td>\n",
              "      <td>1.000000</td>\n",
              "      <td>3.0</td>\n",
              "      <td>11.0</td>\n",
              "      <td>1.000000</td>\n",
              "    </tr>\n",
              "  </tbody>\n",
              "</table>\n",
              "<p>8 rows × 26 columns</p>\n",
              "</div>\n",
              "      <button class=\"colab-df-convert\" onclick=\"convertToInteractive('df-2122e774-b0ed-42c7-ba2f-1df699af489c')\"\n",
              "              title=\"Convert this dataframe to an interactive table.\"\n",
              "              style=\"display:none;\">\n",
              "        \n",
              "  <svg xmlns=\"http://www.w3.org/2000/svg\" height=\"24px\"viewBox=\"0 0 24 24\"\n",
              "       width=\"24px\">\n",
              "    <path d=\"M0 0h24v24H0V0z\" fill=\"none\"/>\n",
              "    <path d=\"M18.56 5.44l.94 2.06.94-2.06 2.06-.94-2.06-.94-.94-2.06-.94 2.06-2.06.94zm-11 1L8.5 8.5l.94-2.06 2.06-.94-2.06-.94L8.5 2.5l-.94 2.06-2.06.94zm10 10l.94 2.06.94-2.06 2.06-.94-2.06-.94-.94-2.06-.94 2.06-2.06.94z\"/><path d=\"M17.41 7.96l-1.37-1.37c-.4-.4-.92-.59-1.43-.59-.52 0-1.04.2-1.43.59L10.3 9.45l-7.72 7.72c-.78.78-.78 2.05 0 2.83L4 21.41c.39.39.9.59 1.41.59.51 0 1.02-.2 1.41-.59l7.78-7.78 2.81-2.81c.8-.78.8-2.07 0-2.86zM5.41 20L4 18.59l7.72-7.72 1.47 1.35L5.41 20z\"/>\n",
              "  </svg>\n",
              "      </button>\n",
              "      \n",
              "  <style>\n",
              "    .colab-df-container {\n",
              "      display:flex;\n",
              "      flex-wrap:wrap;\n",
              "      gap: 12px;\n",
              "    }\n",
              "\n",
              "    .colab-df-convert {\n",
              "      background-color: #E8F0FE;\n",
              "      border: none;\n",
              "      border-radius: 50%;\n",
              "      cursor: pointer;\n",
              "      display: none;\n",
              "      fill: #1967D2;\n",
              "      height: 32px;\n",
              "      padding: 0 0 0 0;\n",
              "      width: 32px;\n",
              "    }\n",
              "\n",
              "    .colab-df-convert:hover {\n",
              "      background-color: #E2EBFA;\n",
              "      box-shadow: 0px 1px 2px rgba(60, 64, 67, 0.3), 0px 1px 3px 1px rgba(60, 64, 67, 0.15);\n",
              "      fill: #174EA6;\n",
              "    }\n",
              "\n",
              "    [theme=dark] .colab-df-convert {\n",
              "      background-color: #3B4455;\n",
              "      fill: #D2E3FC;\n",
              "    }\n",
              "\n",
              "    [theme=dark] .colab-df-convert:hover {\n",
              "      background-color: #434B5C;\n",
              "      box-shadow: 0px 1px 3px 1px rgba(0, 0, 0, 0.15);\n",
              "      filter: drop-shadow(0px 1px 2px rgba(0, 0, 0, 0.3));\n",
              "      fill: #FFFFFF;\n",
              "    }\n",
              "  </style>\n",
              "\n",
              "      <script>\n",
              "        const buttonEl =\n",
              "          document.querySelector('#df-2122e774-b0ed-42c7-ba2f-1df699af489c button.colab-df-convert');\n",
              "        buttonEl.style.display =\n",
              "          google.colab.kernel.accessAllowed ? 'block' : 'none';\n",
              "\n",
              "        async function convertToInteractive(key) {\n",
              "          const element = document.querySelector('#df-2122e774-b0ed-42c7-ba2f-1df699af489c');\n",
              "          const dataTable =\n",
              "            await google.colab.kernel.invokeFunction('convertToInteractive',\n",
              "                                                     [key], {});\n",
              "          if (!dataTable) return;\n",
              "\n",
              "          const docLinkHtml = 'Like what you see? Visit the ' +\n",
              "            '<a target=\"_blank\" href=https://colab.research.google.com/notebooks/data_table.ipynb>data table notebook</a>'\n",
              "            + ' to learn more about interactive tables.';\n",
              "          element.innerHTML = '';\n",
              "          dataTable['output_type'] = 'display_data';\n",
              "          await google.colab.output.renderOutput(dataTable, element);\n",
              "          const docLink = document.createElement('div');\n",
              "          docLink.innerHTML = docLinkHtml;\n",
              "          element.appendChild(docLink);\n",
              "        }\n",
              "      </script>\n",
              "    </div>\n",
              "  </div>\n",
              "  "
            ]
          },
          "metadata": {},
          "execution_count": 5
        }
      ]
    },
    {
      "cell_type": "code",
      "execution_count": 6,
      "metadata": {
        "colab": {
          "base_uri": "https://localhost:8080/"
        },
        "id": "To51lL5ZCAw2",
        "outputId": "ced26a82-895a-4970-e71e-b203efb579bb"
      },
      "outputs": [
        {
          "output_type": "stream",
          "name": "stdout",
          "text": [
            "<class 'pandas.core.frame.DataFrame'>\n",
            "RangeIndex: 2240 entries, 0 to 2239\n",
            "Data columns (total 29 columns):\n",
            " #   Column               Non-Null Count  Dtype  \n",
            "---  ------               --------------  -----  \n",
            " 0   ID                   2240 non-null   int64  \n",
            " 1   Year_Birth           2240 non-null   int64  \n",
            " 2   Education            2240 non-null   object \n",
            " 3   Marital_Status       2240 non-null   object \n",
            " 4   Income               2216 non-null   float64\n",
            " 5   Kidhome              2240 non-null   int64  \n",
            " 6   Teenhome             2240 non-null   int64  \n",
            " 7   Dt_Customer          2240 non-null   object \n",
            " 8   Recency              2240 non-null   int64  \n",
            " 9   MntWines             2240 non-null   int64  \n",
            " 10  MntFruits            2240 non-null   int64  \n",
            " 11  MntMeatProducts      2240 non-null   int64  \n",
            " 12  MntFishProducts      2240 non-null   int64  \n",
            " 13  MntSweetProducts     2240 non-null   int64  \n",
            " 14  MntGoldProds         2240 non-null   int64  \n",
            " 15  NumDealsPurchases    2240 non-null   int64  \n",
            " 16  NumWebPurchases      2240 non-null   int64  \n",
            " 17  NumCatalogPurchases  2240 non-null   int64  \n",
            " 18  NumStorePurchases    2240 non-null   int64  \n",
            " 19  NumWebVisitsMonth    2240 non-null   int64  \n",
            " 20  AcceptedCmp3         2240 non-null   int64  \n",
            " 21  AcceptedCmp4         2240 non-null   int64  \n",
            " 22  AcceptedCmp5         2240 non-null   int64  \n",
            " 23  AcceptedCmp1         2240 non-null   int64  \n",
            " 24  AcceptedCmp2         2240 non-null   int64  \n",
            " 25  Complain             2240 non-null   int64  \n",
            " 26  Z_CostContact        2240 non-null   int64  \n",
            " 27  Z_Revenue            2240 non-null   int64  \n",
            " 28  Response             2240 non-null   int64  \n",
            "dtypes: float64(1), int64(25), object(3)\n",
            "memory usage: 507.6+ KB\n"
          ]
        }
      ],
      "source": [
        "df_mc.info()"
      ]
    },
    {
      "cell_type": "code",
      "source": [
        "df_mc.isnull().sum()"
      ],
      "metadata": {
        "colab": {
          "base_uri": "https://localhost:8080/"
        },
        "id": "Pkbc677mbADR",
        "outputId": "0ac4506b-5ad1-45f8-f302-2868741e9026"
      },
      "execution_count": 7,
      "outputs": [
        {
          "output_type": "execute_result",
          "data": {
            "text/plain": [
              "ID                      0\n",
              "Year_Birth              0\n",
              "Education               0\n",
              "Marital_Status          0\n",
              "Income                 24\n",
              "Kidhome                 0\n",
              "Teenhome                0\n",
              "Dt_Customer             0\n",
              "Recency                 0\n",
              "MntWines                0\n",
              "MntFruits               0\n",
              "MntMeatProducts         0\n",
              "MntFishProducts         0\n",
              "MntSweetProducts        0\n",
              "MntGoldProds            0\n",
              "NumDealsPurchases       0\n",
              "NumWebPurchases         0\n",
              "NumCatalogPurchases     0\n",
              "NumStorePurchases       0\n",
              "NumWebVisitsMonth       0\n",
              "AcceptedCmp3            0\n",
              "AcceptedCmp4            0\n",
              "AcceptedCmp5            0\n",
              "AcceptedCmp1            0\n",
              "AcceptedCmp2            0\n",
              "Complain                0\n",
              "Z_CostContact           0\n",
              "Z_Revenue               0\n",
              "Response                0\n",
              "dtype: int64"
            ]
          },
          "metadata": {},
          "execution_count": 7
        }
      ]
    },
    {
      "cell_type": "markdown",
      "source": [
        "Now , there is missing values in column Martial. So, we treat the missing values by KNN imputer."
      ],
      "metadata": {
        "id": "0k5GaqBATC92"
      }
    },
    {
      "cell_type": "code",
      "source": [
        "from sklearn.impute import KNNImputer\n"
      ],
      "metadata": {
        "id": "lsGVTHvBT2CZ"
      },
      "execution_count": 8,
      "outputs": []
    },
    {
      "cell_type": "code",
      "source": [
        "imputer =  KNNImputer(n_neighbors= 5)\n",
        "df1 = pd.DataFrame(imputer.fit_transform(df_mc[['Income']]))"
      ],
      "metadata": {
        "id": "I7SerfeAWLpM"
      },
      "execution_count": 9,
      "outputs": []
    },
    {
      "cell_type": "code",
      "source": [
        "df1.rename(columns={0: 'Income'},inplace=True)"
      ],
      "metadata": {
        "id": "t3A6TTvtYIsz"
      },
      "execution_count": 10,
      "outputs": []
    },
    {
      "cell_type": "code",
      "source": [
        "df1.isnull().sum()"
      ],
      "metadata": {
        "colab": {
          "base_uri": "https://localhost:8080/"
        },
        "id": "LFjhkuM1cPlE",
        "outputId": "dbc4a2b8-0aed-4163-894b-f6446dc9fa0d"
      },
      "execution_count": 11,
      "outputs": [
        {
          "output_type": "execute_result",
          "data": {
            "text/plain": [
              "Income    0\n",
              "dtype: int64"
            ]
          },
          "metadata": {},
          "execution_count": 11
        }
      ]
    },
    {
      "cell_type": "markdown",
      "source": [
        "Now we will concat the orginal data and treated column(Martial)"
      ],
      "metadata": {
        "id": "WvKefNaBc-Cf"
      }
    },
    {
      "cell_type": "code",
      "source": [
        "drop_data = df_mc.drop(['Income'],axis = 1)"
      ],
      "metadata": {
        "id": "CnN9vIqHeaOB"
      },
      "execution_count": 12,
      "outputs": []
    },
    {
      "cell_type": "code",
      "source": [
        "drop_data.isnull().sum()"
      ],
      "metadata": {
        "colab": {
          "base_uri": "https://localhost:8080/"
        },
        "id": "VmxbKBQzfCwi",
        "outputId": "67f2d3a4-dcf9-45a7-8199-f7fc78a8ccac"
      },
      "execution_count": 13,
      "outputs": [
        {
          "output_type": "execute_result",
          "data": {
            "text/plain": [
              "ID                     0\n",
              "Year_Birth             0\n",
              "Education              0\n",
              "Marital_Status         0\n",
              "Kidhome                0\n",
              "Teenhome               0\n",
              "Dt_Customer            0\n",
              "Recency                0\n",
              "MntWines               0\n",
              "MntFruits              0\n",
              "MntMeatProducts        0\n",
              "MntFishProducts        0\n",
              "MntSweetProducts       0\n",
              "MntGoldProds           0\n",
              "NumDealsPurchases      0\n",
              "NumWebPurchases        0\n",
              "NumCatalogPurchases    0\n",
              "NumStorePurchases      0\n",
              "NumWebVisitsMonth      0\n",
              "AcceptedCmp3           0\n",
              "AcceptedCmp4           0\n",
              "AcceptedCmp5           0\n",
              "AcceptedCmp1           0\n",
              "AcceptedCmp2           0\n",
              "Complain               0\n",
              "Z_CostContact          0\n",
              "Z_Revenue              0\n",
              "Response               0\n",
              "dtype: int64"
            ]
          },
          "metadata": {},
          "execution_count": 13
        }
      ]
    },
    {
      "cell_type": "code",
      "source": [
        "df2 = pd.concat([df1,drop_data],axis = 1)"
      ],
      "metadata": {
        "id": "m6usyGEdcSIi"
      },
      "execution_count": 14,
      "outputs": []
    },
    {
      "cell_type": "code",
      "source": [
        "df2.isnull().sum()"
      ],
      "metadata": {
        "id": "TMM9LQxKdNwp",
        "colab": {
          "base_uri": "https://localhost:8080/"
        },
        "outputId": "6837af0a-b8f4-4f24-bc8d-c114593a7a75"
      },
      "execution_count": 15,
      "outputs": [
        {
          "output_type": "execute_result",
          "data": {
            "text/plain": [
              "Income                 0\n",
              "ID                     0\n",
              "Year_Birth             0\n",
              "Education              0\n",
              "Marital_Status         0\n",
              "Kidhome                0\n",
              "Teenhome               0\n",
              "Dt_Customer            0\n",
              "Recency                0\n",
              "MntWines               0\n",
              "MntFruits              0\n",
              "MntMeatProducts        0\n",
              "MntFishProducts        0\n",
              "MntSweetProducts       0\n",
              "MntGoldProds           0\n",
              "NumDealsPurchases      0\n",
              "NumWebPurchases        0\n",
              "NumCatalogPurchases    0\n",
              "NumStorePurchases      0\n",
              "NumWebVisitsMonth      0\n",
              "AcceptedCmp3           0\n",
              "AcceptedCmp4           0\n",
              "AcceptedCmp5           0\n",
              "AcceptedCmp1           0\n",
              "AcceptedCmp2           0\n",
              "Complain               0\n",
              "Z_CostContact          0\n",
              "Z_Revenue              0\n",
              "Response               0\n",
              "dtype: int64"
            ]
          },
          "metadata": {},
          "execution_count": 15
        }
      ]
    },
    {
      "cell_type": "markdown",
      "source": [
        "# **Univariate Analysis**"
      ],
      "metadata": {
        "id": "_H8KwdQU4o-X"
      }
    },
    {
      "cell_type": "markdown",
      "source": [
        "From the above data we can say that Total Amount sppent = sum of all amount spent on all products."
      ],
      "metadata": {
        "id": "Exh27-Dtwwe6"
      }
    },
    {
      "cell_type": "code",
      "source": [
        "df2['Total_Amount_spent'] = df2['MntWines'] + df2['MntFruits']+df2['MntMeatProducts']+df2['MntFishProducts']+df2['MntSweetProducts']+df2['MntGoldProds']"
      ],
      "metadata": {
        "id": "noPi1TiDwc-2"
      },
      "execution_count": 16,
      "outputs": []
    },
    {
      "cell_type": "markdown",
      "source": [
        "Year Birth\n",
        "\n",
        "We need to convert year birth to an age feature"
      ],
      "metadata": {
        "id": "K_JVI9OzzhjN"
      }
    },
    {
      "cell_type": "code",
      "source": [
        "from datetime import datetime"
      ],
      "metadata": {
        "id": "88VJp9pRzjb1"
      },
      "execution_count": 17,
      "outputs": []
    },
    {
      "cell_type": "code",
      "source": [
        "df2['Age']  = df2['Year_Birth'].apply(lambda x: datetime.now().year - x)"
      ],
      "metadata": {
        "id": "xEUM3QXkz0mZ"
      },
      "execution_count": 18,
      "outputs": []
    },
    {
      "cell_type": "code",
      "source": [
        "df2['Age'].describe()"
      ],
      "metadata": {
        "colab": {
          "base_uri": "https://localhost:8080/"
        },
        "id": "Jj4tdIKn1RwH",
        "outputId": "7993267d-5e2f-495b-fe33-d1035dc45ca1"
      },
      "execution_count": 19,
      "outputs": [
        {
          "output_type": "execute_result",
          "data": {
            "text/plain": [
              "count    2240.000000\n",
              "mean       54.194196\n",
              "std        11.984069\n",
              "min        27.000000\n",
              "25%        46.000000\n",
              "50%        53.000000\n",
              "75%        64.000000\n",
              "max       130.000000\n",
              "Name: Age, dtype: float64"
            ]
          },
          "metadata": {},
          "execution_count": 19
        }
      ]
    },
    {
      "cell_type": "markdown",
      "source": [
        "Now we will  plot histogram of coustomer Age to check the distribution."
      ],
      "metadata": {
        "id": "8OcavUK-19yJ"
      }
    },
    {
      "cell_type": "code",
      "source": [
        "sns.histplot(data = df2, x='Age',bins = list(range(10,150,10)))\n",
        "plt.title('Coustomer Age Distribution')\n",
        "plt.show()\n",
        "plt.savefig(\"Age.png\");"
      ],
      "metadata": {
        "colab": {
          "base_uri": "https://localhost:8080/",
          "height": 312
        },
        "id": "P-LRSEGh2g4x",
        "outputId": "0e8bb5d5-8694-4a9c-e800-b9e3b46f8f31"
      },
      "execution_count": 20,
      "outputs": [
        {
          "output_type": "display_data",
          "data": {
            "text/plain": [
              "<Figure size 432x288 with 1 Axes>"
            ],
            "image/png": "[encoded data removed]"
          },
          "metadata": {
            "needs_background": "light"
          }
        },
        {
          "output_type": "display_data",
          "data": {
            "text/plain": [
              "<Figure size 432x288 with 0 Axes>"
            ]
          },
          "metadata": {}
        }
      ]
    },
    {
      "cell_type": "markdown",
      "source": [
        "`It is seen that most of our customer's age distribution is within the range 41-60`"
      ],
      "metadata": {
        "id": "kYjwua2u3h_g"
      }
    },
    {
      "cell_type": "markdown",
      "source": [
        " **Education**"
      ],
      "metadata": {
        "id": "9uNYVqSY3kmL"
      }
    },
    {
      "cell_type": "code",
      "source": [
        "df2['Education'].value_counts()"
      ],
      "metadata": {
        "colab": {
          "base_uri": "https://localhost:8080/"
        },
        "id": "s2Ft8Sgp3swP",
        "outputId": "7af3e79d-4f4a-4b1e-c1a0-2b731db2f93c"
      },
      "execution_count": 21,
      "outputs": [
        {
          "output_type": "execute_result",
          "data": {
            "text/plain": [
              "Graduation    1127\n",
              "PhD            486\n",
              "Master         370\n",
              "2n Cycle       203\n",
              "Basic           54\n",
              "Name: Education, dtype: int64"
            ]
          },
          "metadata": {},
          "execution_count": 21
        }
      ]
    },
    {
      "cell_type": "code",
      "source": [
        "df2['Education'] = df2['Education'].replace({'Graduation':'Graduate','Phd':'Post_Graduate','Master':'Post_Graduate','2n Cycle':'Psot_Graduate','Basic':'Under_Graduate'})"
      ],
      "metadata": {
        "id": "L-Aw2LpE5LBm"
      },
      "execution_count": 22,
      "outputs": []
    },
    {
      "cell_type": "code",
      "source": [
        "df2['Education'].value_counts()"
      ],
      "metadata": {
        "colab": {
          "base_uri": "https://localhost:8080/"
        },
        "id": "pmBKlVn195Pw",
        "outputId": "67f5d805-1772-4488-e7d1-cafd001ee2aa"
      },
      "execution_count": 23,
      "outputs": [
        {
          "output_type": "execute_result",
          "data": {
            "text/plain": [
              "Graduate          1127\n",
              "PhD                486\n",
              "Post_Graduate      370\n",
              "Psot_Graduate      203\n",
              "Under_Graduate      54\n",
              "Name: Education, dtype: int64"
            ]
          },
          "metadata": {},
          "execution_count": 23
        }
      ]
    },
    {
      "cell_type": "code",
      "source": [
        "df2['Education'].value_counts(normalize = True).plot.bar(figsize  = (10,6))\n",
        "plt.xticks(rotation = 45)\n",
        "plt.title(\"Frequency of Customer's Education [proportion]\");"
      ],
      "metadata": {
        "colab": {
          "base_uri": "https://localhost:8080/",
          "height": 446
        },
        "id": "uMsaYlrx-FrU",
        "outputId": "97edd77b-7d98-4dd0-c8f3-7c4b27676b20"
      },
      "execution_count": 24,
      "outputs": [
        {
          "output_type": "display_data",
          "data": {
            "text/plain": [
              "<Figure size 720x432 with 1 Axes>"
            ],
            "image/png": "[encoded data removed]"
          },
          "metadata": {
            "needs_background": "light"
          }
        }
      ]
    },
    {
      "cell_type": "markdown",
      "source": [
        "It is seen from the above summary that half of our customer's highest education level is first degree graduation. About 50% of customers have their education level at bachelour's degree which is then followed by customers with postgraduate level of education"
      ],
      "metadata": {
        "id": "O8OmuipV_9TN"
      }
    },
    {
      "cell_type": "markdown",
      "source": [
        "**Marital Status**"
      ],
      "metadata": {
        "id": "w2z6_AtU__rb"
      }
    },
    {
      "cell_type": "code",
      "source": [
        "df2['Marital_Status'].unique()"
      ],
      "metadata": {
        "colab": {
          "base_uri": "https://localhost:8080/"
        },
        "id": "s2-PiP0X_89T",
        "outputId": "6d3ed11f-7ae9-45f4-aa7c-36e6fd03cfe2"
      },
      "execution_count": 25,
      "outputs": [
        {
          "output_type": "execute_result",
          "data": {
            "text/plain": [
              "array(['Single', 'Together', 'Married', 'Divorced', 'Widow', 'Alone',\n",
              "       'Absurd', 'YOLO'], dtype=object)"
            ]
          },
          "metadata": {},
          "execution_count": 25
        }
      ]
    },
    {
      "cell_type": "code",
      "source": [
        "df2['Marital_Status']  =df2['Marital_Status'].replace({\"Together\":\"Married\", \"Absurd\":\"Single\", \"Divorced\":\"Single\", \"Alone\":\"Single\", \"YOLO\":\"Single\",\"Widow\":\"Single\",\"Married\":\"Married\",\"Single\":\"Single\"})"
      ],
      "metadata": {
        "id": "qbiVsX2pCCZd"
      },
      "execution_count": 26,
      "outputs": []
    },
    {
      "cell_type": "code",
      "source": [
        "df2['Marital_Status'].value_counts()"
      ],
      "metadata": {
        "colab": {
          "base_uri": "https://localhost:8080/"
        },
        "id": "5n0WENzADE_0",
        "outputId": "b079b895-8ec2-4ca4-eb60-64e02cf3bcf5"
      },
      "execution_count": 27,
      "outputs": [
        {
          "output_type": "execute_result",
          "data": {
            "text/plain": [
              "Married    1444\n",
              "Single      796\n",
              "Name: Marital_Status, dtype: int64"
            ]
          },
          "metadata": {},
          "execution_count": 27
        }
      ]
    },
    {
      "cell_type": "code",
      "source": [
        "import plotly.express as px"
      ],
      "metadata": {
        "id": "tABLuiHADX3L"
      },
      "execution_count": 28,
      "outputs": []
    },
    {
      "cell_type": "code",
      "source": [
        "fig = px.bar(\n",
        "    df2[\"Marital_Status\"].value_counts(normalize=True),\n",
        "    title = \"Proportion of Customer's Marital Status\",\n",
        "    height=500\n",
        ")\n",
        "fig.update_layout(yaxis_title = \"Freuency [proportion]\")\n",
        "fig.show()"
      ],
      "metadata": {
        "colab": {
          "base_uri": "https://localhost:8080/",
          "height": 517
        },
        "id": "haDQMNAbDOxn",
        "outputId": "d2baf366-5cd4-41c7-9afd-3b46cd674246"
      },
      "execution_count": 29,
      "outputs": [
        {
          "output_type": "display_data",
          "data": {
            "text/html": [
              "<html>\n",
              "<head><meta charset=\"utf-8\" /></head>\n",
              "<body>\n",
              "    <div>            <script src=\"https://cdnjs.cloudflare.com/ajax/libs/mathjax/2.7.5/MathJax.js?config=TeX-AMS-MML_SVG\"></script><script type=\"text/javascript\">if (window.MathJax) {MathJax.Hub.Config({SVG: {font: \"STIX-Web\"}});}</script>                <script type=\"text/javascript\">window.PlotlyConfig = {MathJaxConfig: 'local'};</script>\n",
              "        <script src=\"https://cdn.plot.ly/plotly-2.8.3.min.js\"></script>                <div id=\"514d6b5e-481b-4619-924e-7a589b45faf8\" class=\"plotly-graph-div\" style=\"height:500px; width:100%;\"></div>            <script type=\"text/javascript\">                                    window.PLOTLYENV=window.PLOTLYENV || {};                                    if (document.getElementById(\"514d6b5e-481b-4619-924e-7a589b45faf8\")) {                    Plotly.newPlot(                        \"514d6b5e-481b-4619-924e-7a589b45faf8\",                        [{\"alignmentgroup\":\"True\",\"hovertemplate\":\"variable=Marital_Status<br>index=%{x}<br>value=%{y}<extra></extra>\",\"legendgroup\":\"Marital_Status\",\"marker\":{\"color\":\"#636efa\",\"pattern\":{\"shape\":\"\"}},\"name\":\"Marital_Status\",\"offsetgroup\":\"Marital_Status\",\"orientation\":\"v\",\"showlegend\":true,\"textposition\":\"auto\",\"x\":[\"Married\",\"Single\"],\"xaxis\":\"x\",\"y\":[0.6446428571428572,0.35535714285714287],\"yaxis\":\"y\",\"type\":\"bar\"}],                        {\"template\":{\"data\":{\"bar\":[{\"error_x\":{\"color\":\"#2a3f5f\"},\"error_y\":{\"color\":\"#2a3f5f\"},\"marker\":{\"line\":{\"color\":\"#E5ECF6\",\"width\":0.5},\"pattern\":{\"fillmode\":\"overlay\",\"size\":10,\"solidity\":0.2}},\"type\":\"bar\"}],\"barpolar\":[{\"marker\":{\"line\":{\"color\":\"#E5ECF6\",\"width\":0.5},\"pattern\":{\"fillmode\":\"overlay\",\"size\":10,\"solidity\":0.2}},\"type\":\"barpolar\"}],\"carpet\":[{\"aaxis\":{\"endlinecolor\":\"#2a3f5f\",\"gridcolor\":\"white\",\"linecolor\":\"white\",\"minorgridcolor\":\"white\",\"startlinecolor\":\"#2a3f5f\"},\"baxis\":{\"endlinecolor\":\"#2a3f5f\",\"gridcolor\":\"white\",\"linecolor\":\"white\",\"minorgridcolor\":\"white\",\"startlinecolor\":\"#2a3f5f\"},\"type\":\"carpet\"}],\"choropleth\":[{\"colorbar\":{\"outlinewidth\":0,\"ticks\":\"\"},\"type\":\"choropleth\"}],\"contour\":[{\"colorbar\":{\"outlinewidth\":0,\"ticks\":\"\"},\"colorscale\":[[0.0,\"#0d0887\"],[0.1111111111111111,\"#46039f\"],[0.2222222222222222,\"#7201a8\"],[0.3333333333333333,\"#9c179e\"],[0.4444444444444444,\"#bd3786\"],[0.5555555555555556,\"#d8576b\"],[0.6666666666666666,\"#ed7953\"],[0.7777777777777778,\"#fb9f3a\"],[0.8888888888888888,\"#fdca26\"],[1.0,\"#f0f921\"]],\"type\":\"contour\"}],\"contourcarpet\":[{\"colorbar\":{\"outlinewidth\":0,\"ticks\":\"\"},\"type\":\"contourcarpet\"}],\"heatmap\":[{\"colorbar\":{\"outlinewidth\":0,\"ticks\":\"\"},\"colorscale\":[[0.0,\"#0d0887\"],[0.1111111111111111,\"#46039f\"],[0.2222222222222222,\"#7201a8\"],[0.3333333333333333,\"#9c179e\"],[0.4444444444444444,\"#bd3786\"],[0.5555555555555556,\"#d8576b\"],[0.6666666666666666,\"#ed7953\"],[0.7777777777777778,\"#fb9f3a\"],[0.8888888888888888,\"#fdca26\"],[1.0,\"#f0f921\"]],\"type\":\"heatmap\"}],\"heatmapgl\":[{\"colorbar\":{\"outlinewidth\":0,\"ticks\":\"\"},\"colorscale\":[[0.0,\"#0d0887\"],[0.1111111111111111,\"#46039f\"],[0.2222222222222222,\"#7201a8\"],[0.3333333333333333,\"#9c179e\"],[0.4444444444444444,\"#bd3786\"],[0.5555555555555556,\"#d8576b\"],[0.6666666666666666,\"#ed7953\"],[0.7777777777777778,\"#fb9f3a\"],[0.8888888888888888,\"#fdca26\"],[1.0,\"#f0f921\"]],\"type\":\"heatmapgl\"}],\"histogram\":[{\"marker\":{\"pattern\":{\"fillmode\":\"overlay\",\"size\":10,\"solidity\":0.2}},\"type\":\"histogram\"}],\"histogram2d\":[{\"colorbar\":{\"outlinewidth\":0,\"ticks\":\"\"},\"colorscale\":[[0.0,\"#0d0887\"],[0.1111111111111111,\"#46039f\"],[0.2222222222222222,\"#7201a8\"],[0.3333333333333333,\"#9c179e\"],[0.4444444444444444,\"#bd3786\"],[0.5555555555555556,\"#d8576b\"],[0.6666666666666666,\"#ed7953\"],[0.7777777777777778,\"#fb9f3a\"],[0.8888888888888888,\"#fdca26\"],[1.0,\"#f0f921\"]],\"type\":\"histogram2d\"}],\"histogram2dcontour\":[{\"colorbar\":{\"outlinewidth\":0,\"ticks\":\"\"},\"colorscale\":[[0.0,\"#0d0887\"],[0.1111111111111111,\"#46039f\"],[0.2222222222222222,\"#7201a8\"],[0.3333333333333333,\"#9c179e\"],[0.4444444444444444,\"#bd3786\"],[0.5555555555555556,\"#d8576b\"],[0.6666666666666666,\"#ed7953\"],[0.7777777777777778,\"#fb9f3a\"],[0.8888888888888888,\"#fdca26\"],[1.0,\"#f0f921\"]],\"type\":\"histogram2dcontour\"}],\"mesh3d\":[{\"colorbar\":{\"outlinewidth\":0,\"ticks\":\"\"},\"type\":\"mesh3d\"}],\"parcoords\":[{\"line\":{\"colorbar\":{\"outlinewidth\":0,\"ticks\":\"\"}},\"type\":\"parcoords\"}],\"pie\":[{\"automargin\":true,\"type\":\"pie\"}],\"scatter\":[{\"marker\":{\"colorbar\":{\"outlinewidth\":0,\"ticks\":\"\"}},\"type\":\"scatter\"}],\"scatter3d\":[{\"line\":{\"colorbar\":{\"outlinewidth\":0,\"ticks\":\"\"}},\"marker\":{\"colorbar\":{\"outlinewidth\":0,\"ticks\":\"\"}},\"type\":\"scatter3d\"}],\"scattercarpet\":[{\"marker\":{\"colorbar\":{\"outlinewidth\":0,\"ticks\":\"\"}},\"type\":\"scattercarpet\"}],\"scattergeo\":[{\"marker\":{\"colorbar\":{\"outlinewidth\":0,\"ticks\":\"\"}},\"type\":\"scattergeo\"}],\"scattergl\":[{\"marker\":{\"colorbar\":{\"outlinewidth\":0,\"ticks\":\"\"}},\"type\":\"scattergl\"}],\"scattermapbox\":[{\"marker\":{\"colorbar\":{\"outlinewidth\":0,\"ticks\":\"\"}},\"type\":\"scattermapbox\"}],\"scatterpolar\":[{\"marker\":{\"colorbar\":{\"outlinewidth\":0,\"ticks\":\"\"}},\"type\":\"scatterpolar\"}],\"scatterpolargl\":[{\"marker\":{\"colorbar\":{\"outlinewidth\":0,\"ticks\":\"\"}},\"type\":\"scatterpolargl\"}],\"scatterternary\":[{\"marker\":{\"colorbar\":{\"outlinewidth\":0,\"ticks\":\"\"}},\"type\":\"scatterternary\"}],\"surface\":[{\"colorbar\":{\"outlinewidth\":0,\"ticks\":\"\"},\"colorscale\":[[0.0,\"#0d0887\"],[0.1111111111111111,\"#46039f\"],[0.2222222222222222,\"#7201a8\"],[0.3333333333333333,\"#9c179e\"],[0.4444444444444444,\"#bd3786\"],[0.5555555555555556,\"#d8576b\"],[0.6666666666666666,\"#ed7953\"],[0.7777777777777778,\"#fb9f3a\"],[0.8888888888888888,\"#fdca26\"],[1.0,\"#f0f921\"]],\"type\":\"surface\"}],\"table\":[{\"cells\":{\"fill\":{\"color\":\"#EBF0F8\"},\"line\":{\"color\":\"white\"}},\"header\":{\"fill\":{\"color\":\"#C8D4E3\"},\"line\":{\"color\":\"white\"}},\"type\":\"table\"}]},\"layout\":{\"annotationdefaults\":{\"arrowcolor\":\"#2a3f5f\",\"arrowhead\":0,\"arrowwidth\":1},\"autotypenumbers\":\"strict\",\"coloraxis\":{\"colorbar\":{\"outlinewidth\":0,\"ticks\":\"\"}},\"colorscale\":{\"diverging\":[[0,\"#8e0152\"],[0.1,\"#c51b7d\"],[0.2,\"#de77ae\"],[0.3,\"#f1b6da\"],[0.4,\"#fde0ef\"],[0.5,\"#f7f7f7\"],[0.6,\"#e6f5d0\"],[0.7,\"#b8e186\"],[0.8,\"#7fbc41\"],[0.9,\"#4d9221\"],[1,\"#276419\"]],\"sequential\":[[0.0,\"#0d0887\"],[0.1111111111111111,\"#46039f\"],[0.2222222222222222,\"#7201a8\"],[0.3333333333333333,\"#9c179e\"],[0.4444444444444444,\"#bd3786\"],[0.5555555555555556,\"#d8576b\"],[0.6666666666666666,\"#ed7953\"],[0.7777777777777778,\"#fb9f3a\"],[0.8888888888888888,\"#fdca26\"],[1.0,\"#f0f921\"]],\"sequentialminus\":[[0.0,\"#0d0887\"],[0.1111111111111111,\"#46039f\"],[0.2222222222222222,\"#7201a8\"],[0.3333333333333333,\"#9c179e\"],[0.4444444444444444,\"#bd3786\"],[0.5555555555555556,\"#d8576b\"],[0.6666666666666666,\"#ed7953\"],[0.7777777777777778,\"#fb9f3a\"],[0.8888888888888888,\"#fdca26\"],[1.0,\"#f0f921\"]]},\"colorway\":[\"#636efa\",\"#EF553B\",\"#00cc96\",\"#ab63fa\",\"#FFA15A\",\"#19d3f3\",\"#FF6692\",\"#B6E880\",\"#FF97FF\",\"#FECB52\"],\"font\":{\"color\":\"#2a3f5f\"},\"geo\":{\"bgcolor\":\"white\",\"lakecolor\":\"white\",\"landcolor\":\"#E5ECF6\",\"showlakes\":true,\"showland\":true,\"subunitcolor\":\"white\"},\"hoverlabel\":{\"align\":\"left\"},\"hovermode\":\"closest\",\"mapbox\":{\"style\":\"light\"},\"paper_bgcolor\":\"white\",\"plot_bgcolor\":\"#E5ECF6\",\"polar\":{\"angularaxis\":{\"gridcolor\":\"white\",\"linecolor\":\"white\",\"ticks\":\"\"},\"bgcolor\":\"#E5ECF6\",\"radialaxis\":{\"gridcolor\":\"white\",\"linecolor\":\"white\",\"ticks\":\"\"}},\"scene\":{\"xaxis\":{\"backgroundcolor\":\"#E5ECF6\",\"gridcolor\":\"white\",\"gridwidth\":2,\"linecolor\":\"white\",\"showbackground\":true,\"ticks\":\"\",\"zerolinecolor\":\"white\"},\"yaxis\":{\"backgroundcolor\":\"#E5ECF6\",\"gridcolor\":\"white\",\"gridwidth\":2,\"linecolor\":\"white\",\"showbackground\":true,\"ticks\":\"\",\"zerolinecolor\":\"white\"},\"zaxis\":{\"backgroundcolor\":\"#E5ECF6\",\"gridcolor\":\"white\",\"gridwidth\":2,\"linecolor\":\"white\",\"showbackground\":true,\"ticks\":\"\",\"zerolinecolor\":\"white\"}},\"shapedefaults\":{\"line\":{\"color\":\"#2a3f5f\"}},\"ternary\":{\"aaxis\":{\"gridcolor\":\"white\",\"linecolor\":\"white\",\"ticks\":\"\"},\"baxis\":{\"gridcolor\":\"white\",\"linecolor\":\"white\",\"ticks\":\"\"},\"bgcolor\":\"#E5ECF6\",\"caxis\":{\"gridcolor\":\"white\",\"linecolor\":\"white\",\"ticks\":\"\"}},\"title\":{\"x\":0.05},\"xaxis\":{\"automargin\":true,\"gridcolor\":\"white\",\"linecolor\":\"white\",\"ticks\":\"\",\"title\":{\"standoff\":15},\"zerolinecolor\":\"white\",\"zerolinewidth\":2},\"yaxis\":{\"automargin\":true,\"gridcolor\":\"white\",\"linecolor\":\"white\",\"ticks\":\"\",\"title\":{\"standoff\":15},\"zerolinecolor\":\"white\",\"zerolinewidth\":2}}},\"xaxis\":{\"anchor\":\"y\",\"domain\":[0.0,1.0],\"title\":{\"text\":\"index\"}},\"yaxis\":{\"anchor\":\"x\",\"domain\":[0.0,1.0],\"title\":{\"text\":\"Freuency [proportion]\"}},\"legend\":{\"title\":{\"text\":\"variable\"},\"tracegroupgap\":0},\"title\":{\"text\":\"Proportion of Customer's Marital Status\"},\"barmode\":\"relative\",\"height\":500},                        {\"responsive\": true}                    ).then(function(){\n",
              "                            \n",
              "var gd = document.getElementById('514d6b5e-481b-4619-924e-7a589b45faf8');\n",
              "var x = new MutationObserver(function (mutations, observer) {{\n",
              "        var display = window.getComputedStyle(gd).display;\n",
              "        if (!display || display === 'none') {{\n",
              "            console.log([gd, 'removed!']);\n",
              "            Plotly.purge(gd);\n",
              "            observer.disconnect();\n",
              "        }}\n",
              "}});\n",
              "\n",
              "// Listen for the removal of the full notebook cells\n",
              "var notebookContainer = gd.closest('#notebook-container');\n",
              "if (notebookContainer) {{\n",
              "    x.observe(notebookContainer, {childList: true});\n",
              "}}\n",
              "\n",
              "// Listen for the clearing of the current output cell\n",
              "var outputEl = gd.closest('.output');\n",
              "if (outputEl) {{\n",
              "    x.observe(outputEl, {childList: true});\n",
              "}}\n",
              "\n",
              "                        })                };                            </script>        </div>\n",
              "</body>\n",
              "</html>"
            ]
          },
          "metadata": {}
        }
      ]
    },
    {
      "cell_type": "markdown",
      "source": [
        "\n",
        "`It is seen from the above summary that close to 65% of customers are married while the remaining close to 35% are single`\n",
        "\n"
      ],
      "metadata": {
        "id": "0nmKJLyNDf42"
      }
    },
    {
      "cell_type": "markdown",
      "source": [
        "**Income**"
      ],
      "metadata": {
        "id": "0ZJSHy0cDw0q"
      }
    },
    {
      "cell_type": "code",
      "source": [
        "sns.histplot(data=df2, x=\"Income\", binwidth=1e4)\n",
        "plt.title(\"Distribution of Customer's Income\");"
      ],
      "metadata": {
        "colab": {
          "base_uri": "https://localhost:8080/",
          "height": 295
        },
        "id": "aZQ0W0IzDpoF",
        "outputId": "99ffbd6b-49f1-4e9c-f20d-f21bb99b179c"
      },
      "execution_count": 30,
      "outputs": [
        {
          "output_type": "display_data",
          "data": {
            "text/plain": [
              "<Figure size 432x288 with 1 Axes>"
            ],
            "image/png": "[encoded data removed]"
          },
          "metadata": {
            "needs_background": "light"
          }
        }
      ]
    },
    {
      "cell_type": "markdown",
      "source": [
        "`From above graph it can be seen that the majority of the coustmer earn between 0-100k, but there are some coustomer that whose income is way more than others above 650k`"
      ],
      "metadata": {
        "id": "OoKmLS1SEAvX"
      }
    },
    {
      "cell_type": "markdown",
      "source": [
        "**Kid Home**"
      ],
      "metadata": {
        "id": "5HAOfopIEyM0"
      }
    },
    {
      "cell_type": "code",
      "source": [],
      "metadata": {
        "id": "yyf4s8iB7SLk"
      },
      "execution_count": 30,
      "outputs": []
    },
    {
      "cell_type": "code",
      "source": [
        "df2[\"Kidhome\"].unique()"
      ],
      "metadata": {
        "colab": {
          "base_uri": "https://localhost:8080/"
        },
        "id": "SpdYgeFKEAeS",
        "outputId": "c0b68db7-a934-417a-cc82-b1471e2c61fc"
      },
      "execution_count": 31,
      "outputs": [
        {
          "output_type": "execute_result",
          "data": {
            "text/plain": [
              "array([0, 1, 2])"
            ]
          },
          "metadata": {},
          "execution_count": 31
        }
      ]
    },
    {
      "cell_type": "code",
      "source": [
        "df2['Kidhome'].value_counts(normalize = True).plot.bar()\n",
        "plt.ylabel('Frequency')\n",
        "plt.title('Proportion of coustomer kid')"
      ],
      "metadata": {
        "colab": {
          "base_uri": "https://localhost:8080/",
          "height": 295
        },
        "id": "2ScXb1VZGmCD",
        "outputId": "c8631379-e4a7-4151-ee19-7c66fe667a0a"
      },
      "execution_count": 32,
      "outputs": [
        {
          "output_type": "execute_result",
          "data": {
            "text/plain": [
              "Text(0.5, 1.0, 'Proportion of coustomer kid')"
            ]
          },
          "metadata": {},
          "execution_count": 32
        },
        {
          "output_type": "display_data",
          "data": {
            "text/plain": [
              "<Figure size 432x288 with 1 Axes>"
            ],
            "image/png": "[encoded data removed]"
          },
          "metadata": {
            "needs_background": "light"
          }
        }
      ]
    },
    {
      "cell_type": "markdown",
      "source": [
        "`From above graph we can see that most of coustomer having no kids, some of them have 1 kid and  only few of them are having 2 kids.`"
      ],
      "metadata": {
        "id": "zZuPGSJGHdOS"
      }
    },
    {
      "cell_type": "markdown",
      "source": [
        "**Teen Home**"
      ],
      "metadata": {
        "id": "VUkMQiIqHys4"
      }
    },
    {
      "cell_type": "code",
      "source": [
        "df2['Teenhome'].unique()"
      ],
      "metadata": {
        "colab": {
          "base_uri": "https://localhost:8080/"
        },
        "id": "hOsMM-nxH4gC",
        "outputId": "cf802d2c-1d99-4896-b5ba-3ad926b4e4bc"
      },
      "execution_count": 33,
      "outputs": [
        {
          "output_type": "execute_result",
          "data": {
            "text/plain": [
              "array([0, 1, 2])"
            ]
          },
          "metadata": {},
          "execution_count": 33
        }
      ]
    },
    {
      "cell_type": "code",
      "source": [
        "df2['Teenhome'].value_counts(normalize = True).plot.bar()\n",
        "plt.ylabel('Frequency')\n",
        "plt.title('Proportion of coustmer Teen home')"
      ],
      "metadata": {
        "colab": {
          "base_uri": "https://localhost:8080/",
          "height": 295
        },
        "id": "OgynMCSbICGA",
        "outputId": "f1c1a928-7c1e-4495-d530-0c9c4f704068"
      },
      "execution_count": 34,
      "outputs": [
        {
          "output_type": "execute_result",
          "data": {
            "text/plain": [
              "Text(0.5, 1.0, 'Proportion of coustmer Teen home')"
            ]
          },
          "metadata": {},
          "execution_count": 34
        },
        {
          "output_type": "display_data",
          "data": {
            "text/plain": [
              "<Figure size 432x288 with 1 Axes>"
            ],
            "image/png": "[encoded data removed]"
          },
          "metadata": {
            "needs_background": "light"
          }
        }
      ]
    },
    {
      "cell_type": "markdown",
      "source": [
        "`Above half of customer's do not have kids at home.`"
      ],
      "metadata": {
        "id": "AcHHb54YIo7y"
      }
    },
    {
      "cell_type": "markdown",
      "source": [
        "**Total Children**"
      ],
      "metadata": {
        "id": "BmKmWTqdIqny"
      }
    },
    {
      "cell_type": "code",
      "source": [
        "df2['Total_Children'] =df2[\"Kidhome\"] +df2['Teenhome']"
      ],
      "metadata": {
        "id": "ABmL3U0uI1kS"
      },
      "execution_count": 35,
      "outputs": []
    },
    {
      "cell_type": "code",
      "source": [
        "df2[\"Total_Children\"].value_counts(normalize=True).sort_index().plot.bar()\n",
        "plt.ylabel(\"Frequency\")\n",
        "plt.title(\"Proportion of Customer's Total Children at Home\");"
      ],
      "metadata": {
        "colab": {
          "base_uri": "https://localhost:8080/",
          "height": 278
        },
        "id": "OxfxU2y0JPUj",
        "outputId": "12a99dd9-6420-4b10-d707-e075d47415f7"
      },
      "execution_count": 36,
      "outputs": [
        {
          "output_type": "display_data",
          "data": {
            "text/plain": [
              "<Figure size 432x288 with 1 Axes>"
            ],
            "image/png": "[encoded data removed]"
          },
          "metadata": {
            "needs_background": "light"
          }
        }
      ]
    },
    {
      "cell_type": "markdown",
      "source": [
        "`Close to half of entire customers have the total number of 1 children, while in the remaining half above quarter of customers have no children at all.`"
      ],
      "metadata": {
        "id": "fIb2aP2UJbDA"
      }
    },
    {
      "cell_type": "markdown",
      "source": [
        "**Total_Amount_spent**"
      ],
      "metadata": {
        "id": "UE1BYweDJfq2"
      }
    },
    {
      "cell_type": "code",
      "source": [
        "df2[\"Total_Amount_spent\"].describe()"
      ],
      "metadata": {
        "colab": {
          "base_uri": "https://localhost:8080/"
        },
        "id": "mP3nI4r3JkjI",
        "outputId": "079100dd-717d-408b-ec28-845ca35632d4"
      },
      "execution_count": 37,
      "outputs": [
        {
          "output_type": "execute_result",
          "data": {
            "text/plain": [
              "count    2240.000000\n",
              "mean      605.798214\n",
              "std       602.249288\n",
              "min         5.000000\n",
              "25%        68.750000\n",
              "50%       396.000000\n",
              "75%      1045.500000\n",
              "max      2525.000000\n",
              "Name: Total_Amount_spent, dtype: float64"
            ]
          },
          "metadata": {},
          "execution_count": 37
        }
      ]
    },
    {
      "cell_type": "code",
      "source": [
        "sns.histplot(data = df2, x=\"Total_Amount_spent\",binwidth = 200,stat = 'percent')\n",
        "plt.title(\"Distribution of Total Amount Spent on Product by Customers [Proportion]\");"
      ],
      "metadata": {
        "colab": {
          "base_uri": "https://localhost:8080/",
          "height": 296
        },
        "id": "xQ45o7YEJsSV",
        "outputId": "de2f470e-e660-461b-f599-d272e857d36f"
      },
      "execution_count": 38,
      "outputs": [
        {
          "output_type": "display_data",
          "data": {
            "text/plain": [
              "<Figure size 432x288 with 1 Axes>"
            ],
            "image/png": "[encoded data removed]"
          },
          "metadata": {
            "needs_background": "light"
          }
        }
      ]
    },
    {
      "cell_type": "markdown",
      "source": [
        "`it can be seen from the above summary that close to half of customers total amount spent on the companies product is with 0 to 200.`"
      ],
      "metadata": {
        "id": "1qwc147RK4RH"
      }
    },
    {
      "cell_type": "markdown",
      "source": [
        "# **Bivariate_Analysis**"
      ],
      "metadata": {
        "id": "9o-2sJiqK8sr"
      }
    },
    {
      "cell_type": "markdown",
      "source": [
        "**Age VS Total Amount Spent**"
      ],
      "metadata": {
        "id": "3BrB4CSjLN_H"
      }
    },
    {
      "cell_type": "code",
      "source": [
        "sns.scatterplot(data = df2,x ='Age',y = 'Total_Amount_spent')\n",
        "plt.title('Relationship between Age and Total Amount Spent');"
      ],
      "metadata": {
        "colab": {
          "base_uri": "https://localhost:8080/",
          "height": 295
        },
        "id": "GaVaON6_K756",
        "outputId": "86bbb880-9431-429f-e3cf-52d224ddeba1"
      },
      "execution_count": 39,
      "outputs": [
        {
          "output_type": "display_data",
          "data": {
            "text/plain": [
              "<Figure size 432x288 with 1 Axes>"
            ],
            "image/png": "[encoded data removed]"
          },
          "metadata": {
            "needs_background": "light"
          }
        }
      ]
    },
    {
      "cell_type": "markdown",
      "source": [
        "`There is less positive  or we can say no correlation exist  between age and total amount spent (i.e the above sumarry tells us that age does not infer the total amount of money that will be spent by customers).`"
      ],
      "metadata": {
        "id": "vwFxioSdNoWA"
      }
    },
    {
      "cell_type": "markdown",
      "source": [],
      "metadata": {
        "id": "-3XQkThcN7pf"
      }
    },
    {
      "cell_type": "code",
      "source": [
        "def group_age(age):\n",
        "  if age <20:\n",
        "    return \"11-20\"\n",
        "  elif age >20 and age<31:\n",
        "    return \"21-30\"\n",
        "  elif age >30 and age <41:\n",
        "    return \"31-40\"\n",
        "  elif age >40 and age <51:\n",
        "    return \"41-50\"\n",
        "  elif age >50 and age <61:\n",
        "    return \"51-60\"\n",
        "  elif age >60 and age<71:\n",
        "    return \"61-70\"\n",
        "  elif age >70 and age <81:\n",
        "    return \"71-80\"\n",
        "  elif age> 80 :\n",
        "    return \"80\""
      ],
      "metadata": {
        "id": "0WwV97iDcefz"
      },
      "execution_count": 40,
      "outputs": []
    },
    {
      "cell_type": "code",
      "source": [
        "df2['Age_group'] = df2['Age'].apply(group_age)"
      ],
      "metadata": {
        "id": "gFArDLMjqKxj"
      },
      "execution_count": 41,
      "outputs": []
    },
    {
      "cell_type": "code",
      "source": [
        "order = [\"21-30\", \"31-40\", \"41-50\", \"51-60\", \"61-70\", \"71-80\", \">80\"]"
      ],
      "metadata": {
        "id": "Tq6h153aqZIZ"
      },
      "execution_count": 42,
      "outputs": []
    },
    {
      "cell_type": "code",
      "source": [
        "mask = df2.groupby('Age_group')['Total_Amount_spent'].median()\n",
        "mask  = mask.reset_index()\n",
        "fig = px.bar(data_frame = mask,x = \"Age_group\", y = \"Total_Amount_spent\", height = 500)\n",
        "\n",
        "annotation = []\n",
        "for x,y in zip(mask['Age_group'],mask['Total_Amount_spent']):\n",
        "  annotation.append(\n",
        "      dict(x=x, y=y +20,\n",
        "             text=str(round(y, 2)) + '$',\n",
        "             font=dict(family='Arial', size=14, color='rgb(66, 99, 236)'), showarrow=False)\n",
        "    )\n",
        "fig.update_xaxes(categoryorder='array', categoryarray= order)\n",
        "fig.update_layout(annotations=annotation)\n",
        "fig.show()"
      ],
      "metadata": {
        "id": "i2X1OLoxqc_5",
        "colab": {
          "base_uri": "https://localhost:8080/",
          "height": 517
        },
        "outputId": "1035afdb-63e1-40fb-aaad-997e402d3e66"
      },
      "execution_count": 43,
      "outputs": [
        {
          "output_type": "display_data",
          "data": {
            "text/html": [
              "<html>\n",
              "<head><meta charset=\"utf-8\" /></head>\n",
              "<body>\n",
              "    <div>            <script src=\"https://cdnjs.cloudflare.com/ajax/libs/mathjax/2.7.5/MathJax.js?config=TeX-AMS-MML_SVG\"></script><script type=\"text/javascript\">if (window.MathJax) {MathJax.Hub.Config({SVG: {font: \"STIX-Web\"}});}</script>                <script type=\"text/javascript\">window.PlotlyConfig = {MathJaxConfig: 'local'};</script>\n",
              "        <script src=\"https://cdn.plot.ly/plotly-2.8.3.min.js\"></script>                <div id=\"aec47b4b-13a9-40e5-8ed7-61797a9af4db\" class=\"plotly-graph-div\" style=\"height:500px; width:100%;\"></div>            <script type=\"text/javascript\">                                    window.PLOTLYENV=window.PLOTLYENV || {};                                    if (document.getElementById(\"aec47b4b-13a9-40e5-8ed7-61797a9af4db\")) {                    Plotly.newPlot(                        \"aec47b4b-13a9-40e5-8ed7-61797a9af4db\",                        [{\"alignmentgroup\":\"True\",\"hovertemplate\":\"Age_group=%{x}<br>Total_Amount_spent=%{y}<extra></extra>\",\"legendgroup\":\"\",\"marker\":{\"color\":\"#636efa\",\"pattern\":{\"shape\":\"\"}},\"name\":\"\",\"offsetgroup\":\"\",\"orientation\":\"v\",\"showlegend\":false,\"textposition\":\"auto\",\"x\":[\"21-30\",\"31-40\",\"41-50\",\"51-60\",\"61-70\",\"71-80\",\"80\"],\"xaxis\":\"x\",\"y\":[1127.0,138.0,235.0,363.0,603.0,685.0,157.0],\"yaxis\":\"y\",\"type\":\"bar\"}],                        {\"template\":{\"data\":{\"bar\":[{\"error_x\":{\"color\":\"#2a3f5f\"},\"error_y\":{\"color\":\"#2a3f5f\"},\"marker\":{\"line\":{\"color\":\"#E5ECF6\",\"width\":0.5},\"pattern\":{\"fillmode\":\"overlay\",\"size\":10,\"solidity\":0.2}},\"type\":\"bar\"}],\"barpolar\":[{\"marker\":{\"line\":{\"color\":\"#E5ECF6\",\"width\":0.5},\"pattern\":{\"fillmode\":\"overlay\",\"size\":10,\"solidity\":0.2}},\"type\":\"barpolar\"}],\"carpet\":[{\"aaxis\":{\"endlinecolor\":\"#2a3f5f\",\"gridcolor\":\"white\",\"linecolor\":\"white\",\"minorgridcolor\":\"white\",\"startlinecolor\":\"#2a3f5f\"},\"baxis\":{\"endlinecolor\":\"#2a3f5f\",\"gridcolor\":\"white\",\"linecolor\":\"white\",\"minorgridcolor\":\"white\",\"startlinecolor\":\"#2a3f5f\"},\"type\":\"carpet\"}],\"choropleth\":[{\"colorbar\":{\"outlinewidth\":0,\"ticks\":\"\"},\"type\":\"choropleth\"}],\"contour\":[{\"colorbar\":{\"outlinewidth\":0,\"ticks\":\"\"},\"colorscale\":[[0.0,\"#0d0887\"],[0.1111111111111111,\"#46039f\"],[0.2222222222222222,\"#7201a8\"],[0.3333333333333333,\"#9c179e\"],[0.4444444444444444,\"#bd3786\"],[0.5555555555555556,\"#d8576b\"],[0.6666666666666666,\"#ed7953\"],[0.7777777777777778,\"#fb9f3a\"],[0.8888888888888888,\"#fdca26\"],[1.0,\"#f0f921\"]],\"type\":\"contour\"}],\"contourcarpet\":[{\"colorbar\":{\"outlinewidth\":0,\"ticks\":\"\"},\"type\":\"contourcarpet\"}],\"heatmap\":[{\"colorbar\":{\"outlinewidth\":0,\"ticks\":\"\"},\"colorscale\":[[0.0,\"#0d0887\"],[0.1111111111111111,\"#46039f\"],[0.2222222222222222,\"#7201a8\"],[0.3333333333333333,\"#9c179e\"],[0.4444444444444444,\"#bd3786\"],[0.5555555555555556,\"#d8576b\"],[0.6666666666666666,\"#ed7953\"],[0.7777777777777778,\"#fb9f3a\"],[0.8888888888888888,\"#fdca26\"],[1.0,\"#f0f921\"]],\"type\":\"heatmap\"}],\"heatmapgl\":[{\"colorbar\":{\"outlinewidth\":0,\"ticks\":\"\"},\"colorscale\":[[0.0,\"#0d0887\"],[0.1111111111111111,\"#46039f\"],[0.2222222222222222,\"#7201a8\"],[0.3333333333333333,\"#9c179e\"],[0.4444444444444444,\"#bd3786\"],[0.5555555555555556,\"#d8576b\"],[0.6666666666666666,\"#ed7953\"],[0.7777777777777778,\"#fb9f3a\"],[0.8888888888888888,\"#fdca26\"],[1.0,\"#f0f921\"]],\"type\":\"heatmapgl\"}],\"histogram\":[{\"marker\":{\"pattern\":{\"fillmode\":\"overlay\",\"size\":10,\"solidity\":0.2}},\"type\":\"histogram\"}],\"histogram2d\":[{\"colorbar\":{\"outlinewidth\":0,\"ticks\":\"\"},\"colorscale\":[[0.0,\"#0d0887\"],[0.1111111111111111,\"#46039f\"],[0.2222222222222222,\"#7201a8\"],[0.3333333333333333,\"#9c179e\"],[0.4444444444444444,\"#bd3786\"],[0.5555555555555556,\"#d8576b\"],[0.6666666666666666,\"#ed7953\"],[0.7777777777777778,\"#fb9f3a\"],[0.8888888888888888,\"#fdca26\"],[1.0,\"#f0f921\"]],\"type\":\"histogram2d\"}],\"histogram2dcontour\":[{\"colorbar\":{\"outlinewidth\":0,\"ticks\":\"\"},\"colorscale\":[[0.0,\"#0d0887\"],[0.1111111111111111,\"#46039f\"],[0.2222222222222222,\"#7201a8\"],[0.3333333333333333,\"#9c179e\"],[0.4444444444444444,\"#bd3786\"],[0.5555555555555556,\"#d8576b\"],[0.6666666666666666,\"#ed7953\"],[0.7777777777777778,\"#fb9f3a\"],[0.8888888888888888,\"#fdca26\"],[1.0,\"#f0f921\"]],\"type\":\"histogram2dcontour\"}],\"mesh3d\":[{\"colorbar\":{\"outlinewidth\":0,\"ticks\":\"\"},\"type\":\"mesh3d\"}],\"parcoords\":[{\"line\":{\"colorbar\":{\"outlinewidth\":0,\"ticks\":\"\"}},\"type\":\"parcoords\"}],\"pie\":[{\"automargin\":true,\"type\":\"pie\"}],\"scatter\":[{\"marker\":{\"colorbar\":{\"outlinewidth\":0,\"ticks\":\"\"}},\"type\":\"scatter\"}],\"scatter3d\":[{\"line\":{\"colorbar\":{\"outlinewidth\":0,\"ticks\":\"\"}},\"marker\":{\"colorbar\":{\"outlinewidth\":0,\"ticks\":\"\"}},\"type\":\"scatter3d\"}],\"scattercarpet\":[{\"marker\":{\"colorbar\":{\"outlinewidth\":0,\"ticks\":\"\"}},\"type\":\"scattercarpet\"}],\"scattergeo\":[{\"marker\":{\"colorbar\":{\"outlinewidth\":0,\"ticks\":\"\"}},\"type\":\"scattergeo\"}],\"scattergl\":[{\"marker\":{\"colorbar\":{\"outlinewidth\":0,\"ticks\":\"\"}},\"type\":\"scattergl\"}],\"scattermapbox\":[{\"marker\":{\"colorbar\":{\"outlinewidth\":0,\"ticks\":\"\"}},\"type\":\"scattermapbox\"}],\"scatterpolar\":[{\"marker\":{\"colorbar\":{\"outlinewidth\":0,\"ticks\":\"\"}},\"type\":\"scatterpolar\"}],\"scatterpolargl\":[{\"marker\":{\"colorbar\":{\"outlinewidth\":0,\"ticks\":\"\"}},\"type\":\"scatterpolargl\"}],\"scatterternary\":[{\"marker\":{\"colorbar\":{\"outlinewidth\":0,\"ticks\":\"\"}},\"type\":\"scatterternary\"}],\"surface\":[{\"colorbar\":{\"outlinewidth\":0,\"ticks\":\"\"},\"colorscale\":[[0.0,\"#0d0887\"],[0.1111111111111111,\"#46039f\"],[0.2222222222222222,\"#7201a8\"],[0.3333333333333333,\"#9c179e\"],[0.4444444444444444,\"#bd3786\"],[0.5555555555555556,\"#d8576b\"],[0.6666666666666666,\"#ed7953\"],[0.7777777777777778,\"#fb9f3a\"],[0.8888888888888888,\"#fdca26\"],[1.0,\"#f0f921\"]],\"type\":\"surface\"}],\"table\":[{\"cells\":{\"fill\":{\"color\":\"#EBF0F8\"},\"line\":{\"color\":\"white\"}},\"header\":{\"fill\":{\"color\":\"#C8D4E3\"},\"line\":{\"color\":\"white\"}},\"type\":\"table\"}]},\"layout\":{\"annotationdefaults\":{\"arrowcolor\":\"#2a3f5f\",\"arrowhead\":0,\"arrowwidth\":1},\"autotypenumbers\":\"strict\",\"coloraxis\":{\"colorbar\":{\"outlinewidth\":0,\"ticks\":\"\"}},\"colorscale\":{\"diverging\":[[0,\"#8e0152\"],[0.1,\"#c51b7d\"],[0.2,\"#de77ae\"],[0.3,\"#f1b6da\"],[0.4,\"#fde0ef\"],[0.5,\"#f7f7f7\"],[0.6,\"#e6f5d0\"],[0.7,\"#b8e186\"],[0.8,\"#7fbc41\"],[0.9,\"#4d9221\"],[1,\"#276419\"]],\"sequential\":[[0.0,\"#0d0887\"],[0.1111111111111111,\"#46039f\"],[0.2222222222222222,\"#7201a8\"],[0.3333333333333333,\"#9c179e\"],[0.4444444444444444,\"#bd3786\"],[0.5555555555555556,\"#d8576b\"],[0.6666666666666666,\"#ed7953\"],[0.7777777777777778,\"#fb9f3a\"],[0.8888888888888888,\"#fdca26\"],[1.0,\"#f0f921\"]],\"sequentialminus\":[[0.0,\"#0d0887\"],[0.1111111111111111,\"#46039f\"],[0.2222222222222222,\"#7201a8\"],[0.3333333333333333,\"#9c179e\"],[0.4444444444444444,\"#bd3786\"],[0.5555555555555556,\"#d8576b\"],[0.6666666666666666,\"#ed7953\"],[0.7777777777777778,\"#fb9f3a\"],[0.8888888888888888,\"#fdca26\"],[1.0,\"#f0f921\"]]},\"colorway\":[\"#636efa\",\"#EF553B\",\"#00cc96\",\"#ab63fa\",\"#FFA15A\",\"#19d3f3\",\"#FF6692\",\"#B6E880\",\"#FF97FF\",\"#FECB52\"],\"font\":{\"color\":\"#2a3f5f\"},\"geo\":{\"bgcolor\":\"white\",\"lakecolor\":\"white\",\"landcolor\":\"#E5ECF6\",\"showlakes\":true,\"showland\":true,\"subunitcolor\":\"white\"},\"hoverlabel\":{\"align\":\"left\"},\"hovermode\":\"closest\",\"mapbox\":{\"style\":\"light\"},\"paper_bgcolor\":\"white\",\"plot_bgcolor\":\"#E5ECF6\",\"polar\":{\"angularaxis\":{\"gridcolor\":\"white\",\"linecolor\":\"white\",\"ticks\":\"\"},\"bgcolor\":\"#E5ECF6\",\"radialaxis\":{\"gridcolor\":\"white\",\"linecolor\":\"white\",\"ticks\":\"\"}},\"scene\":{\"xaxis\":{\"backgroundcolor\":\"#E5ECF6\",\"gridcolor\":\"white\",\"gridwidth\":2,\"linecolor\":\"white\",\"showbackground\":true,\"ticks\":\"\",\"zerolinecolor\":\"white\"},\"yaxis\":{\"backgroundcolor\":\"#E5ECF6\",\"gridcolor\":\"white\",\"gridwidth\":2,\"linecolor\":\"white\",\"showbackground\":true,\"ticks\":\"\",\"zerolinecolor\":\"white\"},\"zaxis\":{\"backgroundcolor\":\"#E5ECF6\",\"gridcolor\":\"white\",\"gridwidth\":2,\"linecolor\":\"white\",\"showbackground\":true,\"ticks\":\"\",\"zerolinecolor\":\"white\"}},\"shapedefaults\":{\"line\":{\"color\":\"#2a3f5f\"}},\"ternary\":{\"aaxis\":{\"gridcolor\":\"white\",\"linecolor\":\"white\",\"ticks\":\"\"},\"baxis\":{\"gridcolor\":\"white\",\"linecolor\":\"white\",\"ticks\":\"\"},\"bgcolor\":\"#E5ECF6\",\"caxis\":{\"gridcolor\":\"white\",\"linecolor\":\"white\",\"ticks\":\"\"}},\"title\":{\"x\":0.05},\"xaxis\":{\"automargin\":true,\"gridcolor\":\"white\",\"linecolor\":\"white\",\"ticks\":\"\",\"title\":{\"standoff\":15},\"zerolinecolor\":\"white\",\"zerolinewidth\":2},\"yaxis\":{\"automargin\":true,\"gridcolor\":\"white\",\"linecolor\":\"white\",\"ticks\":\"\",\"title\":{\"standoff\":15},\"zerolinecolor\":\"white\",\"zerolinewidth\":2}}},\"xaxis\":{\"anchor\":\"y\",\"domain\":[0.0,1.0],\"title\":{\"text\":\"Age_group\"},\"categoryorder\":\"array\",\"categoryarray\":[\"21-30\",\"31-40\",\"41-50\",\"51-60\",\"61-70\",\"71-80\",\">80\"]},\"yaxis\":{\"anchor\":\"x\",\"domain\":[0.0,1.0],\"title\":{\"text\":\"Total_Amount_spent\"}},\"legend\":{\"tracegroupgap\":0},\"margin\":{\"t\":60},\"barmode\":\"relative\",\"height\":500,\"annotations\":[{\"font\":{\"color\":\"rgb(66, 99, 236)\",\"family\":\"Arial\",\"size\":14},\"showarrow\":false,\"text\":\"1127.0$\",\"x\":\"21-30\",\"y\":1147.0},{\"font\":{\"color\":\"rgb(66, 99, 236)\",\"family\":\"Arial\",\"size\":14},\"showarrow\":false,\"text\":\"138.0$\",\"x\":\"31-40\",\"y\":158.0},{\"font\":{\"color\":\"rgb(66, 99, 236)\",\"family\":\"Arial\",\"size\":14},\"showarrow\":false,\"text\":\"235.0$\",\"x\":\"41-50\",\"y\":255.0},{\"font\":{\"color\":\"rgb(66, 99, 236)\",\"family\":\"Arial\",\"size\":14},\"showarrow\":false,\"text\":\"363.0$\",\"x\":\"51-60\",\"y\":383.0},{\"font\":{\"color\":\"rgb(66, 99, 236)\",\"family\":\"Arial\",\"size\":14},\"showarrow\":false,\"text\":\"603.0$\",\"x\":\"61-70\",\"y\":623.0},{\"font\":{\"color\":\"rgb(66, 99, 236)\",\"family\":\"Arial\",\"size\":14},\"showarrow\":false,\"text\":\"685.0$\",\"x\":\"71-80\",\"y\":705.0},{\"font\":{\"color\":\"rgb(66, 99, 236)\",\"family\":\"Arial\",\"size\":14},\"showarrow\":false,\"text\":\"157.0$\",\"x\":\"80\",\"y\":177.0}]},                        {\"responsive\": true}                    ).then(function(){\n",
              "                            \n",
              "var gd = document.getElementById('aec47b4b-13a9-40e5-8ed7-61797a9af4db');\n",
              "var x = new MutationObserver(function (mutations, observer) {{\n",
              "        var display = window.getComputedStyle(gd).display;\n",
              "        if (!display || display === 'none') {{\n",
              "            console.log([gd, 'removed!']);\n",
              "            Plotly.purge(gd);\n",
              "            observer.disconnect();\n",
              "        }}\n",
              "}});\n",
              "\n",
              "// Listen for the removal of the full notebook cells\n",
              "var notebookContainer = gd.closest('#notebook-container');\n",
              "if (notebookContainer) {{\n",
              "    x.observe(notebookContainer, {childList: true});\n",
              "}}\n",
              "\n",
              "// Listen for the clearing of the current output cell\n",
              "var outputEl = gd.closest('.output');\n",
              "if (outputEl) {{\n",
              "    x.observe(outputEl, {childList: true});\n",
              "}}\n",
              "\n",
              "                        })                };                            </script>        </div>\n",
              "</body>\n",
              "</html>"
            ]
          },
          "metadata": {}
        }
      ]
    },
    {
      "cell_type": "markdown",
      "source": [
        "`From the above summary we can see that average values for the distribution of each Age value. It seen that the group who spend most on average is customers within the range of 21-30, which is then followed by customers in the age range of 71-80. Let's look at the distribution of the comparison.`"
      ],
      "metadata": {
        "id": "851D1nzayRsI"
      }
    },
    {
      "cell_type": "code",
      "source": [
        "plt.figure(figsize=(8, 8))\n",
        "sns.violinplot(x=\"Age_group\", y=\"Total_Amount_spent\", data=df2, cut=0, order=order)\n",
        "plt.title(\"Relationship between Age Range and Total_Amount_spent\");"
      ],
      "metadata": {
        "colab": {
          "base_uri": "https://localhost:8080/",
          "height": 514
        },
        "id": "UGsaEWHIyRV8",
        "outputId": "cb505410-3373-411c-c922-2229a979e8ca"
      },
      "execution_count": 44,
      "outputs": [
        {
          "output_type": "display_data",
          "data": {
            "text/plain": [
              "<Figure size 576x576 with 1 Axes>"
            ],
            "image/png": "[encoded data removed]"
          },
          "metadata": {
            "needs_background": "light"
          }
        }
      ]
    },
    {
      "cell_type": "code",
      "source": [
        "from scipy.stats import iqr"
      ],
      "metadata": {
        "id": "XGGjurJO6LyB"
      },
      "execution_count": 45,
      "outputs": []
    },
    {
      "cell_type": "code",
      "source": [
        "iqr = iqr(df2[\"Income\"], nan_policy=\"omit\")\n",
        "\n",
        "\n",
        "low = np.nanquantile(df2[\"Income\"], 0.25) - 1.5 * iqr\n",
        "high = np.nanquantile(df2[\"Income\"], 0.75) + 1.5 * iqr"
      ],
      "metadata": {
        "id": "US_cyo8h6OEg"
      },
      "execution_count": 46,
      "outputs": []
    },
    {
      "cell_type": "code",
      "source": [
        "df_cut = df2[df2[\"Income\"].between(low, high)]"
      ],
      "metadata": {
        "id": "vH56mAJl6wtc"
      },
      "execution_count": 47,
      "outputs": []
    },
    {
      "cell_type": "code",
      "source": [
        "mask = df_cut.groupby(\"Age_group\")[\"Income\"].mean()\n",
        "mask = mask.reset_index()\n",
        "fig = px.bar(data_frame=mask, x=\"Age_group\", y=\"Income\", height=500)\n",
        "\n",
        "annotation = []\n",
        "for x, y in zip(mask[\"Age_group\"], mask[\"Income\"]):\n",
        "    annotation.append(\n",
        "        dict(x=x, y=y +5000,\n",
        "             text=str(round(y, 2)) + '$',\n",
        "             font=dict(family='Arial', size=14, color='rgb(66, 99, 236)'), showarrow=False)\n",
        "    )\n",
        "fig.update_xaxes(categoryorder='array', categoryarray= [\"21-30\", \"31-40\"])\n",
        "fig.update_layout(annotations=annotation)\n",
        "fig.show()"
      ],
      "metadata": {
        "colab": {
          "base_uri": "https://localhost:8080/",
          "height": 517
        },
        "id": "KizxxylH6rYZ",
        "outputId": "a1e724dc-afd1-4f36-ea07-0f4fd3ef2860"
      },
      "execution_count": 48,
      "outputs": [
        {
          "output_type": "display_data",
          "data": {
            "text/html": [
              "<html>\n",
              "<head><meta charset=\"utf-8\" /></head>\n",
              "<body>\n",
              "    <div>            <script src=\"https://cdnjs.cloudflare.com/ajax/libs/mathjax/2.7.5/MathJax.js?config=TeX-AMS-MML_SVG\"></script><script type=\"text/javascript\">if (window.MathJax) {MathJax.Hub.Config({SVG: {font: \"STIX-Web\"}});}</script>                <script type=\"text/javascript\">window.PlotlyConfig = {MathJaxConfig: 'local'};</script>\n",
              "        <script src=\"https://cdn.plot.ly/plotly-2.8.3.min.js\"></script>                <div id=\"3c3e5215-7935-4dcf-9538-8cc3e24bb678\" class=\"plotly-graph-div\" style=\"height:500px; width:100%;\"></div>            <script type=\"text/javascript\">                                    window.PLOTLYENV=window.PLOTLYENV || {};                                    if (document.getElementById(\"3c3e5215-7935-4dcf-9538-8cc3e24bb678\")) {                    Plotly.newPlot(                        \"3c3e5215-7935-4dcf-9538-8cc3e24bb678\",                        [{\"alignmentgroup\":\"True\",\"hovertemplate\":\"Age_group=%{x}<br>Income=%{y}<extra></extra>\",\"legendgroup\":\"\",\"marker\":{\"color\":\"#636efa\",\"pattern\":{\"shape\":\"\"}},\"name\":\"\",\"offsetgroup\":\"\",\"orientation\":\"v\",\"showlegend\":false,\"textposition\":\"auto\",\"x\":[\"21-30\",\"31-40\",\"41-50\",\"51-60\",\"61-70\",\"71-80\",\"80\"],\"xaxis\":\"x\",\"y\":[63576.86666666667,44743.338300913885,47727.557421447804,51583.13531417857,57192.95432145491,58582.598696085886,64904.4],\"yaxis\":\"y\",\"type\":\"bar\"}],                        {\"template\":{\"data\":{\"bar\":[{\"error_x\":{\"color\":\"#2a3f5f\"},\"error_y\":{\"color\":\"#2a3f5f\"},\"marker\":{\"line\":{\"color\":\"#E5ECF6\",\"width\":0.5},\"pattern\":{\"fillmode\":\"overlay\",\"size\":10,\"solidity\":0.2}},\"type\":\"bar\"}],\"barpolar\":[{\"marker\":{\"line\":{\"color\":\"#E5ECF6\",\"width\":0.5},\"pattern\":{\"fillmode\":\"overlay\",\"size\":10,\"solidity\":0.2}},\"type\":\"barpolar\"}],\"carpet\":[{\"aaxis\":{\"endlinecolor\":\"#2a3f5f\",\"gridcolor\":\"white\",\"linecolor\":\"white\",\"minorgridcolor\":\"white\",\"startlinecolor\":\"#2a3f5f\"},\"baxis\":{\"endlinecolor\":\"#2a3f5f\",\"gridcolor\":\"white\",\"linecolor\":\"white\",\"minorgridcolor\":\"white\",\"startlinecolor\":\"#2a3f5f\"},\"type\":\"carpet\"}],\"choropleth\":[{\"colorbar\":{\"outlinewidth\":0,\"ticks\":\"\"},\"type\":\"choropleth\"}],\"contour\":[{\"colorbar\":{\"outlinewidth\":0,\"ticks\":\"\"},\"colorscale\":[[0.0,\"#0d0887\"],[0.1111111111111111,\"#46039f\"],[0.2222222222222222,\"#7201a8\"],[0.3333333333333333,\"#9c179e\"],[0.4444444444444444,\"#bd3786\"],[0.5555555555555556,\"#d8576b\"],[0.6666666666666666,\"#ed7953\"],[0.7777777777777778,\"#fb9f3a\"],[0.8888888888888888,\"#fdca26\"],[1.0,\"#f0f921\"]],\"type\":\"contour\"}],\"contourcarpet\":[{\"colorbar\":{\"outlinewidth\":0,\"ticks\":\"\"},\"type\":\"contourcarpet\"}],\"heatmap\":[{\"colorbar\":{\"outlinewidth\":0,\"ticks\":\"\"},\"colorscale\":[[0.0,\"#0d0887\"],[0.1111111111111111,\"#46039f\"],[0.2222222222222222,\"#7201a8\"],[0.3333333333333333,\"#9c179e\"],[0.4444444444444444,\"#bd3786\"],[0.5555555555555556,\"#d8576b\"],[0.6666666666666666,\"#ed7953\"],[0.7777777777777778,\"#fb9f3a\"],[0.8888888888888888,\"#fdca26\"],[1.0,\"#f0f921\"]],\"type\":\"heatmap\"}],\"heatmapgl\":[{\"colorbar\":{\"outlinewidth\":0,\"ticks\":\"\"},\"colorscale\":[[0.0,\"#0d0887\"],[0.1111111111111111,\"#46039f\"],[0.2222222222222222,\"#7201a8\"],[0.3333333333333333,\"#9c179e\"],[0.4444444444444444,\"#bd3786\"],[0.5555555555555556,\"#d8576b\"],[0.6666666666666666,\"#ed7953\"],[0.7777777777777778,\"#fb9f3a\"],[0.8888888888888888,\"#fdca26\"],[1.0,\"#f0f921\"]],\"type\":\"heatmapgl\"}],\"histogram\":[{\"marker\":{\"pattern\":{\"fillmode\":\"overlay\",\"size\":10,\"solidity\":0.2}},\"type\":\"histogram\"}],\"histogram2d\":[{\"colorbar\":{\"outlinewidth\":0,\"ticks\":\"\"},\"colorscale\":[[0.0,\"#0d0887\"],[0.1111111111111111,\"#46039f\"],[0.2222222222222222,\"#7201a8\"],[0.3333333333333333,\"#9c179e\"],[0.4444444444444444,\"#bd3786\"],[0.5555555555555556,\"#d8576b\"],[0.6666666666666666,\"#ed7953\"],[0.7777777777777778,\"#fb9f3a\"],[0.8888888888888888,\"#fdca26\"],[1.0,\"#f0f921\"]],\"type\":\"histogram2d\"}],\"histogram2dcontour\":[{\"colorbar\":{\"outlinewidth\":0,\"ticks\":\"\"},\"colorscale\":[[0.0,\"#0d0887\"],[0.1111111111111111,\"#46039f\"],[0.2222222222222222,\"#7201a8\"],[0.3333333333333333,\"#9c179e\"],[0.4444444444444444,\"#bd3786\"],[0.5555555555555556,\"#d8576b\"],[0.6666666666666666,\"#ed7953\"],[0.7777777777777778,\"#fb9f3a\"],[0.8888888888888888,\"#fdca26\"],[1.0,\"#f0f921\"]],\"type\":\"histogram2dcontour\"}],\"mesh3d\":[{\"colorbar\":{\"outlinewidth\":0,\"ticks\":\"\"},\"type\":\"mesh3d\"}],\"parcoords\":[{\"line\":{\"colorbar\":{\"outlinewidth\":0,\"ticks\":\"\"}},\"type\":\"parcoords\"}],\"pie\":[{\"automargin\":true,\"type\":\"pie\"}],\"scatter\":[{\"marker\":{\"colorbar\":{\"outlinewidth\":0,\"ticks\":\"\"}},\"type\":\"scatter\"}],\"scatter3d\":[{\"line\":{\"colorbar\":{\"outlinewidth\":0,\"ticks\":\"\"}},\"marker\":{\"colorbar\":{\"outlinewidth\":0,\"ticks\":\"\"}},\"type\":\"scatter3d\"}],\"scattercarpet\":[{\"marker\":{\"colorbar\":{\"outlinewidth\":0,\"ticks\":\"\"}},\"type\":\"scattercarpet\"}],\"scattergeo\":[{\"marker\":{\"colorbar\":{\"outlinewidth\":0,\"ticks\":\"\"}},\"type\":\"scattergeo\"}],\"scattergl\":[{\"marker\":{\"colorbar\":{\"outlinewidth\":0,\"ticks\":\"\"}},\"type\":\"scattergl\"}],\"scattermapbox\":[{\"marker\":{\"colorbar\":{\"outlinewidth\":0,\"ticks\":\"\"}},\"type\":\"scattermapbox\"}],\"scatterpolar\":[{\"marker\":{\"colorbar\":{\"outlinewidth\":0,\"ticks\":\"\"}},\"type\":\"scatterpolar\"}],\"scatterpolargl\":[{\"marker\":{\"colorbar\":{\"outlinewidth\":0,\"ticks\":\"\"}},\"type\":\"scatterpolargl\"}],\"scatterternary\":[{\"marker\":{\"colorbar\":{\"outlinewidth\":0,\"ticks\":\"\"}},\"type\":\"scatterternary\"}],\"surface\":[{\"colorbar\":{\"outlinewidth\":0,\"ticks\":\"\"},\"colorscale\":[[0.0,\"#0d0887\"],[0.1111111111111111,\"#46039f\"],[0.2222222222222222,\"#7201a8\"],[0.3333333333333333,\"#9c179e\"],[0.4444444444444444,\"#bd3786\"],[0.5555555555555556,\"#d8576b\"],[0.6666666666666666,\"#ed7953\"],[0.7777777777777778,\"#fb9f3a\"],[0.8888888888888888,\"#fdca26\"],[1.0,\"#f0f921\"]],\"type\":\"surface\"}],\"table\":[{\"cells\":{\"fill\":{\"color\":\"#EBF0F8\"},\"line\":{\"color\":\"white\"}},\"header\":{\"fill\":{\"color\":\"#C8D4E3\"},\"line\":{\"color\":\"white\"}},\"type\":\"table\"}]},\"layout\":{\"annotationdefaults\":{\"arrowcolor\":\"#2a3f5f\",\"arrowhead\":0,\"arrowwidth\":1},\"autotypenumbers\":\"strict\",\"coloraxis\":{\"colorbar\":{\"outlinewidth\":0,\"ticks\":\"\"}},\"colorscale\":{\"diverging\":[[0,\"#8e0152\"],[0.1,\"#c51b7d\"],[0.2,\"#de77ae\"],[0.3,\"#f1b6da\"],[0.4,\"#fde0ef\"],[0.5,\"#f7f7f7\"],[0.6,\"#e6f5d0\"],[0.7,\"#b8e186\"],[0.8,\"#7fbc41\"],[0.9,\"#4d9221\"],[1,\"#276419\"]],\"sequential\":[[0.0,\"#0d0887\"],[0.1111111111111111,\"#46039f\"],[0.2222222222222222,\"#7201a8\"],[0.3333333333333333,\"#9c179e\"],[0.4444444444444444,\"#bd3786\"],[0.5555555555555556,\"#d8576b\"],[0.6666666666666666,\"#ed7953\"],[0.7777777777777778,\"#fb9f3a\"],[0.8888888888888888,\"#fdca26\"],[1.0,\"#f0f921\"]],\"sequentialminus\":[[0.0,\"#0d0887\"],[0.1111111111111111,\"#46039f\"],[0.2222222222222222,\"#7201a8\"],[0.3333333333333333,\"#9c179e\"],[0.4444444444444444,\"#bd3786\"],[0.5555555555555556,\"#d8576b\"],[0.6666666666666666,\"#ed7953\"],[0.7777777777777778,\"#fb9f3a\"],[0.8888888888888888,\"#fdca26\"],[1.0,\"#f0f921\"]]},\"colorway\":[\"#636efa\",\"#EF553B\",\"#00cc96\",\"#ab63fa\",\"#FFA15A\",\"#19d3f3\",\"#FF6692\",\"#B6E880\",\"#FF97FF\",\"#FECB52\"],\"font\":{\"color\":\"#2a3f5f\"},\"geo\":{\"bgcolor\":\"white\",\"lakecolor\":\"white\",\"landcolor\":\"#E5ECF6\",\"showlakes\":true,\"showland\":true,\"subunitcolor\":\"white\"},\"hoverlabel\":{\"align\":\"left\"},\"hovermode\":\"closest\",\"mapbox\":{\"style\":\"light\"},\"paper_bgcolor\":\"white\",\"plot_bgcolor\":\"#E5ECF6\",\"polar\":{\"angularaxis\":{\"gridcolor\":\"white\",\"linecolor\":\"white\",\"ticks\":\"\"},\"bgcolor\":\"#E5ECF6\",\"radialaxis\":{\"gridcolor\":\"white\",\"linecolor\":\"white\",\"ticks\":\"\"}},\"scene\":{\"xaxis\":{\"backgroundcolor\":\"#E5ECF6\",\"gridcolor\":\"white\",\"gridwidth\":2,\"linecolor\":\"white\",\"showbackground\":true,\"ticks\":\"\",\"zerolinecolor\":\"white\"},\"yaxis\":{\"backgroundcolor\":\"#E5ECF6\",\"gridcolor\":\"white\",\"gridwidth\":2,\"linecolor\":\"white\",\"showbackground\":true,\"ticks\":\"\",\"zerolinecolor\":\"white\"},\"zaxis\":{\"backgroundcolor\":\"#E5ECF6\",\"gridcolor\":\"white\",\"gridwidth\":2,\"linecolor\":\"white\",\"showbackground\":true,\"ticks\":\"\",\"zerolinecolor\":\"white\"}},\"shapedefaults\":{\"line\":{\"color\":\"#2a3f5f\"}},\"ternary\":{\"aaxis\":{\"gridcolor\":\"white\",\"linecolor\":\"white\",\"ticks\":\"\"},\"baxis\":{\"gridcolor\":\"white\",\"linecolor\":\"white\",\"ticks\":\"\"},\"bgcolor\":\"#E5ECF6\",\"caxis\":{\"gridcolor\":\"white\",\"linecolor\":\"white\",\"ticks\":\"\"}},\"title\":{\"x\":0.05},\"xaxis\":{\"automargin\":true,\"gridcolor\":\"white\",\"linecolor\":\"white\",\"ticks\":\"\",\"title\":{\"standoff\":15},\"zerolinecolor\":\"white\",\"zerolinewidth\":2},\"yaxis\":{\"automargin\":true,\"gridcolor\":\"white\",\"linecolor\":\"white\",\"ticks\":\"\",\"title\":{\"standoff\":15},\"zerolinecolor\":\"white\",\"zerolinewidth\":2}}},\"xaxis\":{\"anchor\":\"y\",\"domain\":[0.0,1.0],\"title\":{\"text\":\"Age_group\"},\"categoryorder\":\"array\",\"categoryarray\":[\"21-30\",\"31-40\"]},\"yaxis\":{\"anchor\":\"x\",\"domain\":[0.0,1.0],\"title\":{\"text\":\"Income\"}},\"legend\":{\"tracegroupgap\":0},\"margin\":{\"t\":60},\"barmode\":\"relative\",\"height\":500,\"annotations\":[{\"font\":{\"color\":\"rgb(66, 99, 236)\",\"family\":\"Arial\",\"size\":14},\"showarrow\":false,\"text\":\"63576.87$\",\"x\":\"21-30\",\"y\":68576.86666666667},{\"font\":{\"color\":\"rgb(66, 99, 236)\",\"family\":\"Arial\",\"size\":14},\"showarrow\":false,\"text\":\"44743.34$\",\"x\":\"31-40\",\"y\":49743.338300913885},{\"font\":{\"color\":\"rgb(66, 99, 236)\",\"family\":\"Arial\",\"size\":14},\"showarrow\":false,\"text\":\"47727.56$\",\"x\":\"41-50\",\"y\":52727.557421447804},{\"font\":{\"color\":\"rgb(66, 99, 236)\",\"family\":\"Arial\",\"size\":14},\"showarrow\":false,\"text\":\"51583.14$\",\"x\":\"51-60\",\"y\":56583.13531417857},{\"font\":{\"color\":\"rgb(66, 99, 236)\",\"family\":\"Arial\",\"size\":14},\"showarrow\":false,\"text\":\"57192.95$\",\"x\":\"61-70\",\"y\":62192.95432145491},{\"font\":{\"color\":\"rgb(66, 99, 236)\",\"family\":\"Arial\",\"size\":14},\"showarrow\":false,\"text\":\"58582.6$\",\"x\":\"71-80\",\"y\":63582.598696085886},{\"font\":{\"color\":\"rgb(66, 99, 236)\",\"family\":\"Arial\",\"size\":14},\"showarrow\":false,\"text\":\"64904.4$\",\"x\":\"80\",\"y\":69904.4}]},                        {\"responsive\": true}                    ).then(function(){\n",
              "                            \n",
              "var gd = document.getElementById('3c3e5215-7935-4dcf-9538-8cc3e24bb678');\n",
              "var x = new MutationObserver(function (mutations, observer) {{\n",
              "        var display = window.getComputedStyle(gd).display;\n",
              "        if (!display || display === 'none') {{\n",
              "            console.log([gd, 'removed!']);\n",
              "            Plotly.purge(gd);\n",
              "            observer.disconnect();\n",
              "        }}\n",
              "}});\n",
              "\n",
              "// Listen for the removal of the full notebook cells\n",
              "var notebookContainer = gd.closest('#notebook-container');\n",
              "if (notebookContainer) {{\n",
              "    x.observe(notebookContainer, {childList: true});\n",
              "}}\n",
              "\n",
              "// Listen for the clearing of the current output cell\n",
              "var outputEl = gd.closest('.output');\n",
              "if (outputEl) {{\n",
              "    x.observe(outputEl, {childList: true});\n",
              "}}\n",
              "\n",
              "                        })                };                            </script>        </div>\n",
              "</body>\n",
              "</html>"
            ]
          },
          "metadata": {}
        }
      ]
    },
    {
      "cell_type": "markdown",
      "source": [
        "`Interesting to see that the age group that earns more on average are the customers within above 80+, followed by customers within 71-80. Apart from customer age within 21-30. We can see a trend which postulates that as the age group increases so do the Income.`"
      ],
      "metadata": {
        "id": "pBlmsHhl70yZ"
      }
    },
    {
      "cell_type": "code",
      "source": [
        "(df_cut[df_cut[\"Age_group\"] == \"21-30\"][\"Income\"]).describe()"
      ],
      "metadata": {
        "colab": {
          "base_uri": "https://localhost:8080/"
        },
        "id": "3BrT-vfv73wr",
        "outputId": "fd266219-8f0d-44d0-ff0a-e8eba4ab3081"
      },
      "execution_count": 49,
      "outputs": [
        {
          "output_type": "execute_result",
          "data": {
            "text/plain": [
              "count       15.000000\n",
              "mean     63576.866667\n",
              "std      26909.456211\n",
              "min       7500.000000\n",
              "25%      52669.500000\n",
              "50%      74293.000000\n",
              "75%      80375.500000\n",
              "max      95529.000000\n",
              "Name: Income, dtype: float64"
            ]
          },
          "metadata": {},
          "execution_count": 49
        }
      ]
    },
    {
      "cell_type": "markdown",
      "source": [
        "**Education VS Total Amount Spent**"
      ],
      "metadata": {
        "id": "-rclZCVAApII"
      }
    },
    {
      "cell_type": "code",
      "source": [
        "mask = df2.groupby('Education')['Total_Amount_spent'].median()\n",
        "mask  = mask.reset_index()\n",
        "fig = px.bar(data_frame= mask,x = 'Education',y= 'Total_Amount_spent',height = 500,\n",
        "             title =\"Relationsip Between Education and Total Amount Spent [Average Spent]\")\n",
        "\n",
        "annotation = []\n",
        "for x, y in zip(mask[\"Education\"], mask[\"Total_Amount_spent\"]):\n",
        "    annotation.append(\n",
        "        dict(x=x, y=y +1500,\n",
        "             text=str(round(y, 2)) + '$',\n",
        "             font=dict(family='Arial', size=14, color='rgb(66, 99, 236)'), showarrow=False)\n",
        "    )\n",
        "fig.update_xaxes(categoryorder='array', categoryarray= order)\n",
        "fig.update_layout(annotations=annotation)\n",
        "\n",
        "fig.show()"
      ],
      "metadata": {
        "colab": {
          "base_uri": "https://localhost:8080/",
          "height": 517
        },
        "id": "Oyjm-aG9Aw8X",
        "outputId": "0c95c491-b50e-4d8b-c6cf-772c887c2e68"
      },
      "execution_count": 50,
      "outputs": [
        {
          "output_type": "display_data",
          "data": {
            "text/html": [
              "<html>\n",
              "<head><meta charset=\"utf-8\" /></head>\n",
              "<body>\n",
              "    <div>            <script src=\"https://cdnjs.cloudflare.com/ajax/libs/mathjax/2.7.5/MathJax.js?config=TeX-AMS-MML_SVG\"></script><script type=\"text/javascript\">if (window.MathJax) {MathJax.Hub.Config({SVG: {font: \"STIX-Web\"}});}</script>                <script type=\"text/javascript\">window.PlotlyConfig = {MathJaxConfig: 'local'};</script>\n",
              "        <script src=\"https://cdn.plot.ly/plotly-2.8.3.min.js\"></script>                <div id=\"2de166e6-03cc-4c6c-9929-f18cc2151586\" class=\"plotly-graph-div\" style=\"height:500px; width:100%;\"></div>            <script type=\"text/javascript\">                                    window.PLOTLYENV=window.PLOTLYENV || {};                                    if (document.getElementById(\"2de166e6-03cc-4c6c-9929-f18cc2151586\")) {                    Plotly.newPlot(                        \"2de166e6-03cc-4c6c-9929-f18cc2151586\",                        [{\"alignmentgroup\":\"True\",\"hovertemplate\":\"Education=%{x}<br>Total_Amount_spent=%{y}<extra></extra>\",\"legendgroup\":\"\",\"marker\":{\"color\":\"#636efa\",\"pattern\":{\"shape\":\"\"}},\"name\":\"\",\"offsetgroup\":\"\",\"orientation\":\"v\",\"showlegend\":false,\"textposition\":\"auto\",\"x\":[\"Graduate\",\"PhD\",\"Post_Graduate\",\"Psot_Graduate\",\"Under_Graduate\"],\"xaxis\":\"x\",\"y\":[414.0,493.0,387.5,198.0,57.0],\"yaxis\":\"y\",\"type\":\"bar\"}],                        {\"template\":{\"data\":{\"bar\":[{\"error_x\":{\"color\":\"#2a3f5f\"},\"error_y\":{\"color\":\"#2a3f5f\"},\"marker\":{\"line\":{\"color\":\"#E5ECF6\",\"width\":0.5},\"pattern\":{\"fillmode\":\"overlay\",\"size\":10,\"solidity\":0.2}},\"type\":\"bar\"}],\"barpolar\":[{\"marker\":{\"line\":{\"color\":\"#E5ECF6\",\"width\":0.5},\"pattern\":{\"fillmode\":\"overlay\",\"size\":10,\"solidity\":0.2}},\"type\":\"barpolar\"}],\"carpet\":[{\"aaxis\":{\"endlinecolor\":\"#2a3f5f\",\"gridcolor\":\"white\",\"linecolor\":\"white\",\"minorgridcolor\":\"white\",\"startlinecolor\":\"#2a3f5f\"},\"baxis\":{\"endlinecolor\":\"#2a3f5f\",\"gridcolor\":\"white\",\"linecolor\":\"white\",\"minorgridcolor\":\"white\",\"startlinecolor\":\"#2a3f5f\"},\"type\":\"carpet\"}],\"choropleth\":[{\"colorbar\":{\"outlinewidth\":0,\"ticks\":\"\"},\"type\":\"choropleth\"}],\"contour\":[{\"colorbar\":{\"outlinewidth\":0,\"ticks\":\"\"},\"colorscale\":[[0.0,\"#0d0887\"],[0.1111111111111111,\"#46039f\"],[0.2222222222222222,\"#7201a8\"],[0.3333333333333333,\"#9c179e\"],[0.4444444444444444,\"#bd3786\"],[0.5555555555555556,\"#d8576b\"],[0.6666666666666666,\"#ed7953\"],[0.7777777777777778,\"#fb9f3a\"],[0.8888888888888888,\"#fdca26\"],[1.0,\"#f0f921\"]],\"type\":\"contour\"}],\"contourcarpet\":[{\"colorbar\":{\"outlinewidth\":0,\"ticks\":\"\"},\"type\":\"contourcarpet\"}],\"heatmap\":[{\"colorbar\":{\"outlinewidth\":0,\"ticks\":\"\"},\"colorscale\":[[0.0,\"#0d0887\"],[0.1111111111111111,\"#46039f\"],[0.2222222222222222,\"#7201a8\"],[0.3333333333333333,\"#9c179e\"],[0.4444444444444444,\"#bd3786\"],[0.5555555555555556,\"#d8576b\"],[0.6666666666666666,\"#ed7953\"],[0.7777777777777778,\"#fb9f3a\"],[0.8888888888888888,\"#fdca26\"],[1.0,\"#f0f921\"]],\"type\":\"heatmap\"}],\"heatmapgl\":[{\"colorbar\":{\"outlinewidth\":0,\"ticks\":\"\"},\"colorscale\":[[0.0,\"#0d0887\"],[0.1111111111111111,\"#46039f\"],[0.2222222222222222,\"#7201a8\"],[0.3333333333333333,\"#9c179e\"],[0.4444444444444444,\"#bd3786\"],[0.5555555555555556,\"#d8576b\"],[0.6666666666666666,\"#ed7953\"],[0.7777777777777778,\"#fb9f3a\"],[0.8888888888888888,\"#fdca26\"],[1.0,\"#f0f921\"]],\"type\":\"heatmapgl\"}],\"histogram\":[{\"marker\":{\"pattern\":{\"fillmode\":\"overlay\",\"size\":10,\"solidity\":0.2}},\"type\":\"histogram\"}],\"histogram2d\":[{\"colorbar\":{\"outlinewidth\":0,\"ticks\":\"\"},\"colorscale\":[[0.0,\"#0d0887\"],[0.1111111111111111,\"#46039f\"],[0.2222222222222222,\"#7201a8\"],[0.3333333333333333,\"#9c179e\"],[0.4444444444444444,\"#bd3786\"],[0.5555555555555556,\"#d8576b\"],[0.6666666666666666,\"#ed7953\"],[0.7777777777777778,\"#fb9f3a\"],[0.8888888888888888,\"#fdca26\"],[1.0,\"#f0f921\"]],\"type\":\"histogram2d\"}],\"histogram2dcontour\":[{\"colorbar\":{\"outlinewidth\":0,\"ticks\":\"\"},\"colorscale\":[[0.0,\"#0d0887\"],[0.1111111111111111,\"#46039f\"],[0.2222222222222222,\"#7201a8\"],[0.3333333333333333,\"#9c179e\"],[0.4444444444444444,\"#bd3786\"],[0.5555555555555556,\"#d8576b\"],[0.6666666666666666,\"#ed7953\"],[0.7777777777777778,\"#fb9f3a\"],[0.8888888888888888,\"#fdca26\"],[1.0,\"#f0f921\"]],\"type\":\"histogram2dcontour\"}],\"mesh3d\":[{\"colorbar\":{\"outlinewidth\":0,\"ticks\":\"\"},\"type\":\"mesh3d\"}],\"parcoords\":[{\"line\":{\"colorbar\":{\"outlinewidth\":0,\"ticks\":\"\"}},\"type\":\"parcoords\"}],\"pie\":[{\"automargin\":true,\"type\":\"pie\"}],\"scatter\":[{\"marker\":{\"colorbar\":{\"outlinewidth\":0,\"ticks\":\"\"}},\"type\":\"scatter\"}],\"scatter3d\":[{\"line\":{\"colorbar\":{\"outlinewidth\":0,\"ticks\":\"\"}},\"marker\":{\"colorbar\":{\"outlinewidth\":0,\"ticks\":\"\"}},\"type\":\"scatter3d\"}],\"scattercarpet\":[{\"marker\":{\"colorbar\":{\"outlinewidth\":0,\"ticks\":\"\"}},\"type\":\"scattercarpet\"}],\"scattergeo\":[{\"marker\":{\"colorbar\":{\"outlinewidth\":0,\"ticks\":\"\"}},\"type\":\"scattergeo\"}],\"scattergl\":[{\"marker\":{\"colorbar\":{\"outlinewidth\":0,\"ticks\":\"\"}},\"type\":\"scattergl\"}],\"scattermapbox\":[{\"marker\":{\"colorbar\":{\"outlinewidth\":0,\"ticks\":\"\"}},\"type\":\"scattermapbox\"}],\"scatterpolar\":[{\"marker\":{\"colorbar\":{\"outlinewidth\":0,\"ticks\":\"\"}},\"type\":\"scatterpolar\"}],\"scatterpolargl\":[{\"marker\":{\"colorbar\":{\"outlinewidth\":0,\"ticks\":\"\"}},\"type\":\"scatterpolargl\"}],\"scatterternary\":[{\"marker\":{\"colorbar\":{\"outlinewidth\":0,\"ticks\":\"\"}},\"type\":\"scatterternary\"}],\"surface\":[{\"colorbar\":{\"outlinewidth\":0,\"ticks\":\"\"},\"colorscale\":[[0.0,\"#0d0887\"],[0.1111111111111111,\"#46039f\"],[0.2222222222222222,\"#7201a8\"],[0.3333333333333333,\"#9c179e\"],[0.4444444444444444,\"#bd3786\"],[0.5555555555555556,\"#d8576b\"],[0.6666666666666666,\"#ed7953\"],[0.7777777777777778,\"#fb9f3a\"],[0.8888888888888888,\"#fdca26\"],[1.0,\"#f0f921\"]],\"type\":\"surface\"}],\"table\":[{\"cells\":{\"fill\":{\"color\":\"#EBF0F8\"},\"line\":{\"color\":\"white\"}},\"header\":{\"fill\":{\"color\":\"#C8D4E3\"},\"line\":{\"color\":\"white\"}},\"type\":\"table\"}]},\"layout\":{\"annotationdefaults\":{\"arrowcolor\":\"#2a3f5f\",\"arrowhead\":0,\"arrowwidth\":1},\"autotypenumbers\":\"strict\",\"coloraxis\":{\"colorbar\":{\"outlinewidth\":0,\"ticks\":\"\"}},\"colorscale\":{\"diverging\":[[0,\"#8e0152\"],[0.1,\"#c51b7d\"],[0.2,\"#de77ae\"],[0.3,\"#f1b6da\"],[0.4,\"#fde0ef\"],[0.5,\"#f7f7f7\"],[0.6,\"#e6f5d0\"],[0.7,\"#b8e186\"],[0.8,\"#7fbc41\"],[0.9,\"#4d9221\"],[1,\"#276419\"]],\"sequential\":[[0.0,\"#0d0887\"],[0.1111111111111111,\"#46039f\"],[0.2222222222222222,\"#7201a8\"],[0.3333333333333333,\"#9c179e\"],[0.4444444444444444,\"#bd3786\"],[0.5555555555555556,\"#d8576b\"],[0.6666666666666666,\"#ed7953\"],[0.7777777777777778,\"#fb9f3a\"],[0.8888888888888888,\"#fdca26\"],[1.0,\"#f0f921\"]],\"sequentialminus\":[[0.0,\"#0d0887\"],[0.1111111111111111,\"#46039f\"],[0.2222222222222222,\"#7201a8\"],[0.3333333333333333,\"#9c179e\"],[0.4444444444444444,\"#bd3786\"],[0.5555555555555556,\"#d8576b\"],[0.6666666666666666,\"#ed7953\"],[0.7777777777777778,\"#fb9f3a\"],[0.8888888888888888,\"#fdca26\"],[1.0,\"#f0f921\"]]},\"colorway\":[\"#636efa\",\"#EF553B\",\"#00cc96\",\"#ab63fa\",\"#FFA15A\",\"#19d3f3\",\"#FF6692\",\"#B6E880\",\"#FF97FF\",\"#FECB52\"],\"font\":{\"color\":\"#2a3f5f\"},\"geo\":{\"bgcolor\":\"white\",\"lakecolor\":\"white\",\"landcolor\":\"#E5ECF6\",\"showlakes\":true,\"showland\":true,\"subunitcolor\":\"white\"},\"hoverlabel\":{\"align\":\"left\"},\"hovermode\":\"closest\",\"mapbox\":{\"style\":\"light\"},\"paper_bgcolor\":\"white\",\"plot_bgcolor\":\"#E5ECF6\",\"polar\":{\"angularaxis\":{\"gridcolor\":\"white\",\"linecolor\":\"white\",\"ticks\":\"\"},\"bgcolor\":\"#E5ECF6\",\"radialaxis\":{\"gridcolor\":\"white\",\"linecolor\":\"white\",\"ticks\":\"\"}},\"scene\":{\"xaxis\":{\"backgroundcolor\":\"#E5ECF6\",\"gridcolor\":\"white\",\"gridwidth\":2,\"linecolor\":\"white\",\"showbackground\":true,\"ticks\":\"\",\"zerolinecolor\":\"white\"},\"yaxis\":{\"backgroundcolor\":\"#E5ECF6\",\"gridcolor\":\"white\",\"gridwidth\":2,\"linecolor\":\"white\",\"showbackground\":true,\"ticks\":\"\",\"zerolinecolor\":\"white\"},\"zaxis\":{\"backgroundcolor\":\"#E5ECF6\",\"gridcolor\":\"white\",\"gridwidth\":2,\"linecolor\":\"white\",\"showbackground\":true,\"ticks\":\"\",\"zerolinecolor\":\"white\"}},\"shapedefaults\":{\"line\":{\"color\":\"#2a3f5f\"}},\"ternary\":{\"aaxis\":{\"gridcolor\":\"white\",\"linecolor\":\"white\",\"ticks\":\"\"},\"baxis\":{\"gridcolor\":\"white\",\"linecolor\":\"white\",\"ticks\":\"\"},\"bgcolor\":\"#E5ECF6\",\"caxis\":{\"gridcolor\":\"white\",\"linecolor\":\"white\",\"ticks\":\"\"}},\"title\":{\"x\":0.05},\"xaxis\":{\"automargin\":true,\"gridcolor\":\"white\",\"linecolor\":\"white\",\"ticks\":\"\",\"title\":{\"standoff\":15},\"zerolinecolor\":\"white\",\"zerolinewidth\":2},\"yaxis\":{\"automargin\":true,\"gridcolor\":\"white\",\"linecolor\":\"white\",\"ticks\":\"\",\"title\":{\"standoff\":15},\"zerolinecolor\":\"white\",\"zerolinewidth\":2}}},\"xaxis\":{\"anchor\":\"y\",\"domain\":[0.0,1.0],\"title\":{\"text\":\"Education\"},\"categoryorder\":\"array\",\"categoryarray\":[\"21-30\",\"31-40\",\"41-50\",\"51-60\",\"61-70\",\"71-80\",\">80\"]},\"yaxis\":{\"anchor\":\"x\",\"domain\":[0.0,1.0],\"title\":{\"text\":\"Total_Amount_spent\"}},\"legend\":{\"tracegroupgap\":0},\"title\":{\"text\":\"Relationsip Between Education and Total Amount Spent [Average Spent]\"},\"barmode\":\"relative\",\"height\":500,\"annotations\":[{\"font\":{\"color\":\"rgb(66, 99, 236)\",\"family\":\"Arial\",\"size\":14},\"showarrow\":false,\"text\":\"414.0$\",\"x\":\"Graduate\",\"y\":1914.0},{\"font\":{\"color\":\"rgb(66, 99, 236)\",\"family\":\"Arial\",\"size\":14},\"showarrow\":false,\"text\":\"493.0$\",\"x\":\"PhD\",\"y\":1993.0},{\"font\":{\"color\":\"rgb(66, 99, 236)\",\"family\":\"Arial\",\"size\":14},\"showarrow\":false,\"text\":\"387.5$\",\"x\":\"Post_Graduate\",\"y\":1887.5},{\"font\":{\"color\":\"rgb(66, 99, 236)\",\"family\":\"Arial\",\"size\":14},\"showarrow\":false,\"text\":\"198.0$\",\"x\":\"Psot_Graduate\",\"y\":1698.0},{\"font\":{\"color\":\"rgb(66, 99, 236)\",\"family\":\"Arial\",\"size\":14},\"showarrow\":false,\"text\":\"57.0$\",\"x\":\"Under_Graduate\",\"y\":1557.0}]},                        {\"responsive\": true}                    ).then(function(){\n",
              "                            \n",
              "var gd = document.getElementById('2de166e6-03cc-4c6c-9929-f18cc2151586');\n",
              "var x = new MutationObserver(function (mutations, observer) {{\n",
              "        var display = window.getComputedStyle(gd).display;\n",
              "        if (!display || display === 'none') {{\n",
              "            console.log([gd, 'removed!']);\n",
              "            Plotly.purge(gd);\n",
              "            observer.disconnect();\n",
              "        }}\n",
              "}});\n",
              "\n",
              "// Listen for the removal of the full notebook cells\n",
              "var notebookContainer = gd.closest('#notebook-container');\n",
              "if (notebookContainer) {{\n",
              "    x.observe(notebookContainer, {childList: true});\n",
              "}}\n",
              "\n",
              "// Listen for the clearing of the current output cell\n",
              "var outputEl = gd.closest('.output');\n",
              "if (outputEl) {{\n",
              "    x.observe(outputEl, {childList: true});\n",
              "}}\n",
              "\n",
              "                        })                };                            </script>        </div>\n",
              "</body>\n",
              "</html>"
            ]
          },
          "metadata": {}
        }
      ]
    },
    {
      "cell_type": "markdown",
      "source": [
        "`Interesting from the above summary we see that there isn't much difference between average spent for both graduate and Postgradute customer. However we see much drop for customers who have undergraduate level of education. We can postulate that customers who have Graduate education level and above spends approximately 7 times than customers who are undergraduate. That's way too much`."
      ],
      "metadata": {
        "id": "6UZWhOUaDGPX"
      }
    },
    {
      "cell_type": "markdown",
      "source": [
        "**Education VS Income**\n",
        "\n",
        "*Since income is normally disstributed and there are some outliers in it. We will make use of the df_cut dataframe so we can accurately get better conclusion.*"
      ],
      "metadata": {
        "id": "CaV_GGn0DJTn"
      }
    },
    {
      "cell_type": "code",
      "source": [
        "mask = df_cut.groupby(\"Education\")[\"Income\"].mean()\n",
        "mask = mask.reset_index()\n",
        "fig = px.bar(data_frame=mask, x=\"Education\", y=\"Income\", height=500,\n",
        "            title = \"Relationsip Between Customer's Education Level and Income [Average Income]\")\n",
        "\n",
        "annotation = []\n",
        "for x, y in zip(mask[\"Education\"], mask[\"Income\"]):\n",
        "    annotation.append(\n",
        "        dict(x=x, y=y +1500,\n",
        "             text=str(round(y, 2)) + '$',\n",
        "             font=dict(family='Arial', size=14, color='rgb(66, 99, 236)'), showarrow=False)\n",
        "    )\n",
        "fig.update_xaxes(categoryorder='array', categoryarray= order)\n",
        "fig.update_layout(annotations=annotation)\n",
        "\n",
        "fig.show()"
      ],
      "metadata": {
        "colab": {
          "base_uri": "https://localhost:8080/",
          "height": 517
        },
        "id": "ZGq1HLxWDVh9",
        "outputId": "63632071-60a5-48e5-e78d-50521bd380b7"
      },
      "execution_count": 51,
      "outputs": [
        {
          "output_type": "display_data",
          "data": {
            "text/html": [
              "<html>\n",
              "<head><meta charset=\"utf-8\" /></head>\n",
              "<body>\n",
              "    <div>            <script src=\"https://cdnjs.cloudflare.com/ajax/libs/mathjax/2.7.5/MathJax.js?config=TeX-AMS-MML_SVG\"></script><script type=\"text/javascript\">if (window.MathJax) {MathJax.Hub.Config({SVG: {font: \"STIX-Web\"}});}</script>                <script type=\"text/javascript\">window.PlotlyConfig = {MathJaxConfig: 'local'};</script>\n",
              "        <script src=\"https://cdn.plot.ly/plotly-2.8.3.min.js\"></script>                <div id=\"6c99f681-7c8c-49fc-8e5b-c17e6b2381c5\" class=\"plotly-graph-div\" style=\"height:500px; width:100%;\"></div>            <script type=\"text/javascript\">                                    window.PLOTLYENV=window.PLOTLYENV || {};                                    if (document.getElementById(\"6c99f681-7c8c-49fc-8e5b-c17e6b2381c5\")) {                    Plotly.newPlot(                        \"6c99f681-7c8c-49fc-8e5b-c17e6b2381c5\",                        [{\"alignmentgroup\":\"True\",\"hovertemplate\":\"Education=%{x}<br>Income=%{y}<extra></extra>\",\"legendgroup\":\"\",\"marker\":{\"color\":\"#636efa\",\"pattern\":{\"shape\":\"\"}},\"name\":\"\",\"offsetgroup\":\"\",\"orientation\":\"v\",\"showlegend\":false,\"textposition\":\"auto\",\"x\":[\"Graduate\",\"PhD\",\"Post_Graduate\",\"Psot_Graduate\",\"Under_Graduate\"],\"xaxis\":\"x\",\"y\":[51986.584310401864,55248.47563645011,52624.39906983456,47701.37809882449,20306.25925925926],\"yaxis\":\"y\",\"type\":\"bar\"}],                        {\"template\":{\"data\":{\"bar\":[{\"error_x\":{\"color\":\"#2a3f5f\"},\"error_y\":{\"color\":\"#2a3f5f\"},\"marker\":{\"line\":{\"color\":\"#E5ECF6\",\"width\":0.5},\"pattern\":{\"fillmode\":\"overlay\",\"size\":10,\"solidity\":0.2}},\"type\":\"bar\"}],\"barpolar\":[{\"marker\":{\"line\":{\"color\":\"#E5ECF6\",\"width\":0.5},\"pattern\":{\"fillmode\":\"overlay\",\"size\":10,\"solidity\":0.2}},\"type\":\"barpolar\"}],\"carpet\":[{\"aaxis\":{\"endlinecolor\":\"#2a3f5f\",\"gridcolor\":\"white\",\"linecolor\":\"white\",\"minorgridcolor\":\"white\",\"startlinecolor\":\"#2a3f5f\"},\"baxis\":{\"endlinecolor\":\"#2a3f5f\",\"gridcolor\":\"white\",\"linecolor\":\"white\",\"minorgridcolor\":\"white\",\"startlinecolor\":\"#2a3f5f\"},\"type\":\"carpet\"}],\"choropleth\":[{\"colorbar\":{\"outlinewidth\":0,\"ticks\":\"\"},\"type\":\"choropleth\"}],\"contour\":[{\"colorbar\":{\"outlinewidth\":0,\"ticks\":\"\"},\"colorscale\":[[0.0,\"#0d0887\"],[0.1111111111111111,\"#46039f\"],[0.2222222222222222,\"#7201a8\"],[0.3333333333333333,\"#9c179e\"],[0.4444444444444444,\"#bd3786\"],[0.5555555555555556,\"#d8576b\"],[0.6666666666666666,\"#ed7953\"],[0.7777777777777778,\"#fb9f3a\"],[0.8888888888888888,\"#fdca26\"],[1.0,\"#f0f921\"]],\"type\":\"contour\"}],\"contourcarpet\":[{\"colorbar\":{\"outlinewidth\":0,\"ticks\":\"\"},\"type\":\"contourcarpet\"}],\"heatmap\":[{\"colorbar\":{\"outlinewidth\":0,\"ticks\":\"\"},\"colorscale\":[[0.0,\"#0d0887\"],[0.1111111111111111,\"#46039f\"],[0.2222222222222222,\"#7201a8\"],[0.3333333333333333,\"#9c179e\"],[0.4444444444444444,\"#bd3786\"],[0.5555555555555556,\"#d8576b\"],[0.6666666666666666,\"#ed7953\"],[0.7777777777777778,\"#fb9f3a\"],[0.8888888888888888,\"#fdca26\"],[1.0,\"#f0f921\"]],\"type\":\"heatmap\"}],\"heatmapgl\":[{\"colorbar\":{\"outlinewidth\":0,\"ticks\":\"\"},\"colorscale\":[[0.0,\"#0d0887\"],[0.1111111111111111,\"#46039f\"],[0.2222222222222222,\"#7201a8\"],[0.3333333333333333,\"#9c179e\"],[0.4444444444444444,\"#bd3786\"],[0.5555555555555556,\"#d8576b\"],[0.6666666666666666,\"#ed7953\"],[0.7777777777777778,\"#fb9f3a\"],[0.8888888888888888,\"#fdca26\"],[1.0,\"#f0f921\"]],\"type\":\"heatmapgl\"}],\"histogram\":[{\"marker\":{\"pattern\":{\"fillmode\":\"overlay\",\"size\":10,\"solidity\":0.2}},\"type\":\"histogram\"}],\"histogram2d\":[{\"colorbar\":{\"outlinewidth\":0,\"ticks\":\"\"},\"colorscale\":[[0.0,\"#0d0887\"],[0.1111111111111111,\"#46039f\"],[0.2222222222222222,\"#7201a8\"],[0.3333333333333333,\"#9c179e\"],[0.4444444444444444,\"#bd3786\"],[0.5555555555555556,\"#d8576b\"],[0.6666666666666666,\"#ed7953\"],[0.7777777777777778,\"#fb9f3a\"],[0.8888888888888888,\"#fdca26\"],[1.0,\"#f0f921\"]],\"type\":\"histogram2d\"}],\"histogram2dcontour\":[{\"colorbar\":{\"outlinewidth\":0,\"ticks\":\"\"},\"colorscale\":[[0.0,\"#0d0887\"],[0.1111111111111111,\"#46039f\"],[0.2222222222222222,\"#7201a8\"],[0.3333333333333333,\"#9c179e\"],[0.4444444444444444,\"#bd3786\"],[0.5555555555555556,\"#d8576b\"],[0.6666666666666666,\"#ed7953\"],[0.7777777777777778,\"#fb9f3a\"],[0.8888888888888888,\"#fdca26\"],[1.0,\"#f0f921\"]],\"type\":\"histogram2dcontour\"}],\"mesh3d\":[{\"colorbar\":{\"outlinewidth\":0,\"ticks\":\"\"},\"type\":\"mesh3d\"}],\"parcoords\":[{\"line\":{\"colorbar\":{\"outlinewidth\":0,\"ticks\":\"\"}},\"type\":\"parcoords\"}],\"pie\":[{\"automargin\":true,\"type\":\"pie\"}],\"scatter\":[{\"marker\":{\"colorbar\":{\"outlinewidth\":0,\"ticks\":\"\"}},\"type\":\"scatter\"}],\"scatter3d\":[{\"line\":{\"colorbar\":{\"outlinewidth\":0,\"ticks\":\"\"}},\"marker\":{\"colorbar\":{\"outlinewidth\":0,\"ticks\":\"\"}},\"type\":\"scatter3d\"}],\"scattercarpet\":[{\"marker\":{\"colorbar\":{\"outlinewidth\":0,\"ticks\":\"\"}},\"type\":\"scattercarpet\"}],\"scattergeo\":[{\"marker\":{\"colorbar\":{\"outlinewidth\":0,\"ticks\":\"\"}},\"type\":\"scattergeo\"}],\"scattergl\":[{\"marker\":{\"colorbar\":{\"outlinewidth\":0,\"ticks\":\"\"}},\"type\":\"scattergl\"}],\"scattermapbox\":[{\"marker\":{\"colorbar\":{\"outlinewidth\":0,\"ticks\":\"\"}},\"type\":\"scattermapbox\"}],\"scatterpolar\":[{\"marker\":{\"colorbar\":{\"outlinewidth\":0,\"ticks\":\"\"}},\"type\":\"scatterpolar\"}],\"scatterpolargl\":[{\"marker\":{\"colorbar\":{\"outlinewidth\":0,\"ticks\":\"\"}},\"type\":\"scatterpolargl\"}],\"scatterternary\":[{\"marker\":{\"colorbar\":{\"outlinewidth\":0,\"ticks\":\"\"}},\"type\":\"scatterternary\"}],\"surface\":[{\"colorbar\":{\"outlinewidth\":0,\"ticks\":\"\"},\"colorscale\":[[0.0,\"#0d0887\"],[0.1111111111111111,\"#46039f\"],[0.2222222222222222,\"#7201a8\"],[0.3333333333333333,\"#9c179e\"],[0.4444444444444444,\"#bd3786\"],[0.5555555555555556,\"#d8576b\"],[0.6666666666666666,\"#ed7953\"],[0.7777777777777778,\"#fb9f3a\"],[0.8888888888888888,\"#fdca26\"],[1.0,\"#f0f921\"]],\"type\":\"surface\"}],\"table\":[{\"cells\":{\"fill\":{\"color\":\"#EBF0F8\"},\"line\":{\"color\":\"white\"}},\"header\":{\"fill\":{\"color\":\"#C8D4E3\"},\"line\":{\"color\":\"white\"}},\"type\":\"table\"}]},\"layout\":{\"annotationdefaults\":{\"arrowcolor\":\"#2a3f5f\",\"arrowhead\":0,\"arrowwidth\":1},\"autotypenumbers\":\"strict\",\"coloraxis\":{\"colorbar\":{\"outlinewidth\":0,\"ticks\":\"\"}},\"colorscale\":{\"diverging\":[[0,\"#8e0152\"],[0.1,\"#c51b7d\"],[0.2,\"#de77ae\"],[0.3,\"#f1b6da\"],[0.4,\"#fde0ef\"],[0.5,\"#f7f7f7\"],[0.6,\"#e6f5d0\"],[0.7,\"#b8e186\"],[0.8,\"#7fbc41\"],[0.9,\"#4d9221\"],[1,\"#276419\"]],\"sequential\":[[0.0,\"#0d0887\"],[0.1111111111111111,\"#46039f\"],[0.2222222222222222,\"#7201a8\"],[0.3333333333333333,\"#9c179e\"],[0.4444444444444444,\"#bd3786\"],[0.5555555555555556,\"#d8576b\"],[0.6666666666666666,\"#ed7953\"],[0.7777777777777778,\"#fb9f3a\"],[0.8888888888888888,\"#fdca26\"],[1.0,\"#f0f921\"]],\"sequentialminus\":[[0.0,\"#0d0887\"],[0.1111111111111111,\"#46039f\"],[0.2222222222222222,\"#7201a8\"],[0.3333333333333333,\"#9c179e\"],[0.4444444444444444,\"#bd3786\"],[0.5555555555555556,\"#d8576b\"],[0.6666666666666666,\"#ed7953\"],[0.7777777777777778,\"#fb9f3a\"],[0.8888888888888888,\"#fdca26\"],[1.0,\"#f0f921\"]]},\"colorway\":[\"#636efa\",\"#EF553B\",\"#00cc96\",\"#ab63fa\",\"#FFA15A\",\"#19d3f3\",\"#FF6692\",\"#B6E880\",\"#FF97FF\",\"#FECB52\"],\"font\":{\"color\":\"#2a3f5f\"},\"geo\":{\"bgcolor\":\"white\",\"lakecolor\":\"white\",\"landcolor\":\"#E5ECF6\",\"showlakes\":true,\"showland\":true,\"subunitcolor\":\"white\"},\"hoverlabel\":{\"align\":\"left\"},\"hovermode\":\"closest\",\"mapbox\":{\"style\":\"light\"},\"paper_bgcolor\":\"white\",\"plot_bgcolor\":\"#E5ECF6\",\"polar\":{\"angularaxis\":{\"gridcolor\":\"white\",\"linecolor\":\"white\",\"ticks\":\"\"},\"bgcolor\":\"#E5ECF6\",\"radialaxis\":{\"gridcolor\":\"white\",\"linecolor\":\"white\",\"ticks\":\"\"}},\"scene\":{\"xaxis\":{\"backgroundcolor\":\"#E5ECF6\",\"gridcolor\":\"white\",\"gridwidth\":2,\"linecolor\":\"white\",\"showbackground\":true,\"ticks\":\"\",\"zerolinecolor\":\"white\"},\"yaxis\":{\"backgroundcolor\":\"#E5ECF6\",\"gridcolor\":\"white\",\"gridwidth\":2,\"linecolor\":\"white\",\"showbackground\":true,\"ticks\":\"\",\"zerolinecolor\":\"white\"},\"zaxis\":{\"backgroundcolor\":\"#E5ECF6\",\"gridcolor\":\"white\",\"gridwidth\":2,\"linecolor\":\"white\",\"showbackground\":true,\"ticks\":\"\",\"zerolinecolor\":\"white\"}},\"shapedefaults\":{\"line\":{\"color\":\"#2a3f5f\"}},\"ternary\":{\"aaxis\":{\"gridcolor\":\"white\",\"linecolor\":\"white\",\"ticks\":\"\"},\"baxis\":{\"gridcolor\":\"white\",\"linecolor\":\"white\",\"ticks\":\"\"},\"bgcolor\":\"#E5ECF6\",\"caxis\":{\"gridcolor\":\"white\",\"linecolor\":\"white\",\"ticks\":\"\"}},\"title\":{\"x\":0.05},\"xaxis\":{\"automargin\":true,\"gridcolor\":\"white\",\"linecolor\":\"white\",\"ticks\":\"\",\"title\":{\"standoff\":15},\"zerolinecolor\":\"white\",\"zerolinewidth\":2},\"yaxis\":{\"automargin\":true,\"gridcolor\":\"white\",\"linecolor\":\"white\",\"ticks\":\"\",\"title\":{\"standoff\":15},\"zerolinecolor\":\"white\",\"zerolinewidth\":2}}},\"xaxis\":{\"anchor\":\"y\",\"domain\":[0.0,1.0],\"title\":{\"text\":\"Education\"},\"categoryorder\":\"array\",\"categoryarray\":[\"21-30\",\"31-40\",\"41-50\",\"51-60\",\"61-70\",\"71-80\",\">80\"]},\"yaxis\":{\"anchor\":\"x\",\"domain\":[0.0,1.0],\"title\":{\"text\":\"Income\"}},\"legend\":{\"tracegroupgap\":0},\"title\":{\"text\":\"Relationsip Between Customer's Education Level and Income [Average Income]\"},\"barmode\":\"relative\",\"height\":500,\"annotations\":[{\"font\":{\"color\":\"rgb(66, 99, 236)\",\"family\":\"Arial\",\"size\":14},\"showarrow\":false,\"text\":\"51986.58$\",\"x\":\"Graduate\",\"y\":53486.584310401864},{\"font\":{\"color\":\"rgb(66, 99, 236)\",\"family\":\"Arial\",\"size\":14},\"showarrow\":false,\"text\":\"55248.48$\",\"x\":\"PhD\",\"y\":56748.47563645011},{\"font\":{\"color\":\"rgb(66, 99, 236)\",\"family\":\"Arial\",\"size\":14},\"showarrow\":false,\"text\":\"52624.4$\",\"x\":\"Post_Graduate\",\"y\":54124.39906983456},{\"font\":{\"color\":\"rgb(66, 99, 236)\",\"family\":\"Arial\",\"size\":14},\"showarrow\":false,\"text\":\"47701.38$\",\"x\":\"Psot_Graduate\",\"y\":49201.37809882449},{\"font\":{\"color\":\"rgb(66, 99, 236)\",\"family\":\"Arial\",\"size\":14},\"showarrow\":false,\"text\":\"20306.26$\",\"x\":\"Under_Graduate\",\"y\":21806.25925925926}]},                        {\"responsive\": true}                    ).then(function(){\n",
              "                            \n",
              "var gd = document.getElementById('6c99f681-7c8c-49fc-8e5b-c17e6b2381c5');\n",
              "var x = new MutationObserver(function (mutations, observer) {{\n",
              "        var display = window.getComputedStyle(gd).display;\n",
              "        if (!display || display === 'none') {{\n",
              "            console.log([gd, 'removed!']);\n",
              "            Plotly.purge(gd);\n",
              "            observer.disconnect();\n",
              "        }}\n",
              "}});\n",
              "\n",
              "// Listen for the removal of the full notebook cells\n",
              "var notebookContainer = gd.closest('#notebook-container');\n",
              "if (notebookContainer) {{\n",
              "    x.observe(notebookContainer, {childList: true});\n",
              "}}\n",
              "\n",
              "// Listen for the clearing of the current output cell\n",
              "var outputEl = gd.closest('.output');\n",
              "if (outputEl) {{\n",
              "    x.observe(outputEl, {childList: true});\n",
              "}}\n",
              "\n",
              "                        })                };                            </script>        </div>\n",
              "</body>\n",
              "</html>"
            ]
          },
          "metadata": {}
        }
      ]
    },
    {
      "cell_type": "markdown",
      "source": [
        "`We can see from the above summary that Customers with Graduate and Post graduate education level earns 2 times above than customers who have undergraduate education level`."
      ],
      "metadata": {
        "id": "LeE-5q2dDiHN"
      }
    },
    {
      "cell_type": "code",
      "source": [
        "df2.head()"
      ],
      "metadata": {
        "colab": {
          "base_uri": "https://localhost:8080/",
          "height": 299
        },
        "id": "pYRivg-4FFg7",
        "outputId": "e5baea98-a872-4d2b-ba99-8ad4a1e25403"
      },
      "execution_count": 52,
      "outputs": [
        {
          "output_type": "execute_result",
          "data": {
            "text/plain": [
              "    Income    ID  Year_Birth Education Marital_Status  Kidhome  Teenhome  \\\n",
              "0  58138.0  5524        1957  Graduate         Single        0         0   \n",
              "1  46344.0  2174        1954  Graduate         Single        1         1   \n",
              "2  71613.0  4141        1965  Graduate        Married        0         0   \n",
              "3  26646.0  6182        1984  Graduate        Married        1         0   \n",
              "4  58293.0  5324        1981       PhD        Married        1         0   \n",
              "\n",
              "  Dt_Customer  Recency  MntWines  ...  AcceptedCmp1  AcceptedCmp2  Complain  \\\n",
              "0    4/9/2012       58       635  ...             0             0         0   \n",
              "1    8/3/2014       38        11  ...             0             0         0   \n",
              "2  21-08-2013       26       426  ...             0             0         0   \n",
              "3   10/2/2014       26        11  ...             0             0         0   \n",
              "4  19-01-2014       94       173  ...             0             0         0   \n",
              "\n",
              "   Z_CostContact  Z_Revenue  Response  Total_Amount_spent  Age  \\\n",
              "0              3         11         1                1617   66   \n",
              "1              3         11         0                  27   69   \n",
              "2              3         11         0                 776   58   \n",
              "3              3         11         0                  53   39   \n",
              "4              3         11         0                 422   42   \n",
              "\n",
              "   Total_Children  Age_group  \n",
              "0               0      61-70  \n",
              "1               2      61-70  \n",
              "2               0      51-60  \n",
              "3               1      31-40  \n",
              "4               1      41-50  \n",
              "\n",
              "[5 rows x 33 columns]"
            ],
            "text/html": [
              "\n",
              "  <div id=\"df-18a877cf-fd04-4f7a-b2a4-8078b9aaa379\">\n",
              "    <div class=\"colab-df-container\">\n",
              "      <div>\n",
              "<style scoped>\n",
              "    .dataframe tbody tr th:only-of-type {\n",
              "        vertical-align: middle;\n",
              "    }\n",
              "\n",
              "    .dataframe tbody tr th {\n",
              "        vertical-align: top;\n",
              "    }\n",
              "\n",
              "    .dataframe thead th {\n",
              "        text-align: right;\n",
              "    }\n",
              "</style>\n",
              "<table border=\"1\" class=\"dataframe\">\n",
              "  <thead>\n",
              "    <tr style=\"text-align: right;\">\n",
              "      <th></th>\n",
              "      <th>Income</th>\n",
              "      <th>ID</th>\n",
              "      <th>Year_Birth</th>\n",
              "      <th>Education</th>\n",
              "      <th>Marital_Status</th>\n",
              "      <th>Kidhome</th>\n",
              "      <th>Teenhome</th>\n",
              "      <th>Dt_Customer</th>\n",
              "      <th>Recency</th>\n",
              "      <th>MntWines</th>\n",
              "      <th>...</th>\n",
              "      <th>AcceptedCmp1</th>\n",
              "      <th>AcceptedCmp2</th>\n",
              "      <th>Complain</th>\n",
              "      <th>Z_CostContact</th>\n",
              "      <th>Z_Revenue</th>\n",
              "      <th>Response</th>\n",
              "      <th>Total_Amount_spent</th>\n",
              "      <th>Age</th>\n",
              "      <th>Total_Children</th>\n",
              "      <th>Age_group</th>\n",
              "    </tr>\n",
              "  </thead>\n",
              "  <tbody>\n",
              "    <tr>\n",
              "      <th>0</th>\n",
              "      <td>58138.0</td>\n",
              "      <td>5524</td>\n",
              "      <td>1957</td>\n",
              "      <td>Graduate</td>\n",
              "      <td>Single</td>\n",
              "      <td>0</td>\n",
              "      <td>0</td>\n",
              "      <td>4/9/2012</td>\n",
              "      <td>58</td>\n",
              "      <td>635</td>\n",
              "      <td>...</td>\n",
              "      <td>0</td>\n",
              "      <td>0</td>\n",
              "      <td>0</td>\n",
              "      <td>3</td>\n",
              "      <td>11</td>\n",
              "      <td>1</td>\n",
              "      <td>1617</td>\n",
              "      <td>66</td>\n",
              "      <td>0</td>\n",
              "      <td>61-70</td>\n",
              "    </tr>\n",
              "    <tr>\n",
              "      <th>1</th>\n",
              "      <td>46344.0</td>\n",
              "      <td>2174</td>\n",
              "      <td>1954</td>\n",
              "      <td>Graduate</td>\n",
              "      <td>Single</td>\n",
              "      <td>1</td>\n",
              "      <td>1</td>\n",
              "      <td>8/3/2014</td>\n",
              "      <td>38</td>\n",
              "      <td>11</td>\n",
              "      <td>...</td>\n",
              "      <td>0</td>\n",
              "      <td>0</td>\n",
              "      <td>0</td>\n",
              "      <td>3</td>\n",
              "      <td>11</td>\n",
              "      <td>0</td>\n",
              "      <td>27</td>\n",
              "      <td>69</td>\n",
              "      <td>2</td>\n",
              "      <td>61-70</td>\n",
              "    </tr>\n",
              "    <tr>\n",
              "      <th>2</th>\n",
              "      <td>71613.0</td>\n",
              "      <td>4141</td>\n",
              "      <td>1965</td>\n",
              "      <td>Graduate</td>\n",
              "      <td>Married</td>\n",
              "      <td>0</td>\n",
              "      <td>0</td>\n",
              "      <td>21-08-2013</td>\n",
              "      <td>26</td>\n",
              "      <td>426</td>\n",
              "      <td>...</td>\n",
              "      <td>0</td>\n",
              "      <td>0</td>\n",
              "      <td>0</td>\n",
              "      <td>3</td>\n",
              "      <td>11</td>\n",
              "      <td>0</td>\n",
              "      <td>776</td>\n",
              "      <td>58</td>\n",
              "      <td>0</td>\n",
              "      <td>51-60</td>\n",
              "    </tr>\n",
              "    <tr>\n",
              "      <th>3</th>\n",
              "      <td>26646.0</td>\n",
              "      <td>6182</td>\n",
              "      <td>1984</td>\n",
              "      <td>Graduate</td>\n",
              "      <td>Married</td>\n",
              "      <td>1</td>\n",
              "      <td>0</td>\n",
              "      <td>10/2/2014</td>\n",
              "      <td>26</td>\n",
              "      <td>11</td>\n",
              "      <td>...</td>\n",
              "      <td>0</td>\n",
              "      <td>0</td>\n",
              "      <td>0</td>\n",
              "      <td>3</td>\n",
              "      <td>11</td>\n",
              "      <td>0</td>\n",
              "      <td>53</td>\n",
              "      <td>39</td>\n",
              "      <td>1</td>\n",
              "      <td>31-40</td>\n",
              "    </tr>\n",
              "    <tr>\n",
              "      <th>4</th>\n",
              "      <td>58293.0</td>\n",
              "      <td>5324</td>\n",
              "      <td>1981</td>\n",
              "      <td>PhD</td>\n",
              "      <td>Married</td>\n",
              "      <td>1</td>\n",
              "      <td>0</td>\n",
              "      <td>19-01-2014</td>\n",
              "      <td>94</td>\n",
              "      <td>173</td>\n",
              "      <td>...</td>\n",
              "      <td>0</td>\n",
              "      <td>0</td>\n",
              "      <td>0</td>\n",
              "      <td>3</td>\n",
              "      <td>11</td>\n",
              "      <td>0</td>\n",
              "      <td>422</td>\n",
              "      <td>42</td>\n",
              "      <td>1</td>\n",
              "      <td>41-50</td>\n",
              "    </tr>\n",
              "  </tbody>\n",
              "</table>\n",
              "<p>5 rows × 33 columns</p>\n",
              "</div>\n",
              "      <button class=\"colab-df-convert\" onclick=\"convertToInteractive('df-18a877cf-fd04-4f7a-b2a4-8078b9aaa379')\"\n",
              "              title=\"Convert this dataframe to an interactive table.\"\n",
              "              style=\"display:none;\">\n",
              "        \n",
              "  <svg xmlns=\"http://www.w3.org/2000/svg\" height=\"24px\"viewBox=\"0 0 24 24\"\n",
              "       width=\"24px\">\n",
              "    <path d=\"M0 0h24v24H0V0z\" fill=\"none\"/>\n",
              "    <path d=\"M18.56 5.44l.94 2.06.94-2.06 2.06-.94-2.06-.94-.94-2.06-.94 2.06-2.06.94zm-11 1L8.5 8.5l.94-2.06 2.06-.94-2.06-.94L8.5 2.5l-.94 2.06-2.06.94zm10 10l.94 2.06.94-2.06 2.06-.94-2.06-.94-.94-2.06-.94 2.06-2.06.94z\"/><path d=\"M17.41 7.96l-1.37-1.37c-.4-.4-.92-.59-1.43-.59-.52 0-1.04.2-1.43.59L10.3 9.45l-7.72 7.72c-.78.78-.78 2.05 0 2.83L4 21.41c.39.39.9.59 1.41.59.51 0 1.02-.2 1.41-.59l7.78-7.78 2.81-2.81c.8-.78.8-2.07 0-2.86zM5.41 20L4 18.59l7.72-7.72 1.47 1.35L5.41 20z\"/>\n",
              "  </svg>\n",
              "      </button>\n",
              "      \n",
              "  <style>\n",
              "    .colab-df-container {\n",
              "      display:flex;\n",
              "      flex-wrap:wrap;\n",
              "      gap: 12px;\n",
              "    }\n",
              "\n",
              "    .colab-df-convert {\n",
              "      background-color: #E8F0FE;\n",
              "      border: none;\n",
              "      border-radius: 50%;\n",
              "      cursor: pointer;\n",
              "      display: none;\n",
              "      fill: #1967D2;\n",
              "      height: 32px;\n",
              "      padding: 0 0 0 0;\n",
              "      width: 32px;\n",
              "    }\n",
              "\n",
              "    .colab-df-convert:hover {\n",
              "      background-color: #E2EBFA;\n",
              "      box-shadow: 0px 1px 2px rgba(60, 64, 67, 0.3), 0px 1px 3px 1px rgba(60, 64, 67, 0.15);\n",
              "      fill: #174EA6;\n",
              "    }\n",
              "\n",
              "    [theme=dark] .colab-df-convert {\n",
              "      background-color: #3B4455;\n",
              "      fill: #D2E3FC;\n",
              "    }\n",
              "\n",
              "    [theme=dark] .colab-df-convert:hover {\n",
              "      background-color: #434B5C;\n",
              "      box-shadow: 0px 1px 3px 1px rgba(0, 0, 0, 0.15);\n",
              "      filter: drop-shadow(0px 1px 2px rgba(0, 0, 0, 0.3));\n",
              "      fill: #FFFFFF;\n",
              "    }\n",
              "  </style>\n",
              "\n",
              "      <script>\n",
              "        const buttonEl =\n",
              "          document.querySelector('#df-18a877cf-fd04-4f7a-b2a4-8078b9aaa379 button.colab-df-convert');\n",
              "        buttonEl.style.display =\n",
              "          google.colab.kernel.accessAllowed ? 'block' : 'none';\n",
              "\n",
              "        async function convertToInteractive(key) {\n",
              "          const element = document.querySelector('#df-18a877cf-fd04-4f7a-b2a4-8078b9aaa379');\n",
              "          const dataTable =\n",
              "            await google.colab.kernel.invokeFunction('convertToInteractive',\n",
              "                                                     [key], {});\n",
              "          if (!dataTable) return;\n",
              "\n",
              "          const docLinkHtml = 'Like what you see? Visit the ' +\n",
              "            '<a target=\"_blank\" href=https://colab.research.google.com/notebooks/data_table.ipynb>data table notebook</a>'\n",
              "            + ' to learn more about interactive tables.';\n",
              "          element.innerHTML = '';\n",
              "          dataTable['output_type'] = 'display_data';\n",
              "          await google.colab.output.renderOutput(dataTable, element);\n",
              "          const docLink = document.createElement('div');\n",
              "          docLink.innerHTML = docLinkHtml;\n",
              "          element.appendChild(docLink);\n",
              "        }\n",
              "      </script>\n",
              "    </div>\n",
              "  </div>\n",
              "  "
            ]
          },
          "metadata": {},
          "execution_count": 52
        }
      ]
    },
    {
      "cell_type": "markdown",
      "source": [
        "**Marital and Total Amount**"
      ],
      "metadata": {
        "id": "OgY98_n0DlN9"
      }
    },
    {
      "cell_type": "code",
      "source": [
        "mask  = df2.groupby('Marital_Status')['Total_Amount_spent'].median()\n",
        "mask = mask.reset_index()\n",
        "fig = px.bar(data_frame = mask, x = 'Marital_Status', y  = 'Total_Amount_spent', height= 500,title =\"Relationship between Customer's Marital Status and Total Amuont Spent [Average Spent]\")\n",
        "\n",
        "annotation = []\n",
        "for x,y in zip(mask['Marital_Status'],mask['Total_Amount_spent']):\n",
        "  annotation.append(\n",
        "      dict(x =x,y = y + 50,\n",
        "      text=str(round(y, 2)) + '$',\n",
        "      font=dict(family='Arial', size=14, color='rgb(66, 99, 236)'), showarrow=False)\n",
        "  )\n",
        "\n",
        "fig.update_xaxes(categoryorder='array', categoryarray= order)\n",
        "fig.update_layout(annotations=annotation)\n",
        "\n",
        "fig.show()\n"
      ],
      "metadata": {
        "colab": {
          "base_uri": "https://localhost:8080/",
          "height": 517
        },
        "id": "QxYRB07wDk0D",
        "outputId": "2e5bf639-458a-4702-fa6e-3900f23b8f89"
      },
      "execution_count": 53,
      "outputs": [
        {
          "output_type": "display_data",
          "data": {
            "text/html": [
              "<html>\n",
              "<head><meta charset=\"utf-8\" /></head>\n",
              "<body>\n",
              "    <div>            <script src=\"https://cdnjs.cloudflare.com/ajax/libs/mathjax/2.7.5/MathJax.js?config=TeX-AMS-MML_SVG\"></script><script type=\"text/javascript\">if (window.MathJax) {MathJax.Hub.Config({SVG: {font: \"STIX-Web\"}});}</script>                <script type=\"text/javascript\">window.PlotlyConfig = {MathJaxConfig: 'local'};</script>\n",
              "        <script src=\"https://cdn.plot.ly/plotly-2.8.3.min.js\"></script>                <div id=\"7f8ad5d9-9e8b-4a3f-b7a3-32082e3a1e43\" class=\"plotly-graph-div\" style=\"height:500px; width:100%;\"></div>            <script type=\"text/javascript\">                                    window.PLOTLYENV=window.PLOTLYENV || {};                                    if (document.getElementById(\"7f8ad5d9-9e8b-4a3f-b7a3-32082e3a1e43\")) {                    Plotly.newPlot(                        \"7f8ad5d9-9e8b-4a3f-b7a3-32082e3a1e43\",                        [{\"alignmentgroup\":\"True\",\"hovertemplate\":\"Marital_Status=%{x}<br>Total_Amount_spent=%{y}<extra></extra>\",\"legendgroup\":\"\",\"marker\":{\"color\":\"#636efa\",\"pattern\":{\"shape\":\"\"}},\"name\":\"\",\"offsetgroup\":\"\",\"orientation\":\"v\",\"showlegend\":false,\"textposition\":\"auto\",\"x\":[\"Married\",\"Single\"],\"xaxis\":\"x\",\"y\":[395.5,397.0],\"yaxis\":\"y\",\"type\":\"bar\"}],                        {\"template\":{\"data\":{\"bar\":[{\"error_x\":{\"color\":\"#2a3f5f\"},\"error_y\":{\"color\":\"#2a3f5f\"},\"marker\":{\"line\":{\"color\":\"#E5ECF6\",\"width\":0.5},\"pattern\":{\"fillmode\":\"overlay\",\"size\":10,\"solidity\":0.2}},\"type\":\"bar\"}],\"barpolar\":[{\"marker\":{\"line\":{\"color\":\"#E5ECF6\",\"width\":0.5},\"pattern\":{\"fillmode\":\"overlay\",\"size\":10,\"solidity\":0.2}},\"type\":\"barpolar\"}],\"carpet\":[{\"aaxis\":{\"endlinecolor\":\"#2a3f5f\",\"gridcolor\":\"white\",\"linecolor\":\"white\",\"minorgridcolor\":\"white\",\"startlinecolor\":\"#2a3f5f\"},\"baxis\":{\"endlinecolor\":\"#2a3f5f\",\"gridcolor\":\"white\",\"linecolor\":\"white\",\"minorgridcolor\":\"white\",\"startlinecolor\":\"#2a3f5f\"},\"type\":\"carpet\"}],\"choropleth\":[{\"colorbar\":{\"outlinewidth\":0,\"ticks\":\"\"},\"type\":\"choropleth\"}],\"contour\":[{\"colorbar\":{\"outlinewidth\":0,\"ticks\":\"\"},\"colorscale\":[[0.0,\"#0d0887\"],[0.1111111111111111,\"#46039f\"],[0.2222222222222222,\"#7201a8\"],[0.3333333333333333,\"#9c179e\"],[0.4444444444444444,\"#bd3786\"],[0.5555555555555556,\"#d8576b\"],[0.6666666666666666,\"#ed7953\"],[0.7777777777777778,\"#fb9f3a\"],[0.8888888888888888,\"#fdca26\"],[1.0,\"#f0f921\"]],\"type\":\"contour\"}],\"contourcarpet\":[{\"colorbar\":{\"outlinewidth\":0,\"ticks\":\"\"},\"type\":\"contourcarpet\"}],\"heatmap\":[{\"colorbar\":{\"outlinewidth\":0,\"ticks\":\"\"},\"colorscale\":[[0.0,\"#0d0887\"],[0.1111111111111111,\"#46039f\"],[0.2222222222222222,\"#7201a8\"],[0.3333333333333333,\"#9c179e\"],[0.4444444444444444,\"#bd3786\"],[0.5555555555555556,\"#d8576b\"],[0.6666666666666666,\"#ed7953\"],[0.7777777777777778,\"#fb9f3a\"],[0.8888888888888888,\"#fdca26\"],[1.0,\"#f0f921\"]],\"type\":\"heatmap\"}],\"heatmapgl\":[{\"colorbar\":{\"outlinewidth\":0,\"ticks\":\"\"},\"colorscale\":[[0.0,\"#0d0887\"],[0.1111111111111111,\"#46039f\"],[0.2222222222222222,\"#7201a8\"],[0.3333333333333333,\"#9c179e\"],[0.4444444444444444,\"#bd3786\"],[0.5555555555555556,\"#d8576b\"],[0.6666666666666666,\"#ed7953\"],[0.7777777777777778,\"#fb9f3a\"],[0.8888888888888888,\"#fdca26\"],[1.0,\"#f0f921\"]],\"type\":\"heatmapgl\"}],\"histogram\":[{\"marker\":{\"pattern\":{\"fillmode\":\"overlay\",\"size\":10,\"solidity\":0.2}},\"type\":\"histogram\"}],\"histogram2d\":[{\"colorbar\":{\"outlinewidth\":0,\"ticks\":\"\"},\"colorscale\":[[0.0,\"#0d0887\"],[0.1111111111111111,\"#46039f\"],[0.2222222222222222,\"#7201a8\"],[0.3333333333333333,\"#9c179e\"],[0.4444444444444444,\"#bd3786\"],[0.5555555555555556,\"#d8576b\"],[0.6666666666666666,\"#ed7953\"],[0.7777777777777778,\"#fb9f3a\"],[0.8888888888888888,\"#fdca26\"],[1.0,\"#f0f921\"]],\"type\":\"histogram2d\"}],\"histogram2dcontour\":[{\"colorbar\":{\"outlinewidth\":0,\"ticks\":\"\"},\"colorscale\":[[0.0,\"#0d0887\"],[0.1111111111111111,\"#46039f\"],[0.2222222222222222,\"#7201a8\"],[0.3333333333333333,\"#9c179e\"],[0.4444444444444444,\"#bd3786\"],[0.5555555555555556,\"#d8576b\"],[0.6666666666666666,\"#ed7953\"],[0.7777777777777778,\"#fb9f3a\"],[0.8888888888888888,\"#fdca26\"],[1.0,\"#f0f921\"]],\"type\":\"histogram2dcontour\"}],\"mesh3d\":[{\"colorbar\":{\"outlinewidth\":0,\"ticks\":\"\"},\"type\":\"mesh3d\"}],\"parcoords\":[{\"line\":{\"colorbar\":{\"outlinewidth\":0,\"ticks\":\"\"}},\"type\":\"parcoords\"}],\"pie\":[{\"automargin\":true,\"type\":\"pie\"}],\"scatter\":[{\"marker\":{\"colorbar\":{\"outlinewidth\":0,\"ticks\":\"\"}},\"type\":\"scatter\"}],\"scatter3d\":[{\"line\":{\"colorbar\":{\"outlinewidth\":0,\"ticks\":\"\"}},\"marker\":{\"colorbar\":{\"outlinewidth\":0,\"ticks\":\"\"}},\"type\":\"scatter3d\"}],\"scattercarpet\":[{\"marker\":{\"colorbar\":{\"outlinewidth\":0,\"ticks\":\"\"}},\"type\":\"scattercarpet\"}],\"scattergeo\":[{\"marker\":{\"colorbar\":{\"outlinewidth\":0,\"ticks\":\"\"}},\"type\":\"scattergeo\"}],\"scattergl\":[{\"marker\":{\"colorbar\":{\"outlinewidth\":0,\"ticks\":\"\"}},\"type\":\"scattergl\"}],\"scattermapbox\":[{\"marker\":{\"colorbar\":{\"outlinewidth\":0,\"ticks\":\"\"}},\"type\":\"scattermapbox\"}],\"scatterpolar\":[{\"marker\":{\"colorbar\":{\"outlinewidth\":0,\"ticks\":\"\"}},\"type\":\"scatterpolar\"}],\"scatterpolargl\":[{\"marker\":{\"colorbar\":{\"outlinewidth\":0,\"ticks\":\"\"}},\"type\":\"scatterpolargl\"}],\"scatterternary\":[{\"marker\":{\"colorbar\":{\"outlinewidth\":0,\"ticks\":\"\"}},\"type\":\"scatterternary\"}],\"surface\":[{\"colorbar\":{\"outlinewidth\":0,\"ticks\":\"\"},\"colorscale\":[[0.0,\"#0d0887\"],[0.1111111111111111,\"#46039f\"],[0.2222222222222222,\"#7201a8\"],[0.3333333333333333,\"#9c179e\"],[0.4444444444444444,\"#bd3786\"],[0.5555555555555556,\"#d8576b\"],[0.6666666666666666,\"#ed7953\"],[0.7777777777777778,\"#fb9f3a\"],[0.8888888888888888,\"#fdca26\"],[1.0,\"#f0f921\"]],\"type\":\"surface\"}],\"table\":[{\"cells\":{\"fill\":{\"color\":\"#EBF0F8\"},\"line\":{\"color\":\"white\"}},\"header\":{\"fill\":{\"color\":\"#C8D4E3\"},\"line\":{\"color\":\"white\"}},\"type\":\"table\"}]},\"layout\":{\"annotationdefaults\":{\"arrowcolor\":\"#2a3f5f\",\"arrowhead\":0,\"arrowwidth\":1},\"autotypenumbers\":\"strict\",\"coloraxis\":{\"colorbar\":{\"outlinewidth\":0,\"ticks\":\"\"}},\"colorscale\":{\"diverging\":[[0,\"#8e0152\"],[0.1,\"#c51b7d\"],[0.2,\"#de77ae\"],[0.3,\"#f1b6da\"],[0.4,\"#fde0ef\"],[0.5,\"#f7f7f7\"],[0.6,\"#e6f5d0\"],[0.7,\"#b8e186\"],[0.8,\"#7fbc41\"],[0.9,\"#4d9221\"],[1,\"#276419\"]],\"sequential\":[[0.0,\"#0d0887\"],[0.1111111111111111,\"#46039f\"],[0.2222222222222222,\"#7201a8\"],[0.3333333333333333,\"#9c179e\"],[0.4444444444444444,\"#bd3786\"],[0.5555555555555556,\"#d8576b\"],[0.6666666666666666,\"#ed7953\"],[0.7777777777777778,\"#fb9f3a\"],[0.8888888888888888,\"#fdca26\"],[1.0,\"#f0f921\"]],\"sequentialminus\":[[0.0,\"#0d0887\"],[0.1111111111111111,\"#46039f\"],[0.2222222222222222,\"#7201a8\"],[0.3333333333333333,\"#9c179e\"],[0.4444444444444444,\"#bd3786\"],[0.5555555555555556,\"#d8576b\"],[0.6666666666666666,\"#ed7953\"],[0.7777777777777778,\"#fb9f3a\"],[0.8888888888888888,\"#fdca26\"],[1.0,\"#f0f921\"]]},\"colorway\":[\"#636efa\",\"#EF553B\",\"#00cc96\",\"#ab63fa\",\"#FFA15A\",\"#19d3f3\",\"#FF6692\",\"#B6E880\",\"#FF97FF\",\"#FECB52\"],\"font\":{\"color\":\"#2a3f5f\"},\"geo\":{\"bgcolor\":\"white\",\"lakecolor\":\"white\",\"landcolor\":\"#E5ECF6\",\"showlakes\":true,\"showland\":true,\"subunitcolor\":\"white\"},\"hoverlabel\":{\"align\":\"left\"},\"hovermode\":\"closest\",\"mapbox\":{\"style\":\"light\"},\"paper_bgcolor\":\"white\",\"plot_bgcolor\":\"#E5ECF6\",\"polar\":{\"angularaxis\":{\"gridcolor\":\"white\",\"linecolor\":\"white\",\"ticks\":\"\"},\"bgcolor\":\"#E5ECF6\",\"radialaxis\":{\"gridcolor\":\"white\",\"linecolor\":\"white\",\"ticks\":\"\"}},\"scene\":{\"xaxis\":{\"backgroundcolor\":\"#E5ECF6\",\"gridcolor\":\"white\",\"gridwidth\":2,\"linecolor\":\"white\",\"showbackground\":true,\"ticks\":\"\",\"zerolinecolor\":\"white\"},\"yaxis\":{\"backgroundcolor\":\"#E5ECF6\",\"gridcolor\":\"white\",\"gridwidth\":2,\"linecolor\":\"white\",\"showbackground\":true,\"ticks\":\"\",\"zerolinecolor\":\"white\"},\"zaxis\":{\"backgroundcolor\":\"#E5ECF6\",\"gridcolor\":\"white\",\"gridwidth\":2,\"linecolor\":\"white\",\"showbackground\":true,\"ticks\":\"\",\"zerolinecolor\":\"white\"}},\"shapedefaults\":{\"line\":{\"color\":\"#2a3f5f\"}},\"ternary\":{\"aaxis\":{\"gridcolor\":\"white\",\"linecolor\":\"white\",\"ticks\":\"\"},\"baxis\":{\"gridcolor\":\"white\",\"linecolor\":\"white\",\"ticks\":\"\"},\"bgcolor\":\"#E5ECF6\",\"caxis\":{\"gridcolor\":\"white\",\"linecolor\":\"white\",\"ticks\":\"\"}},\"title\":{\"x\":0.05},\"xaxis\":{\"automargin\":true,\"gridcolor\":\"white\",\"linecolor\":\"white\",\"ticks\":\"\",\"title\":{\"standoff\":15},\"zerolinecolor\":\"white\",\"zerolinewidth\":2},\"yaxis\":{\"automargin\":true,\"gridcolor\":\"white\",\"linecolor\":\"white\",\"ticks\":\"\",\"title\":{\"standoff\":15},\"zerolinecolor\":\"white\",\"zerolinewidth\":2}}},\"xaxis\":{\"anchor\":\"y\",\"domain\":[0.0,1.0],\"title\":{\"text\":\"Marital_Status\"},\"categoryorder\":\"array\",\"categoryarray\":[\"21-30\",\"31-40\",\"41-50\",\"51-60\",\"61-70\",\"71-80\",\">80\"]},\"yaxis\":{\"anchor\":\"x\",\"domain\":[0.0,1.0],\"title\":{\"text\":\"Total_Amount_spent\"}},\"legend\":{\"tracegroupgap\":0},\"title\":{\"text\":\"Relationship between Customer's Marital Status and Total Amuont Spent [Average Spent]\"},\"barmode\":\"relative\",\"height\":500,\"annotations\":[{\"font\":{\"color\":\"rgb(66, 99, 236)\",\"family\":\"Arial\",\"size\":14},\"showarrow\":false,\"text\":\"395.5$\",\"x\":\"Married\",\"y\":445.5},{\"font\":{\"color\":\"rgb(66, 99, 236)\",\"family\":\"Arial\",\"size\":14},\"showarrow\":false,\"text\":\"397.0$\",\"x\":\"Single\",\"y\":447.0}]},                        {\"responsive\": true}                    ).then(function(){\n",
              "                            \n",
              "var gd = document.getElementById('7f8ad5d9-9e8b-4a3f-b7a3-32082e3a1e43');\n",
              "var x = new MutationObserver(function (mutations, observer) {{\n",
              "        var display = window.getComputedStyle(gd).display;\n",
              "        if (!display || display === 'none') {{\n",
              "            console.log([gd, 'removed!']);\n",
              "            Plotly.purge(gd);\n",
              "            observer.disconnect();\n",
              "        }}\n",
              "}});\n",
              "\n",
              "// Listen for the removal of the full notebook cells\n",
              "var notebookContainer = gd.closest('#notebook-container');\n",
              "if (notebookContainer) {{\n",
              "    x.observe(notebookContainer, {childList: true});\n",
              "}}\n",
              "\n",
              "// Listen for the clearing of the current output cell\n",
              "var outputEl = gd.closest('.output');\n",
              "if (outputEl) {{\n",
              "    x.observe(outputEl, {childList: true});\n",
              "}}\n",
              "\n",
              "                        })                };                            </script>        </div>\n",
              "</body>\n",
              "</html>"
            ]
          },
          "metadata": {}
        }
      ]
    },
    {
      "cell_type": "markdown",
      "source": [
        "\n",
        "`We can see from the above summary that there isn't relationship between customer's marital status and the average amount spent.`"
      ],
      "metadata": {
        "id": "dMFqi75-xIMy"
      }
    },
    {
      "cell_type": "markdown",
      "source": [
        "Marital_status vs Income"
      ],
      "metadata": {
        "id": "m4I2zS3QxXBg"
      }
    },
    {
      "cell_type": "code",
      "source": [
        "mask = df_cut.groupby(\"Marital_Status\")[\"Income\"].mean()\n",
        "mask = mask.reset_index()\n",
        "fig = px.bar(data_frame=mask, x=\"Marital_Status\", y=\"Income\", height=500, \n",
        "             title=\"Relationship between Customer's Marital Status and Income [Average Income]\")\n",
        "\n",
        "annotation = []\n",
        "for x, y in zip(mask[\"Marital_Status\"], mask[\"Income\"]):\n",
        "    annotation.append(\n",
        "        dict(x=x, y=y +5000,\n",
        "             text=str(round(y, 2)) + '$',\n",
        "             font=dict(family='Arial', size=14, color='rgb(66, 99, 236)'), showarrow=False)\n",
        "    )\n",
        "fig.update_xaxes(categoryorder='array', categoryarray= [\"21-30\", \"31-40\"])\n",
        "fig.update_layout(annotations=annotation)\n",
        "fig.show()"
      ],
      "metadata": {
        "colab": {
          "base_uri": "https://localhost:8080/",
          "height": 517
        },
        "id": "2WpXdsO0xOaB",
        "outputId": "0c64597d-1445-4911-a1f9-f625cae2ac77"
      },
      "execution_count": 67,
      "outputs": [
        {
          "output_type": "display_data",
          "data": {
            "text/html": [
              "<html>\n",
              "<head><meta charset=\"utf-8\" /></head>\n",
              "<body>\n",
              "    <div>            <script src=\"https://cdnjs.cloudflare.com/ajax/libs/mathjax/2.7.5/MathJax.js?config=TeX-AMS-MML_SVG\"></script><script type=\"text/javascript\">if (window.MathJax) {MathJax.Hub.Config({SVG: {font: \"STIX-Web\"}});}</script>                <script type=\"text/javascript\">window.PlotlyConfig = {MathJaxConfig: 'local'};</script>\n",
              "        <script src=\"https://cdn.plot.ly/plotly-2.8.3.min.js\"></script>                <div id=\"c2a88e96-590b-4752-ac33-66f184ba9e42\" class=\"plotly-graph-div\" style=\"height:500px; width:100%;\"></div>            <script type=\"text/javascript\">                                    window.PLOTLYENV=window.PLOTLYENV || {};                                    if (document.getElementById(\"c2a88e96-590b-4752-ac33-66f184ba9e42\")) {                    Plotly.newPlot(                        \"c2a88e96-590b-4752-ac33-66f184ba9e42\",                        [{\"alignmentgroup\":\"True\",\"hovertemplate\":\"Marital_Status=%{x}<br>Income=%{y}<extra></extra>\",\"legendgroup\":\"\",\"marker\":{\"color\":\"#636efa\",\"pattern\":{\"shape\":\"\"}},\"name\":\"\",\"offsetgroup\":\"\",\"orientation\":\"v\",\"showlegend\":false,\"textposition\":\"auto\",\"x\":[\"Married\",\"Single\"],\"xaxis\":\"x\",\"y\":[51461.75888584069,51962.84215539359],\"yaxis\":\"y\",\"type\":\"bar\"}],                        {\"template\":{\"data\":{\"bar\":[{\"error_x\":{\"color\":\"#2a3f5f\"},\"error_y\":{\"color\":\"#2a3f5f\"},\"marker\":{\"line\":{\"color\":\"#E5ECF6\",\"width\":0.5},\"pattern\":{\"fillmode\":\"overlay\",\"size\":10,\"solidity\":0.2}},\"type\":\"bar\"}],\"barpolar\":[{\"marker\":{\"line\":{\"color\":\"#E5ECF6\",\"width\":0.5},\"pattern\":{\"fillmode\":\"overlay\",\"size\":10,\"solidity\":0.2}},\"type\":\"barpolar\"}],\"carpet\":[{\"aaxis\":{\"endlinecolor\":\"#2a3f5f\",\"gridcolor\":\"white\",\"linecolor\":\"white\",\"minorgridcolor\":\"white\",\"startlinecolor\":\"#2a3f5f\"},\"baxis\":{\"endlinecolor\":\"#2a3f5f\",\"gridcolor\":\"white\",\"linecolor\":\"white\",\"minorgridcolor\":\"white\",\"startlinecolor\":\"#2a3f5f\"},\"type\":\"carpet\"}],\"choropleth\":[{\"colorbar\":{\"outlinewidth\":0,\"ticks\":\"\"},\"type\":\"choropleth\"}],\"contour\":[{\"colorbar\":{\"outlinewidth\":0,\"ticks\":\"\"},\"colorscale\":[[0.0,\"#0d0887\"],[0.1111111111111111,\"#46039f\"],[0.2222222222222222,\"#7201a8\"],[0.3333333333333333,\"#9c179e\"],[0.4444444444444444,\"#bd3786\"],[0.5555555555555556,\"#d8576b\"],[0.6666666666666666,\"#ed7953\"],[0.7777777777777778,\"#fb9f3a\"],[0.8888888888888888,\"#fdca26\"],[1.0,\"#f0f921\"]],\"type\":\"contour\"}],\"contourcarpet\":[{\"colorbar\":{\"outlinewidth\":0,\"ticks\":\"\"},\"type\":\"contourcarpet\"}],\"heatmap\":[{\"colorbar\":{\"outlinewidth\":0,\"ticks\":\"\"},\"colorscale\":[[0.0,\"#0d0887\"],[0.1111111111111111,\"#46039f\"],[0.2222222222222222,\"#7201a8\"],[0.3333333333333333,\"#9c179e\"],[0.4444444444444444,\"#bd3786\"],[0.5555555555555556,\"#d8576b\"],[0.6666666666666666,\"#ed7953\"],[0.7777777777777778,\"#fb9f3a\"],[0.8888888888888888,\"#fdca26\"],[1.0,\"#f0f921\"]],\"type\":\"heatmap\"}],\"heatmapgl\":[{\"colorbar\":{\"outlinewidth\":0,\"ticks\":\"\"},\"colorscale\":[[0.0,\"#0d0887\"],[0.1111111111111111,\"#46039f\"],[0.2222222222222222,\"#7201a8\"],[0.3333333333333333,\"#9c179e\"],[0.4444444444444444,\"#bd3786\"],[0.5555555555555556,\"#d8576b\"],[0.6666666666666666,\"#ed7953\"],[0.7777777777777778,\"#fb9f3a\"],[0.8888888888888888,\"#fdca26\"],[1.0,\"#f0f921\"]],\"type\":\"heatmapgl\"}],\"histogram\":[{\"marker\":{\"pattern\":{\"fillmode\":\"overlay\",\"size\":10,\"solidity\":0.2}},\"type\":\"histogram\"}],\"histogram2d\":[{\"colorbar\":{\"outlinewidth\":0,\"ticks\":\"\"},\"colorscale\":[[0.0,\"#0d0887\"],[0.1111111111111111,\"#46039f\"],[0.2222222222222222,\"#7201a8\"],[0.3333333333333333,\"#9c179e\"],[0.4444444444444444,\"#bd3786\"],[0.5555555555555556,\"#d8576b\"],[0.6666666666666666,\"#ed7953\"],[0.7777777777777778,\"#fb9f3a\"],[0.8888888888888888,\"#fdca26\"],[1.0,\"#f0f921\"]],\"type\":\"histogram2d\"}],\"histogram2dcontour\":[{\"colorbar\":{\"outlinewidth\":0,\"ticks\":\"\"},\"colorscale\":[[0.0,\"#0d0887\"],[0.1111111111111111,\"#46039f\"],[0.2222222222222222,\"#7201a8\"],[0.3333333333333333,\"#9c179e\"],[0.4444444444444444,\"#bd3786\"],[0.5555555555555556,\"#d8576b\"],[0.6666666666666666,\"#ed7953\"],[0.7777777777777778,\"#fb9f3a\"],[0.8888888888888888,\"#fdca26\"],[1.0,\"#f0f921\"]],\"type\":\"histogram2dcontour\"}],\"mesh3d\":[{\"colorbar\":{\"outlinewidth\":0,\"ticks\":\"\"},\"type\":\"mesh3d\"}],\"parcoords\":[{\"line\":{\"colorbar\":{\"outlinewidth\":0,\"ticks\":\"\"}},\"type\":\"parcoords\"}],\"pie\":[{\"automargin\":true,\"type\":\"pie\"}],\"scatter\":[{\"marker\":{\"colorbar\":{\"outlinewidth\":0,\"ticks\":\"\"}},\"type\":\"scatter\"}],\"scatter3d\":[{\"line\":{\"colorbar\":{\"outlinewidth\":0,\"ticks\":\"\"}},\"marker\":{\"colorbar\":{\"outlinewidth\":0,\"ticks\":\"\"}},\"type\":\"scatter3d\"}],\"scattercarpet\":[{\"marker\":{\"colorbar\":{\"outlinewidth\":0,\"ticks\":\"\"}},\"type\":\"scattercarpet\"}],\"scattergeo\":[{\"marker\":{\"colorbar\":{\"outlinewidth\":0,\"ticks\":\"\"}},\"type\":\"scattergeo\"}],\"scattergl\":[{\"marker\":{\"colorbar\":{\"outlinewidth\":0,\"ticks\":\"\"}},\"type\":\"scattergl\"}],\"scattermapbox\":[{\"marker\":{\"colorbar\":{\"outlinewidth\":0,\"ticks\":\"\"}},\"type\":\"scattermapbox\"}],\"scatterpolar\":[{\"marker\":{\"colorbar\":{\"outlinewidth\":0,\"ticks\":\"\"}},\"type\":\"scatterpolar\"}],\"scatterpolargl\":[{\"marker\":{\"colorbar\":{\"outlinewidth\":0,\"ticks\":\"\"}},\"type\":\"scatterpolargl\"}],\"scatterternary\":[{\"marker\":{\"colorbar\":{\"outlinewidth\":0,\"ticks\":\"\"}},\"type\":\"scatterternary\"}],\"surface\":[{\"colorbar\":{\"outlinewidth\":0,\"ticks\":\"\"},\"colorscale\":[[0.0,\"#0d0887\"],[0.1111111111111111,\"#46039f\"],[0.2222222222222222,\"#7201a8\"],[0.3333333333333333,\"#9c179e\"],[0.4444444444444444,\"#bd3786\"],[0.5555555555555556,\"#d8576b\"],[0.6666666666666666,\"#ed7953\"],[0.7777777777777778,\"#fb9f3a\"],[0.8888888888888888,\"#fdca26\"],[1.0,\"#f0f921\"]],\"type\":\"surface\"}],\"table\":[{\"cells\":{\"fill\":{\"color\":\"#EBF0F8\"},\"line\":{\"color\":\"white\"}},\"header\":{\"fill\":{\"color\":\"#C8D4E3\"},\"line\":{\"color\":\"white\"}},\"type\":\"table\"}]},\"layout\":{\"annotationdefaults\":{\"arrowcolor\":\"#2a3f5f\",\"arrowhead\":0,\"arrowwidth\":1},\"autotypenumbers\":\"strict\",\"coloraxis\":{\"colorbar\":{\"outlinewidth\":0,\"ticks\":\"\"}},\"colorscale\":{\"diverging\":[[0,\"#8e0152\"],[0.1,\"#c51b7d\"],[0.2,\"#de77ae\"],[0.3,\"#f1b6da\"],[0.4,\"#fde0ef\"],[0.5,\"#f7f7f7\"],[0.6,\"#e6f5d0\"],[0.7,\"#b8e186\"],[0.8,\"#7fbc41\"],[0.9,\"#4d9221\"],[1,\"#276419\"]],\"sequential\":[[0.0,\"#0d0887\"],[0.1111111111111111,\"#46039f\"],[0.2222222222222222,\"#7201a8\"],[0.3333333333333333,\"#9c179e\"],[0.4444444444444444,\"#bd3786\"],[0.5555555555555556,\"#d8576b\"],[0.6666666666666666,\"#ed7953\"],[0.7777777777777778,\"#fb9f3a\"],[0.8888888888888888,\"#fdca26\"],[1.0,\"#f0f921\"]],\"sequentialminus\":[[0.0,\"#0d0887\"],[0.1111111111111111,\"#46039f\"],[0.2222222222222222,\"#7201a8\"],[0.3333333333333333,\"#9c179e\"],[0.4444444444444444,\"#bd3786\"],[0.5555555555555556,\"#d8576b\"],[0.6666666666666666,\"#ed7953\"],[0.7777777777777778,\"#fb9f3a\"],[0.8888888888888888,\"#fdca26\"],[1.0,\"#f0f921\"]]},\"colorway\":[\"#636efa\",\"#EF553B\",\"#00cc96\",\"#ab63fa\",\"#FFA15A\",\"#19d3f3\",\"#FF6692\",\"#B6E880\",\"#FF97FF\",\"#FECB52\"],\"font\":{\"color\":\"#2a3f5f\"},\"geo\":{\"bgcolor\":\"white\",\"lakecolor\":\"white\",\"landcolor\":\"#E5ECF6\",\"showlakes\":true,\"showland\":true,\"subunitcolor\":\"white\"},\"hoverlabel\":{\"align\":\"left\"},\"hovermode\":\"closest\",\"mapbox\":{\"style\":\"light\"},\"paper_bgcolor\":\"white\",\"plot_bgcolor\":\"#E5ECF6\",\"polar\":{\"angularaxis\":{\"gridcolor\":\"white\",\"linecolor\":\"white\",\"ticks\":\"\"},\"bgcolor\":\"#E5ECF6\",\"radialaxis\":{\"gridcolor\":\"white\",\"linecolor\":\"white\",\"ticks\":\"\"}},\"scene\":{\"xaxis\":{\"backgroundcolor\":\"#E5ECF6\",\"gridcolor\":\"white\",\"gridwidth\":2,\"linecolor\":\"white\",\"showbackground\":true,\"ticks\":\"\",\"zerolinecolor\":\"white\"},\"yaxis\":{\"backgroundcolor\":\"#E5ECF6\",\"gridcolor\":\"white\",\"gridwidth\":2,\"linecolor\":\"white\",\"showbackground\":true,\"ticks\":\"\",\"zerolinecolor\":\"white\"},\"zaxis\":{\"backgroundcolor\":\"#E5ECF6\",\"gridcolor\":\"white\",\"gridwidth\":2,\"linecolor\":\"white\",\"showbackground\":true,\"ticks\":\"\",\"zerolinecolor\":\"white\"}},\"shapedefaults\":{\"line\":{\"color\":\"#2a3f5f\"}},\"ternary\":{\"aaxis\":{\"gridcolor\":\"white\",\"linecolor\":\"white\",\"ticks\":\"\"},\"baxis\":{\"gridcolor\":\"white\",\"linecolor\":\"white\",\"ticks\":\"\"},\"bgcolor\":\"#E5ECF6\",\"caxis\":{\"gridcolor\":\"white\",\"linecolor\":\"white\",\"ticks\":\"\"}},\"title\":{\"x\":0.05},\"xaxis\":{\"automargin\":true,\"gridcolor\":\"white\",\"linecolor\":\"white\",\"ticks\":\"\",\"title\":{\"standoff\":15},\"zerolinecolor\":\"white\",\"zerolinewidth\":2},\"yaxis\":{\"automargin\":true,\"gridcolor\":\"white\",\"linecolor\":\"white\",\"ticks\":\"\",\"title\":{\"standoff\":15},\"zerolinecolor\":\"white\",\"zerolinewidth\":2}}},\"xaxis\":{\"anchor\":\"y\",\"domain\":[0.0,1.0],\"title\":{\"text\":\"Marital_Status\"},\"categoryorder\":\"array\",\"categoryarray\":[\"21-30\",\"31-40\"]},\"yaxis\":{\"anchor\":\"x\",\"domain\":[0.0,1.0],\"title\":{\"text\":\"Income\"}},\"legend\":{\"tracegroupgap\":0},\"title\":{\"text\":\"Relationship between Customer's Marital Status and Income [Average Income]\"},\"barmode\":\"relative\",\"height\":500,\"annotations\":[{\"font\":{\"color\":\"rgb(66, 99, 236)\",\"family\":\"Arial\",\"size\":14},\"showarrow\":false,\"text\":\"51461.76$\",\"x\":\"Married\",\"y\":56461.75888584069},{\"font\":{\"color\":\"rgb(66, 99, 236)\",\"family\":\"Arial\",\"size\":14},\"showarrow\":false,\"text\":\"51962.84$\",\"x\":\"Single\",\"y\":56962.84215539359}]},                        {\"responsive\": true}                    ).then(function(){\n",
              "                            \n",
              "var gd = document.getElementById('c2a88e96-590b-4752-ac33-66f184ba9e42');\n",
              "var x = new MutationObserver(function (mutations, observer) {{\n",
              "        var display = window.getComputedStyle(gd).display;\n",
              "        if (!display || display === 'none') {{\n",
              "            console.log([gd, 'removed!']);\n",
              "            Plotly.purge(gd);\n",
              "            observer.disconnect();\n",
              "        }}\n",
              "}});\n",
              "\n",
              "// Listen for the removal of the full notebook cells\n",
              "var notebookContainer = gd.closest('#notebook-container');\n",
              "if (notebookContainer) {{\n",
              "    x.observe(notebookContainer, {childList: true});\n",
              "}}\n",
              "\n",
              "// Listen for the clearing of the current output cell\n",
              "var outputEl = gd.closest('.output');\n",
              "if (outputEl) {{\n",
              "    x.observe(outputEl, {childList: true});\n",
              "}}\n",
              "\n",
              "                        })                };                            </script>        </div>\n",
              "</body>\n",
              "</html>"
            ]
          },
          "metadata": {}
        }
      ]
    },
    {
      "cell_type": "markdown",
      "source": [
        "`Also In terms of Marital Status and Income there isn't relationship concerning that. Customer's earn approximately equal.`"
      ],
      "metadata": {
        "id": "wD8AyVhZxmU9"
      }
    },
    {
      "cell_type": "markdown",
      "source": [
        "**Kids_Home Vs Total_Amount_spent**"
      ],
      "metadata": {
        "id": "lSt8C9KIxpad"
      }
    },
    {
      "cell_type": "code",
      "source": [
        "df2[\"Kidhome\"].value_counts()"
      ],
      "metadata": {
        "id": "c21T-ChhzYbq",
        "colab": {
          "base_uri": "https://localhost:8080/"
        },
        "outputId": "7634dfad-27bd-4bf4-d4e7-52cb6c574df1"
      },
      "execution_count": 55,
      "outputs": [
        {
          "output_type": "execute_result",
          "data": {
            "text/plain": [
              "0    1293\n",
              "1     899\n",
              "2      48\n",
              "Name: Kidhome, dtype: int64"
            ]
          },
          "metadata": {},
          "execution_count": 55
        }
      ]
    },
    {
      "cell_type": "code",
      "source": [
        "mask = df2.groupby(\"Kidhome\")[\"Total_Amount_spent\"].median()\n",
        "mask = mask.reset_index()\n",
        "fig = px.bar(data_frame=mask, x=\"Kidhome\", y=\"Total_Amount_spent\", height=500, \n",
        "             title=\"Relationship between Customer's Kid and Amount Spent [Average]\")\n",
        "\n",
        "annotation = []\n",
        "for x, y in zip(mask[\"Kidhome\"], mask[\"Total_Amount_spent\"]):\n",
        "    annotation.append(\n",
        "        dict(x=x, y=y +50,\n",
        "             text=str(round(y, 2)) + '$',\n",
        "             font=dict(family='Arial', size=14, color='rgb(66, 99, 236)'), showarrow=False)\n",
        "    )\n",
        "fig.update_xaxes(categoryorder='array', categoryarray= [\"21-30\", \"31-40\"])\n",
        "fig.update_layout(annotations=annotation)\n",
        "fig.show()"
      ],
      "metadata": {
        "id": "NEK00PtreLig",
        "outputId": "f1ed7a71-f79a-4db4-84fe-b4857bada79d",
        "colab": {
          "base_uri": "https://localhost:8080/",
          "height": 517
        }
      },
      "execution_count": 75,
      "outputs": [
        {
          "output_type": "display_data",
          "data": {
            "text/html": [
              "<html>\n",
              "<head><meta charset=\"utf-8\" /></head>\n",
              "<body>\n",
              "    <div>            <script src=\"https://cdnjs.cloudflare.com/ajax/libs/mathjax/2.7.5/MathJax.js?config=TeX-AMS-MML_SVG\"></script><script type=\"text/javascript\">if (window.MathJax) {MathJax.Hub.Config({SVG: {font: \"STIX-Web\"}});}</script>                <script type=\"text/javascript\">window.PlotlyConfig = {MathJaxConfig: 'local'};</script>\n",
              "        <script src=\"https://cdn.plot.ly/plotly-2.8.3.min.js\"></script>                <div id=\"98db7576-6dc7-4e4a-bd7f-ebe1cf4073e2\" class=\"plotly-graph-div\" style=\"height:500px; width:100%;\"></div>            <script type=\"text/javascript\">                                    window.PLOTLYENV=window.PLOTLYENV || {};                                    if (document.getElementById(\"98db7576-6dc7-4e4a-bd7f-ebe1cf4073e2\")) {                    Plotly.newPlot(                        \"98db7576-6dc7-4e4a-bd7f-ebe1cf4073e2\",                        [{\"alignmentgroup\":\"True\",\"hovertemplate\":\"Kidhome=%{x}<br>Total_Amount_spent=%{y}<extra></extra>\",\"legendgroup\":\"\",\"marker\":{\"color\":\"#636efa\",\"pattern\":{\"shape\":\"\"}},\"name\":\"\",\"offsetgroup\":\"\",\"orientation\":\"v\",\"showlegend\":false,\"textposition\":\"auto\",\"x\":[0,1,2],\"xaxis\":\"x\",\"y\":[904.0,72.0,65.5],\"yaxis\":\"y\",\"type\":\"bar\"}],                        {\"template\":{\"data\":{\"bar\":[{\"error_x\":{\"color\":\"#2a3f5f\"},\"error_y\":{\"color\":\"#2a3f5f\"},\"marker\":{\"line\":{\"color\":\"#E5ECF6\",\"width\":0.5},\"pattern\":{\"fillmode\":\"overlay\",\"size\":10,\"solidity\":0.2}},\"type\":\"bar\"}],\"barpolar\":[{\"marker\":{\"line\":{\"color\":\"#E5ECF6\",\"width\":0.5},\"pattern\":{\"fillmode\":\"overlay\",\"size\":10,\"solidity\":0.2}},\"type\":\"barpolar\"}],\"carpet\":[{\"aaxis\":{\"endlinecolor\":\"#2a3f5f\",\"gridcolor\":\"white\",\"linecolor\":\"white\",\"minorgridcolor\":\"white\",\"startlinecolor\":\"#2a3f5f\"},\"baxis\":{\"endlinecolor\":\"#2a3f5f\",\"gridcolor\":\"white\",\"linecolor\":\"white\",\"minorgridcolor\":\"white\",\"startlinecolor\":\"#2a3f5f\"},\"type\":\"carpet\"}],\"choropleth\":[{\"colorbar\":{\"outlinewidth\":0,\"ticks\":\"\"},\"type\":\"choropleth\"}],\"contour\":[{\"colorbar\":{\"outlinewidth\":0,\"ticks\":\"\"},\"colorscale\":[[0.0,\"#0d0887\"],[0.1111111111111111,\"#46039f\"],[0.2222222222222222,\"#7201a8\"],[0.3333333333333333,\"#9c179e\"],[0.4444444444444444,\"#bd3786\"],[0.5555555555555556,\"#d8576b\"],[0.6666666666666666,\"#ed7953\"],[0.7777777777777778,\"#fb9f3a\"],[0.8888888888888888,\"#fdca26\"],[1.0,\"#f0f921\"]],\"type\":\"contour\"}],\"contourcarpet\":[{\"colorbar\":{\"outlinewidth\":0,\"ticks\":\"\"},\"type\":\"contourcarpet\"}],\"heatmap\":[{\"colorbar\":{\"outlinewidth\":0,\"ticks\":\"\"},\"colorscale\":[[0.0,\"#0d0887\"],[0.1111111111111111,\"#46039f\"],[0.2222222222222222,\"#7201a8\"],[0.3333333333333333,\"#9c179e\"],[0.4444444444444444,\"#bd3786\"],[0.5555555555555556,\"#d8576b\"],[0.6666666666666666,\"#ed7953\"],[0.7777777777777778,\"#fb9f3a\"],[0.8888888888888888,\"#fdca26\"],[1.0,\"#f0f921\"]],\"type\":\"heatmap\"}],\"heatmapgl\":[{\"colorbar\":{\"outlinewidth\":0,\"ticks\":\"\"},\"colorscale\":[[0.0,\"#0d0887\"],[0.1111111111111111,\"#46039f\"],[0.2222222222222222,\"#7201a8\"],[0.3333333333333333,\"#9c179e\"],[0.4444444444444444,\"#bd3786\"],[0.5555555555555556,\"#d8576b\"],[0.6666666666666666,\"#ed7953\"],[0.7777777777777778,\"#fb9f3a\"],[0.8888888888888888,\"#fdca26\"],[1.0,\"#f0f921\"]],\"type\":\"heatmapgl\"}],\"histogram\":[{\"marker\":{\"pattern\":{\"fillmode\":\"overlay\",\"size\":10,\"solidity\":0.2}},\"type\":\"histogram\"}],\"histogram2d\":[{\"colorbar\":{\"outlinewidth\":0,\"ticks\":\"\"},\"colorscale\":[[0.0,\"#0d0887\"],[0.1111111111111111,\"#46039f\"],[0.2222222222222222,\"#7201a8\"],[0.3333333333333333,\"#9c179e\"],[0.4444444444444444,\"#bd3786\"],[0.5555555555555556,\"#d8576b\"],[0.6666666666666666,\"#ed7953\"],[0.7777777777777778,\"#fb9f3a\"],[0.8888888888888888,\"#fdca26\"],[1.0,\"#f0f921\"]],\"type\":\"histogram2d\"}],\"histogram2dcontour\":[{\"colorbar\":{\"outlinewidth\":0,\"ticks\":\"\"},\"colorscale\":[[0.0,\"#0d0887\"],[0.1111111111111111,\"#46039f\"],[0.2222222222222222,\"#7201a8\"],[0.3333333333333333,\"#9c179e\"],[0.4444444444444444,\"#bd3786\"],[0.5555555555555556,\"#d8576b\"],[0.6666666666666666,\"#ed7953\"],[0.7777777777777778,\"#fb9f3a\"],[0.8888888888888888,\"#fdca26\"],[1.0,\"#f0f921\"]],\"type\":\"histogram2dcontour\"}],\"mesh3d\":[{\"colorbar\":{\"outlinewidth\":0,\"ticks\":\"\"},\"type\":\"mesh3d\"}],\"parcoords\":[{\"line\":{\"colorbar\":{\"outlinewidth\":0,\"ticks\":\"\"}},\"type\":\"parcoords\"}],\"pie\":[{\"automargin\":true,\"type\":\"pie\"}],\"scatter\":[{\"marker\":{\"colorbar\":{\"outlinewidth\":0,\"ticks\":\"\"}},\"type\":\"scatter\"}],\"scatter3d\":[{\"line\":{\"colorbar\":{\"outlinewidth\":0,\"ticks\":\"\"}},\"marker\":{\"colorbar\":{\"outlinewidth\":0,\"ticks\":\"\"}},\"type\":\"scatter3d\"}],\"scattercarpet\":[{\"marker\":{\"colorbar\":{\"outlinewidth\":0,\"ticks\":\"\"}},\"type\":\"scattercarpet\"}],\"scattergeo\":[{\"marker\":{\"colorbar\":{\"outlinewidth\":0,\"ticks\":\"\"}},\"type\":\"scattergeo\"}],\"scattergl\":[{\"marker\":{\"colorbar\":{\"outlinewidth\":0,\"ticks\":\"\"}},\"type\":\"scattergl\"}],\"scattermapbox\":[{\"marker\":{\"colorbar\":{\"outlinewidth\":0,\"ticks\":\"\"}},\"type\":\"scattermapbox\"}],\"scatterpolar\":[{\"marker\":{\"colorbar\":{\"outlinewidth\":0,\"ticks\":\"\"}},\"type\":\"scatterpolar\"}],\"scatterpolargl\":[{\"marker\":{\"colorbar\":{\"outlinewidth\":0,\"ticks\":\"\"}},\"type\":\"scatterpolargl\"}],\"scatterternary\":[{\"marker\":{\"colorbar\":{\"outlinewidth\":0,\"ticks\":\"\"}},\"type\":\"scatterternary\"}],\"surface\":[{\"colorbar\":{\"outlinewidth\":0,\"ticks\":\"\"},\"colorscale\":[[0.0,\"#0d0887\"],[0.1111111111111111,\"#46039f\"],[0.2222222222222222,\"#7201a8\"],[0.3333333333333333,\"#9c179e\"],[0.4444444444444444,\"#bd3786\"],[0.5555555555555556,\"#d8576b\"],[0.6666666666666666,\"#ed7953\"],[0.7777777777777778,\"#fb9f3a\"],[0.8888888888888888,\"#fdca26\"],[1.0,\"#f0f921\"]],\"type\":\"surface\"}],\"table\":[{\"cells\":{\"fill\":{\"color\":\"#EBF0F8\"},\"line\":{\"color\":\"white\"}},\"header\":{\"fill\":{\"color\":\"#C8D4E3\"},\"line\":{\"color\":\"white\"}},\"type\":\"table\"}]},\"layout\":{\"annotationdefaults\":{\"arrowcolor\":\"#2a3f5f\",\"arrowhead\":0,\"arrowwidth\":1},\"autotypenumbers\":\"strict\",\"coloraxis\":{\"colorbar\":{\"outlinewidth\":0,\"ticks\":\"\"}},\"colorscale\":{\"diverging\":[[0,\"#8e0152\"],[0.1,\"#c51b7d\"],[0.2,\"#de77ae\"],[0.3,\"#f1b6da\"],[0.4,\"#fde0ef\"],[0.5,\"#f7f7f7\"],[0.6,\"#e6f5d0\"],[0.7,\"#b8e186\"],[0.8,\"#7fbc41\"],[0.9,\"#4d9221\"],[1,\"#276419\"]],\"sequential\":[[0.0,\"#0d0887\"],[0.1111111111111111,\"#46039f\"],[0.2222222222222222,\"#7201a8\"],[0.3333333333333333,\"#9c179e\"],[0.4444444444444444,\"#bd3786\"],[0.5555555555555556,\"#d8576b\"],[0.6666666666666666,\"#ed7953\"],[0.7777777777777778,\"#fb9f3a\"],[0.8888888888888888,\"#fdca26\"],[1.0,\"#f0f921\"]],\"sequentialminus\":[[0.0,\"#0d0887\"],[0.1111111111111111,\"#46039f\"],[0.2222222222222222,\"#7201a8\"],[0.3333333333333333,\"#9c179e\"],[0.4444444444444444,\"#bd3786\"],[0.5555555555555556,\"#d8576b\"],[0.6666666666666666,\"#ed7953\"],[0.7777777777777778,\"#fb9f3a\"],[0.8888888888888888,\"#fdca26\"],[1.0,\"#f0f921\"]]},\"colorway\":[\"#636efa\",\"#EF553B\",\"#00cc96\",\"#ab63fa\",\"#FFA15A\",\"#19d3f3\",\"#FF6692\",\"#B6E880\",\"#FF97FF\",\"#FECB52\"],\"font\":{\"color\":\"#2a3f5f\"},\"geo\":{\"bgcolor\":\"white\",\"lakecolor\":\"white\",\"landcolor\":\"#E5ECF6\",\"showlakes\":true,\"showland\":true,\"subunitcolor\":\"white\"},\"hoverlabel\":{\"align\":\"left\"},\"hovermode\":\"closest\",\"mapbox\":{\"style\":\"light\"},\"paper_bgcolor\":\"white\",\"plot_bgcolor\":\"#E5ECF6\",\"polar\":{\"angularaxis\":{\"gridcolor\":\"white\",\"linecolor\":\"white\",\"ticks\":\"\"},\"bgcolor\":\"#E5ECF6\",\"radialaxis\":{\"gridcolor\":\"white\",\"linecolor\":\"white\",\"ticks\":\"\"}},\"scene\":{\"xaxis\":{\"backgroundcolor\":\"#E5ECF6\",\"gridcolor\":\"white\",\"gridwidth\":2,\"linecolor\":\"white\",\"showbackground\":true,\"ticks\":\"\",\"zerolinecolor\":\"white\"},\"yaxis\":{\"backgroundcolor\":\"#E5ECF6\",\"gridcolor\":\"white\",\"gridwidth\":2,\"linecolor\":\"white\",\"showbackground\":true,\"ticks\":\"\",\"zerolinecolor\":\"white\"},\"zaxis\":{\"backgroundcolor\":\"#E5ECF6\",\"gridcolor\":\"white\",\"gridwidth\":2,\"linecolor\":\"white\",\"showbackground\":true,\"ticks\":\"\",\"zerolinecolor\":\"white\"}},\"shapedefaults\":{\"line\":{\"color\":\"#2a3f5f\"}},\"ternary\":{\"aaxis\":{\"gridcolor\":\"white\",\"linecolor\":\"white\",\"ticks\":\"\"},\"baxis\":{\"gridcolor\":\"white\",\"linecolor\":\"white\",\"ticks\":\"\"},\"bgcolor\":\"#E5ECF6\",\"caxis\":{\"gridcolor\":\"white\",\"linecolor\":\"white\",\"ticks\":\"\"}},\"title\":{\"x\":0.05},\"xaxis\":{\"automargin\":true,\"gridcolor\":\"white\",\"linecolor\":\"white\",\"ticks\":\"\",\"title\":{\"standoff\":15},\"zerolinecolor\":\"white\",\"zerolinewidth\":2},\"yaxis\":{\"automargin\":true,\"gridcolor\":\"white\",\"linecolor\":\"white\",\"ticks\":\"\",\"title\":{\"standoff\":15},\"zerolinecolor\":\"white\",\"zerolinewidth\":2}}},\"xaxis\":{\"anchor\":\"y\",\"domain\":[0.0,1.0],\"title\":{\"text\":\"Kidhome\"},\"categoryorder\":\"array\",\"categoryarray\":[\"21-30\",\"31-40\"]},\"yaxis\":{\"anchor\":\"x\",\"domain\":[0.0,1.0],\"title\":{\"text\":\"Total_Amount_spent\"}},\"legend\":{\"tracegroupgap\":0},\"title\":{\"text\":\"Relationship between Customer's Kid and Amount Spent [Average]\"},\"barmode\":\"relative\",\"height\":500,\"annotations\":[{\"font\":{\"color\":\"rgb(66, 99, 236)\",\"family\":\"Arial\",\"size\":14},\"showarrow\":false,\"text\":\"904.0$\",\"x\":0,\"y\":954.0},{\"font\":{\"color\":\"rgb(66, 99, 236)\",\"family\":\"Arial\",\"size\":14},\"showarrow\":false,\"text\":\"72.0$\",\"x\":1,\"y\":122.0},{\"font\":{\"color\":\"rgb(66, 99, 236)\",\"family\":\"Arial\",\"size\":14},\"showarrow\":false,\"text\":\"65.5$\",\"x\":2,\"y\":115.5}]},                        {\"responsive\": true}                    ).then(function(){\n",
              "                            \n",
              "var gd = document.getElementById('98db7576-6dc7-4e4a-bd7f-ebe1cf4073e2');\n",
              "var x = new MutationObserver(function (mutations, observer) {{\n",
              "        var display = window.getComputedStyle(gd).display;\n",
              "        if (!display || display === 'none') {{\n",
              "            console.log([gd, 'removed!']);\n",
              "            Plotly.purge(gd);\n",
              "            observer.disconnect();\n",
              "        }}\n",
              "}});\n",
              "\n",
              "// Listen for the removal of the full notebook cells\n",
              "var notebookContainer = gd.closest('#notebook-container');\n",
              "if (notebookContainer) {{\n",
              "    x.observe(notebookContainer, {childList: true});\n",
              "}}\n",
              "\n",
              "// Listen for the clearing of the current output cell\n",
              "var outputEl = gd.closest('.output');\n",
              "if (outputEl) {{\n",
              "    x.observe(outputEl, {childList: true});\n",
              "}}\n",
              "\n",
              "                        })                };                            </script>        </div>\n",
              "</body>\n",
              "</html>"
            ]
          },
          "metadata": {}
        }
      ]
    },
    {
      "cell_type": "markdown",
      "source": [
        "`We can see from the above summary that customer's who don't have kids at home spend way high than those who have. They spend about 12 times than others on average`."
      ],
      "metadata": {
        "id": "BmQeE14JfMPe"
      }
    },
    {
      "cell_type": "markdown",
      "source": [
        "KIDsHome vs Income"
      ],
      "metadata": {
        "id": "7Ir2_V_tfRd7"
      }
    },
    {
      "cell_type": "code",
      "source": [
        "mask = df_cut.groupby(\"Kidhome\")[\"Income\"].mean()\n",
        "mask = mask.reset_index()\n",
        "fig = px.bar(data_frame=mask, x=\"Kidhome\", y=\"Income\", height=500, title=\"Relationship between Marital Status and Total Amount Spent\")\n",
        "\n",
        "annotation = []\n",
        "for x, y in zip(mask[\"Kidhome\"], mask[\"Income\"]):\n",
        "    annotation.append(\n",
        "        dict(x=x, y=y +5000,\n",
        "             text=str(round(y, 2)) + '$',\n",
        "             font=dict(family='Arial', size=14, color='rgb(66, 99, 236)'), showarrow=False)\n",
        "    )\n",
        "fig.update_xaxes(categoryorder='array', categoryarray= [\"21-30\", \"31-40\"])\n",
        "fig.update_layout(annotations=annotation)\n",
        "fig.show()"
      ],
      "metadata": {
        "id": "5u0GhVPgfVMY",
        "outputId": "d96b2cfa-3c42-4332-8373-3e32ebf67eea",
        "colab": {
          "base_uri": "https://localhost:8080/",
          "height": 517
        }
      },
      "execution_count": 78,
      "outputs": [
        {
          "output_type": "display_data",
          "data": {
            "text/html": [
              "<html>\n",
              "<head><meta charset=\"utf-8\" /></head>\n",
              "<body>\n",
              "    <div>            <script src=\"https://cdnjs.cloudflare.com/ajax/libs/mathjax/2.7.5/MathJax.js?config=TeX-AMS-MML_SVG\"></script><script type=\"text/javascript\">if (window.MathJax) {MathJax.Hub.Config({SVG: {font: \"STIX-Web\"}});}</script>                <script type=\"text/javascript\">window.PlotlyConfig = {MathJaxConfig: 'local'};</script>\n",
              "        <script src=\"https://cdn.plot.ly/plotly-2.8.3.min.js\"></script>                <div id=\"d0a35de8-9602-499c-b38b-ed00b918632d\" class=\"plotly-graph-div\" style=\"height:500px; width:100%;\"></div>            <script type=\"text/javascript\">                                    window.PLOTLYENV=window.PLOTLYENV || {};                                    if (document.getElementById(\"d0a35de8-9602-499c-b38b-ed00b918632d\")) {                    Plotly.newPlot(                        \"d0a35de8-9602-499c-b38b-ed00b918632d\",                        [{\"alignmentgroup\":\"True\",\"hovertemplate\":\"Kidhome=%{x}<br>Income=%{y}<extra></extra>\",\"legendgroup\":\"\",\"marker\":{\"color\":\"#636efa\",\"pattern\":{\"shape\":\"\"}},\"name\":\"\",\"offsetgroup\":\"\",\"orientation\":\"v\",\"showlegend\":false,\"textposition\":\"auto\",\"x\":[0,1,2],\"xaxis\":\"x\",\"y\":[61335.396361442465,38343.35381277398,39695.239639741274],\"yaxis\":\"y\",\"type\":\"bar\"}],                        {\"template\":{\"data\":{\"bar\":[{\"error_x\":{\"color\":\"#2a3f5f\"},\"error_y\":{\"color\":\"#2a3f5f\"},\"marker\":{\"line\":{\"color\":\"#E5ECF6\",\"width\":0.5},\"pattern\":{\"fillmode\":\"overlay\",\"size\":10,\"solidity\":0.2}},\"type\":\"bar\"}],\"barpolar\":[{\"marker\":{\"line\":{\"color\":\"#E5ECF6\",\"width\":0.5},\"pattern\":{\"fillmode\":\"overlay\",\"size\":10,\"solidity\":0.2}},\"type\":\"barpolar\"}],\"carpet\":[{\"aaxis\":{\"endlinecolor\":\"#2a3f5f\",\"gridcolor\":\"white\",\"linecolor\":\"white\",\"minorgridcolor\":\"white\",\"startlinecolor\":\"#2a3f5f\"},\"baxis\":{\"endlinecolor\":\"#2a3f5f\",\"gridcolor\":\"white\",\"linecolor\":\"white\",\"minorgridcolor\":\"white\",\"startlinecolor\":\"#2a3f5f\"},\"type\":\"carpet\"}],\"choropleth\":[{\"colorbar\":{\"outlinewidth\":0,\"ticks\":\"\"},\"type\":\"choropleth\"}],\"contour\":[{\"colorbar\":{\"outlinewidth\":0,\"ticks\":\"\"},\"colorscale\":[[0.0,\"#0d0887\"],[0.1111111111111111,\"#46039f\"],[0.2222222222222222,\"#7201a8\"],[0.3333333333333333,\"#9c179e\"],[0.4444444444444444,\"#bd3786\"],[0.5555555555555556,\"#d8576b\"],[0.6666666666666666,\"#ed7953\"],[0.7777777777777778,\"#fb9f3a\"],[0.8888888888888888,\"#fdca26\"],[1.0,\"#f0f921\"]],\"type\":\"contour\"}],\"contourcarpet\":[{\"colorbar\":{\"outlinewidth\":0,\"ticks\":\"\"},\"type\":\"contourcarpet\"}],\"heatmap\":[{\"colorbar\":{\"outlinewidth\":0,\"ticks\":\"\"},\"colorscale\":[[0.0,\"#0d0887\"],[0.1111111111111111,\"#46039f\"],[0.2222222222222222,\"#7201a8\"],[0.3333333333333333,\"#9c179e\"],[0.4444444444444444,\"#bd3786\"],[0.5555555555555556,\"#d8576b\"],[0.6666666666666666,\"#ed7953\"],[0.7777777777777778,\"#fb9f3a\"],[0.8888888888888888,\"#fdca26\"],[1.0,\"#f0f921\"]],\"type\":\"heatmap\"}],\"heatmapgl\":[{\"colorbar\":{\"outlinewidth\":0,\"ticks\":\"\"},\"colorscale\":[[0.0,\"#0d0887\"],[0.1111111111111111,\"#46039f\"],[0.2222222222222222,\"#7201a8\"],[0.3333333333333333,\"#9c179e\"],[0.4444444444444444,\"#bd3786\"],[0.5555555555555556,\"#d8576b\"],[0.6666666666666666,\"#ed7953\"],[0.7777777777777778,\"#fb9f3a\"],[0.8888888888888888,\"#fdca26\"],[1.0,\"#f0f921\"]],\"type\":\"heatmapgl\"}],\"histogram\":[{\"marker\":{\"pattern\":{\"fillmode\":\"overlay\",\"size\":10,\"solidity\":0.2}},\"type\":\"histogram\"}],\"histogram2d\":[{\"colorbar\":{\"outlinewidth\":0,\"ticks\":\"\"},\"colorscale\":[[0.0,\"#0d0887\"],[0.1111111111111111,\"#46039f\"],[0.2222222222222222,\"#7201a8\"],[0.3333333333333333,\"#9c179e\"],[0.4444444444444444,\"#bd3786\"],[0.5555555555555556,\"#d8576b\"],[0.6666666666666666,\"#ed7953\"],[0.7777777777777778,\"#fb9f3a\"],[0.8888888888888888,\"#fdca26\"],[1.0,\"#f0f921\"]],\"type\":\"histogram2d\"}],\"histogram2dcontour\":[{\"colorbar\":{\"outlinewidth\":0,\"ticks\":\"\"},\"colorscale\":[[0.0,\"#0d0887\"],[0.1111111111111111,\"#46039f\"],[0.2222222222222222,\"#7201a8\"],[0.3333333333333333,\"#9c179e\"],[0.4444444444444444,\"#bd3786\"],[0.5555555555555556,\"#d8576b\"],[0.6666666666666666,\"#ed7953\"],[0.7777777777777778,\"#fb9f3a\"],[0.8888888888888888,\"#fdca26\"],[1.0,\"#f0f921\"]],\"type\":\"histogram2dcontour\"}],\"mesh3d\":[{\"colorbar\":{\"outlinewidth\":0,\"ticks\":\"\"},\"type\":\"mesh3d\"}],\"parcoords\":[{\"line\":{\"colorbar\":{\"outlinewidth\":0,\"ticks\":\"\"}},\"type\":\"parcoords\"}],\"pie\":[{\"automargin\":true,\"type\":\"pie\"}],\"scatter\":[{\"marker\":{\"colorbar\":{\"outlinewidth\":0,\"ticks\":\"\"}},\"type\":\"scatter\"}],\"scatter3d\":[{\"line\":{\"colorbar\":{\"outlinewidth\":0,\"ticks\":\"\"}},\"marker\":{\"colorbar\":{\"outlinewidth\":0,\"ticks\":\"\"}},\"type\":\"scatter3d\"}],\"scattercarpet\":[{\"marker\":{\"colorbar\":{\"outlinewidth\":0,\"ticks\":\"\"}},\"type\":\"scattercarpet\"}],\"scattergeo\":[{\"marker\":{\"colorbar\":{\"outlinewidth\":0,\"ticks\":\"\"}},\"type\":\"scattergeo\"}],\"scattergl\":[{\"marker\":{\"colorbar\":{\"outlinewidth\":0,\"ticks\":\"\"}},\"type\":\"scattergl\"}],\"scattermapbox\":[{\"marker\":{\"colorbar\":{\"outlinewidth\":0,\"ticks\":\"\"}},\"type\":\"scattermapbox\"}],\"scatterpolar\":[{\"marker\":{\"colorbar\":{\"outlinewidth\":0,\"ticks\":\"\"}},\"type\":\"scatterpolar\"}],\"scatterpolargl\":[{\"marker\":{\"colorbar\":{\"outlinewidth\":0,\"ticks\":\"\"}},\"type\":\"scatterpolargl\"}],\"scatterternary\":[{\"marker\":{\"colorbar\":{\"outlinewidth\":0,\"ticks\":\"\"}},\"type\":\"scatterternary\"}],\"surface\":[{\"colorbar\":{\"outlinewidth\":0,\"ticks\":\"\"},\"colorscale\":[[0.0,\"#0d0887\"],[0.1111111111111111,\"#46039f\"],[0.2222222222222222,\"#7201a8\"],[0.3333333333333333,\"#9c179e\"],[0.4444444444444444,\"#bd3786\"],[0.5555555555555556,\"#d8576b\"],[0.6666666666666666,\"#ed7953\"],[0.7777777777777778,\"#fb9f3a\"],[0.8888888888888888,\"#fdca26\"],[1.0,\"#f0f921\"]],\"type\":\"surface\"}],\"table\":[{\"cells\":{\"fill\":{\"color\":\"#EBF0F8\"},\"line\":{\"color\":\"white\"}},\"header\":{\"fill\":{\"color\":\"#C8D4E3\"},\"line\":{\"color\":\"white\"}},\"type\":\"table\"}]},\"layout\":{\"annotationdefaults\":{\"arrowcolor\":\"#2a3f5f\",\"arrowhead\":0,\"arrowwidth\":1},\"autotypenumbers\":\"strict\",\"coloraxis\":{\"colorbar\":{\"outlinewidth\":0,\"ticks\":\"\"}},\"colorscale\":{\"diverging\":[[0,\"#8e0152\"],[0.1,\"#c51b7d\"],[0.2,\"#de77ae\"],[0.3,\"#f1b6da\"],[0.4,\"#fde0ef\"],[0.5,\"#f7f7f7\"],[0.6,\"#e6f5d0\"],[0.7,\"#b8e186\"],[0.8,\"#7fbc41\"],[0.9,\"#4d9221\"],[1,\"#276419\"]],\"sequential\":[[0.0,\"#0d0887\"],[0.1111111111111111,\"#46039f\"],[0.2222222222222222,\"#7201a8\"],[0.3333333333333333,\"#9c179e\"],[0.4444444444444444,\"#bd3786\"],[0.5555555555555556,\"#d8576b\"],[0.6666666666666666,\"#ed7953\"],[0.7777777777777778,\"#fb9f3a\"],[0.8888888888888888,\"#fdca26\"],[1.0,\"#f0f921\"]],\"sequentialminus\":[[0.0,\"#0d0887\"],[0.1111111111111111,\"#46039f\"],[0.2222222222222222,\"#7201a8\"],[0.3333333333333333,\"#9c179e\"],[0.4444444444444444,\"#bd3786\"],[0.5555555555555556,\"#d8576b\"],[0.6666666666666666,\"#ed7953\"],[0.7777777777777778,\"#fb9f3a\"],[0.8888888888888888,\"#fdca26\"],[1.0,\"#f0f921\"]]},\"colorway\":[\"#636efa\",\"#EF553B\",\"#00cc96\",\"#ab63fa\",\"#FFA15A\",\"#19d3f3\",\"#FF6692\",\"#B6E880\",\"#FF97FF\",\"#FECB52\"],\"font\":{\"color\":\"#2a3f5f\"},\"geo\":{\"bgcolor\":\"white\",\"lakecolor\":\"white\",\"landcolor\":\"#E5ECF6\",\"showlakes\":true,\"showland\":true,\"subunitcolor\":\"white\"},\"hoverlabel\":{\"align\":\"left\"},\"hovermode\":\"closest\",\"mapbox\":{\"style\":\"light\"},\"paper_bgcolor\":\"white\",\"plot_bgcolor\":\"#E5ECF6\",\"polar\":{\"angularaxis\":{\"gridcolor\":\"white\",\"linecolor\":\"white\",\"ticks\":\"\"},\"bgcolor\":\"#E5ECF6\",\"radialaxis\":{\"gridcolor\":\"white\",\"linecolor\":\"white\",\"ticks\":\"\"}},\"scene\":{\"xaxis\":{\"backgroundcolor\":\"#E5ECF6\",\"gridcolor\":\"white\",\"gridwidth\":2,\"linecolor\":\"white\",\"showbackground\":true,\"ticks\":\"\",\"zerolinecolor\":\"white\"},\"yaxis\":{\"backgroundcolor\":\"#E5ECF6\",\"gridcolor\":\"white\",\"gridwidth\":2,\"linecolor\":\"white\",\"showbackground\":true,\"ticks\":\"\",\"zerolinecolor\":\"white\"},\"zaxis\":{\"backgroundcolor\":\"#E5ECF6\",\"gridcolor\":\"white\",\"gridwidth\":2,\"linecolor\":\"white\",\"showbackground\":true,\"ticks\":\"\",\"zerolinecolor\":\"white\"}},\"shapedefaults\":{\"line\":{\"color\":\"#2a3f5f\"}},\"ternary\":{\"aaxis\":{\"gridcolor\":\"white\",\"linecolor\":\"white\",\"ticks\":\"\"},\"baxis\":{\"gridcolor\":\"white\",\"linecolor\":\"white\",\"ticks\":\"\"},\"bgcolor\":\"#E5ECF6\",\"caxis\":{\"gridcolor\":\"white\",\"linecolor\":\"white\",\"ticks\":\"\"}},\"title\":{\"x\":0.05},\"xaxis\":{\"automargin\":true,\"gridcolor\":\"white\",\"linecolor\":\"white\",\"ticks\":\"\",\"title\":{\"standoff\":15},\"zerolinecolor\":\"white\",\"zerolinewidth\":2},\"yaxis\":{\"automargin\":true,\"gridcolor\":\"white\",\"linecolor\":\"white\",\"ticks\":\"\",\"title\":{\"standoff\":15},\"zerolinecolor\":\"white\",\"zerolinewidth\":2}}},\"xaxis\":{\"anchor\":\"y\",\"domain\":[0.0,1.0],\"title\":{\"text\":\"Kidhome\"},\"categoryorder\":\"array\",\"categoryarray\":[\"21-30\",\"31-40\"]},\"yaxis\":{\"anchor\":\"x\",\"domain\":[0.0,1.0],\"title\":{\"text\":\"Income\"}},\"legend\":{\"tracegroupgap\":0},\"title\":{\"text\":\"Relationship between Marital Status and Total Amount Spent\"},\"barmode\":\"relative\",\"height\":500,\"annotations\":[{\"font\":{\"color\":\"rgb(66, 99, 236)\",\"family\":\"Arial\",\"size\":14},\"showarrow\":false,\"text\":\"61335.4$\",\"x\":0,\"y\":66335.39636144246},{\"font\":{\"color\":\"rgb(66, 99, 236)\",\"family\":\"Arial\",\"size\":14},\"showarrow\":false,\"text\":\"38343.35$\",\"x\":1,\"y\":43343.35381277398},{\"font\":{\"color\":\"rgb(66, 99, 236)\",\"family\":\"Arial\",\"size\":14},\"showarrow\":false,\"text\":\"39695.24$\",\"x\":2,\"y\":44695.239639741274}]},                        {\"responsive\": true}                    ).then(function(){\n",
              "                            \n",
              "var gd = document.getElementById('d0a35de8-9602-499c-b38b-ed00b918632d');\n",
              "var x = new MutationObserver(function (mutations, observer) {{\n",
              "        var display = window.getComputedStyle(gd).display;\n",
              "        if (!display || display === 'none') {{\n",
              "            console.log([gd, 'removed!']);\n",
              "            Plotly.purge(gd);\n",
              "            observer.disconnect();\n",
              "        }}\n",
              "}});\n",
              "\n",
              "// Listen for the removal of the full notebook cells\n",
              "var notebookContainer = gd.closest('#notebook-container');\n",
              "if (notebookContainer) {{\n",
              "    x.observe(notebookContainer, {childList: true});\n",
              "}}\n",
              "\n",
              "// Listen for the clearing of the current output cell\n",
              "var outputEl = gd.closest('.output');\n",
              "if (outputEl) {{\n",
              "    x.observe(outputEl, {childList: true});\n",
              "}}\n",
              "\n",
              "                        })                };                            </script>        </div>\n",
              "</body>\n",
              "</html>"
            ]
          },
          "metadata": {}
        }
      ]
    },
    {
      "cell_type": "markdown",
      "source": [
        "`We can see that customer's who don't have kids earn more than others.`"
      ],
      "metadata": {
        "id": "_62Yvkbafck4"
      }
    },
    {
      "cell_type": "markdown",
      "source": [
        "**Teens Home Vs Total_Amount_spent**\n"
      ],
      "metadata": {
        "id": "JZ1atr88fvgy"
      }
    },
    {
      "cell_type": "code",
      "source": [
        "mask = df2.groupby(\"Teenhome\")[\"Total_Amount_spent\"].median()\n",
        "mask = mask.reset_index()\n",
        "fig = px.bar(data_frame=mask, x=\"Teenhome\", y=\"Total_Amount_spent\", height=500, title=\"Relationship between Marital Status and Total Amount Spent\")\n",
        "\n",
        "annotation = []\n",
        "for x, y in zip(mask[\"Teenhome\"], mask[\"Total_Amount_spent\"]):\n",
        "    annotation.append(\n",
        "        dict(x=x, y=y +50,\n",
        "             text=str(round(y, 2)) + '$',\n",
        "             font=dict(family='Arial', size=14, color='rgb(66, 99, 236)'), showarrow=False)\n",
        "    )\n",
        "fig.update_layout(annotations=annotation)\n",
        "fig.show()"
      ],
      "metadata": {
        "id": "VTo5TsY0fu7D",
        "outputId": "8a8d6261-bb20-4e02-954f-1a672b49abab",
        "colab": {
          "base_uri": "https://localhost:8080/",
          "height": 517
        }
      },
      "execution_count": 80,
      "outputs": [
        {
          "output_type": "display_data",
          "data": {
            "text/html": [
              "<html>\n",
              "<head><meta charset=\"utf-8\" /></head>\n",
              "<body>\n",
              "    <div>            <script src=\"https://cdnjs.cloudflare.com/ajax/libs/mathjax/2.7.5/MathJax.js?config=TeX-AMS-MML_SVG\"></script><script type=\"text/javascript\">if (window.MathJax) {MathJax.Hub.Config({SVG: {font: \"STIX-Web\"}});}</script>                <script type=\"text/javascript\">window.PlotlyConfig = {MathJaxConfig: 'local'};</script>\n",
              "        <script src=\"https://cdn.plot.ly/plotly-2.8.3.min.js\"></script>                <div id=\"cfec3261-5e59-4493-8933-f10e7e5f98be\" class=\"plotly-graph-div\" style=\"height:500px; width:100%;\"></div>            <script type=\"text/javascript\">                                    window.PLOTLYENV=window.PLOTLYENV || {};                                    if (document.getElementById(\"cfec3261-5e59-4493-8933-f10e7e5f98be\")) {                    Plotly.newPlot(                        \"cfec3261-5e59-4493-8933-f10e7e5f98be\",                        [{\"alignmentgroup\":\"True\",\"hovertemplate\":\"Teenhome=%{x}<br>Total_Amount_spent=%{y}<extra></extra>\",\"legendgroup\":\"\",\"marker\":{\"color\":\"#636efa\",\"pattern\":{\"shape\":\"\"}},\"name\":\"\",\"offsetgroup\":\"\",\"orientation\":\"v\",\"showlegend\":false,\"textposition\":\"auto\",\"x\":[0,1,2],\"xaxis\":\"x\",\"y\":[382.0,395.0,458.5],\"yaxis\":\"y\",\"type\":\"bar\"}],                        {\"template\":{\"data\":{\"bar\":[{\"error_x\":{\"color\":\"#2a3f5f\"},\"error_y\":{\"color\":\"#2a3f5f\"},\"marker\":{\"line\":{\"color\":\"#E5ECF6\",\"width\":0.5},\"pattern\":{\"fillmode\":\"overlay\",\"size\":10,\"solidity\":0.2}},\"type\":\"bar\"}],\"barpolar\":[{\"marker\":{\"line\":{\"color\":\"#E5ECF6\",\"width\":0.5},\"pattern\":{\"fillmode\":\"overlay\",\"size\":10,\"solidity\":0.2}},\"type\":\"barpolar\"}],\"carpet\":[{\"aaxis\":{\"endlinecolor\":\"#2a3f5f\",\"gridcolor\":\"white\",\"linecolor\":\"white\",\"minorgridcolor\":\"white\",\"startlinecolor\":\"#2a3f5f\"},\"baxis\":{\"endlinecolor\":\"#2a3f5f\",\"gridcolor\":\"white\",\"linecolor\":\"white\",\"minorgridcolor\":\"white\",\"startlinecolor\":\"#2a3f5f\"},\"type\":\"carpet\"}],\"choropleth\":[{\"colorbar\":{\"outlinewidth\":0,\"ticks\":\"\"},\"type\":\"choropleth\"}],\"contour\":[{\"colorbar\":{\"outlinewidth\":0,\"ticks\":\"\"},\"colorscale\":[[0.0,\"#0d0887\"],[0.1111111111111111,\"#46039f\"],[0.2222222222222222,\"#7201a8\"],[0.3333333333333333,\"#9c179e\"],[0.4444444444444444,\"#bd3786\"],[0.5555555555555556,\"#d8576b\"],[0.6666666666666666,\"#ed7953\"],[0.7777777777777778,\"#fb9f3a\"],[0.8888888888888888,\"#fdca26\"],[1.0,\"#f0f921\"]],\"type\":\"contour\"}],\"contourcarpet\":[{\"colorbar\":{\"outlinewidth\":0,\"ticks\":\"\"},\"type\":\"contourcarpet\"}],\"heatmap\":[{\"colorbar\":{\"outlinewidth\":0,\"ticks\":\"\"},\"colorscale\":[[0.0,\"#0d0887\"],[0.1111111111111111,\"#46039f\"],[0.2222222222222222,\"#7201a8\"],[0.3333333333333333,\"#9c179e\"],[0.4444444444444444,\"#bd3786\"],[0.5555555555555556,\"#d8576b\"],[0.6666666666666666,\"#ed7953\"],[0.7777777777777778,\"#fb9f3a\"],[0.8888888888888888,\"#fdca26\"],[1.0,\"#f0f921\"]],\"type\":\"heatmap\"}],\"heatmapgl\":[{\"colorbar\":{\"outlinewidth\":0,\"ticks\":\"\"},\"colorscale\":[[0.0,\"#0d0887\"],[0.1111111111111111,\"#46039f\"],[0.2222222222222222,\"#7201a8\"],[0.3333333333333333,\"#9c179e\"],[0.4444444444444444,\"#bd3786\"],[0.5555555555555556,\"#d8576b\"],[0.6666666666666666,\"#ed7953\"],[0.7777777777777778,\"#fb9f3a\"],[0.8888888888888888,\"#fdca26\"],[1.0,\"#f0f921\"]],\"type\":\"heatmapgl\"}],\"histogram\":[{\"marker\":{\"pattern\":{\"fillmode\":\"overlay\",\"size\":10,\"solidity\":0.2}},\"type\":\"histogram\"}],\"histogram2d\":[{\"colorbar\":{\"outlinewidth\":0,\"ticks\":\"\"},\"colorscale\":[[0.0,\"#0d0887\"],[0.1111111111111111,\"#46039f\"],[0.2222222222222222,\"#7201a8\"],[0.3333333333333333,\"#9c179e\"],[0.4444444444444444,\"#bd3786\"],[0.5555555555555556,\"#d8576b\"],[0.6666666666666666,\"#ed7953\"],[0.7777777777777778,\"#fb9f3a\"],[0.8888888888888888,\"#fdca26\"],[1.0,\"#f0f921\"]],\"type\":\"histogram2d\"}],\"histogram2dcontour\":[{\"colorbar\":{\"outlinewidth\":0,\"ticks\":\"\"},\"colorscale\":[[0.0,\"#0d0887\"],[0.1111111111111111,\"#46039f\"],[0.2222222222222222,\"#7201a8\"],[0.3333333333333333,\"#9c179e\"],[0.4444444444444444,\"#bd3786\"],[0.5555555555555556,\"#d8576b\"],[0.6666666666666666,\"#ed7953\"],[0.7777777777777778,\"#fb9f3a\"],[0.8888888888888888,\"#fdca26\"],[1.0,\"#f0f921\"]],\"type\":\"histogram2dcontour\"}],\"mesh3d\":[{\"colorbar\":{\"outlinewidth\":0,\"ticks\":\"\"},\"type\":\"mesh3d\"}],\"parcoords\":[{\"line\":{\"colorbar\":{\"outlinewidth\":0,\"ticks\":\"\"}},\"type\":\"parcoords\"}],\"pie\":[{\"automargin\":true,\"type\":\"pie\"}],\"scatter\":[{\"marker\":{\"colorbar\":{\"outlinewidth\":0,\"ticks\":\"\"}},\"type\":\"scatter\"}],\"scatter3d\":[{\"line\":{\"colorbar\":{\"outlinewidth\":0,\"ticks\":\"\"}},\"marker\":{\"colorbar\":{\"outlinewidth\":0,\"ticks\":\"\"}},\"type\":\"scatter3d\"}],\"scattercarpet\":[{\"marker\":{\"colorbar\":{\"outlinewidth\":0,\"ticks\":\"\"}},\"type\":\"scattercarpet\"}],\"scattergeo\":[{\"marker\":{\"colorbar\":{\"outlinewidth\":0,\"ticks\":\"\"}},\"type\":\"scattergeo\"}],\"scattergl\":[{\"marker\":{\"colorbar\":{\"outlinewidth\":0,\"ticks\":\"\"}},\"type\":\"scattergl\"}],\"scattermapbox\":[{\"marker\":{\"colorbar\":{\"outlinewidth\":0,\"ticks\":\"\"}},\"type\":\"scattermapbox\"}],\"scatterpolar\":[{\"marker\":{\"colorbar\":{\"outlinewidth\":0,\"ticks\":\"\"}},\"type\":\"scatterpolar\"}],\"scatterpolargl\":[{\"marker\":{\"colorbar\":{\"outlinewidth\":0,\"ticks\":\"\"}},\"type\":\"scatterpolargl\"}],\"scatterternary\":[{\"marker\":{\"colorbar\":{\"outlinewidth\":0,\"ticks\":\"\"}},\"type\":\"scatterternary\"}],\"surface\":[{\"colorbar\":{\"outlinewidth\":0,\"ticks\":\"\"},\"colorscale\":[[0.0,\"#0d0887\"],[0.1111111111111111,\"#46039f\"],[0.2222222222222222,\"#7201a8\"],[0.3333333333333333,\"#9c179e\"],[0.4444444444444444,\"#bd3786\"],[0.5555555555555556,\"#d8576b\"],[0.6666666666666666,\"#ed7953\"],[0.7777777777777778,\"#fb9f3a\"],[0.8888888888888888,\"#fdca26\"],[1.0,\"#f0f921\"]],\"type\":\"surface\"}],\"table\":[{\"cells\":{\"fill\":{\"color\":\"#EBF0F8\"},\"line\":{\"color\":\"white\"}},\"header\":{\"fill\":{\"color\":\"#C8D4E3\"},\"line\":{\"color\":\"white\"}},\"type\":\"table\"}]},\"layout\":{\"annotationdefaults\":{\"arrowcolor\":\"#2a3f5f\",\"arrowhead\":0,\"arrowwidth\":1},\"autotypenumbers\":\"strict\",\"coloraxis\":{\"colorbar\":{\"outlinewidth\":0,\"ticks\":\"\"}},\"colorscale\":{\"diverging\":[[0,\"#8e0152\"],[0.1,\"#c51b7d\"],[0.2,\"#de77ae\"],[0.3,\"#f1b6da\"],[0.4,\"#fde0ef\"],[0.5,\"#f7f7f7\"],[0.6,\"#e6f5d0\"],[0.7,\"#b8e186\"],[0.8,\"#7fbc41\"],[0.9,\"#4d9221\"],[1,\"#276419\"]],\"sequential\":[[0.0,\"#0d0887\"],[0.1111111111111111,\"#46039f\"],[0.2222222222222222,\"#7201a8\"],[0.3333333333333333,\"#9c179e\"],[0.4444444444444444,\"#bd3786\"],[0.5555555555555556,\"#d8576b\"],[0.6666666666666666,\"#ed7953\"],[0.7777777777777778,\"#fb9f3a\"],[0.8888888888888888,\"#fdca26\"],[1.0,\"#f0f921\"]],\"sequentialminus\":[[0.0,\"#0d0887\"],[0.1111111111111111,\"#46039f\"],[0.2222222222222222,\"#7201a8\"],[0.3333333333333333,\"#9c179e\"],[0.4444444444444444,\"#bd3786\"],[0.5555555555555556,\"#d8576b\"],[0.6666666666666666,\"#ed7953\"],[0.7777777777777778,\"#fb9f3a\"],[0.8888888888888888,\"#fdca26\"],[1.0,\"#f0f921\"]]},\"colorway\":[\"#636efa\",\"#EF553B\",\"#00cc96\",\"#ab63fa\",\"#FFA15A\",\"#19d3f3\",\"#FF6692\",\"#B6E880\",\"#FF97FF\",\"#FECB52\"],\"font\":{\"color\":\"#2a3f5f\"},\"geo\":{\"bgcolor\":\"white\",\"lakecolor\":\"white\",\"landcolor\":\"#E5ECF6\",\"showlakes\":true,\"showland\":true,\"subunitcolor\":\"white\"},\"hoverlabel\":{\"align\":\"left\"},\"hovermode\":\"closest\",\"mapbox\":{\"style\":\"light\"},\"paper_bgcolor\":\"white\",\"plot_bgcolor\":\"#E5ECF6\",\"polar\":{\"angularaxis\":{\"gridcolor\":\"white\",\"linecolor\":\"white\",\"ticks\":\"\"},\"bgcolor\":\"#E5ECF6\",\"radialaxis\":{\"gridcolor\":\"white\",\"linecolor\":\"white\",\"ticks\":\"\"}},\"scene\":{\"xaxis\":{\"backgroundcolor\":\"#E5ECF6\",\"gridcolor\":\"white\",\"gridwidth\":2,\"linecolor\":\"white\",\"showbackground\":true,\"ticks\":\"\",\"zerolinecolor\":\"white\"},\"yaxis\":{\"backgroundcolor\":\"#E5ECF6\",\"gridcolor\":\"white\",\"gridwidth\":2,\"linecolor\":\"white\",\"showbackground\":true,\"ticks\":\"\",\"zerolinecolor\":\"white\"},\"zaxis\":{\"backgroundcolor\":\"#E5ECF6\",\"gridcolor\":\"white\",\"gridwidth\":2,\"linecolor\":\"white\",\"showbackground\":true,\"ticks\":\"\",\"zerolinecolor\":\"white\"}},\"shapedefaults\":{\"line\":{\"color\":\"#2a3f5f\"}},\"ternary\":{\"aaxis\":{\"gridcolor\":\"white\",\"linecolor\":\"white\",\"ticks\":\"\"},\"baxis\":{\"gridcolor\":\"white\",\"linecolor\":\"white\",\"ticks\":\"\"},\"bgcolor\":\"#E5ECF6\",\"caxis\":{\"gridcolor\":\"white\",\"linecolor\":\"white\",\"ticks\":\"\"}},\"title\":{\"x\":0.05},\"xaxis\":{\"automargin\":true,\"gridcolor\":\"white\",\"linecolor\":\"white\",\"ticks\":\"\",\"title\":{\"standoff\":15},\"zerolinecolor\":\"white\",\"zerolinewidth\":2},\"yaxis\":{\"automargin\":true,\"gridcolor\":\"white\",\"linecolor\":\"white\",\"ticks\":\"\",\"title\":{\"standoff\":15},\"zerolinecolor\":\"white\",\"zerolinewidth\":2}}},\"xaxis\":{\"anchor\":\"y\",\"domain\":[0.0,1.0],\"title\":{\"text\":\"Teenhome\"}},\"yaxis\":{\"anchor\":\"x\",\"domain\":[0.0,1.0],\"title\":{\"text\":\"Total_Amount_spent\"}},\"legend\":{\"tracegroupgap\":0},\"title\":{\"text\":\"Relationship between Marital Status and Total Amount Spent\"},\"barmode\":\"relative\",\"height\":500,\"annotations\":[{\"font\":{\"color\":\"rgb(66, 99, 236)\",\"family\":\"Arial\",\"size\":14},\"showarrow\":false,\"text\":\"382.0$\",\"x\":0,\"y\":432.0},{\"font\":{\"color\":\"rgb(66, 99, 236)\",\"family\":\"Arial\",\"size\":14},\"showarrow\":false,\"text\":\"395.0$\",\"x\":1,\"y\":445.0},{\"font\":{\"color\":\"rgb(66, 99, 236)\",\"family\":\"Arial\",\"size\":14},\"showarrow\":false,\"text\":\"458.5$\",\"x\":2,\"y\":508.5}]},                        {\"responsive\": true}                    ).then(function(){\n",
              "                            \n",
              "var gd = document.getElementById('cfec3261-5e59-4493-8933-f10e7e5f98be');\n",
              "var x = new MutationObserver(function (mutations, observer) {{\n",
              "        var display = window.getComputedStyle(gd).display;\n",
              "        if (!display || display === 'none') {{\n",
              "            console.log([gd, 'removed!']);\n",
              "            Plotly.purge(gd);\n",
              "            observer.disconnect();\n",
              "        }}\n",
              "}});\n",
              "\n",
              "// Listen for the removal of the full notebook cells\n",
              "var notebookContainer = gd.closest('#notebook-container');\n",
              "if (notebookContainer) {{\n",
              "    x.observe(notebookContainer, {childList: true});\n",
              "}}\n",
              "\n",
              "// Listen for the clearing of the current output cell\n",
              "var outputEl = gd.closest('.output');\n",
              "if (outputEl) {{\n",
              "    x.observe(outputEl, {childList: true});\n",
              "}}\n",
              "\n",
              "                        })                };                            </script>        </div>\n",
              "</body>\n",
              "</html>"
            ]
          },
          "metadata": {}
        }
      ]
    },
    {
      "cell_type": "markdown",
      "source": [
        "`We can see from the above relationship the upward trend concerning Teens at home and Average Amount Spent. As the number of teens increase so do the average amount spent increases.`"
      ],
      "metadata": {
        "id": "UE4Wy66hgNQt"
      }
    },
    {
      "cell_type": "markdown",
      "source": [
        "Total Children VS Amount Spent."
      ],
      "metadata": {
        "id": "5Si04HrXgYsn"
      }
    },
    {
      "cell_type": "code",
      "source": [
        "mask = df2.groupby(\"Total_Children\")[\"Total_Amount_spent\"].median()\n",
        "mask = mask.reset_index()\n",
        "fig = px.bar(data_frame=mask, x=\"Total_Children\", y=\"Total_Amount_spent\", height=500,\n",
        "             title=\"Relationship between Marital Status and Amount Spent [Average Spent]\")\n",
        "\n",
        "annotation = []\n",
        "for x, y in zip(mask[\"Total_Children\"], mask[\"Total_Amount_spent\"]):\n",
        "    annotation.append(\n",
        "        dict(x=x, y=y +50,\n",
        "             text=str(round(y, 2)) + '$',\n",
        "             font=dict(family='Arial', size=14, color='rgb(66, 99, 236)'), showarrow=False)\n",
        "    )\n",
        "fig.update_layout(annotations=annotation)\n",
        "fig.show()"
      ],
      "metadata": {
        "id": "FDVQV4czfieQ",
        "outputId": "096a6b73-cce8-454d-f122-f31f9c2f9c80",
        "colab": {
          "base_uri": "https://localhost:8080/",
          "height": 517
        }
      },
      "execution_count": 83,
      "outputs": [
        {
          "output_type": "display_data",
          "data": {
            "text/html": [
              "<html>\n",
              "<head><meta charset=\"utf-8\" /></head>\n",
              "<body>\n",
              "    <div>            <script src=\"https://cdnjs.cloudflare.com/ajax/libs/mathjax/2.7.5/MathJax.js?config=TeX-AMS-MML_SVG\"></script><script type=\"text/javascript\">if (window.MathJax) {MathJax.Hub.Config({SVG: {font: \"STIX-Web\"}});}</script>                <script type=\"text/javascript\">window.PlotlyConfig = {MathJaxConfig: 'local'};</script>\n",
              "        <script src=\"https://cdn.plot.ly/plotly-2.8.3.min.js\"></script>                <div id=\"6c62e59c-5eab-45ce-b43d-2f262110d895\" class=\"plotly-graph-div\" style=\"height:500px; width:100%;\"></div>            <script type=\"text/javascript\">                                    window.PLOTLYENV=window.PLOTLYENV || {};                                    if (document.getElementById(\"6c62e59c-5eab-45ce-b43d-2f262110d895\")) {                    Plotly.newPlot(                        \"6c62e59c-5eab-45ce-b43d-2f262110d895\",                        [{\"alignmentgroup\":\"True\",\"hovertemplate\":\"Total_Children=%{x}<br>Total_Amount_spent=%{y}<extra></extra>\",\"legendgroup\":\"\",\"marker\":{\"color\":\"#636efa\",\"pattern\":{\"shape\":\"\"}},\"name\":\"\",\"offsetgroup\":\"\",\"orientation\":\"v\",\"showlegend\":false,\"textposition\":\"auto\",\"x\":[0,1,2,3],\"xaxis\":\"x\",\"y\":[1189.5,305.0,93.0,88.0],\"yaxis\":\"y\",\"type\":\"bar\"}],                        {\"template\":{\"data\":{\"bar\":[{\"error_x\":{\"color\":\"#2a3f5f\"},\"error_y\":{\"color\":\"#2a3f5f\"},\"marker\":{\"line\":{\"color\":\"#E5ECF6\",\"width\":0.5},\"pattern\":{\"fillmode\":\"overlay\",\"size\":10,\"solidity\":0.2}},\"type\":\"bar\"}],\"barpolar\":[{\"marker\":{\"line\":{\"color\":\"#E5ECF6\",\"width\":0.5},\"pattern\":{\"fillmode\":\"overlay\",\"size\":10,\"solidity\":0.2}},\"type\":\"barpolar\"}],\"carpet\":[{\"aaxis\":{\"endlinecolor\":\"#2a3f5f\",\"gridcolor\":\"white\",\"linecolor\":\"white\",\"minorgridcolor\":\"white\",\"startlinecolor\":\"#2a3f5f\"},\"baxis\":{\"endlinecolor\":\"#2a3f5f\",\"gridcolor\":\"white\",\"linecolor\":\"white\",\"minorgridcolor\":\"white\",\"startlinecolor\":\"#2a3f5f\"},\"type\":\"carpet\"}],\"choropleth\":[{\"colorbar\":{\"outlinewidth\":0,\"ticks\":\"\"},\"type\":\"choropleth\"}],\"contour\":[{\"colorbar\":{\"outlinewidth\":0,\"ticks\":\"\"},\"colorscale\":[[0.0,\"#0d0887\"],[0.1111111111111111,\"#46039f\"],[0.2222222222222222,\"#7201a8\"],[0.3333333333333333,\"#9c179e\"],[0.4444444444444444,\"#bd3786\"],[0.5555555555555556,\"#d8576b\"],[0.6666666666666666,\"#ed7953\"],[0.7777777777777778,\"#fb9f3a\"],[0.8888888888888888,\"#fdca26\"],[1.0,\"#f0f921\"]],\"type\":\"contour\"}],\"contourcarpet\":[{\"colorbar\":{\"outlinewidth\":0,\"ticks\":\"\"},\"type\":\"contourcarpet\"}],\"heatmap\":[{\"colorbar\":{\"outlinewidth\":0,\"ticks\":\"\"},\"colorscale\":[[0.0,\"#0d0887\"],[0.1111111111111111,\"#46039f\"],[0.2222222222222222,\"#7201a8\"],[0.3333333333333333,\"#9c179e\"],[0.4444444444444444,\"#bd3786\"],[0.5555555555555556,\"#d8576b\"],[0.6666666666666666,\"#ed7953\"],[0.7777777777777778,\"#fb9f3a\"],[0.8888888888888888,\"#fdca26\"],[1.0,\"#f0f921\"]],\"type\":\"heatmap\"}],\"heatmapgl\":[{\"colorbar\":{\"outlinewidth\":0,\"ticks\":\"\"},\"colorscale\":[[0.0,\"#0d0887\"],[0.1111111111111111,\"#46039f\"],[0.2222222222222222,\"#7201a8\"],[0.3333333333333333,\"#9c179e\"],[0.4444444444444444,\"#bd3786\"],[0.5555555555555556,\"#d8576b\"],[0.6666666666666666,\"#ed7953\"],[0.7777777777777778,\"#fb9f3a\"],[0.8888888888888888,\"#fdca26\"],[1.0,\"#f0f921\"]],\"type\":\"heatmapgl\"}],\"histogram\":[{\"marker\":{\"pattern\":{\"fillmode\":\"overlay\",\"size\":10,\"solidity\":0.2}},\"type\":\"histogram\"}],\"histogram2d\":[{\"colorbar\":{\"outlinewidth\":0,\"ticks\":\"\"},\"colorscale\":[[0.0,\"#0d0887\"],[0.1111111111111111,\"#46039f\"],[0.2222222222222222,\"#7201a8\"],[0.3333333333333333,\"#9c179e\"],[0.4444444444444444,\"#bd3786\"],[0.5555555555555556,\"#d8576b\"],[0.6666666666666666,\"#ed7953\"],[0.7777777777777778,\"#fb9f3a\"],[0.8888888888888888,\"#fdca26\"],[1.0,\"#f0f921\"]],\"type\":\"histogram2d\"}],\"histogram2dcontour\":[{\"colorbar\":{\"outlinewidth\":0,\"ticks\":\"\"},\"colorscale\":[[0.0,\"#0d0887\"],[0.1111111111111111,\"#46039f\"],[0.2222222222222222,\"#7201a8\"],[0.3333333333333333,\"#9c179e\"],[0.4444444444444444,\"#bd3786\"],[0.5555555555555556,\"#d8576b\"],[0.6666666666666666,\"#ed7953\"],[0.7777777777777778,\"#fb9f3a\"],[0.8888888888888888,\"#fdca26\"],[1.0,\"#f0f921\"]],\"type\":\"histogram2dcontour\"}],\"mesh3d\":[{\"colorbar\":{\"outlinewidth\":0,\"ticks\":\"\"},\"type\":\"mesh3d\"}],\"parcoords\":[{\"line\":{\"colorbar\":{\"outlinewidth\":0,\"ticks\":\"\"}},\"type\":\"parcoords\"}],\"pie\":[{\"automargin\":true,\"type\":\"pie\"}],\"scatter\":[{\"marker\":{\"colorbar\":{\"outlinewidth\":0,\"ticks\":\"\"}},\"type\":\"scatter\"}],\"scatter3d\":[{\"line\":{\"colorbar\":{\"outlinewidth\":0,\"ticks\":\"\"}},\"marker\":{\"colorbar\":{\"outlinewidth\":0,\"ticks\":\"\"}},\"type\":\"scatter3d\"}],\"scattercarpet\":[{\"marker\":{\"colorbar\":{\"outlinewidth\":0,\"ticks\":\"\"}},\"type\":\"scattercarpet\"}],\"scattergeo\":[{\"marker\":{\"colorbar\":{\"outlinewidth\":0,\"ticks\":\"\"}},\"type\":\"scattergeo\"}],\"scattergl\":[{\"marker\":{\"colorbar\":{\"outlinewidth\":0,\"ticks\":\"\"}},\"type\":\"scattergl\"}],\"scattermapbox\":[{\"marker\":{\"colorbar\":{\"outlinewidth\":0,\"ticks\":\"\"}},\"type\":\"scattermapbox\"}],\"scatterpolar\":[{\"marker\":{\"colorbar\":{\"outlinewidth\":0,\"ticks\":\"\"}},\"type\":\"scatterpolar\"}],\"scatterpolargl\":[{\"marker\":{\"colorbar\":{\"outlinewidth\":0,\"ticks\":\"\"}},\"type\":\"scatterpolargl\"}],\"scatterternary\":[{\"marker\":{\"colorbar\":{\"outlinewidth\":0,\"ticks\":\"\"}},\"type\":\"scatterternary\"}],\"surface\":[{\"colorbar\":{\"outlinewidth\":0,\"ticks\":\"\"},\"colorscale\":[[0.0,\"#0d0887\"],[0.1111111111111111,\"#46039f\"],[0.2222222222222222,\"#7201a8\"],[0.3333333333333333,\"#9c179e\"],[0.4444444444444444,\"#bd3786\"],[0.5555555555555556,\"#d8576b\"],[0.6666666666666666,\"#ed7953\"],[0.7777777777777778,\"#fb9f3a\"],[0.8888888888888888,\"#fdca26\"],[1.0,\"#f0f921\"]],\"type\":\"surface\"}],\"table\":[{\"cells\":{\"fill\":{\"color\":\"#EBF0F8\"},\"line\":{\"color\":\"white\"}},\"header\":{\"fill\":{\"color\":\"#C8D4E3\"},\"line\":{\"color\":\"white\"}},\"type\":\"table\"}]},\"layout\":{\"annotationdefaults\":{\"arrowcolor\":\"#2a3f5f\",\"arrowhead\":0,\"arrowwidth\":1},\"autotypenumbers\":\"strict\",\"coloraxis\":{\"colorbar\":{\"outlinewidth\":0,\"ticks\":\"\"}},\"colorscale\":{\"diverging\":[[0,\"#8e0152\"],[0.1,\"#c51b7d\"],[0.2,\"#de77ae\"],[0.3,\"#f1b6da\"],[0.4,\"#fde0ef\"],[0.5,\"#f7f7f7\"],[0.6,\"#e6f5d0\"],[0.7,\"#b8e186\"],[0.8,\"#7fbc41\"],[0.9,\"#4d9221\"],[1,\"#276419\"]],\"sequential\":[[0.0,\"#0d0887\"],[0.1111111111111111,\"#46039f\"],[0.2222222222222222,\"#7201a8\"],[0.3333333333333333,\"#9c179e\"],[0.4444444444444444,\"#bd3786\"],[0.5555555555555556,\"#d8576b\"],[0.6666666666666666,\"#ed7953\"],[0.7777777777777778,\"#fb9f3a\"],[0.8888888888888888,\"#fdca26\"],[1.0,\"#f0f921\"]],\"sequentialminus\":[[0.0,\"#0d0887\"],[0.1111111111111111,\"#46039f\"],[0.2222222222222222,\"#7201a8\"],[0.3333333333333333,\"#9c179e\"],[0.4444444444444444,\"#bd3786\"],[0.5555555555555556,\"#d8576b\"],[0.6666666666666666,\"#ed7953\"],[0.7777777777777778,\"#fb9f3a\"],[0.8888888888888888,\"#fdca26\"],[1.0,\"#f0f921\"]]},\"colorway\":[\"#636efa\",\"#EF553B\",\"#00cc96\",\"#ab63fa\",\"#FFA15A\",\"#19d3f3\",\"#FF6692\",\"#B6E880\",\"#FF97FF\",\"#FECB52\"],\"font\":{\"color\":\"#2a3f5f\"},\"geo\":{\"bgcolor\":\"white\",\"lakecolor\":\"white\",\"landcolor\":\"#E5ECF6\",\"showlakes\":true,\"showland\":true,\"subunitcolor\":\"white\"},\"hoverlabel\":{\"align\":\"left\"},\"hovermode\":\"closest\",\"mapbox\":{\"style\":\"light\"},\"paper_bgcolor\":\"white\",\"plot_bgcolor\":\"#E5ECF6\",\"polar\":{\"angularaxis\":{\"gridcolor\":\"white\",\"linecolor\":\"white\",\"ticks\":\"\"},\"bgcolor\":\"#E5ECF6\",\"radialaxis\":{\"gridcolor\":\"white\",\"linecolor\":\"white\",\"ticks\":\"\"}},\"scene\":{\"xaxis\":{\"backgroundcolor\":\"#E5ECF6\",\"gridcolor\":\"white\",\"gridwidth\":2,\"linecolor\":\"white\",\"showbackground\":true,\"ticks\":\"\",\"zerolinecolor\":\"white\"},\"yaxis\":{\"backgroundcolor\":\"#E5ECF6\",\"gridcolor\":\"white\",\"gridwidth\":2,\"linecolor\":\"white\",\"showbackground\":true,\"ticks\":\"\",\"zerolinecolor\":\"white\"},\"zaxis\":{\"backgroundcolor\":\"#E5ECF6\",\"gridcolor\":\"white\",\"gridwidth\":2,\"linecolor\":\"white\",\"showbackground\":true,\"ticks\":\"\",\"zerolinecolor\":\"white\"}},\"shapedefaults\":{\"line\":{\"color\":\"#2a3f5f\"}},\"ternary\":{\"aaxis\":{\"gridcolor\":\"white\",\"linecolor\":\"white\",\"ticks\":\"\"},\"baxis\":{\"gridcolor\":\"white\",\"linecolor\":\"white\",\"ticks\":\"\"},\"bgcolor\":\"#E5ECF6\",\"caxis\":{\"gridcolor\":\"white\",\"linecolor\":\"white\",\"ticks\":\"\"}},\"title\":{\"x\":0.05},\"xaxis\":{\"automargin\":true,\"gridcolor\":\"white\",\"linecolor\":\"white\",\"ticks\":\"\",\"title\":{\"standoff\":15},\"zerolinecolor\":\"white\",\"zerolinewidth\":2},\"yaxis\":{\"automargin\":true,\"gridcolor\":\"white\",\"linecolor\":\"white\",\"ticks\":\"\",\"title\":{\"standoff\":15},\"zerolinecolor\":\"white\",\"zerolinewidth\":2}}},\"xaxis\":{\"anchor\":\"y\",\"domain\":[0.0,1.0],\"title\":{\"text\":\"Total_Children\"}},\"yaxis\":{\"anchor\":\"x\",\"domain\":[0.0,1.0],\"title\":{\"text\":\"Total_Amount_spent\"}},\"legend\":{\"tracegroupgap\":0},\"title\":{\"text\":\"Relationship between Marital Status and Amount Spent [Average Spent]\"},\"barmode\":\"relative\",\"height\":500,\"annotations\":[{\"font\":{\"color\":\"rgb(66, 99, 236)\",\"family\":\"Arial\",\"size\":14},\"showarrow\":false,\"text\":\"1189.5$\",\"x\":0,\"y\":1239.5},{\"font\":{\"color\":\"rgb(66, 99, 236)\",\"family\":\"Arial\",\"size\":14},\"showarrow\":false,\"text\":\"305.0$\",\"x\":1,\"y\":355.0},{\"font\":{\"color\":\"rgb(66, 99, 236)\",\"family\":\"Arial\",\"size\":14},\"showarrow\":false,\"text\":\"93.0$\",\"x\":2,\"y\":143.0},{\"font\":{\"color\":\"rgb(66, 99, 236)\",\"family\":\"Arial\",\"size\":14},\"showarrow\":false,\"text\":\"88.0$\",\"x\":3,\"y\":138.0}]},                        {\"responsive\": true}                    ).then(function(){\n",
              "                            \n",
              "var gd = document.getElementById('6c62e59c-5eab-45ce-b43d-2f262110d895');\n",
              "var x = new MutationObserver(function (mutations, observer) {{\n",
              "        var display = window.getComputedStyle(gd).display;\n",
              "        if (!display || display === 'none') {{\n",
              "            console.log([gd, 'removed!']);\n",
              "            Plotly.purge(gd);\n",
              "            observer.disconnect();\n",
              "        }}\n",
              "}});\n",
              "\n",
              "// Listen for the removal of the full notebook cells\n",
              "var notebookContainer = gd.closest('#notebook-container');\n",
              "if (notebookContainer) {{\n",
              "    x.observe(notebookContainer, {childList: true});\n",
              "}}\n",
              "\n",
              "// Listen for the clearing of the current output cell\n",
              "var outputEl = gd.closest('.output');\n",
              "if (outputEl) {{\n",
              "    x.observe(outputEl, {childList: true});\n",
              "}}\n",
              "\n",
              "                        })                };                            </script>        </div>\n",
              "</body>\n",
              "</html>"
            ]
          },
          "metadata": {}
        }
      ]
    },
    {
      "cell_type": "markdown",
      "source": [
        "` As the no.of Children increses the average amonut spent decreases`"
      ],
      "metadata": {
        "id": "aavaucqyg6TW"
      }
    },
    {
      "cell_type": "code",
      "source": [
        "df_cut"
      ],
      "metadata": {
        "id": "XDhG6KvIiXKP",
        "outputId": "3fa1cd41-c7c0-4acc-b39b-05a69e7c3572",
        "colab": {
          "base_uri": "https://localhost:8080/",
          "height": 487
        }
      },
      "execution_count": 86,
      "outputs": [
        {
          "output_type": "execute_result",
          "data": {
            "text/plain": [
              "       Income     ID  Year_Birth      Education Marital_Status  Kidhome  \\\n",
              "0     58138.0   5524        1957       Graduate         Single        0   \n",
              "1     46344.0   2174        1954       Graduate         Single        1   \n",
              "2     71613.0   4141        1965       Graduate        Married        0   \n",
              "3     26646.0   6182        1984       Graduate        Married        1   \n",
              "4     58293.0   5324        1981            PhD        Married        1   \n",
              "...       ...    ...         ...            ...            ...      ...   \n",
              "2235  61223.0  10870        1967       Graduate        Married        0   \n",
              "2236  64014.0   4001        1946            PhD        Married        2   \n",
              "2237  56981.0   7270        1981       Graduate         Single        0   \n",
              "2238  69245.0   8235        1956  Post_Graduate        Married        0   \n",
              "2239  52869.0   9405        1954            PhD        Married        1   \n",
              "\n",
              "      Teenhome Dt_Customer  Recency  MntWines  ...  AcceptedCmp1  \\\n",
              "0            0    4/9/2012       58       635  ...             0   \n",
              "1            1    8/3/2014       38        11  ...             0   \n",
              "2            0  21-08-2013       26       426  ...             0   \n",
              "3            0   10/2/2014       26        11  ...             0   \n",
              "4            0  19-01-2014       94       173  ...             0   \n",
              "...        ...         ...      ...       ...  ...           ...   \n",
              "2235         1  13-06-2013       46       709  ...             0   \n",
              "2236         1   10/6/2014       56       406  ...             1   \n",
              "2237         0  25-01-2014       91       908  ...             0   \n",
              "2238         1  24-01-2014        8       428  ...             0   \n",
              "2239         1  15-10-2012       40        84  ...             0   \n",
              "\n",
              "      AcceptedCmp2  Complain  Z_CostContact  Z_Revenue  Response  \\\n",
              "0                0         0              3         11         1   \n",
              "1                0         0              3         11         0   \n",
              "2                0         0              3         11         0   \n",
              "3                0         0              3         11         0   \n",
              "4                0         0              3         11         0   \n",
              "...            ...       ...            ...        ...       ...   \n",
              "2235             0         0              3         11         0   \n",
              "2236             0         0              3         11         0   \n",
              "2237             0         0              3         11         0   \n",
              "2238             0         0              3         11         0   \n",
              "2239             0         0              3         11         1   \n",
              "\n",
              "      Total_Amount_spent  Age  Total_Children  Age_group  \n",
              "0                   1617   66               0      61-70  \n",
              "1                     27   69               2      61-70  \n",
              "2                    776   58               0      51-60  \n",
              "3                     53   39               1      31-40  \n",
              "4                    422   42               1      41-50  \n",
              "...                  ...  ...             ...        ...  \n",
              "2235                1341   56               1      51-60  \n",
              "2236                 444   77               3      71-80  \n",
              "2237                1241   42               0      41-50  \n",
              "2238                 843   67               1      61-70  \n",
              "2239                 172   69               2      61-70  \n",
              "\n",
              "[2232 rows x 33 columns]"
            ],
            "text/html": [
              "\n",
              "  <div id=\"df-46ec05bf-e289-48c1-a218-6b0a6e67a9b7\">\n",
              "    <div class=\"colab-df-container\">\n",
              "      <div>\n",
              "<style scoped>\n",
              "    .dataframe tbody tr th:only-of-type {\n",
              "        vertical-align: middle;\n",
              "    }\n",
              "\n",
              "    .dataframe tbody tr th {\n",
              "        vertical-align: top;\n",
              "    }\n",
              "\n",
              "    .dataframe thead th {\n",
              "        text-align: right;\n",
              "    }\n",
              "</style>\n",
              "<table border=\"1\" class=\"dataframe\">\n",
              "  <thead>\n",
              "    <tr style=\"text-align: right;\">\n",
              "      <th></th>\n",
              "      <th>Income</th>\n",
              "      <th>ID</th>\n",
              "      <th>Year_Birth</th>\n",
              "      <th>Education</th>\n",
              "      <th>Marital_Status</th>\n",
              "      <th>Kidhome</th>\n",
              "      <th>Teenhome</th>\n",
              "      <th>Dt_Customer</th>\n",
              "      <th>Recency</th>\n",
              "      <th>MntWines</th>\n",
              "      <th>...</th>\n",
              "      <th>AcceptedCmp1</th>\n",
              "      <th>AcceptedCmp2</th>\n",
              "      <th>Complain</th>\n",
              "      <th>Z_CostContact</th>\n",
              "      <th>Z_Revenue</th>\n",
              "      <th>Response</th>\n",
              "      <th>Total_Amount_spent</th>\n",
              "      <th>Age</th>\n",
              "      <th>Total_Children</th>\n",
              "      <th>Age_group</th>\n",
              "    </tr>\n",
              "  </thead>\n",
              "  <tbody>\n",
              "    <tr>\n",
              "      <th>0</th>\n",
              "      <td>58138.0</td>\n",
              "      <td>5524</td>\n",
              "      <td>1957</td>\n",
              "      <td>Graduate</td>\n",
              "      <td>Single</td>\n",
              "      <td>0</td>\n",
              "      <td>0</td>\n",
              "      <td>4/9/2012</td>\n",
              "      <td>58</td>\n",
              "      <td>635</td>\n",
              "      <td>...</td>\n",
              "      <td>0</td>\n",
              "      <td>0</td>\n",
              "      <td>0</td>\n",
              "      <td>3</td>\n",
              "      <td>11</td>\n",
              "      <td>1</td>\n",
              "      <td>1617</td>\n",
              "      <td>66</td>\n",
              "      <td>0</td>\n",
              "      <td>61-70</td>\n",
              "    </tr>\n",
              "    <tr>\n",
              "      <th>1</th>\n",
              "      <td>46344.0</td>\n",
              "      <td>2174</td>\n",
              "      <td>1954</td>\n",
              "      <td>Graduate</td>\n",
              "      <td>Single</td>\n",
              "      <td>1</td>\n",
              "      <td>1</td>\n",
              "      <td>8/3/2014</td>\n",
              "      <td>38</td>\n",
              "      <td>11</td>\n",
              "      <td>...</td>\n",
              "      <td>0</td>\n",
              "      <td>0</td>\n",
              "      <td>0</td>\n",
              "      <td>3</td>\n",
              "      <td>11</td>\n",
              "      <td>0</td>\n",
              "      <td>27</td>\n",
              "      <td>69</td>\n",
              "      <td>2</td>\n",
              "      <td>61-70</td>\n",
              "    </tr>\n",
              "    <tr>\n",
              "      <th>2</th>\n",
              "      <td>71613.0</td>\n",
              "      <td>4141</td>\n",
              "      <td>1965</td>\n",
              "      <td>Graduate</td>\n",
              "      <td>Married</td>\n",
              "      <td>0</td>\n",
              "      <td>0</td>\n",
              "      <td>21-08-2013</td>\n",
              "      <td>26</td>\n",
              "      <td>426</td>\n",
              "      <td>...</td>\n",
              "      <td>0</td>\n",
              "      <td>0</td>\n",
              "      <td>0</td>\n",
              "      <td>3</td>\n",
              "      <td>11</td>\n",
              "      <td>0</td>\n",
              "      <td>776</td>\n",
              "      <td>58</td>\n",
              "      <td>0</td>\n",
              "      <td>51-60</td>\n",
              "    </tr>\n",
              "    <tr>\n",
              "      <th>3</th>\n",
              "      <td>26646.0</td>\n",
              "      <td>6182</td>\n",
              "      <td>1984</td>\n",
              "      <td>Graduate</td>\n",
              "      <td>Married</td>\n",
              "      <td>1</td>\n",
              "      <td>0</td>\n",
              "      <td>10/2/2014</td>\n",
              "      <td>26</td>\n",
              "      <td>11</td>\n",
              "      <td>...</td>\n",
              "      <td>0</td>\n",
              "      <td>0</td>\n",
              "      <td>0</td>\n",
              "      <td>3</td>\n",
              "      <td>11</td>\n",
              "      <td>0</td>\n",
              "      <td>53</td>\n",
              "      <td>39</td>\n",
              "      <td>1</td>\n",
              "      <td>31-40</td>\n",
              "    </tr>\n",
              "    <tr>\n",
              "      <th>4</th>\n",
              "      <td>58293.0</td>\n",
              "      <td>5324</td>\n",
              "      <td>1981</td>\n",
              "      <td>PhD</td>\n",
              "      <td>Married</td>\n",
              "      <td>1</td>\n",
              "      <td>0</td>\n",
              "      <td>19-01-2014</td>\n",
              "      <td>94</td>\n",
              "      <td>173</td>\n",
              "      <td>...</td>\n",
              "      <td>0</td>\n",
              "      <td>0</td>\n",
              "      <td>0</td>\n",
              "      <td>3</td>\n",
              "      <td>11</td>\n",
              "      <td>0</td>\n",
              "      <td>422</td>\n",
              "      <td>42</td>\n",
              "      <td>1</td>\n",
              "      <td>41-50</td>\n",
              "    </tr>\n",
              "    <tr>\n",
              "      <th>...</th>\n",
              "      <td>...</td>\n",
              "      <td>...</td>\n",
              "      <td>...</td>\n",
              "      <td>...</td>\n",
              "      <td>...</td>\n",
              "      <td>...</td>\n",
              "      <td>...</td>\n",
              "      <td>...</td>\n",
              "      <td>...</td>\n",
              "      <td>...</td>\n",
              "      <td>...</td>\n",
              "      <td>...</td>\n",
              "      <td>...</td>\n",
              "      <td>...</td>\n",
              "      <td>...</td>\n",
              "      <td>...</td>\n",
              "      <td>...</td>\n",
              "      <td>...</td>\n",
              "      <td>...</td>\n",
              "      <td>...</td>\n",
              "      <td>...</td>\n",
              "    </tr>\n",
              "    <tr>\n",
              "      <th>2235</th>\n",
              "      <td>61223.0</td>\n",
              "      <td>10870</td>\n",
              "      <td>1967</td>\n",
              "      <td>Graduate</td>\n",
              "      <td>Married</td>\n",
              "      <td>0</td>\n",
              "      <td>1</td>\n",
              "      <td>13-06-2013</td>\n",
              "      <td>46</td>\n",
              "      <td>709</td>\n",
              "      <td>...</td>\n",
              "      <td>0</td>\n",
              "      <td>0</td>\n",
              "      <td>0</td>\n",
              "      <td>3</td>\n",
              "      <td>11</td>\n",
              "      <td>0</td>\n",
              "      <td>1341</td>\n",
              "      <td>56</td>\n",
              "      <td>1</td>\n",
              "      <td>51-60</td>\n",
              "    </tr>\n",
              "    <tr>\n",
              "      <th>2236</th>\n",
              "      <td>64014.0</td>\n",
              "      <td>4001</td>\n",
              "      <td>1946</td>\n",
              "      <td>PhD</td>\n",
              "      <td>Married</td>\n",
              "      <td>2</td>\n",
              "      <td>1</td>\n",
              "      <td>10/6/2014</td>\n",
              "      <td>56</td>\n",
              "      <td>406</td>\n",
              "      <td>...</td>\n",
              "      <td>1</td>\n",
              "      <td>0</td>\n",
              "      <td>0</td>\n",
              "      <td>3</td>\n",
              "      <td>11</td>\n",
              "      <td>0</td>\n",
              "      <td>444</td>\n",
              "      <td>77</td>\n",
              "      <td>3</td>\n",
              "      <td>71-80</td>\n",
              "    </tr>\n",
              "    <tr>\n",
              "      <th>2237</th>\n",
              "      <td>56981.0</td>\n",
              "      <td>7270</td>\n",
              "      <td>1981</td>\n",
              "      <td>Graduate</td>\n",
              "      <td>Single</td>\n",
              "      <td>0</td>\n",
              "      <td>0</td>\n",
              "      <td>25-01-2014</td>\n",
              "      <td>91</td>\n",
              "      <td>908</td>\n",
              "      <td>...</td>\n",
              "      <td>0</td>\n",
              "      <td>0</td>\n",
              "      <td>0</td>\n",
              "      <td>3</td>\n",
              "      <td>11</td>\n",
              "      <td>0</td>\n",
              "      <td>1241</td>\n",
              "      <td>42</td>\n",
              "      <td>0</td>\n",
              "      <td>41-50</td>\n",
              "    </tr>\n",
              "    <tr>\n",
              "      <th>2238</th>\n",
              "      <td>69245.0</td>\n",
              "      <td>8235</td>\n",
              "      <td>1956</td>\n",
              "      <td>Post_Graduate</td>\n",
              "      <td>Married</td>\n",
              "      <td>0</td>\n",
              "      <td>1</td>\n",
              "      <td>24-01-2014</td>\n",
              "      <td>8</td>\n",
              "      <td>428</td>\n",
              "      <td>...</td>\n",
              "      <td>0</td>\n",
              "      <td>0</td>\n",
              "      <td>0</td>\n",
              "      <td>3</td>\n",
              "      <td>11</td>\n",
              "      <td>0</td>\n",
              "      <td>843</td>\n",
              "      <td>67</td>\n",
              "      <td>1</td>\n",
              "      <td>61-70</td>\n",
              "    </tr>\n",
              "    <tr>\n",
              "      <th>2239</th>\n",
              "      <td>52869.0</td>\n",
              "      <td>9405</td>\n",
              "      <td>1954</td>\n",
              "      <td>PhD</td>\n",
              "      <td>Married</td>\n",
              "      <td>1</td>\n",
              "      <td>1</td>\n",
              "      <td>15-10-2012</td>\n",
              "      <td>40</td>\n",
              "      <td>84</td>\n",
              "      <td>...</td>\n",
              "      <td>0</td>\n",
              "      <td>0</td>\n",
              "      <td>0</td>\n",
              "      <td>3</td>\n",
              "      <td>11</td>\n",
              "      <td>1</td>\n",
              "      <td>172</td>\n",
              "      <td>69</td>\n",
              "      <td>2</td>\n",
              "      <td>61-70</td>\n",
              "    </tr>\n",
              "  </tbody>\n",
              "</table>\n",
              "<p>2232 rows × 33 columns</p>\n",
              "</div>\n",
              "      <button class=\"colab-df-convert\" onclick=\"convertToInteractive('df-46ec05bf-e289-48c1-a218-6b0a6e67a9b7')\"\n",
              "              title=\"Convert this dataframe to an interactive table.\"\n",
              "              style=\"display:none;\">\n",
              "        \n",
              "  <svg xmlns=\"http://www.w3.org/2000/svg\" height=\"24px\"viewBox=\"0 0 24 24\"\n",
              "       width=\"24px\">\n",
              "    <path d=\"M0 0h24v24H0V0z\" fill=\"none\"/>\n",
              "    <path d=\"M18.56 5.44l.94 2.06.94-2.06 2.06-.94-2.06-.94-.94-2.06-.94 2.06-2.06.94zm-11 1L8.5 8.5l.94-2.06 2.06-.94-2.06-.94L8.5 2.5l-.94 2.06-2.06.94zm10 10l.94 2.06.94-2.06 2.06-.94-2.06-.94-.94-2.06-.94 2.06-2.06.94z\"/><path d=\"M17.41 7.96l-1.37-1.37c-.4-.4-.92-.59-1.43-.59-.52 0-1.04.2-1.43.59L10.3 9.45l-7.72 7.72c-.78.78-.78 2.05 0 2.83L4 21.41c.39.39.9.59 1.41.59.51 0 1.02-.2 1.41-.59l7.78-7.78 2.81-2.81c.8-.78.8-2.07 0-2.86zM5.41 20L4 18.59l7.72-7.72 1.47 1.35L5.41 20z\"/>\n",
              "  </svg>\n",
              "      </button>\n",
              "      \n",
              "  <style>\n",
              "    .colab-df-container {\n",
              "      display:flex;\n",
              "      flex-wrap:wrap;\n",
              "      gap: 12px;\n",
              "    }\n",
              "\n",
              "    .colab-df-convert {\n",
              "      background-color: #E8F0FE;\n",
              "      border: none;\n",
              "      border-radius: 50%;\n",
              "      cursor: pointer;\n",
              "      display: none;\n",
              "      fill: #1967D2;\n",
              "      height: 32px;\n",
              "      padding: 0 0 0 0;\n",
              "      width: 32px;\n",
              "    }\n",
              "\n",
              "    .colab-df-convert:hover {\n",
              "      background-color: #E2EBFA;\n",
              "      box-shadow: 0px 1px 2px rgba(60, 64, 67, 0.3), 0px 1px 3px 1px rgba(60, 64, 67, 0.15);\n",
              "      fill: #174EA6;\n",
              "    }\n",
              "\n",
              "    [theme=dark] .colab-df-convert {\n",
              "      background-color: #3B4455;\n",
              "      fill: #D2E3FC;\n",
              "    }\n",
              "\n",
              "    [theme=dark] .colab-df-convert:hover {\n",
              "      background-color: #434B5C;\n",
              "      box-shadow: 0px 1px 3px 1px rgba(0, 0, 0, 0.15);\n",
              "      filter: drop-shadow(0px 1px 2px rgba(0, 0, 0, 0.3));\n",
              "      fill: #FFFFFF;\n",
              "    }\n",
              "  </style>\n",
              "\n",
              "      <script>\n",
              "        const buttonEl =\n",
              "          document.querySelector('#df-46ec05bf-e289-48c1-a218-6b0a6e67a9b7 button.colab-df-convert');\n",
              "        buttonEl.style.display =\n",
              "          google.colab.kernel.accessAllowed ? 'block' : 'none';\n",
              "\n",
              "        async function convertToInteractive(key) {\n",
              "          const element = document.querySelector('#df-46ec05bf-e289-48c1-a218-6b0a6e67a9b7');\n",
              "          const dataTable =\n",
              "            await google.colab.kernel.invokeFunction('convertToInteractive',\n",
              "                                                     [key], {});\n",
              "          if (!dataTable) return;\n",
              "\n",
              "          const docLinkHtml = 'Like what you see? Visit the ' +\n",
              "            '<a target=\"_blank\" href=https://colab.research.google.com/notebooks/data_table.ipynb>data table notebook</a>'\n",
              "            + ' to learn more about interactive tables.';\n",
              "          element.innerHTML = '';\n",
              "          dataTable['output_type'] = 'display_data';\n",
              "          await google.colab.output.renderOutput(dataTable, element);\n",
              "          const docLink = document.createElement('div');\n",
              "          docLink.innerHTML = docLinkHtml;\n",
              "          element.appendChild(docLink);\n",
              "        }\n",
              "      </script>\n",
              "    </div>\n",
              "  </div>\n",
              "  "
            ]
          },
          "metadata": {},
          "execution_count": 86
        }
      ]
    },
    {
      "cell_type": "markdown",
      "source": [
        "**Income VS Total AmountSpent**"
      ],
      "metadata": {
        "id": "0cLUuDAuhJlw"
      }
    },
    {
      "cell_type": "code",
      "source": [
        "fig = px.scatter(data_frame=df_cut, x=\"Income\",\n",
        "                 y=\"Total_Amount_spent\", title=\"Relationship Between Customer's Income and Total Amount Spent\",\n",
        "                height=500,\n",
        "                color_discrete_sequence = px.colors.qualitative.G10[1:])\n",
        "fig.show()"
      ],
      "metadata": {
        "id": "h-OA8hbYjyn5",
        "outputId": "5a7b5be0-beee-4447-fc48-651e6b4b97a7",
        "colab": {
          "base_uri": "https://localhost:8080/",
          "height": 517
        }
      },
      "execution_count": 92,
      "outputs": [
        {
          "output_type": "display_data",
          "data": {
            "text/html": [
              "<html>\n",
              "<head><meta charset=\"utf-8\" /></head>\n",
              "<body>\n",
              "    <div>            <script src=\"https://cdnjs.cloudflare.com/ajax/libs/mathjax/2.7.5/MathJax.js?config=TeX-AMS-MML_SVG\"></script><script type=\"text/javascript\">if (window.MathJax) {MathJax.Hub.Config({SVG: {font: \"STIX-Web\"}});}</script>                <script type=\"text/javascript\">window.PlotlyConfig = {MathJaxConfig: 'local'};</script>\n",
              "        <script src=\"https://cdn.plot.ly/plotly-2.8.3.min.js\"></script>                <div id=\"ae61f498-31f8-44f2-8869-2b69015672b4\" class=\"plotly-graph-div\" style=\"height:500px; width:100%;\"></div>            <script type=\"text/javascript\">                                    window.PLOTLYENV=window.PLOTLYENV || {};                                    if (document.getElementById(\"ae61f498-31f8-44f2-8869-2b69015672b4\")) {                    Plotly.newPlot(                        \"ae61f498-31f8-44f2-8869-2b69015672b4\",                        [{\"hovertemplate\":\"Income=%{x}<br>Total_Amount_spent=%{y}<extra></extra>\",\"legendgroup\":\"\",\"marker\":{\"color\":\"#DC3912\",\"symbol\":\"circle\"},\"mode\":\"markers\",\"name\":\"\",\"showlegend\":false,\"x\":[58138.0,46344.0,71613.0,26646.0,58293.0,62513.0,55635.0,33454.0,30351.0,5648.0,52247.25135379061,7500.0,63033.0,59354.0,17323.0,82800.0,41850.0,37760.0,76995.0,33812.0,37040.0,2447.0,58607.0,65324.0,40689.0,18589.0,53359.0,52247.25135379061,38360.0,84618.0,10979.0,38620.0,40548.0,46610.0,68657.0,49389.0,67353.0,23718.0,42429.0,48948.0,80011.0,20559.0,21994.0,52247.25135379061,7500.0,79941.0,7500.0,41728.0,52247.25135379061,72550.0,65486.0,79143.0,35790.0,82582.0,66373.0,82384.0,70287.0,27938.0,52247.25135379061,55954.0,75777.0,66653.0,61823.0,67680.0,70666.0,25721.0,32474.0,88194.0,69096.0,74854.0,66991.0,52247.25135379061,65031.0,60631.0,28332.0,40246.0,75251.0,75825.0,26326.0,56046.0,29760.0,26304.0,23559.0,38620.0,81361.0,29440.0,36138.0,50388.0,79593.0,54178.0,52247.25135379061,52247.25135379061,52247.25135379061,42394.0,23626.0,30096.0,47916.0,51813.0,78497.0,50150.0,47823.0,34554.0,85693.0,65846.0,87195.0,24594.0,49096.0,52413.0,38557.0,89058.0,77298.0,68126.0,57288.0,86037.0,43974.0,50785.0,90765.0,36550.0,30753.0,21918.0,56129.0,32557.0,19510.0,30992.0,101970.0,71488.0,79607.0,54348.0,52247.25135379061,77376.0,62998.0,61331.0,73448.0,52247.25135379061,41551.0,62981.0,9548.0,33762.0,35860.0,36921.0,92859.0,65104.0,86111.0,68352.0,41883.0,59809.0,23957.0,38547.0,35688.0,49605.0,59354.0,65747.0,46344.0,34176.0,61010.0,69372.0,49967.0,60199.0,55375.0,80317.0,30523.0,70356.0,23228.0,74165.0,43482.0,62551.0,52332.0,66951.0,26091.0,33456.0,28718.0,50447.0,53537.0,52074.0,80427.0,83837.0,38853.0,38285.0,78497.0,51650.0,16248.0,66835.0,30477.0,28249.0,25271.0,32303.0,61286.0,74068.0,45759.0,24882.0,66973.0,36640.0,38872.0,51148.0,31353.0,69661.0,80067.0,86718.0,46854.0,69142.0,75922.0,63693.0,102160.0,40637.0,18890.0,29604.0,48721.0,44794.0,64497.0,46097.0,77972.0,44377.0,46014.0,70951.0,41443.0,52195.0,83790.0,44551.0,69508.0,45204.0,72460.0,77622.0,30732.0,63887.0,42011.0,51369.0,51537.0,79930.0,34320.0,37070.0,81975.0,38590.0,15033.0,62745.0,22212.0,23661.0,79761.0,7500.0,60182.0,73455.0,64961.0,22804.0,73687.0,61074.0,31686.0,80134.0,75027.0,67546.0,65176.0,31160.0,29938.0,102692.0,26490.0,75702.0,30899.0,63342.0,45989.0,18701.0,40737.0,15287.0,69674.0,44159.0,37717.0,43776.0,38179.0,80124.0,38097.0,72940.0,22070.0,69267.0,31788.0,61905.0,29315.0,33378.0,66313.0,60714.0,77882.0,69867.0,63841.0,24480.0,51369.0,37760.0,65640.0,44319.0,30631.0,75278.0,50898.0,79946.0,35416.0,32414.0,38361.0,82497.0,16626.0,29672.0,55951.0,35388.0,42386.0,68627.0,57912.0,35246.0,58821.0,46377.0,39747.0,23976.0,80950.0,27038.0,77457.0,64100.0,42670.0,12571.0,22574.0,52247.25135379061,70893.0,54198.0,28839.0,40321.0,66503.0,30833.0,52247.25135379061,64795.0,34421.0,47025.0,64325.0,40464.0,62187.0,14849.0,27255.0,54432.0,29999.0,24072.0,33996.0,66334.0,35178.0,22010.0,62204.0,75693.0,30675.0,83003.0,83532.0,68655.0,41411.0,55212.0,59292.0,27190.0,82623.0,44300.0,84835.0,30372.0,33181.0,71113.0,71952.0,69759.0,72099.0,60000.0,38643.0,50737.0,68462.0,65073.0,46681.0,78618.0,62187.0,28442.0,37717.0,51479.0,54803.0,79530.0,31615.0,72025.0,52614.0,35684.0,48178.0,29548.0,63810.0,38578.0,46098.0,22585.0,30279.0,66426.0,30822.0,33581.0,19986.0,27421.0,35688.0,36143.0,10245.0,43795.0,63381.0,38823.0,83664.0,90300.0,62499.0,74293.0,51012.0,70777.0,68682.0,43824.0,15345.0,23442.0,14515.0,31395.0,75276.0,42373.0,30507.0,55521.0,48006.0,27213.0,65808.0,30351.0,50437.0,23616.0,53858.0,66465.0,46923.0,75072.0,75865.0,19789.0,80134.0,91065.0,49505.0,37401.0,30096.0,18492.0,82584.0,93027.0,48686.0,92910.0,75433.0,10404.0,61314.0,84865.0,42387.0,67309.0,75236.0,30015.0,50943.0,67272.0,51529.0,32011.0,7500.0,28691.0,56223.0,18100.0,30279.0,20130.0,23295.0,42618.0,81246.0,24027.0,55707.0,57959.0,56796.0,36230.0,70829.0,65991.0,38988.0,89572.0,42207.0,50300.0,66664.0,60597.0,70165.0,50520.0,80124.0,33183.0,66582.0,75261.0,31880.0,53790.0,49269.0,61456.0,37406.0,56937.0,38415.0,20518.0,62503.0,41644.0,55842.0,62010.0,41124.0,38961.0,37760.0,32233.0,43057.0,83151.0,78825.0,65104.0,60093.0,14045.0,28457.0,78952.0,46310.0,76005.0,58308.0,55614.0,59432.0,55563.0,78642.0,67911.0,65275.0,27203.0,48330.0,24279.0,64355.0,50943.0,53653.0,65665.0,81217.0,34935.0,61250.0,39665.0,60152.0,48920.0,89120.0,44124.0,81169.0,36443.0,26095.0,71367.0,80184.0,30630.0,73454.0,42691.0,70503.0,25545.0,32880.0,77863.0,50353.0,61839.0,49154.0,47682.0,72679.0,57954.0,65316.0,28567.0,47352.0,44931.0,76982.0,57247.0,22944.0,25315.0,43638.0,42710.0,84169.0,54058.0,24683.0,85620.0,47850.0,19514.0,27159.0,39548.0,21474.0,60504.0,22419.0,81698.0,43462.0,54880.0,79908.0,15315.0,87771.0,33039.0,81741.0,71499.0,62466.0,48799.0,52157.0,66565.0,29298.0,47691.0,38200.0,44989.0,38443.0,38593.0,64413.0,36959.0,61996.0,51287.0,13260.0,47472.0,54603.0,45207.0,40689.0,47821.0,27450.0,39453.0,26850.0,79800.0,61794.0,53863.0,24221.0,39684.0,92163.0,69882.0,33178.0,59973.0,17459.0,23910.0,42169.0,26224.0,31089.0,30081.0,62807.0,72906.0,61467.0,49618.0,21888.0,42429.0,26150.0,30801.0,81168.0,26877.0,45006.0,18978.0,22574.0,48240.0,45837.0,35791.0,54162.0,30522.0,54456.0,31632.0,72298.0,36975.0,72635.0,13624.0,84196.0,70971.0,34487.0,28769.0,69084.0,65488.0,62466.0,32218.0,83917.0,46102.0,84574.0,56181.0,63120.0,73691.0,63381.0,76140.0,62859.0,45906.0,77632.0,46463.0,105471.0,55282.0,78710.0,66886.0,98777.0,29103.0,67445.0,50616.0,49431.0,61278.0,26490.0,73059.0,46734.0,56253.0,19986.0,58330.0,25965.0,14661.0,18690.0,45068.0,21063.0,29187.0,54690.0,59304.0,59247.0,66731.0,77353.0,52614.0,26751.0,81300.0,70337.0,36145.0,65295.0,68118.0,68743.0,41039.0,38946.0,65777.0,66476.0,86857.0,77845.0,69476.0,50611.0,61209.0,42315.0,13084.0,47570.0,61923.0,34824.0,26518.0,45938.0,78468.0,78901.0,71427.0,71022.0,90247.0,41335.0,71952.0,35682.0,43185.0,66375.0,35178.0,25252.0,55250.0,33249.0,58398.0,50272.0,76618.0,87305.0,25851.0,58710.0,45160.0,74806.0,59111.0,18988.0,72190.0,7500.0,44794.0,80395.0,75012.0,56962.0,89891.0,35946.0,53593.0,66373.0,45072.0,89694.0,72025.0,67432.0,70545.0,17487.0,62882.0,64108.0,34941.0,48767.0,38702.0,82224.0,83844.0,17003.0,71163.0,33697.0,63564.0,83443.0,51518.0,58330.0,80952.0,75507.0,63855.0,62220.0,58512.0,40662.0,38829.0,35523.0,79146.0,78285.0,31626.0,75127.0,48726.0,74985.0,67430.0,46891.0,62058.0,72063.0,78939.0,42720.0,33622.0,6835.0,41452.0,40760.0,74250.0,51124.0,72258.0,71466.0,36283.0,20587.0,30467.0,31590.0,20425.0,17144.0,42564.0,43783.0,40780.0,62847.0,82017.0,16813.0,51267.0,46524.0,45183.0,70421.0,60161.0,73926.0,19329.0,61872.0,46984.0,34838.0,82716.0,48192.0,49681.0,56850.0,55267.0,59666.0,72504.0,26872.0,21359.0,73170.0,52750.0,91820.0,65968.0,30772.0,22507.0,65685.0,25804.0,76412.0,22063.0,57091.0,22419.0,87771.0,78353.0,93404.0,37859.0,80995.0,16529.0,55412.0,48789.0,56575.0,25130.0,35441.0,71391.0,49494.0,81702.0,45889.0,56628.0,34026.0,40049.0,34176.0,19419.0,82504.0,81205.0,61618.0,55284.0,49980.0,15072.0,49166.0,65324.0,82347.0,30843.0,46374.0,60474.0,38576.0,55357.0,37758.0,85710.0,23228.0,44602.0,7500.0,38683.0,49514.0,57906.0,43456.0,19485.0,53172.0,30545.0,70123.0,62450.0,21675.0,42395.0,61346.0,80812.0,42835.0,39922.0,86424.0,17117.0,24762.0,35797.0,36627.0,51111.0,86857.0,82072.0,46231.0,42243.0,51195.0,68092.0,31814.0,51390.0,76630.0,26868.0,48948.0,55260.0,64090.0,78331.0,37087.0,21846.0,81320.0,54137.0,66825.0,57100.0,58917.0,85072.0,86429.0,45684.0,47889.0,45921.0,78420.0,75114.0,52278.0,35641.0,95529.0,62820.0,73113.0,84169.0,42607.0,74637.0,46015.0,72354.0,39858.0,34469.0,83033.0,24401.0,77583.0,74116.0,74293.0,68397.0,79632.0,46107.0,64950.0,25443.0,75127.0,32892.0,71796.0,67536.0,55239.0,60554.0,64831.0,56067.0,82025.0,94384.0,14906.0,51563.0,57937.0,68274.0,39771.0,67893.0,27922.0,52190.0,44051.0,42767.0,46106.0,16927.0,59754.0,53700.0,59041.0,54237.0,70647.0,52597.0,41021.0,40233.0,50183.0,54753.0,92955.0,33471.0,34596.0,44010.0,84219.0,40706.0,15716.0,59052.0,80573.0,83715.0,82576.0,56962.0,35704.0,53103.0,46779.0,4861.0,33462.0,63693.0,80763.0,65352.0,82170.0,75759.0,79689.0,35340.0,85683.0,24884.0,42021.0,64449.0,64587.0,34824.0,75437.0,26091.0,52845.0,46086.0,78028.0,95169.0,56337.0,22434.0,36930.0,36130.0,65569.0,83844.0,19514.0,36736.0,77568.0,49187.0,30168.0,34053.0,38196.0,59412.0,70924.0,54165.0,32300.0,20180.0,34961.0,28440.0,64504.0,33564.0,17345.0,56320.0,28647.0,15038.0,32173.0,68316.0,74538.0,91700.0,68695.0,31056.0,79593.0,28071.0,37334.0,46423.0,37126.0,47703.0,61180.0,38998.0,8028.0,76081.0,34728.0,33168.0,33585.0,77037.0,35196.0,44529.0,70924.0,28764.0,69098.0,25959.0,27100.0,70596.0,42557.0,53312.0,72228.0,67605.0,62845.0,65196.0,42000.0,35860.0,65526.0,16860.0,83528.0,64176.0,22304.0,67023.0,32892.0,70713.0,59925.0,39722.0,46610.0,88347.0,87171.0,26907.0,50014.0,41014.0,66294.0,36715.0,79456.0,40479.0,75345.0,54233.0,24163.0,84460.0,43776.0,71691.0,85844.0,39190.0,71367.0,38578.0,57236.0,61825.0,79803.0,80910.0,27590.0,56775.0,83829.0,54210.0,38508.0,53187.0,30023.0,76045.0,50870.0,15315.0,65463.0,66480.0,76773.0,81698.0,54466.0,98777.0,16269.0,71819.0,33569.0,36262.0,22634.0,47025.0,70566.0,31605.0,52034.0,48526.0,46734.0,39552.0,86358.0,46931.0,16581.0,63998.0,67381.0,25930.0,42693.0,85606.0,72903.0,49669.0,36778.0,85696.0,10979.0,49678.0,56129.0,37155.0,21282.0,33419.0,63285.0,21255.0,42162.0,54450.0,57744.0,26576.0,57513.0,68142.0,7500.0,83145.0,54197.0,23091.0,46049.0,56715.0,79410.0,57304.0,44375.0,54450.0,59594.0,80685.0,40344.0,62710.0,48985.0,35322.0,77142.0,81657.0,14421.0,20130.0,74214.0,66726.0,23724.0,47353.0,33444.0,54386.0,28510.0,90638.0,48070.0,43140.0,54959.0,15056.0,26954.0,22327.0,44393.0,62000.0,31497.0,45894.0,78579.0,67369.0,58401.0,62307.0,43641.0,63841.0,46891.0,70091.0,78075.0,59184.0,54809.0,58113.0,51412.0,15287.0,66636.0,50965.0,84618.0,18351.0,40451.0,36317.0,42213.0,65748.0,77044.0,74918.0,56721.0,42160.0,61559.0,33629.0,68682.0,34377.0,8940.0,26228.0,77297.0,40211.0,33438.0,75032.0,61284.0,22518.0,54730.0,38452.0,44421.0,38197.0,41986.0,28427.0,37395.0,64722.0,55249.0,84906.0,28691.0,44213.0,25707.0,59062.0,76624.0,66000.0,27683.0,1730.0,7500.0,40521.0,20427.0,65106.0,69969.0,67433.0,77766.0,74716.0,68118.0,55158.0,62972.0,74190.0,39356.0,76653.0,35860.0,90687.0,73450.0,31454.0,47139.0,83829.0,53378.0,19656.0,45579.0,85485.0,55956.0,64191.0,38808.0,57183.0,23748.0,66303.0,37368.0,40800.0,71847.0,46149.0,78687.0,49118.0,37633.0,39767.0,26997.0,33986.0,57091.0,46831.0,83151.0,52531.0,15759.0,22804.0,43050.0,42997.0,48918.0,60033.0,34043.0,57811.0,78569.0,7500.0,94384.0,23148.0,44267.0,71626.0,60894.0,50200.0,81051.0,65169.0,59868.0,65695.0,64857.0,45143.0,74805.0,59060.0,27238.0,47009.0,46094.0,40321.0,37235.0,81843.0,46692.0,77382.0,37774.0,18393.0,72828.0,24711.0,45503.0,6560.0,71604.0,27244.0,48752.0,71434.0,90842.0,88097.0,51948.0,71853.0,35876.0,40049.0,39660.0,50127.0,43263.0,62845.0,18929.0,24367.0,33249.0,26887.0,50150.0,62061.0,85696.0,76542.0,70515.0,18227.0,69139.0,69109.0,69627.0,38136.0,62159.0,80695.0,33316.0,58554.0,17256.0,53034.0,52203.0,59601.0,75154.0,47025.0,37971.0,41335.0,67267.0,57338.0,50523.0,35791.0,50611.0,56242.0,48904.0,56243.0,21355.0,57420.0,52247.25135379061,46390.0,54342.0,52247.25135379061,52247.25135379061,20895.0,92344.0,52247.25135379061,26907.0,44964.0,75507.0,53761.0,22682.0,38887.0,41658.0,29791.0,63915.0,39996.0,26759.0,63841.0,51039.0,60544.0,65685.0,37716.0,36864.0,44511.0,36947.0,47352.0,67087.0,57045.0,36957.0,69389.0,80134.0,43142.0,80589.0,34412.0,57537.0,22634.0,51315.0,36026.0,24639.0,34578.0,65704.0,63810.0,54132.0,18690.0,28164.0,34596.0,43269.0,38741.0,31907.0,27100.0,31163.0,92533.0,34853.0,70844.0,31086.0,60544.0,20491.0,42523.0,39922.0,33402.0,36408.0,21645.0,78427.0,82657.0,51876.0,78041.0,52852.0,70038.0,69401.0,46053.0,77343.0,73892.0,40304.0,32727.0,68695.0,43300.0,26290.0,93790.0,38410.0,64866.0,57957.0,46015.0,16531.0,28072.0,49476.0,50725.0,83844.0,41145.0,67419.0,23162.0,34380.0,34704.0,94871.0,65148.0,39898.0,64857.0,59892.0,41020.0,57072.0,60474.0,62807.0,19414.0,19107.0,75484.0,70379.0,79419.0,64014.0,76998.0,49854.0,60585.0,42873.0,87679.0,57867.0,35765.0,65492.0,32952.0,53374.0,71706.0,68487.0,53253.0,31163.0,42014.0,54108.0,49667.0,63206.0,57136.0,46772.0,78931.0,53977.0,84219.0,46098.0,73538.0,79529.0,20981.0,51766.0,55759.0,33039.0,37787.0,27242.0,87188.0,69930.0,37697.0,37401.0,3502.0,58597.0,82032.0,28087.0,74004.0,19740.0,57036.0,53083.0,69283.0,46098.0,23331.0,23331.0,9255.0,67786.0,71969.0,59235.0,31928.0,74881.0,65819.0,51411.0,51983.0,42386.0,30390.0,30983.0,66033.0,37284.0,57530.0,76800.0,63943.0,76081.0,67445.0,37054.0,47175.0,31859.0,27215.0,70179.0,39922.0,49681.0,24645.0,79865.0,44322.0,47958.0,63972.0,75315.0,55517.0,75283.0,82800.0,38998.0,90638.0,27161.0,42014.0,38201.0,45203.0,81574.0,34935.0,60482.0,34633.0,78093.0,82460.0,45903.0,81361.0,35860.0,40442.0,61482.0,34968.0,75794.0,31497.0,74268.0,13724.0,45143.0,52569.0,48432.0,17144.0,36108.0,76445.0,36663.0,53843.0,90226.0,70638.0,44512.0,27116.0,54072.0,71855.0,51250.0,60432.0,65526.0,68655.0,12393.0,64509.0,33955.0,31353.0,55434.0,28359.0,57100.0,69139.0,52973.0,51717.0,18793.0,66664.0,50664.0,54414.0,54549.0,47111.0,41003.0,19444.0,36301.0,73059.0,42731.0,52854.0,22775.0,46681.0,59821.0,50002.0,69755.0,44078.0,30560.0,35924.0,64140.0,56386.0,24594.0,75774.0,39228.0,58494.0,58684.0,57136.0,56551.0,22448.0,82014.0,34213.0,25358.0,35544.0,36634.0,62670.0,50334.0,72066.0,50729.0,34916.0,64892.0,43602.0,33996.0,41473.0,63246.0,36732.0,69084.0,77766.0,37929.0,86610.0,80141.0,72635.0,69016.0,20193.0,27573.0,15862.0,49544.0,33228.0,70440.0,38232.0,22554.0,23536.0,49413.0,42231.0,78789.0,56534.0,58350.0,81217.0,49090.0,61787.0,18169.0,24336.0,18222.0,62335.0,42033.0,86580.0,41437.0,73705.0,61064.0,38452.0,18358.0,55012.0,9722.0,38175.0,58656.0,52117.0,64813.0,54222.0,83512.0,77520.0,41154.0,80398.0,18746.0,35196.0,60230.0,22108.0,44392.0,55424.0,17688.0,92491.0,90273.0,82571.0,38513.0,16653.0,42586.0,23529.0,74881.0,71107.0,46910.0,18690.0,37244.0,82427.0,75342.0,70044.0,79146.0,77437.0,54984.0,42403.0,55761.0,37292.0,45576.0,70321.0,58086.0,81795.0,28389.0,66835.0,69901.0,80360.0,63342.0,44989.0,31859.0,51569.0,30372.0,16014.0,41120.0,39763.0,38725.0,77981.0,62905.0,13533.0,59481.0,72117.0,21955.0,67131.0,36802.0,71853.0,28249.0,47808.0,25509.0,51012.0,70596.0,85431.0,42664.0,42586.0,29760.0,28973.0,39435.0,65370.0,20194.0,42473.0,64590.0,71232.0,34600.0,46904.0,49094.0,36075.0,60839.0,77298.0,34026.0,48918.0,82122.0,37697.0,34074.0,28520.0,62535.0,36273.0,63404.0,75774.0,78416.0,75702.0,59385.0,37070.0,44689.0,53977.0,7144.0,18701.0,90369.0,63159.0,37758.0,46757.0,79734.0,63207.0,72071.0,21840.0,58582.0,72282.0,50387.0,32583.0,62568.0,44635.0,33316.0,63967.0,52513.0,25293.0,54111.0,78394.0,80739.0,22669.0,29236.0,44911.0,54693.0,48186.0,54809.0,41580.0,80336.0,47743.0,62972.0,57333.0,32313.0,84953.0,27071.0,68148.0,65735.0,86836.0,4023.0,30093.0,57705.0,25008.0,83257.0,22280.0,72159.0,64260.0,82733.0,74290.0,58217.0,21024.0,70116.0,54006.0,69063.0,11448.0,61825.0,70886.0,69109.0,60208.0,32889.0,34738.0,30538.0,82326.0,26642.0,69932.0,44503.0,60200.0,49638.0,23830.0,33051.0,72905.0,69702.0,70300.0,70643.0,30396.0,50616.0,62772.0,30298.0,52413.0,44155.0,86979.0,76532.0,42081.0,67546.0,88420.0,31158.0,61671.0,69719.0,49160.0,24882.0,90933.0,113734.0,59292.0,45759.0,22148.0,73395.0,29819.0,45688.0,62820.0,60491.0,33235.0,35701.0,31535.0,92556.0,67384.0,80573.0,77870.0,52278.0,57107.0,18929.0,36038.0,20180.0,34230.0,31878.0,70932.0,91249.0,77598.0,80982.0,22701.0,55212.0,70617.0,64849.0,62694.0,61917.0,67472.0,21059.0,29543.0,75903.0,34984.0,54998.0,54356.0,34242.0,25410.0,73356.0,28320.0,23763.0,72570.0,34529.0,70792.0,63211.0,83891.0,36065.0,39898.0,51141.0,56939.0,80872.0,72335.0,61798.0,76842.0,29478.0,46998.0,96843.0,56551.0,70053.0,71670.0,44359.0,40887.0,48877.0,74485.0,64474.0,77226.0,72643.0,85738.0,55686.0,39062.0,34600.0,40794.0,54690.0,4428.0,32632.0,38236.0,36781.0,31385.0,24570.0,25509.0,94642.0,58646.0,53201.0,21994.0,57113.0,51373.0,23477.0,58116.0,72968.0,39791.0,91712.0,94472.0,13672.0,96547.0,79205.0,56559.0,32644.0,67506.0,24206.0,28420.0,22979.0,33279.0,46423.0,30368.0,63684.0,41638.0,68805.0,65814.0,71964.0,39146.0,96876.0,34445.0,68281.0,37284.0,36790.0,27943.0,22263.0,30261.0,28587.0,43815.0,48195.0,77027.0,71322.0,32765.0,29672.0,23272.0,49912.0,7500.0,68117.0,67225.0,17649.0,55914.0,40059.0,60905.0,75330.0,60689.0,38680.0,61416.0,49767.0,83273.0,29009.0,45057.0,37150.0,43020.0,53154.0,65308.0,76467.0,81044.0,32871.0,55801.0,76320.0,36927.0,48794.0,23478.0,71128.0,70179.0,59462.0,52247.25135379061,38361.0,52247.25135379061,70038.0,42554.0,67445.0,67046.0,42192.0,77610.0,31761.0,34350.0,54591.0,71866.0,25293.0,42000.0,69520.0,64713.0,27889.0,22123.0,52247.25135379061,52247.25135379061,27803.0,52247.25135379061,51651.0,68487.0,52247.25135379061,56796.0,87000.0,79823.0,30828.0,34109.0,53367.0,22390.0,71322.0,79244.0,49912.0,48699.0,80144.0,54252.0,81929.0,76068.0,53204.0,67911.0,14796.0,78128.0,14188.0,20425.0,58646.0,72967.0,48150.0,82332.0,58275.0,44953.0,34587.0,43018.0,45736.0,66476.0,27733.0,69805.0,72217.0,25818.0,37509.0,25176.0,43586.0,53230.0,50116.0,84906.0,61286.0,82333.0,65220.0,33590.0,30992.0,72309.0,16005.0,65487.0,58692.0,40590.0,20587.0,62637.0,29435.0,19346.0,35788.0,36997.0,23539.0,65333.0,78499.0,29732.0,41275.0,63516.0,42769.0,49572.0,69209.0,17148.0,40590.0,30560.0,32146.0,41713.0,34176.0,58482.0,59686.0,60896.0,62994.0,47320.0,74859.0,15253.0,31560.0,72071.0,91172.0,90000.0,41967.0,69263.0,65706.0,60934.0,71965.0,65210.0,79174.0,81380.0,48432.0,52914.0,38946.0,26067.0,44325.0,42523.0,26487.0,53233.0,67716.0,76234.0,84117.0,65487.0,25224.0,89616.0,40851.0,27469.0,82347.0,73803.0,8820.0,43322.0,55593.0,50501.0,37085.0,16185.0,57731.0,48432.0,73807.0,18929.0,35893.0,61014.0,32144.0,14918.0,45146.0,41769.0,88325.0,38054.0,80617.0,5305.0,36807.0,28427.0,82032.0,22775.0,40101.0,58025.0,75777.0,7500.0,33562.0,57642.0,58554.0,63777.0,57967.0,52247.25135379061,24434.0,11012.0,44802.0,26816.0,34421.0,61223.0,64014.0,56981.0,69245.0,52869.0],\"xaxis\":\"x\",\"y\":[1617,27,776,53,422,716,590,169,46,49,19,61,1102,310,46,1315,96,317,1782,133,316,1730,972,544,444,75,257,637,131,1672,30,318,120,302,1196,65,913,81,67,902,1395,53,22,186,31,984,122,55,124,1319,507,1693,72,1617,606,1957,1093,29,46,518,1438,612,884,606,1076,34,11,1274,653,1562,1253,109,863,661,65,13,1890,2209,18,692,165,16,79,318,778,56,151,372,1366,194,603,18,985,32,43,45,606,63,978,410,72,55,1169,1120,1097,29,187,910,145,850,969,1820,608,730,551,114,1724,577,81,33,660,80,30,43,1135,559,1923,90,404,661,463,632,725,725,279,1482,29,106,49,38,2077,1053,1385,871,312,877,68,22,211,127,459,460,429,89,1021,1381,306,18,162,1231,13,1706,121,1293,88,421,259,1117,89,36,57,148,93,119,1835,1318,45,10,978,191,57,1033,66,43,50,39,608,1581,68,80,1282,65,91,315,31,834,1600,1270,263,535,1295,1150,1240,38,35,53,293,65,1804,241,1101,264,541,1198,482,17,1615,285,1135,114,1047,714,185,1245,189,576,1103,1753,17,433,1588,22,19,1117,69,23,605,57,22,2088,1009,26,1627,1102,17,1690,1390,2126,1531,64,26,1112,210,1148,33,1101,322,44,17,31,845,275,25,275,90,1495,184,981,67,1635,60,231,48,99,770,957,818,925,908,102,576,317,461,37,70,930,859,1478,390,52,137,1919,68,25,1374,32,100,825,916,62,728,90,273,66,1213,107,1157,546,241,53,37,1611,1508,235,32,102,401,28,1052,680,30,20,1307,630,1283,65,37,38,160,23,71,1161,59,33,946,1442,62,1674,1853,1538,139,1182,507,18,940,42,1190,44,16,835,1443,1029,1188,1277,49,99,1670,900,425,2153,636,57,25,494,693,1348,51,1932,990,30,254,29,1371,73,120,81,37,1377,51,17,22,324,211,19,41,492,1005,114,1173,1738,222,1127,209,787,1598,186,47,27,96,64,1040,163,343,446,41,70,272,46,490,79,915,1485,369,1073,1242,78,1378,1474,751,48,45,10,1435,2119,20,1795,1188,43,1008,1688,684,1082,1068,57,46,733,467,122,36,34,156,14,37,34,20,192,1379,48,428,868,1001,59,431,971,348,2059,265,270,1289,893,926,135,1495,120,1288,1743,15,542,890,1388,17,906,44,25,973,31,518,530,506,70,54,296,266,747,895,1053,735,20,205,2092,309,1722,900,682,663,43,1816,976,746,64,32,263,1445,46,1210,945,1157,137,730,216,943,347,1924,397,2089,138,42,777,1902,52,1651,358,1727,210,42,1291,442,1895,411,521,1168,493,260,46,319,96,1062,232,76,54,201,406,1919,662,41,1600,134,69,21,54,91,526,162,1008,240,795,1772,64,1957,78,1572,795,889,331,265,1065,11,21,17,369,38,177,279,62,1230,182,49,75,227,215,444,47,143,55,63,1867,611,473,55,81,2086,1478,49,382,69,67,30,63,79,42,819,1151,594,129,213,67,28,45,1193,268,266,37,37,882,373,35,42,326,404,95,939,33,981,36,1237,1825,103,191,1586,963,889,93,1587,16,1375,393,1477,1179,1005,1348,1307,486,2252,235,1724,235,1092,599,2008,48,1174,67,365,165,210,1095,223,597,22,1064,74,26,60,20,59,34,198,1048,574,1029,670,990,11,1241,576,172,664,928,2074,467,257,1146,689,2114,1346,1044,493,957,270,29,121,126,23,57,636,1004,734,614,1453,1621,187,1443,57,637,948,59,18,903,112,596,233,1511,1152,48,1185,21,965,869,16,1947,71,65,1380,1027,411,836,11,480,606,284,1472,1677,1335,334,18,1338,1099,97,63,109,902,1574,38,960,28,1215,1497,449,1064,1757,1440,1006,1226,1171,92,99,66,564,1427,86,833,242,1869,1364,183,450,758,1507,654,81,137,16,93,1158,43,1525,1230,29,25,24,38,57,47,813,629,377,1612,729,50,270,177,315,767,1071,1580,60,573,41,170,1167,1526,458,63,405,1027,1478,72,48,726,860,1497,495,20,570,769,55,1808,55,577,162,1957,1576,1616,36,1482,22,63,680,542,50,39,1043,385,1633,46,761,76,290,89,70,1066,2009,1345,764,195,53,368,544,1853,35,446,1180,41,727,40,1062,40,292,15,341,369,401,393,10,486,69,1727,995,45,182,989,1677,595,156,1226,128,86,68,16,55,2114,2018,263,55,564,1281,83,353,1003,14,902,1139,797,1638,401,84,928,203,858,409,282,1423,1449,28,67,199,1453,1253,1198,178,1990,976,1001,1919,350,1650,46,1228,95,62,1761,467,1149,2052,1127,1416,1113,125,966,32,833,46,960,1829,779,811,1120,725,1187,2302,66,1250,683,305,50,995,41,77,171,131,54,53,475,694,96,361,1079,578,64,149,231,728,1778,93,23,662,1198,81,92,491,1564,926,1910,411,94,1085,23,6,54,1150,1415,405,1908,2486,1315,45,1789,19,573,805,108,23,1493,89,936,343,528,1901,724,58,297,488,859,1574,69,17,2194,116,279,103,44,406,1363,236,39,137,79,63,1314,71,58,702,94,80,22,1211,1461,1968,1091,55,1366,313,62,92,72,655,704,54,178,1033,36,122,122,1123,497,691,1363,12,2440,56,37,968,270,278,1250,938,1178,1155,653,49,506,38,1650,1826,18,906,46,1477,766,47,467,2116,1298,22,396,20,967,357,1401,15,2087,981,17,523,23,1192,1958,133,777,73,121,424,868,756,12,937,1862,367,443,267,61,1323,63,64,562,312,1156,1104,16,2008,44,1574,63,426,96,635,757,125,332,135,330,384,1722,78,24,1168,957,15,57,1956,2013,326,77,1313,30,315,660,74,46,86,1103,61,145,684,411,27,1060,1459,18,1833,237,48,515,1020,1370,1026,301,684,499,1004,218,606,75,106,990,1097,16,34,1711,438,75,225,18,470,91,2525,504,235,1232,88,17,24,60,1020,155,51,1812,1461,96,160,139,908,183,1161,988,1072,174,758,195,31,1084,685,1672,43,49,133,363,545,1065,2047,296,140,530,152,1598,114,101,25,789,87,90,1215,811,61,405,72,189,40,63,52,39,805,130,1631,34,152,21,71,899,711,351,8,119,21,10,973,1536,992,1529,860,928,418,587,641,23,2279,49,1779,1804,48,83,1862,793,84,183,1383,999,825,246,610,76,1286,30,99,1192,362,2130,1229,38,485,434,44,496,78,2346,794,17,26,76,15,62,198,49,802,1736,57,2302,37,310,1305,832,401,1501,1189,1194,656,1540,311,820,274,57,448,44,102,61,1643,397,1121,473,50,1678,58,170,373,1196,101,316,1400,1424,844,311,1149,129,32,299,320,441,1178,85,24,112,30,410,800,1313,1483,1258,28,227,1555,861,103,634,1918,131,586,62,447,939,797,1143,415,30,187,251,237,91,35,493,971,371,396,68,322,317,222,177,45,21,45,1899,42,22,41,1440,325,95,42,72,20,789,15,59,908,417,289,769,188,354,727,146,319,794,454,152,797,1690,20,1428,209,545,96,222,61,44,8,817,1371,42,60,78,23,19,61,449,37,38,1131,34,294,48,289,30,125,156,70,22,65,1930,2283,310,1319,879,1244,690,209,1134,1507,57,529,1091,180,77,2349,534,556,637,46,44,47,795,586,1574,13,1471,65,175,40,1078,1115,134,1540,87,217,1034,1180,819,32,46,1159,860,1631,444,1910,380,736,269,2524,612,75,1045,55,1064,1443,1366,436,38,436,747,1396,928,642,1048,943,907,1198,120,1658,1638,73,275,854,78,106,106,1923,1662,84,48,5,733,1234,112,1658,55,1513,271,904,120,103,269,22,1156,1086,1128,72,964,1383,18,793,100,80,167,677,23,92,641,1106,1033,1174,25,240,20,102,1034,156,458,17,792,92,407,1269,841,633,1019,1315,54,2525,52,436,268,147,1798,137,507,15,1105,974,66,778,49,169,299,221,1682,155,892,58,311,95,424,47,339,1410,35,562,2352,1334,32,41,39,1141,710,401,506,1538,57,1722,270,31,882,16,311,227,1152,122,77,1289,561,211,233,1092,601,54,78,1095,244,116,15,425,734,638,894,41,31,34,1750,612,29,823,20,396,813,1179,138,55,1511,117,32,67,335,825,694,1792,496,231,902,68,71,76,772,47,1586,1529,265,1603,2091,981,1533,82,244,36,404,71,1572,122,41,10,304,37,1754,815,1001,1157,688,1319,21,31,67,708,25,746,32,1695,1080,72,57,660,103,153,1220,279,745,264,2157,1526,69,1597,64,497,1067,31,211,877,11,2034,1991,1686,324,69,252,54,964,1327,68,60,55,1456,563,1504,564,1125,358,42,184,460,145,1376,792,1382,28,1033,882,2231,1101,369,48,467,44,38,81,167,45,664,622,48,461,1073,55,976,20,1149,43,224,101,209,968,1165,24,252,165,269,102,461,47,144,1338,917,318,253,502,119,1250,969,76,62,1382,84,255,43,398,76,902,823,1179,1921,185,433,34,907,416,44,1588,1797,40,1143,914,1502,1338,27,763,1331,525,9,953,68,131,882,1149,37,388,1428,1633,173,99,215,929,219,174,92,1052,275,587,1662,159,1024,35,1042,395,557,9,69,486,34,1365,13,1401,1574,1323,1217,103,84,1536,581,928,14,424,960,1555,656,55,20,367,2257,42,1049,48,685,39,43,835,1515,1039,1596,1828,34,149,946,28,450,46,1702,820,382,2126,2069,72,732,801,236,80,1685,277,507,68,49,397,39,306,976,1028,70,46,51,1263,1490,1564,1815,1198,416,85,47,137,21,70,909,1676,1735,1191,24,1182,1280,1336,749,91,414,44,63,901,38,455,775,15,38,1512,43,42,1089,162,1272,1173,816,74,134,157,561,1336,2092,463,1130,20,377,1544,138,1012,1766,45,161,144,1734,823,1138,1429,1371,982,44,318,434,198,359,576,88,63,27,193,101,2211,140,415,22,263,393,147,443,1958,174,2217,1691,25,809,895,484,413,331,25,13,115,16,92,52,1464,441,283,747,1870,165,1941,839,1655,23,66,37,21,22,78,79,265,1175,1305,46,25,46,874,100,930,868,45,1260,414,392,1109,639,79,1665,692,1392,44,50,467,223,158,1211,1575,1208,43,527,932,71,54,129,1615,1034,1088,721,137,47,1244,41,1174,993,100,1680,98,48,519,715,37,653,1455,602,26,102,97,207,176,450,433,1366,1564,1001,961,1518,56,22,400,26,350,1216,874,40,1367,264,2053,1376,45,976,51,1264,75,57,140,497,266,2006,615,1021,22,133,437,1013,57,1038,1573,28,123,13,132,732,66,1631,608,1822,1282,8,43,1931,103,1169,395,258,25,185,180,22,44,94,81,798,1334,38,61,300,88,54,1782,68,258,31,66,174,28,731,274,1701,312,414,1565,29,94,1338,1092,1479,54,568,1199,873,1213,731,2043,1893,424,575,257,56,542,125,69,40,1016,907,1566,1169,46,1644,59,17,1853,1528,35,141,546,500,61,106,704,424,849,85,199,1147,54,43,53,521,1623,45,1435,32,16,52,1234,15,415,470,1438,53,51,679,586,653,468,1679,50,84,1049,22,30,1341,444,1241,843,172],\"yaxis\":\"y\",\"type\":\"scattergl\"}],                        {\"template\":{\"data\":{\"bar\":[{\"error_x\":{\"color\":\"#2a3f5f\"},\"error_y\":{\"color\":\"#2a3f5f\"},\"marker\":{\"line\":{\"color\":\"#E5ECF6\",\"width\":0.5},\"pattern\":{\"fillmode\":\"overlay\",\"size\":10,\"solidity\":0.2}},\"type\":\"bar\"}],\"barpolar\":[{\"marker\":{\"line\":{\"color\":\"#E5ECF6\",\"width\":0.5},\"pattern\":{\"fillmode\":\"overlay\",\"size\":10,\"solidity\":0.2}},\"type\":\"barpolar\"}],\"carpet\":[{\"aaxis\":{\"endlinecolor\":\"#2a3f5f\",\"gridcolor\":\"white\",\"linecolor\":\"white\",\"minorgridcolor\":\"white\",\"startlinecolor\":\"#2a3f5f\"},\"baxis\":{\"endlinecolor\":\"#2a3f5f\",\"gridcolor\":\"white\",\"linecolor\":\"white\",\"minorgridcolor\":\"white\",\"startlinecolor\":\"#2a3f5f\"},\"type\":\"carpet\"}],\"choropleth\":[{\"colorbar\":{\"outlinewidth\":0,\"ticks\":\"\"},\"type\":\"choropleth\"}],\"contour\":[{\"colorbar\":{\"outlinewidth\":0,\"ticks\":\"\"},\"colorscale\":[[0.0,\"#0d0887\"],[0.1111111111111111,\"#46039f\"],[0.2222222222222222,\"#7201a8\"],[0.3333333333333333,\"#9c179e\"],[0.4444444444444444,\"#bd3786\"],[0.5555555555555556,\"#d8576b\"],[0.6666666666666666,\"#ed7953\"],[0.7777777777777778,\"#fb9f3a\"],[0.8888888888888888,\"#fdca26\"],[1.0,\"#f0f921\"]],\"type\":\"contour\"}],\"contourcarpet\":[{\"colorbar\":{\"outlinewidth\":0,\"ticks\":\"\"},\"type\":\"contourcarpet\"}],\"heatmap\":[{\"colorbar\":{\"outlinewidth\":0,\"ticks\":\"\"},\"colorscale\":[[0.0,\"#0d0887\"],[0.1111111111111111,\"#46039f\"],[0.2222222222222222,\"#7201a8\"],[0.3333333333333333,\"#9c179e\"],[0.4444444444444444,\"#bd3786\"],[0.5555555555555556,\"#d8576b\"],[0.6666666666666666,\"#ed7953\"],[0.7777777777777778,\"#fb9f3a\"],[0.8888888888888888,\"#fdca26\"],[1.0,\"#f0f921\"]],\"type\":\"heatmap\"}],\"heatmapgl\":[{\"colorbar\":{\"outlinewidth\":0,\"ticks\":\"\"},\"colorscale\":[[0.0,\"#0d0887\"],[0.1111111111111111,\"#46039f\"],[0.2222222222222222,\"#7201a8\"],[0.3333333333333333,\"#9c179e\"],[0.4444444444444444,\"#bd3786\"],[0.5555555555555556,\"#d8576b\"],[0.6666666666666666,\"#ed7953\"],[0.7777777777777778,\"#fb9f3a\"],[0.8888888888888888,\"#fdca26\"],[1.0,\"#f0f921\"]],\"type\":\"heatmapgl\"}],\"histogram\":[{\"marker\":{\"pattern\":{\"fillmode\":\"overlay\",\"size\":10,\"solidity\":0.2}},\"type\":\"histogram\"}],\"histogram2d\":[{\"colorbar\":{\"outlinewidth\":0,\"ticks\":\"\"},\"colorscale\":[[0.0,\"#0d0887\"],[0.1111111111111111,\"#46039f\"],[0.2222222222222222,\"#7201a8\"],[0.3333333333333333,\"#9c179e\"],[0.4444444444444444,\"#bd3786\"],[0.5555555555555556,\"#d8576b\"],[0.6666666666666666,\"#ed7953\"],[0.7777777777777778,\"#fb9f3a\"],[0.8888888888888888,\"#fdca26\"],[1.0,\"#f0f921\"]],\"type\":\"histogram2d\"}],\"histogram2dcontour\":[{\"colorbar\":{\"outlinewidth\":0,\"ticks\":\"\"},\"colorscale\":[[0.0,\"#0d0887\"],[0.1111111111111111,\"#46039f\"],[0.2222222222222222,\"#7201a8\"],[0.3333333333333333,\"#9c179e\"],[0.4444444444444444,\"#bd3786\"],[0.5555555555555556,\"#d8576b\"],[0.6666666666666666,\"#ed7953\"],[0.7777777777777778,\"#fb9f3a\"],[0.8888888888888888,\"#fdca26\"],[1.0,\"#f0f921\"]],\"type\":\"histogram2dcontour\"}],\"mesh3d\":[{\"colorbar\":{\"outlinewidth\":0,\"ticks\":\"\"},\"type\":\"mesh3d\"}],\"parcoords\":[{\"line\":{\"colorbar\":{\"outlinewidth\":0,\"ticks\":\"\"}},\"type\":\"parcoords\"}],\"pie\":[{\"automargin\":true,\"type\":\"pie\"}],\"scatter\":[{\"marker\":{\"colorbar\":{\"outlinewidth\":0,\"ticks\":\"\"}},\"type\":\"scatter\"}],\"scatter3d\":[{\"line\":{\"colorbar\":{\"outlinewidth\":0,\"ticks\":\"\"}},\"marker\":{\"colorbar\":{\"outlinewidth\":0,\"ticks\":\"\"}},\"type\":\"scatter3d\"}],\"scattercarpet\":[{\"marker\":{\"colorbar\":{\"outlinewidth\":0,\"ticks\":\"\"}},\"type\":\"scattercarpet\"}],\"scattergeo\":[{\"marker\":{\"colorbar\":{\"outlinewidth\":0,\"ticks\":\"\"}},\"type\":\"scattergeo\"}],\"scattergl\":[{\"marker\":{\"colorbar\":{\"outlinewidth\":0,\"ticks\":\"\"}},\"type\":\"scattergl\"}],\"scattermapbox\":[{\"marker\":{\"colorbar\":{\"outlinewidth\":0,\"ticks\":\"\"}},\"type\":\"scattermapbox\"}],\"scatterpolar\":[{\"marker\":{\"colorbar\":{\"outlinewidth\":0,\"ticks\":\"\"}},\"type\":\"scatterpolar\"}],\"scatterpolargl\":[{\"marker\":{\"colorbar\":{\"outlinewidth\":0,\"ticks\":\"\"}},\"type\":\"scatterpolargl\"}],\"scatterternary\":[{\"marker\":{\"colorbar\":{\"outlinewidth\":0,\"ticks\":\"\"}},\"type\":\"scatterternary\"}],\"surface\":[{\"colorbar\":{\"outlinewidth\":0,\"ticks\":\"\"},\"colorscale\":[[0.0,\"#0d0887\"],[0.1111111111111111,\"#46039f\"],[0.2222222222222222,\"#7201a8\"],[0.3333333333333333,\"#9c179e\"],[0.4444444444444444,\"#bd3786\"],[0.5555555555555556,\"#d8576b\"],[0.6666666666666666,\"#ed7953\"],[0.7777777777777778,\"#fb9f3a\"],[0.8888888888888888,\"#fdca26\"],[1.0,\"#f0f921\"]],\"type\":\"surface\"}],\"table\":[{\"cells\":{\"fill\":{\"color\":\"#EBF0F8\"},\"line\":{\"color\":\"white\"}},\"header\":{\"fill\":{\"color\":\"#C8D4E3\"},\"line\":{\"color\":\"white\"}},\"type\":\"table\"}]},\"layout\":{\"annotationdefaults\":{\"arrowcolor\":\"#2a3f5f\",\"arrowhead\":0,\"arrowwidth\":1},\"autotypenumbers\":\"strict\",\"coloraxis\":{\"colorbar\":{\"outlinewidth\":0,\"ticks\":\"\"}},\"colorscale\":{\"diverging\":[[0,\"#8e0152\"],[0.1,\"#c51b7d\"],[0.2,\"#de77ae\"],[0.3,\"#f1b6da\"],[0.4,\"#fde0ef\"],[0.5,\"#f7f7f7\"],[0.6,\"#e6f5d0\"],[0.7,\"#b8e186\"],[0.8,\"#7fbc41\"],[0.9,\"#4d9221\"],[1,\"#276419\"]],\"sequential\":[[0.0,\"#0d0887\"],[0.1111111111111111,\"#46039f\"],[0.2222222222222222,\"#7201a8\"],[0.3333333333333333,\"#9c179e\"],[0.4444444444444444,\"#bd3786\"],[0.5555555555555556,\"#d8576b\"],[0.6666666666666666,\"#ed7953\"],[0.7777777777777778,\"#fb9f3a\"],[0.8888888888888888,\"#fdca26\"],[1.0,\"#f0f921\"]],\"sequentialminus\":[[0.0,\"#0d0887\"],[0.1111111111111111,\"#46039f\"],[0.2222222222222222,\"#7201a8\"],[0.3333333333333333,\"#9c179e\"],[0.4444444444444444,\"#bd3786\"],[0.5555555555555556,\"#d8576b\"],[0.6666666666666666,\"#ed7953\"],[0.7777777777777778,\"#fb9f3a\"],[0.8888888888888888,\"#fdca26\"],[1.0,\"#f0f921\"]]},\"colorway\":[\"#636efa\",\"#EF553B\",\"#00cc96\",\"#ab63fa\",\"#FFA15A\",\"#19d3f3\",\"#FF6692\",\"#B6E880\",\"#FF97FF\",\"#FECB52\"],\"font\":{\"color\":\"#2a3f5f\"},\"geo\":{\"bgcolor\":\"white\",\"lakecolor\":\"white\",\"landcolor\":\"#E5ECF6\",\"showlakes\":true,\"showland\":true,\"subunitcolor\":\"white\"},\"hoverlabel\":{\"align\":\"left\"},\"hovermode\":\"closest\",\"mapbox\":{\"style\":\"light\"},\"paper_bgcolor\":\"white\",\"plot_bgcolor\":\"#E5ECF6\",\"polar\":{\"angularaxis\":{\"gridcolor\":\"white\",\"linecolor\":\"white\",\"ticks\":\"\"},\"bgcolor\":\"#E5ECF6\",\"radialaxis\":{\"gridcolor\":\"white\",\"linecolor\":\"white\",\"ticks\":\"\"}},\"scene\":{\"xaxis\":{\"backgroundcolor\":\"#E5ECF6\",\"gridcolor\":\"white\",\"gridwidth\":2,\"linecolor\":\"white\",\"showbackground\":true,\"ticks\":\"\",\"zerolinecolor\":\"white\"},\"yaxis\":{\"backgroundcolor\":\"#E5ECF6\",\"gridcolor\":\"white\",\"gridwidth\":2,\"linecolor\":\"white\",\"showbackground\":true,\"ticks\":\"\",\"zerolinecolor\":\"white\"},\"zaxis\":{\"backgroundcolor\":\"#E5ECF6\",\"gridcolor\":\"white\",\"gridwidth\":2,\"linecolor\":\"white\",\"showbackground\":true,\"ticks\":\"\",\"zerolinecolor\":\"white\"}},\"shapedefaults\":{\"line\":{\"color\":\"#2a3f5f\"}},\"ternary\":{\"aaxis\":{\"gridcolor\":\"white\",\"linecolor\":\"white\",\"ticks\":\"\"},\"baxis\":{\"gridcolor\":\"white\",\"linecolor\":\"white\",\"ticks\":\"\"},\"bgcolor\":\"#E5ECF6\",\"caxis\":{\"gridcolor\":\"white\",\"linecolor\":\"white\",\"ticks\":\"\"}},\"title\":{\"x\":0.05},\"xaxis\":{\"automargin\":true,\"gridcolor\":\"white\",\"linecolor\":\"white\",\"ticks\":\"\",\"title\":{\"standoff\":15},\"zerolinecolor\":\"white\",\"zerolinewidth\":2},\"yaxis\":{\"automargin\":true,\"gridcolor\":\"white\",\"linecolor\":\"white\",\"ticks\":\"\",\"title\":{\"standoff\":15},\"zerolinecolor\":\"white\",\"zerolinewidth\":2}}},\"xaxis\":{\"anchor\":\"y\",\"domain\":[0.0,1.0],\"title\":{\"text\":\"Income\"}},\"yaxis\":{\"anchor\":\"x\",\"domain\":[0.0,1.0],\"title\":{\"text\":\"Total_Amount_spent\"}},\"legend\":{\"tracegroupgap\":0},\"title\":{\"text\":\"Relationship Between Customer's Income and Total Amount Spent\"},\"height\":500},                        {\"responsive\": true}                    ).then(function(){\n",
              "                            \n",
              "var gd = document.getElementById('ae61f498-31f8-44f2-8869-2b69015672b4');\n",
              "var x = new MutationObserver(function (mutations, observer) {{\n",
              "        var display = window.getComputedStyle(gd).display;\n",
              "        if (!display || display === 'none') {{\n",
              "            console.log([gd, 'removed!']);\n",
              "            Plotly.purge(gd);\n",
              "            observer.disconnect();\n",
              "        }}\n",
              "}});\n",
              "\n",
              "// Listen for the removal of the full notebook cells\n",
              "var notebookContainer = gd.closest('#notebook-container');\n",
              "if (notebookContainer) {{\n",
              "    x.observe(notebookContainer, {childList: true});\n",
              "}}\n",
              "\n",
              "// Listen for the clearing of the current output cell\n",
              "var outputEl = gd.closest('.output');\n",
              "if (outputEl) {{\n",
              "    x.observe(outputEl, {childList: true});\n",
              "}}\n",
              "\n",
              "                        })                };                            </script>        </div>\n",
              "</body>\n",
              "</html>"
            ]
          },
          "metadata": {}
        }
      ]
    },
    {
      "cell_type": "markdown",
      "source": [
        "`We can see from the above summary that Income of a customers really determine the total amount to be spend on product. As a customer's income increase so do what they buy increases.`"
      ],
      "metadata": {
        "id": "g8uG1r8KkH9m"
      }
    },
    {
      "cell_type": "markdown",
      "source": [
        "# **Multivariate Analysis**\n",
        "\n",
        "\n",
        "***Education VS Income VS TotalAmountSpent***"
      ],
      "metadata": {
        "id": "rmUpi-56kNQD"
      }
    },
    {
      "cell_type": "code",
      "source": [
        "fig = px.scatter(\n",
        "    data_frame=df_cut,\n",
        "    x = \"Income\",\n",
        "    y= \"Total_Amount_spent\",\n",
        "    title = \"Relationship between Income VS Total Amount Spent Based on Education\",\n",
        "    color = \"Education\",\n",
        "    height=500\n",
        ")\n",
        "fig.show()"
      ],
      "metadata": {
        "id": "wUuUgPzxkU9i",
        "outputId": "23a6c390-9f4e-44f4-e845-3b91b2af22a9",
        "colab": {
          "base_uri": "https://localhost:8080/",
          "height": 517
        }
      },
      "execution_count": 93,
      "outputs": [
        {
          "output_type": "display_data",
          "data": {
            "text/html": [
              "<html>\n",
              "<head><meta charset=\"utf-8\" /></head>\n",
              "<body>\n",
              "    <div>            <script src=\"https://cdnjs.cloudflare.com/ajax/libs/mathjax/2.7.5/MathJax.js?config=TeX-AMS-MML_SVG\"></script><script type=\"text/javascript\">if (window.MathJax) {MathJax.Hub.Config({SVG: {font: \"STIX-Web\"}});}</script>                <script type=\"text/javascript\">window.PlotlyConfig = {MathJaxConfig: 'local'};</script>\n",
              "        <script src=\"https://cdn.plot.ly/plotly-2.8.3.min.js\"></script>                <div id=\"c409c6ba-4acd-48a8-99a3-d4b599a7850c\" class=\"plotly-graph-div\" style=\"height:500px; width:100%;\"></div>            <script type=\"text/javascript\">                                    window.PLOTLYENV=window.PLOTLYENV || {};                                    if (document.getElementById(\"c409c6ba-4acd-48a8-99a3-d4b599a7850c\")) {                    Plotly.newPlot(                        \"c409c6ba-4acd-48a8-99a3-d4b599a7850c\",                        [{\"hovertemplate\":\"Education=Graduate<br>Income=%{x}<br>Total_Amount_spent=%{y}<extra></extra>\",\"legendgroup\":\"Graduate\",\"marker\":{\"color\":\"#636efa\",\"symbol\":\"circle\"},\"mode\":\"markers\",\"name\":\"Graduate\",\"showlegend\":true,\"x\":[58138.0,46344.0,71613.0,26646.0,55635.0,52247.25135379061,63033.0,17323.0,41850.0,37760.0,37040.0,2447.0,40689.0,18589.0,53359.0,52247.25135379061,38360.0,40548.0,42429.0,80011.0,21994.0,79941.0,41728.0,52247.25135379061,65486.0,35790.0,82582.0,66373.0,70287.0,27938.0,52247.25135379061,66653.0,61823.0,70666.0,25721.0,32474.0,69096.0,74854.0,65031.0,28332.0,40246.0,75825.0,56046.0,29760.0,26304.0,81361.0,29440.0,50388.0,79593.0,54178.0,52247.25135379061,30096.0,47916.0,51813.0,85693.0,87195.0,49096.0,52413.0,38557.0,77298.0,86037.0,50785.0,90765.0,21918.0,30992.0,101970.0,79607.0,62998.0,73448.0,52247.25135379061,86111.0,41883.0,59809.0,23957.0,38547.0,65747.0,34176.0,69372.0,49967.0,60199.0,55375.0,80317.0,23228.0,43482.0,62551.0,52332.0,66951.0,26091.0,33456.0,28718.0,50447.0,52074.0,38285.0,25271.0,61286.0,74068.0,38872.0,51148.0,31353.0,80067.0,86718.0,69142.0,75922.0,63693.0,29604.0,44794.0,64497.0,46097.0,77972.0,70951.0,41443.0,69508.0,72460.0,63887.0,42011.0,51369.0,51537.0,37070.0,38590.0,15033.0,7500.0,73455.0,64961.0,22804.0,73687.0,61074.0,80134.0,75027.0,29938.0,102692.0,75702.0,45989.0,18701.0,15287.0,80124.0,72940.0,22070.0,69267.0,29315.0,33378.0,60714.0,51369.0,37760.0,30631.0,75278.0,79946.0,38361.0,82497.0,16626.0,29672.0,68627.0,35246.0,39747.0,23976.0,27038.0,77457.0,12571.0,22574.0,52247.25135379061,54198.0,40321.0,66503.0,30833.0,52247.25135379061,64795.0,34421.0,40464.0,62187.0,27255.0,24072.0,22010.0,62204.0,75693.0,30675.0,83003.0,68655.0,41411.0,82623.0,44300.0,84835.0,30372.0,71113.0,71952.0,72099.0,38643.0,50737.0,78618.0,28442.0,51479.0,54803.0,79530.0,31615.0,72025.0,48178.0,63810.0,22585.0,30279.0,30822.0,19986.0,27421.0,10245.0,63381.0,38823.0,90300.0,74293.0,43824.0,15345.0,23442.0,75276.0,42373.0,30507.0,48006.0,50437.0,53858.0,46923.0,75072.0,80134.0,91065.0,30096.0,48686.0,92910.0,75433.0,61314.0,42387.0,75236.0,30015.0,67272.0,28691.0,18100.0,30279.0,23295.0,81246.0,24027.0,57959.0,56796.0,65991.0,38988.0,50300.0,60597.0,70165.0,80124.0,33183.0,31880.0,53790.0,61456.0,37406.0,38415.0,20518.0,62503.0,41124.0,32233.0,43057.0,60093.0,14045.0,46310.0,76005.0,55563.0,65275.0,27203.0,53653.0,65665.0,81217.0,34935.0,61250.0,60152.0,48920.0,36443.0,26095.0,71367.0,30630.0,42691.0,70503.0,25545.0,32880.0,61839.0,72679.0,65316.0,28567.0,44931.0,76982.0,43638.0,54058.0,85620.0,47850.0,19514.0,21474.0,22419.0,43462.0,79908.0,87771.0,33039.0,81741.0,66565.0,47691.0,38200.0,44989.0,51287.0,13260.0,40689.0,39453.0,79800.0,53863.0,24221.0,33178.0,23910.0,31089.0,30081.0,62807.0,72906.0,42429.0,26150.0,81168.0,22574.0,45837.0,54162.0,31632.0,72298.0,13624.0,84196.0,70971.0,28769.0,83917.0,46102.0,84574.0,56181.0,73691.0,63381.0,45906.0,105471.0,66886.0,29103.0,67445.0,49431.0,61278.0,56253.0,19986.0,58330.0,18690.0,66731.0,77353.0,26751.0,70337.0,68118.0,68743.0,38946.0,65777.0,61209.0,34824.0,45938.0,78468.0,78901.0,71427.0,71022.0,71952.0,43185.0,25252.0,33249.0,58398.0,50272.0,25851.0,58710.0,45160.0,59111.0,72190.0,7500.0,44794.0,80395.0,89891.0,66373.0,89694.0,72025.0,67432.0,62882.0,82224.0,83844.0,71163.0,33697.0,58330.0,80952.0,75507.0,58512.0,79146.0,75127.0,48726.0,74985.0,67430.0,72063.0,42720.0,33622.0,41452.0,72258.0,36283.0,20587.0,30467.0,31590.0,40780.0,16813.0,51267.0,46524.0,73926.0,19329.0,46984.0,34838.0,48192.0,55267.0,59666.0,72504.0,26872.0,21359.0,73170.0,30772.0,22507.0,65685.0,22063.0,57091.0,22419.0,87771.0,93404.0,37859.0,16529.0,48789.0,35441.0,71391.0,81702.0,56628.0,34026.0,40049.0,34176.0,19419.0,81205.0,49980.0,15072.0,49166.0,60474.0,55357.0,37758.0,23228.0,7500.0,53172.0,30545.0,62450.0,21675.0,80812.0,39922.0,24762.0,35797.0,36627.0,42243.0,51195.0,31814.0,76630.0,64090.0,78331.0,21846.0,81320.0,54137.0,66825.0,57100.0,58917.0,85072.0,86429.0,45684.0,47889.0,75114.0,95529.0,62820.0,72354.0,83033.0,77583.0,74293.0,46107.0,75127.0,71796.0,55239.0,82025.0,94384.0,68274.0,39771.0,59754.0,53700.0,59041.0,70647.0,50183.0,54753.0,92955.0,33471.0,44010.0,84219.0,83715.0,35704.0,53103.0,4861.0,63693.0,80763.0,75759.0,85683.0,64449.0,64587.0,34824.0,75437.0,26091.0,52845.0,46086.0,22434.0,36130.0,83844.0,19514.0,77568.0,30168.0,54165.0,32300.0,20180.0,34961.0,17345.0,28647.0,74538.0,91700.0,68695.0,79593.0,28071.0,47703.0,61180.0,38998.0,8028.0,76081.0,34728.0,35196.0,44529.0,70596.0,42557.0,72228.0,67605.0,65196.0,16860.0,83528.0,22304.0,67023.0,70713.0,59925.0,39722.0,46610.0,88347.0,66294.0,36715.0,79456.0,40479.0,54233.0,24163.0,43776.0,71367.0,61825.0,79803.0,56775.0,83829.0,38508.0,53187.0,30023.0,66480.0,76773.0,71819.0,70566.0,48526.0,46734.0,39552.0,86358.0,46931.0,25930.0,42693.0,85606.0,72903.0,49678.0,37155.0,63285.0,42162.0,54450.0,26576.0,68142.0,7500.0,83145.0,46049.0,56715.0,79410.0,57304.0,44375.0,54450.0,59594.0,80685.0,62710.0,35322.0,77142.0,81657.0,54386.0,28510.0,48070.0,43140.0,26954.0,22327.0,44393.0,58401.0,62307.0,54809.0,58113.0,15287.0,18351.0,36317.0,42213.0,65748.0,77044.0,74918.0,56721.0,42160.0,61559.0,34377.0,26228.0,40211.0,22518.0,44421.0,41986.0,28427.0,64722.0,84906.0,28691.0,44213.0,76624.0,1730.0,40521.0,65106.0,67433.0,74716.0,68118.0,74190.0,39356.0,76653.0,31454.0,47139.0,83829.0,19656.0,55956.0,38808.0,66303.0,40800.0,71847.0,46149.0,78687.0,33986.0,52531.0,15759.0,22804.0,57811.0,78569.0,7500.0,94384.0,44267.0,71626.0,60894.0,50200.0,65169.0,59868.0,47009.0,40321.0,37235.0,77382.0,37774.0,24711.0,27244.0,48752.0,71434.0,90842.0,51948.0,71853.0,40049.0,39660.0,50127.0,18929.0,33249.0,62061.0,70515.0,18227.0,69139.0,69109.0,69627.0,38136.0,80695.0,58554.0,53034.0,47025.0,37971.0,67267.0,57338.0,48904.0,56243.0,21355.0,52247.25135379061,20895.0,92344.0,44964.0,75507.0,22682.0,39996.0,26759.0,60544.0,65685.0,37716.0,36864.0,57045.0,80134.0,80589.0,34412.0,57537.0,51315.0,36026.0,24639.0,63810.0,18690.0,28164.0,31907.0,92533.0,34853.0,70844.0,60544.0,42523.0,39922.0,33402.0,21645.0,82657.0,51876.0,52852.0,46053.0,77343.0,73892.0,68695.0,43300.0,26290.0,93790.0,57957.0,16531.0,50725.0,83844.0,67419.0,34380.0,34704.0,65148.0,39898.0,60474.0,62807.0,19107.0,76998.0,87679.0,57867.0,35765.0,65492.0,32952.0,71706.0,68487.0,42014.0,53977.0,84219.0,73538.0,79529.0,51766.0,55759.0,33039.0,27242.0,69930.0,37697.0,3502.0,58597.0,28087.0,19740.0,9255.0,31928.0,65819.0,51983.0,30983.0,66033.0,63943.0,76081.0,67445.0,31859.0,27215.0,39922.0,24645.0,79865.0,44322.0,47958.0,75315.0,38998.0,42014.0,45203.0,34935.0,34633.0,82460.0,81361.0,61482.0,34968.0,75794.0,74268.0,36108.0,76445.0,44512.0,27116.0,71855.0,68655.0,64509.0,33955.0,31353.0,55434.0,28359.0,57100.0,69139.0,18793.0,50664.0,54414.0,19444.0,22775.0,50002.0,69755.0,44078.0,56386.0,58684.0,57136.0,22448.0,82014.0,34213.0,72066.0,34916.0,64892.0,43602.0,86610.0,69016.0,27573.0,33228.0,70440.0,38232.0,49413.0,42231.0,56534.0,58350.0,81217.0,49090.0,18222.0,62335.0,61064.0,18358.0,52117.0,64813.0,83512.0,41154.0,80398.0,35196.0,60230.0,22108.0,44392.0,17688.0,90273.0,42586.0,71107.0,18690.0,37244.0,82427.0,70044.0,79146.0,77437.0,54984.0,55761.0,37292.0,70321.0,81795.0,69901.0,44989.0,30372.0,41120.0,77981.0,59481.0,72117.0,67131.0,71853.0,70596.0,42664.0,42586.0,29760.0,64590.0,71232.0,34600.0,46904.0,49094.0,36075.0,77298.0,34026.0,37697.0,34074.0,62535.0,63404.0,78416.0,75702.0,37070.0,44689.0,53977.0,18701.0,90369.0,37758.0,63207.0,72071.0,72282.0,50387.0,62568.0,63967.0,25293.0,78394.0,29236.0,44911.0,48186.0,54809.0,41580.0,47743.0,30093.0,25008.0,22280.0,64260.0,54006.0,61825.0,70886.0,69109.0,60208.0,34738.0,69932.0,44503.0,49638.0,72905.0,70300.0,52413.0,76532.0,42081.0,31158.0,61671.0,69719.0,49160.0,22148.0,29819.0,45688.0,62820.0,33235.0,35701.0,67384.0,77870.0,57107.0,18929.0,20180.0,91249.0,80982.0,70617.0,64849.0,75903.0,25410.0,28320.0,23763.0,72570.0,70792.0,63211.0,36065.0,39898.0,56939.0,80872.0,29478.0,46998.0,96843.0,44359.0,40887.0,48877.0,74485.0,64474.0,77226.0,72643.0,55686.0,39062.0,34600.0,40794.0,4428.0,36781.0,24570.0,94642.0,53201.0,21994.0,57113.0,51373.0,23477.0,58116.0,94472.0,13672.0,79205.0,24206.0,22979.0,33279.0,30368.0,63684.0,41638.0,71964.0,39146.0,96876.0,68281.0,36790.0,27943.0,22263.0,30261.0,28587.0,48195.0,29672.0,23272.0,67225.0,17649.0,55914.0,40059.0,60905.0,75330.0,60689.0,38680.0,61416.0,49767.0,83273.0,29009.0,37150.0,43020.0,53154.0,65308.0,76467.0,32871.0,55801.0,76320.0,48794.0,23478.0,71128.0,59462.0,38361.0,42554.0,67445.0,67046.0,42192.0,31761.0,34350.0,54591.0,71866.0,25293.0,69520.0,64713.0,52247.25135379061,27803.0,52247.25135379061,51651.0,68487.0,56796.0,79823.0,30828.0,71322.0,79244.0,80144.0,54252.0,76068.0,72967.0,82332.0,58275.0,34587.0,25818.0,43586.0,50116.0,84906.0,61286.0,33590.0,30992.0,58692.0,40590.0,20587.0,19346.0,35788.0,36997.0,23539.0,65333.0,78499.0,69209.0,17148.0,40590.0,59686.0,62994.0,47320.0,72071.0,90000.0,41967.0,69263.0,60934.0,71965.0,65210.0,52914.0,38946.0,26067.0,42523.0,67716.0,40851.0,27469.0,73803.0,43322.0,55593.0,50501.0,37085.0,57731.0,73807.0,18929.0,35893.0,61014.0,32144.0,45146.0,88325.0,5305.0,36807.0,28427.0,22775.0,58025.0,58554.0,63777.0,57967.0,24434.0,11012.0,26816.0,34421.0,61223.0,56981.0],\"xaxis\":\"x\",\"y\":[1617,27,776,53,590,19,1102,46,96,317,316,1730,444,75,257,637,131,120,67,1395,22,984,55,124,507,72,1617,606,1093,29,46,612,884,1076,34,11,653,1562,863,65,13,2209,692,165,16,778,56,372,1366,194,18,45,606,63,1169,1097,187,910,145,969,730,114,1724,33,43,1135,1923,463,725,725,1385,312,877,68,22,460,89,1381,306,18,162,1231,121,88,421,259,1117,89,36,57,148,119,10,50,608,1581,91,315,31,1600,1270,535,1295,1150,53,65,1804,241,1101,1198,482,1135,1047,1245,189,576,1103,433,22,19,57,2088,1009,26,1627,1102,1690,1390,26,1112,1148,322,44,31,1495,981,67,1635,48,99,957,576,317,70,930,1478,137,1919,68,25,825,62,273,66,107,1157,53,37,1611,235,102,401,28,1052,680,30,630,1283,37,23,33,946,1442,62,1674,1538,139,940,42,1190,44,835,1443,1188,49,99,2153,57,494,693,1348,51,1932,254,1371,81,37,51,22,324,41,1005,114,1738,1127,186,47,27,1040,163,343,41,490,915,369,1073,1378,1474,45,20,1795,1188,1008,684,1068,57,733,34,14,37,20,1379,48,868,1001,971,348,270,893,926,1495,120,15,542,1388,17,44,25,973,506,296,266,735,20,309,1722,43,746,64,1210,945,1157,137,730,943,347,138,42,777,52,358,1727,210,42,1895,1168,260,46,96,1062,201,662,1600,134,69,91,162,240,1772,1957,78,1572,1065,21,17,369,182,49,444,55,1867,473,55,49,67,79,42,819,1151,67,28,1193,37,373,42,95,939,36,1237,1825,191,1587,16,1375,393,1179,1005,486,1724,599,48,1174,365,165,597,22,1064,60,1029,670,11,576,928,2074,257,1146,957,23,636,1004,734,614,1453,1443,637,18,112,596,233,48,1185,21,869,1947,71,65,1380,836,606,1472,1677,1335,1338,902,1574,960,28,1064,1757,1440,1171,564,833,242,1869,1364,758,654,81,16,1525,29,25,24,38,377,50,270,177,1580,60,41,170,1526,405,1027,1478,72,48,726,20,570,769,55,577,162,1957,1616,36,22,680,39,1043,1633,761,76,290,89,70,2009,195,53,368,1180,727,40,40,15,486,69,995,45,1677,156,86,68,16,55,564,83,1003,797,1638,84,928,203,858,409,282,1423,1449,28,67,1253,1990,976,1228,1761,1149,1127,125,833,960,779,1187,2302,305,50,475,694,96,1079,231,728,1778,93,662,1198,926,94,1085,6,1150,1415,2486,1789,805,108,23,1493,89,936,343,58,488,1574,69,2194,279,236,39,137,79,58,94,1461,1968,1091,1366,313,655,704,54,178,1033,36,497,691,968,270,1250,938,1155,38,1650,18,906,1477,766,47,467,2116,967,357,1401,15,981,17,23,777,424,868,937,1862,443,267,61,312,1156,1574,757,135,330,384,1722,78,15,57,1956,2013,315,74,1103,145,684,27,1459,18,1833,515,1020,1370,1026,301,684,499,1004,606,106,990,1097,470,91,504,235,17,24,60,96,160,174,758,31,43,133,363,545,1065,2047,296,140,530,114,25,87,61,189,63,52,805,1631,34,152,899,8,21,973,992,860,928,641,23,2279,48,83,1862,84,999,246,1286,99,1192,362,2130,44,794,17,26,802,1736,57,2302,310,1305,832,401,1189,1194,448,102,61,1121,473,58,101,316,1400,1424,311,1149,32,299,320,85,112,800,1258,28,227,1555,861,103,1918,586,447,415,30,251,237,371,396,68,45,45,1899,41,1440,95,15,59,289,769,188,354,454,1690,1428,209,545,222,61,44,1371,60,78,449,1131,34,294,289,125,156,70,65,2283,310,879,209,1134,1507,1091,180,77,2349,637,44,586,1574,1471,175,40,1115,134,1180,819,46,1910,2524,612,75,1045,55,1443,1366,436,907,1198,1658,1638,275,854,78,106,1662,84,5,733,112,55,22,72,1383,793,167,677,1106,1033,1174,20,102,156,17,792,92,407,841,54,436,147,137,15,974,778,299,221,1682,892,339,1410,32,41,1141,1538,1722,270,31,882,16,311,227,77,561,211,54,15,638,894,41,612,813,1179,55,1511,117,1792,231,902,68,1603,1533,244,71,1572,122,304,37,815,1001,1157,688,67,708,1080,57,279,745,2157,69,1597,497,1067,31,211,11,1991,252,1327,60,55,1456,1504,564,1125,358,184,460,1376,1382,882,369,44,81,664,461,1073,976,1149,968,24,252,165,1338,917,318,253,502,119,969,76,84,255,398,902,1179,1921,433,34,907,44,1588,40,1502,1338,1331,525,953,882,37,1428,99,215,219,174,92,275,69,34,13,1574,581,424,960,1555,656,20,1049,48,39,1515,1596,450,820,382,72,732,801,236,49,39,306,976,70,46,1490,1815,416,85,137,1676,1191,1280,1336,901,38,43,42,1089,1272,1173,74,134,561,1336,20,377,1544,45,161,144,1734,823,1138,1429,982,44,318,434,359,63,193,2211,415,22,263,393,147,443,1691,25,895,25,115,16,52,1464,441,1870,165,1941,1655,66,37,21,22,78,265,25,46,868,45,1260,414,392,1109,639,79,1665,692,1392,44,467,223,158,1211,1575,43,527,932,54,129,1615,1088,137,41,1174,993,100,98,48,519,715,37,1455,602,97,176,450,433,1366,1001,1518,56,350,1216,1367,264,1376,497,2006,615,22,28,132,66,1631,608,8,43,395,258,25,22,44,94,81,798,1334,1782,68,258,274,312,414,1338,1479,54,568,873,1213,731,575,257,56,125,1016,59,17,1528,141,546,500,61,704,849,85,199,1147,54,53,1623,32,16,52,15,470,586,653,468,50,84,22,30,1341,1241],\"yaxis\":\"y\",\"type\":\"scattergl\"},{\"hovertemplate\":\"Education=PhD<br>Income=%{x}<br>Total_Amount_spent=%{y}<extra></extra>\",\"legendgroup\":\"PhD\",\"marker\":{\"color\":\"#EF553B\",\"symbol\":\"circle\"},\"mode\":\"markers\",\"name\":\"PhD\",\"showlegend\":true,\"x\":[58293.0,33454.0,30351.0,5648.0,82800.0,58607.0,65324.0,84618.0,46610.0,67353.0,48948.0,52247.25135379061,72550.0,55954.0,67680.0,60631.0,52247.25135379061,23626.0,50150.0,34554.0,65846.0,68126.0,43974.0,52247.25135379061,77376.0,41551.0,62981.0,33762.0,35860.0,36921.0,68352.0,61010.0,70356.0,74165.0,53537.0,80427.0,83837.0,38853.0,51650.0,32303.0,45759.0,66973.0,46854.0,102160.0,40637.0,44377.0,77622.0,30732.0,79930.0,34320.0,62745.0,79761.0,31686.0,67546.0,30899.0,63342.0,40737.0,69674.0,37717.0,38097.0,61905.0,66313.0,69867.0,65640.0,57912.0,46377.0,47025.0,64325.0,14849.0,54432.0,29999.0,33996.0,66334.0,83532.0,55212.0,59292.0,69759.0,60000.0,68462.0,46681.0,62187.0,37717.0,52614.0,38578.0,66426.0,33581.0,83664.0,51012.0,68682.0,55521.0,27213.0,65808.0,30351.0,66465.0,75865.0,37401.0,93027.0,84865.0,32011.0,56223.0,55707.0,50520.0,66582.0,75261.0,49269.0,56937.0,41644.0,62010.0,78825.0,78952.0,55614.0,78642.0,67911.0,64355.0,39665.0,44124.0,77863.0,49154.0,42710.0,84169.0,60504.0,54880.0,48799.0,52157.0,38443.0,64413.0,61996.0,47472.0,45207.0,39684.0,59973.0,61467.0,48240.0,54456.0,34487.0,69084.0,65488.0,76140.0,62859.0,46463.0,50616.0,73059.0,46734.0,45068.0,29187.0,59304.0,52614.0,81300.0,65295.0,66476.0,86857.0,77845.0,69476.0,50611.0,26518.0,35682.0,66375.0,76618.0,18988.0,35946.0,53593.0,45072.0,64108.0,48767.0,83443.0,51518.0,62220.0,38829.0,31626.0,78939.0,6835.0,40760.0,74250.0,71466.0,42564.0,82017.0,70421.0,82716.0,91820.0,65968.0,76412.0,80995.0,55412.0,56575.0,65324.0,30843.0,46374.0,57906.0,70123.0,86857.0,82072.0,46231.0,48948.0,55260.0,37087.0,45921.0,78420.0,52278.0,84169.0,74637.0,46015.0,34469.0,68397.0,79632.0,64950.0,32892.0,67536.0,60554.0,56067.0,51563.0,27922.0,52190.0,42767.0,16927.0,54237.0,52597.0,40233.0,34596.0,40706.0,65352.0,82170.0,35340.0,78028.0,95169.0,36930.0,36736.0,49187.0,28440.0,64504.0,56320.0,32173.0,37334.0,37126.0,77037.0,28764.0,69098.0,53312.0,42000.0,35860.0,65526.0,32892.0,87171.0,41014.0,84460.0,71691.0,85844.0,39190.0,38578.0,57236.0,76045.0,50870.0,54466.0,16269.0,33569.0,31605.0,36778.0,85696.0,33419.0,57744.0,57513.0,23091.0,40344.0,74214.0,54959.0,62000.0,31497.0,78075.0,84618.0,40451.0,33629.0,68682.0,33438.0,75032.0,61284.0,38197.0,37395.0,59062.0,27683.0,20427.0,69969.0,77766.0,55158.0,35860.0,90687.0,53378.0,45579.0,37633.0,57091.0,42997.0,48918.0,34043.0,81051.0,65695.0,27238.0,45503.0,71604.0,50150.0,85696.0,76542.0,62159.0,50611.0,56242.0,52247.25135379061,38887.0,29791.0,51039.0,36947.0,36957.0,69389.0,34578.0,54132.0,34596.0,43269.0,70038.0,40304.0,32727.0,38410.0,46015.0,41145.0,94871.0,59892.0,57072.0,64014.0,60585.0,42873.0,53374.0,49667.0,78931.0,87188.0,37401.0,82032.0,74004.0,69283.0,67786.0,71969.0,51411.0,70179.0,55517.0,75283.0,82800.0,38201.0,81574.0,35860.0,31497.0,52569.0,48432.0,36663.0,54072.0,65526.0,51717.0,54549.0,47111.0,41003.0,73059.0,42731.0,52854.0,46681.0,59821.0,64140.0,56551.0,25358.0,62670.0,50729.0,33996.0,63246.0,36732.0,69084.0,77766.0,37929.0,49544.0,22554.0,23536.0,18169.0,86580.0,41437.0,55012.0,38175.0,54222.0,55424.0,92491.0,82571.0,38513.0,46910.0,42403.0,45576.0,58086.0,80360.0,63342.0,51569.0,38725.0,36802.0,25509.0,51012.0,85431.0,28973.0,39435.0,42473.0,48918.0,7144.0,63159.0,46757.0,21840.0,32583.0,54111.0,54693.0,80336.0,57333.0,32313.0,86836.0,4023.0,57705.0,72159.0,82733.0,70116.0,69063.0,26642.0,60200.0,69702.0,70643.0,30396.0,50616.0,30298.0,44155.0,86979.0,67546.0,90933.0,113734.0,59292.0,45759.0,60491.0,52278.0,36038.0,34230.0,55212.0,61917.0,67472.0,54998.0,54356.0,73356.0,51141.0,72335.0,61798.0,76842.0,56551.0,71670.0,38236.0,25509.0,72968.0,56559.0,32644.0,28420.0,68805.0,65814.0,71322.0,68117.0,70179.0,52247.25135379061,70038.0,77610.0,42000.0,48699.0,67911.0,78128.0,44953.0,69805.0,82333.0,65220.0,29732.0,63516.0,42769.0,58482.0,60896.0,31560.0,79174.0,48432.0,44325.0,84117.0,48432.0,82032.0,57642.0,64014.0,52869.0],\"xaxis\":\"x\",\"y\":[422,169,46,49,1315,972,544,1672,302,913,902,186,1319,518,606,661,603,43,410,55,1120,1820,551,404,661,279,1482,106,49,38,871,1021,1706,1293,93,1835,1318,45,191,39,68,1282,263,1240,38,264,714,185,1753,17,1117,605,17,2126,33,1101,17,845,25,184,231,770,925,461,916,90,20,1307,65,38,160,71,1161,1853,1182,507,1029,1277,1670,425,636,25,990,73,1377,17,1173,209,1598,446,70,272,46,1485,1242,48,2119,1688,122,156,428,135,1288,1743,890,906,31,530,895,2092,682,1816,976,1445,216,397,1291,411,406,1919,526,795,331,265,38,279,1230,75,215,81,382,594,882,404,103,1586,963,1348,1307,235,67,1095,223,20,34,1048,990,1241,664,689,2114,1346,1044,493,57,57,948,1511,16,11,480,284,1099,63,1497,449,1226,99,86,1507,137,93,1158,1230,813,729,767,1167,1497,495,1808,1482,63,542,544,35,446,401,1727,2114,2018,263,902,1139,401,199,1453,1198,1919,1650,46,62,1416,1113,966,46,1829,811,725,1250,41,77,131,53,361,578,149,23,81,405,1908,45,528,1901,297,17,116,63,1314,702,22,62,72,1123,12,2440,278,653,49,506,46,1298,20,523,1192,1958,133,73,121,1323,63,16,44,63,125,77,1313,86,411,1060,48,218,1711,1232,1020,155,988,1672,49,152,1598,90,1215,811,40,39,71,351,10,1536,1529,418,49,1779,793,183,38,496,15,62,49,1501,656,57,170,1196,410,1313,1483,634,493,971,42,42,20,417,146,152,797,8,42,23,19,1244,57,529,534,46,13,1078,87,1034,444,736,269,1064,1396,943,1923,48,1234,1658,904,1156,1086,18,1034,633,1019,1315,268,1798,49,155,95,424,35,39,506,122,233,1092,601,1095,244,116,425,734,1750,138,32,825,496,71,772,47,1586,1529,265,404,41,10,21,746,32,660,153,264,877,2034,1686,324,68,42,145,792,2231,1101,467,45,20,101,209,1165,269,102,144,62,416,1797,1143,27,9,388,929,1052,1662,159,557,9,486,1401,1323,1536,928,42,685,1039,1828,34,149,28,46,1702,2126,1685,277,507,68,1028,1198,47,21,1182,91,414,455,775,1512,157,2092,463,1130,138,1766,88,101,1958,484,413,13,283,747,1305,930,1034,47,1244,1680,653,40,976,1264,1021,1038,1822,1282,38,300,88,731,1701,94,2043,424,542,1566,424,1234,679,444,172],\"yaxis\":\"y\",\"type\":\"scattergl\"},{\"hovertemplate\":\"Education=Post_Graduate<br>Income=%{x}<br>Total_Amount_spent=%{y}<extra></extra>\",\"legendgroup\":\"Post_Graduate\",\"marker\":{\"color\":\"#00cc96\",\"symbol\":\"circle\"},\"mode\":\"markers\",\"name\":\"Post_Graduate\",\"showlegend\":true,\"x\":[62513.0,59354.0,76995.0,10979.0,38620.0,68657.0,49389.0,20559.0,7500.0,79143.0,82384.0,75777.0,66991.0,75251.0,38620.0,36138.0,52247.25135379061,42394.0,89058.0,57288.0,56129.0,32557.0,19510.0,54348.0,61331.0,92859.0,65104.0,49605.0,59354.0,30523.0,66835.0,30477.0,69661.0,18890.0,48721.0,46014.0,83790.0,44551.0,23661.0,65176.0,31160.0,44159.0,43776.0,38179.0,31788.0,77882.0,63841.0,44319.0,50898.0,35416.0,55951.0,42386.0,80950.0,64100.0,42670.0,70893.0,28839.0,35178.0,33181.0,65073.0,29548.0,46098.0,36143.0,43795.0,62499.0,70777.0,49505.0,18492.0,82584.0,50943.0,51529.0,42618.0,36230.0,42207.0,55842.0,38961.0,37760.0,83151.0,65104.0,58308.0,59432.0,48330.0,50943.0,89120.0,81169.0,80184.0,73454.0,50353.0,57954.0,47352.0,22944.0,27159.0,81698.0,71499.0,29298.0,36959.0,54603.0,27450.0,61794.0,92163.0,69882.0,17459.0,42169.0,49618.0,21888.0,26877.0,45006.0,35791.0,30522.0,63120.0,77632.0,55282.0,78710.0,98777.0,14661.0,59247.0,42315.0,47570.0,61923.0,90247.0,41335.0,35178.0,55250.0,74806.0,75012.0,56962.0,70545.0,34941.0,40662.0,78285.0,62058.0,51124.0,17144.0,43783.0,62847.0,45183.0,61872.0,49681.0,56850.0,52750.0,49494.0,55284.0,38576.0,44602.0,43456.0,19485.0,61346.0,42835.0,86424.0,68092.0,51390.0,35641.0,73113.0,39858.0,24401.0,44051.0,46106.0,41021.0,80573.0,82576.0,56962.0,33462.0,42021.0,65569.0,34053.0,38196.0,59412.0,33564.0,46423.0,33168.0,33585.0,27100.0,62845.0,50014.0,75345.0,27590.0,98777.0,36262.0,52034.0,67381.0,10979.0,56129.0,21255.0,54197.0,66726.0,47353.0,33444.0,90638.0,78579.0,67369.0,43641.0,63841.0,70091.0,51412.0,66636.0,50965.0,54730.0,38452.0,55249.0,66000.0,73450.0,64191.0,57183.0,23748.0,37368.0,39767.0,83151.0,60033.0,64857.0,45143.0,81843.0,46692.0,72828.0,6560.0,88097.0,35876.0,43263.0,62845.0,33316.0,75154.0,41335.0,35791.0,57420.0,52247.25135379061,46390.0,53761.0,63915.0,63841.0,44511.0,47352.0,67087.0,43142.0,27100.0,36408.0,78427.0,64866.0,28072.0,49476.0,64857.0,41020.0,70379.0,79419.0,49854.0,53253.0,54108.0,63206.0,57136.0,46098.0,37787.0,46098.0,59235.0,74881.0,42386.0,57530.0,37054.0,47175.0,49681.0,63972.0,90638.0,27161.0,60482.0,78093.0,45903.0,40442.0,45143.0,17144.0,53843.0,90226.0,70638.0,60432.0,52973.0,30560.0,35924.0,39228.0,58494.0,35544.0,36634.0,80141.0,78789.0,61787.0,73705.0,38452.0,58656.0,77520.0,16653.0,74881.0,66835.0,39763.0,47808.0,28520.0,36273.0,59385.0,79734.0,44635.0,33316.0,80739.0,22669.0,84953.0,27071.0,68148.0,65735.0,74290.0,58217.0,21024.0,32889.0,30538.0,33051.0,62772.0,88420.0,73395.0,31535.0,80573.0,77598.0,22701.0,62694.0,21059.0,29543.0,34242.0,34529.0,83891.0,70053.0,85738.0,31385.0,58646.0,39791.0,91712.0,46423.0,43815.0,77027.0,32765.0,49912.0,45057.0,36927.0,52247.25135379061,27889.0,52247.25135379061,52247.25135379061,34109.0,53367.0,49912.0,81929.0,53204.0,58646.0,48150.0,43018.0,45736.0,66476.0,72217.0,37509.0,72309.0,65487.0,62637.0,29435.0,41275.0,49572.0,30560.0,34176.0,91172.0,81380.0,76234.0,65487.0,89616.0,8820.0,38054.0,40101.0,75777.0,33562.0,44802.0,69245.0],\"xaxis\":\"x\",\"y\":[716,310,1782,30,318,1196,65,53,31,1693,1957,1438,1253,1890,318,151,985,32,850,608,660,80,30,90,632,2077,1053,127,459,13,1033,66,834,35,293,541,1615,285,23,1531,64,275,275,90,60,818,908,37,859,390,1374,100,1213,546,241,1508,32,59,16,900,29,120,19,492,222,787,751,10,1435,46,467,192,59,265,518,70,54,747,1053,900,663,32,46,1924,2089,1902,1651,442,493,319,76,21,1008,795,11,62,227,143,611,2086,1478,69,30,129,213,268,266,35,326,1477,2252,235,1092,2008,26,574,270,121,126,1621,187,59,903,965,1027,411,334,97,92,1427,450,43,47,629,1612,315,573,458,63,860,385,764,41,292,393,10,989,595,1226,1281,353,178,1001,95,467,171,54,64,1564,1910,411,54,573,859,103,44,406,71,92,122,122,37,1178,396,2087,12,2008,426,332,957,30,660,61,237,438,225,18,2525,1812,1461,139,908,1161,195,1084,685,405,72,130,711,1804,825,610,76,30,485,2346,198,1540,311,1643,397,1678,373,844,129,441,1178,131,1143,187,35,322,317,222,325,789,908,727,319,794,20,37,22,1930,556,47,795,1540,217,860,1631,380,436,747,928,642,120,106,120,1128,964,100,92,25,240,458,1269,2525,52,507,1105,66,169,311,47,562,2352,1334,401,1152,31,34,20,396,67,335,2091,1754,1319,1695,72,1220,1526,69,964,1033,167,224,43,76,185,914,68,131,1633,173,1024,35,1042,395,1217,103,84,55,367,835,946,2069,397,51,1564,1735,24,749,44,63,15,162,816,1012,1371,27,140,174,2217,92,79,1175,46,874,50,71,721,26,207,1564,22,400,874,2053,45,140,266,133,437,1013,1573,123,1931,1169,185,180,61,54,31,28,1092,1893,907,1169,1644,35,45,415,1438,51,1049,843],\"yaxis\":\"y\",\"type\":\"scattergl\"},{\"hovertemplate\":\"Education=Under_Graduate<br>Income=%{x}<br>Total_Amount_spent=%{y}<extra></extra>\",\"legendgroup\":\"Under_Graduate\",\"marker\":{\"color\":\"#ab63fa\",\"symbol\":\"circle\"},\"mode\":\"markers\",\"name\":\"Under_Graduate\",\"showlegend\":true,\"x\":[7500.0,24594.0,9548.0,28249.0,24882.0,24480.0,27190.0,24279.0,30801.0,18978.0,25965.0,21063.0,13084.0,17487.0,20425.0,26868.0,25443.0,14906.0,15038.0,22634.0,16581.0,14421.0,23724.0,15056.0,8940.0,25707.0,7500.0,26997.0,18393.0,24367.0,17256.0,22634.0,13724.0,24594.0,15862.0,9722.0,18746.0,23529.0,28389.0,16014.0,28249.0,20194.0,24882.0,34445.0,22123.0,22390.0,14188.0,20425.0,16005.0,15253.0,26487.0,25224.0,16185.0,14918.0],\"xaxis\":\"x\",\"y\":[61,29,29,43,80,102,18,263,45,37,74,59,29,18,57,14,32,66,80,96,24,16,75,88,101,21,119,434,50,24,62,96,58,29,36,103,64,54,28,38,43,47,80,839,102,26,75,57,103,29,69,46,106,43],\"yaxis\":\"y\",\"type\":\"scattergl\"},{\"hovertemplate\":\"Education=Psot_Graduate<br>Income=%{x}<br>Total_Amount_spent=%{y}<extra></extra>\",\"legendgroup\":\"Psot_Graduate\",\"marker\":{\"color\":\"#FFA15A\",\"symbol\":\"circle\"},\"mode\":\"markers\",\"name\":\"Psot_Graduate\",\"showlegend\":true,\"x\":[33812.0,23718.0,7500.0,88194.0,52247.25135379061,26326.0,23559.0,78497.0,47823.0,36550.0,30753.0,71488.0,35688.0,46344.0,78497.0,16248.0,36640.0,52195.0,45204.0,81975.0,22212.0,60182.0,26490.0,32414.0,35388.0,58821.0,35684.0,35688.0,14515.0,31395.0,23616.0,19789.0,10404.0,67309.0,7500.0,20130.0,70829.0,89572.0,66664.0,28457.0,47682.0,57247.0,25315.0,24683.0,39548.0,15315.0,62466.0,38593.0,47821.0,26850.0,26224.0,36975.0,72635.0,62466.0,32218.0,26490.0,54690.0,36145.0,41039.0,87305.0,38702.0,17003.0,63564.0,63855.0,35523.0,46891.0,60161.0,25804.0,78353.0,25130.0,45889.0,82504.0,61618.0,82347.0,85710.0,38683.0,49514.0,42395.0,17117.0,51111.0,42607.0,74116.0,64831.0,57937.0,67893.0,15716.0,59052.0,46779.0,79689.0,24884.0,56337.0,70924.0,68316.0,31056.0,70924.0,25959.0,64176.0,26907.0,80910.0,54210.0,15315.0,65463.0,81698.0,47025.0,63998.0,49669.0,21282.0,48985.0,20130.0,45894.0,46891.0,59184.0,77297.0,62972.0,85485.0,49118.0,46831.0,43050.0,23148.0,74805.0,59060.0,46094.0,26887.0,52203.0,59601.0,50523.0,54342.0,52247.25135379061,26907.0,41658.0,65704.0,38741.0,31163.0,31086.0,20491.0,78041.0,69401.0,23162.0,19414.0,75484.0,31163.0,46772.0,20981.0,57036.0,53083.0,23331.0,23331.0,30390.0,37284.0,76800.0,51250.0,12393.0,66664.0,36301.0,75774.0,50334.0,41473.0,72635.0,20193.0,24336.0,42033.0,75342.0,31859.0,62905.0,13533.0,21955.0,65370.0,60839.0,82122.0,75774.0,58582.0,52513.0,62972.0,83257.0,11448.0,82326.0,23830.0,92556.0,31878.0,70932.0,34984.0,54690.0,32632.0,96547.0,67506.0,37284.0,7500.0,81044.0,87000.0,14796.0,27733.0,25176.0,53230.0,32146.0,41713.0,74859.0,65706.0,53233.0,82347.0,41769.0,80617.0,7500.0,52247.25135379061],\"xaxis\":\"x\",\"y\":[133,81,122,1274,109,18,79,978,72,577,81,559,211,429,978,57,65,17,114,1588,69,22,210,52,32,728,30,211,96,64,79,78,43,1082,36,34,431,2059,1289,205,521,232,54,41,54,64,889,177,47,63,63,33,981,889,93,210,198,172,467,1152,109,38,1215,1006,66,183,1071,55,1576,50,46,1066,1345,1853,1062,341,369,182,128,55,350,2052,1120,683,995,92,491,23,1315,19,724,1363,1211,55,1363,56,1826,22,756,367,64,562,1104,635,1168,326,46,75,34,51,183,1072,789,587,1383,1229,78,76,37,820,274,44,30,939,797,91,177,21,22,72,817,61,38,48,30,1319,690,65,32,1159,38,1048,73,1513,271,103,269,80,23,641,710,57,1289,78,823,694,76,981,82,31,25,563,48,622,48,55,461,1250,1382,823,763,1149,587,1365,14,2257,43,1263,70,909,38,198,576,809,331,23,100,1208,961,51,57,13,732,66,174,1565,1199,40,1853,521,1435,53,1679],\"yaxis\":\"y\",\"type\":\"scattergl\"}],                        {\"template\":{\"data\":{\"bar\":[{\"error_x\":{\"color\":\"#2a3f5f\"},\"error_y\":{\"color\":\"#2a3f5f\"},\"marker\":{\"line\":{\"color\":\"#E5ECF6\",\"width\":0.5},\"pattern\":{\"fillmode\":\"overlay\",\"size\":10,\"solidity\":0.2}},\"type\":\"bar\"}],\"barpolar\":[{\"marker\":{\"line\":{\"color\":\"#E5ECF6\",\"width\":0.5},\"pattern\":{\"fillmode\":\"overlay\",\"size\":10,\"solidity\":0.2}},\"type\":\"barpolar\"}],\"carpet\":[{\"aaxis\":{\"endlinecolor\":\"#2a3f5f\",\"gridcolor\":\"white\",\"linecolor\":\"white\",\"minorgridcolor\":\"white\",\"startlinecolor\":\"#2a3f5f\"},\"baxis\":{\"endlinecolor\":\"#2a3f5f\",\"gridcolor\":\"white\",\"linecolor\":\"white\",\"minorgridcolor\":\"white\",\"startlinecolor\":\"#2a3f5f\"},\"type\":\"carpet\"}],\"choropleth\":[{\"colorbar\":{\"outlinewidth\":0,\"ticks\":\"\"},\"type\":\"choropleth\"}],\"contour\":[{\"colorbar\":{\"outlinewidth\":0,\"ticks\":\"\"},\"colorscale\":[[0.0,\"#0d0887\"],[0.1111111111111111,\"#46039f\"],[0.2222222222222222,\"#7201a8\"],[0.3333333333333333,\"#9c179e\"],[0.4444444444444444,\"#bd3786\"],[0.5555555555555556,\"#d8576b\"],[0.6666666666666666,\"#ed7953\"],[0.7777777777777778,\"#fb9f3a\"],[0.8888888888888888,\"#fdca26\"],[1.0,\"#f0f921\"]],\"type\":\"contour\"}],\"contourcarpet\":[{\"colorbar\":{\"outlinewidth\":0,\"ticks\":\"\"},\"type\":\"contourcarpet\"}],\"heatmap\":[{\"colorbar\":{\"outlinewidth\":0,\"ticks\":\"\"},\"colorscale\":[[0.0,\"#0d0887\"],[0.1111111111111111,\"#46039f\"],[0.2222222222222222,\"#7201a8\"],[0.3333333333333333,\"#9c179e\"],[0.4444444444444444,\"#bd3786\"],[0.5555555555555556,\"#d8576b\"],[0.6666666666666666,\"#ed7953\"],[0.7777777777777778,\"#fb9f3a\"],[0.8888888888888888,\"#fdca26\"],[1.0,\"#f0f921\"]],\"type\":\"heatmap\"}],\"heatmapgl\":[{\"colorbar\":{\"outlinewidth\":0,\"ticks\":\"\"},\"colorscale\":[[0.0,\"#0d0887\"],[0.1111111111111111,\"#46039f\"],[0.2222222222222222,\"#7201a8\"],[0.3333333333333333,\"#9c179e\"],[0.4444444444444444,\"#bd3786\"],[0.5555555555555556,\"#d8576b\"],[0.6666666666666666,\"#ed7953\"],[0.7777777777777778,\"#fb9f3a\"],[0.8888888888888888,\"#fdca26\"],[1.0,\"#f0f921\"]],\"type\":\"heatmapgl\"}],\"histogram\":[{\"marker\":{\"pattern\":{\"fillmode\":\"overlay\",\"size\":10,\"solidity\":0.2}},\"type\":\"histogram\"}],\"histogram2d\":[{\"colorbar\":{\"outlinewidth\":0,\"ticks\":\"\"},\"colorscale\":[[0.0,\"#0d0887\"],[0.1111111111111111,\"#46039f\"],[0.2222222222222222,\"#7201a8\"],[0.3333333333333333,\"#9c179e\"],[0.4444444444444444,\"#bd3786\"],[0.5555555555555556,\"#d8576b\"],[0.6666666666666666,\"#ed7953\"],[0.7777777777777778,\"#fb9f3a\"],[0.8888888888888888,\"#fdca26\"],[1.0,\"#f0f921\"]],\"type\":\"histogram2d\"}],\"histogram2dcontour\":[{\"colorbar\":{\"outlinewidth\":0,\"ticks\":\"\"},\"colorscale\":[[0.0,\"#0d0887\"],[0.1111111111111111,\"#46039f\"],[0.2222222222222222,\"#7201a8\"],[0.3333333333333333,\"#9c179e\"],[0.4444444444444444,\"#bd3786\"],[0.5555555555555556,\"#d8576b\"],[0.6666666666666666,\"#ed7953\"],[0.7777777777777778,\"#fb9f3a\"],[0.8888888888888888,\"#fdca26\"],[1.0,\"#f0f921\"]],\"type\":\"histogram2dcontour\"}],\"mesh3d\":[{\"colorbar\":{\"outlinewidth\":0,\"ticks\":\"\"},\"type\":\"mesh3d\"}],\"parcoords\":[{\"line\":{\"colorbar\":{\"outlinewidth\":0,\"ticks\":\"\"}},\"type\":\"parcoords\"}],\"pie\":[{\"automargin\":true,\"type\":\"pie\"}],\"scatter\":[{\"marker\":{\"colorbar\":{\"outlinewidth\":0,\"ticks\":\"\"}},\"type\":\"scatter\"}],\"scatter3d\":[{\"line\":{\"colorbar\":{\"outlinewidth\":0,\"ticks\":\"\"}},\"marker\":{\"colorbar\":{\"outlinewidth\":0,\"ticks\":\"\"}},\"type\":\"scatter3d\"}],\"scattercarpet\":[{\"marker\":{\"colorbar\":{\"outlinewidth\":0,\"ticks\":\"\"}},\"type\":\"scattercarpet\"}],\"scattergeo\":[{\"marker\":{\"colorbar\":{\"outlinewidth\":0,\"ticks\":\"\"}},\"type\":\"scattergeo\"}],\"scattergl\":[{\"marker\":{\"colorbar\":{\"outlinewidth\":0,\"ticks\":\"\"}},\"type\":\"scattergl\"}],\"scattermapbox\":[{\"marker\":{\"colorbar\":{\"outlinewidth\":0,\"ticks\":\"\"}},\"type\":\"scattermapbox\"}],\"scatterpolar\":[{\"marker\":{\"colorbar\":{\"outlinewidth\":0,\"ticks\":\"\"}},\"type\":\"scatterpolar\"}],\"scatterpolargl\":[{\"marker\":{\"colorbar\":{\"outlinewidth\":0,\"ticks\":\"\"}},\"type\":\"scatterpolargl\"}],\"scatterternary\":[{\"marker\":{\"colorbar\":{\"outlinewidth\":0,\"ticks\":\"\"}},\"type\":\"scatterternary\"}],\"surface\":[{\"colorbar\":{\"outlinewidth\":0,\"ticks\":\"\"},\"colorscale\":[[0.0,\"#0d0887\"],[0.1111111111111111,\"#46039f\"],[0.2222222222222222,\"#7201a8\"],[0.3333333333333333,\"#9c179e\"],[0.4444444444444444,\"#bd3786\"],[0.5555555555555556,\"#d8576b\"],[0.6666666666666666,\"#ed7953\"],[0.7777777777777778,\"#fb9f3a\"],[0.8888888888888888,\"#fdca26\"],[1.0,\"#f0f921\"]],\"type\":\"surface\"}],\"table\":[{\"cells\":{\"fill\":{\"color\":\"#EBF0F8\"},\"line\":{\"color\":\"white\"}},\"header\":{\"fill\":{\"color\":\"#C8D4E3\"},\"line\":{\"color\":\"white\"}},\"type\":\"table\"}]},\"layout\":{\"annotationdefaults\":{\"arrowcolor\":\"#2a3f5f\",\"arrowhead\":0,\"arrowwidth\":1},\"autotypenumbers\":\"strict\",\"coloraxis\":{\"colorbar\":{\"outlinewidth\":0,\"ticks\":\"\"}},\"colorscale\":{\"diverging\":[[0,\"#8e0152\"],[0.1,\"#c51b7d\"],[0.2,\"#de77ae\"],[0.3,\"#f1b6da\"],[0.4,\"#fde0ef\"],[0.5,\"#f7f7f7\"],[0.6,\"#e6f5d0\"],[0.7,\"#b8e186\"],[0.8,\"#7fbc41\"],[0.9,\"#4d9221\"],[1,\"#276419\"]],\"sequential\":[[0.0,\"#0d0887\"],[0.1111111111111111,\"#46039f\"],[0.2222222222222222,\"#7201a8\"],[0.3333333333333333,\"#9c179e\"],[0.4444444444444444,\"#bd3786\"],[0.5555555555555556,\"#d8576b\"],[0.6666666666666666,\"#ed7953\"],[0.7777777777777778,\"#fb9f3a\"],[0.8888888888888888,\"#fdca26\"],[1.0,\"#f0f921\"]],\"sequentialminus\":[[0.0,\"#0d0887\"],[0.1111111111111111,\"#46039f\"],[0.2222222222222222,\"#7201a8\"],[0.3333333333333333,\"#9c179e\"],[0.4444444444444444,\"#bd3786\"],[0.5555555555555556,\"#d8576b\"],[0.6666666666666666,\"#ed7953\"],[0.7777777777777778,\"#fb9f3a\"],[0.8888888888888888,\"#fdca26\"],[1.0,\"#f0f921\"]]},\"colorway\":[\"#636efa\",\"#EF553B\",\"#00cc96\",\"#ab63fa\",\"#FFA15A\",\"#19d3f3\",\"#FF6692\",\"#B6E880\",\"#FF97FF\",\"#FECB52\"],\"font\":{\"color\":\"#2a3f5f\"},\"geo\":{\"bgcolor\":\"white\",\"lakecolor\":\"white\",\"landcolor\":\"#E5ECF6\",\"showlakes\":true,\"showland\":true,\"subunitcolor\":\"white\"},\"hoverlabel\":{\"align\":\"left\"},\"hovermode\":\"closest\",\"mapbox\":{\"style\":\"light\"},\"paper_bgcolor\":\"white\",\"plot_bgcolor\":\"#E5ECF6\",\"polar\":{\"angularaxis\":{\"gridcolor\":\"white\",\"linecolor\":\"white\",\"ticks\":\"\"},\"bgcolor\":\"#E5ECF6\",\"radialaxis\":{\"gridcolor\":\"white\",\"linecolor\":\"white\",\"ticks\":\"\"}},\"scene\":{\"xaxis\":{\"backgroundcolor\":\"#E5ECF6\",\"gridcolor\":\"white\",\"gridwidth\":2,\"linecolor\":\"white\",\"showbackground\":true,\"ticks\":\"\",\"zerolinecolor\":\"white\"},\"yaxis\":{\"backgroundcolor\":\"#E5ECF6\",\"gridcolor\":\"white\",\"gridwidth\":2,\"linecolor\":\"white\",\"showbackground\":true,\"ticks\":\"\",\"zerolinecolor\":\"white\"},\"zaxis\":{\"backgroundcolor\":\"#E5ECF6\",\"gridcolor\":\"white\",\"gridwidth\":2,\"linecolor\":\"white\",\"showbackground\":true,\"ticks\":\"\",\"zerolinecolor\":\"white\"}},\"shapedefaults\":{\"line\":{\"color\":\"#2a3f5f\"}},\"ternary\":{\"aaxis\":{\"gridcolor\":\"white\",\"linecolor\":\"white\",\"ticks\":\"\"},\"baxis\":{\"gridcolor\":\"white\",\"linecolor\":\"white\",\"ticks\":\"\"},\"bgcolor\":\"#E5ECF6\",\"caxis\":{\"gridcolor\":\"white\",\"linecolor\":\"white\",\"ticks\":\"\"}},\"title\":{\"x\":0.05},\"xaxis\":{\"automargin\":true,\"gridcolor\":\"white\",\"linecolor\":\"white\",\"ticks\":\"\",\"title\":{\"standoff\":15},\"zerolinecolor\":\"white\",\"zerolinewidth\":2},\"yaxis\":{\"automargin\":true,\"gridcolor\":\"white\",\"linecolor\":\"white\",\"ticks\":\"\",\"title\":{\"standoff\":15},\"zerolinecolor\":\"white\",\"zerolinewidth\":2}}},\"xaxis\":{\"anchor\":\"y\",\"domain\":[0.0,1.0],\"title\":{\"text\":\"Income\"}},\"yaxis\":{\"anchor\":\"x\",\"domain\":[0.0,1.0],\"title\":{\"text\":\"Total_Amount_spent\"}},\"legend\":{\"title\":{\"text\":\"Education\"},\"tracegroupgap\":0},\"title\":{\"text\":\"Relationship between Income VS Total Amount Spent Based on Education\"},\"height\":500},                        {\"responsive\": true}                    ).then(function(){\n",
              "                            \n",
              "var gd = document.getElementById('c409c6ba-4acd-48a8-99a3-d4b599a7850c');\n",
              "var x = new MutationObserver(function (mutations, observer) {{\n",
              "        var display = window.getComputedStyle(gd).display;\n",
              "        if (!display || display === 'none') {{\n",
              "            console.log([gd, 'removed!']);\n",
              "            Plotly.purge(gd);\n",
              "            observer.disconnect();\n",
              "        }}\n",
              "}});\n",
              "\n",
              "// Listen for the removal of the full notebook cells\n",
              "var notebookContainer = gd.closest('#notebook-container');\n",
              "if (notebookContainer) {{\n",
              "    x.observe(notebookContainer, {childList: true});\n",
              "}}\n",
              "\n",
              "// Listen for the clearing of the current output cell\n",
              "var outputEl = gd.closest('.output');\n",
              "if (outputEl) {{\n",
              "    x.observe(outputEl, {childList: true});\n",
              "}}\n",
              "\n",
              "                        })                };                            </script>        </div>\n",
              "</body>\n",
              "</html>"
            ]
          },
          "metadata": {}
        }
      ]
    },
    {
      "cell_type": "markdown",
      "source": [
        " Total Children VS Income VS TotalAmountSpent"
      ],
      "metadata": {
        "id": "VH_MxW_KknEA"
      }
    },
    {
      "cell_type": "code",
      "source": [
        "fig = px.scatter(\n",
        "    data_frame=df_cut,\n",
        "    x = \"Income\",\n",
        "    y= \"Total_Amount_spent\",\n",
        "    title = \"Relationship between Income VS Total Amount Spent Based on Education\",\n",
        "    color = \"Total_Children\",\n",
        "    height=500\n",
        ")\n",
        "fig.show()"
      ],
      "metadata": {
        "id": "fKx2XnRqkxyw",
        "outputId": "1acbd2be-5441-4a08-98f1-4661246d6194",
        "colab": {
          "base_uri": "https://localhost:8080/",
          "height": 517
        }
      },
      "execution_count": 94,
      "outputs": [
        {
          "output_type": "display_data",
          "data": {
            "text/html": [
              "<html>\n",
              "<head><meta charset=\"utf-8\" /></head>\n",
              "<body>\n",
              "    <div>            <script src=\"https://cdnjs.cloudflare.com/ajax/libs/mathjax/2.7.5/MathJax.js?config=TeX-AMS-MML_SVG\"></script><script type=\"text/javascript\">if (window.MathJax) {MathJax.Hub.Config({SVG: {font: \"STIX-Web\"}});}</script>                <script type=\"text/javascript\">window.PlotlyConfig = {MathJaxConfig: 'local'};</script>\n",
              "        <script src=\"https://cdn.plot.ly/plotly-2.8.3.min.js\"></script>                <div id=\"ffafc011-65d6-4bfc-8fa7-e9481f8e58c8\" class=\"plotly-graph-div\" style=\"height:500px; width:100%;\"></div>            <script type=\"text/javascript\">                                    window.PLOTLYENV=window.PLOTLYENV || {};                                    if (document.getElementById(\"ffafc011-65d6-4bfc-8fa7-e9481f8e58c8\")) {                    Plotly.newPlot(                        \"ffafc011-65d6-4bfc-8fa7-e9481f8e58c8\",                        [{\"hovertemplate\":\"Income=%{x}<br>Total_Amount_spent=%{y}<br>Total_Children=%{marker.color}<extra></extra>\",\"legendgroup\":\"\",\"marker\":{\"color\":[0,2,0,1,1,1,1,1,1,2,1,0,0,2,0,0,2,0,1,1,0,1,1,1,1,0,2,1,1,0,0,0,1,2,0,2,1,1,1,0,1,1,1,0,1,0,0,1,3,2,1,0,1,0,2,0,0,1,1,1,0,2,1,1,0,1,2,1,1,3,0,1,1,2,0,1,0,0,0,0,1,1,1,0,0,2,2,1,0,1,3,2,0,1,1,1,1,2,0,0,1,1,1,0,0,1,2,2,1,0,1,0,1,0,1,2,0,1,2,1,1,1,2,1,0,0,0,2,1,2,1,2,0,1,2,0,1,3,2,2,0,1,0,1,1,2,1,1,3,0,2,1,1,1,1,0,1,3,1,0,3,0,1,0,3,0,0,0,2,2,1,2,2,1,1,0,2,3,0,1,1,0,1,0,1,1,1,0,2,1,0,1,1,2,2,0,0,0,2,1,0,1,0,2,0,1,2,1,1,1,0,2,2,0,1,3,0,1,1,1,0,2,1,1,1,1,1,0,1,2,1,1,0,1,1,1,1,1,1,0,1,1,0,1,2,1,1,0,1,1,1,0,0,2,1,1,1,2,3,1,2,1,1,2,2,0,2,0,1,0,1,1,2,2,1,0,0,0,1,1,1,0,1,2,1,0,2,0,0,0,1,0,2,2,1,1,1,0,1,2,1,1,1,1,0,0,0,1,0,1,3,0,0,2,2,2,1,2,3,1,1,2,1,1,0,1,1,3,1,1,0,1,1,1,2,0,1,0,0,0,0,1,1,1,0,2,0,2,1,1,1,0,0,1,2,1,0,0,2,0,1,2,1,2,1,0,1,0,1,1,2,1,1,2,2,0,1,1,1,2,1,0,3,1,1,1,1,1,2,0,1,0,0,1,0,2,1,1,1,2,0,2,0,3,2,1,2,1,2,1,1,1,1,1,0,1,0,0,2,1,1,1,0,0,3,0,1,1,1,0,1,2,1,1,1,1,1,1,1,1,1,0,1,0,0,1,0,1,1,1,1,1,2,1,3,0,1,1,0,1,0,1,0,1,0,0,1,2,1,1,1,1,2,1,1,2,1,1,1,1,1,1,1,0,0,1,1,1,0,1,1,0,1,0,1,1,1,1,0,2,1,0,1,1,0,1,0,0,1,1,1,2,0,1,0,2,1,0,0,2,0,0,0,1,1,0,0,0,2,1,1,2,2,1,1,1,0,1,1,1,1,1,0,1,1,0,1,2,2,2,1,1,0,0,2,1,0,0,1,1,0,1,1,1,1,1,2,1,2,1,2,1,1,1,1,2,2,2,2,2,1,2,0,1,2,0,1,1,0,1,0,0,1,0,1,1,2,1,1,1,1,0,2,2,1,1,3,1,0,0,0,1,3,0,2,3,2,1,1,0,0,1,0,1,1,1,2,1,1,0,1,0,0,3,0,1,1,1,1,0,1,1,0,2,0,1,1,1,0,1,1,1,1,1,0,1,3,1,1,1,0,0,0,1,1,1,2,1,2,1,1,1,2,1,0,1,0,1,0,0,1,0,1,0,0,0,1,0,1,0,2,2,0,2,0,0,1,2,1,0,1,1,1,1,1,1,1,1,1,0,1,0,0,1,1,2,1,0,1,0,1,1,0,0,3,0,2,2,2,3,2,0,1,1,1,1,1,2,3,1,0,0,1,0,1,0,0,1,1,0,0,0,1,1,1,1,1,2,0,1,0,1,0,0,1,1,1,0,2,2,1,2,1,0,2,1,0,2,1,1,1,1,2,1,1,1,0,0,0,2,1,0,1,1,0,1,1,2,2,0,0,2,1,1,2,1,0,1,0,1,0,1,2,0,1,1,0,1,0,0,1,1,3,3,1,1,2,0,2,1,2,1,1,0,1,1,2,1,1,1,0,0,0,1,1,2,1,1,0,2,1,1,1,2,2,0,1,2,0,1,1,1,1,2,1,1,0,1,1,2,1,0,2,1,0,1,1,1,2,2,0,0,3,2,2,0,1,2,0,1,0,1,1,1,1,1,0,1,0,0,3,0,0,1,1,0,0,0,1,1,0,0,0,0,1,0,2,0,1,2,1,0,0,0,0,1,0,1,1,1,0,1,0,1,1,1,2,1,0,0,0,0,1,2,1,1,1,2,2,2,2,2,1,1,2,1,1,1,1,1,2,1,0,1,1,1,0,3,1,1,0,0,0,3,2,1,2,0,1,1,0,1,0,0,0,2,0,1,1,1,2,0,0,2,1,1,1,0,2,1,1,1,1,0,2,2,1,1,1,1,2,0,0,0,1,0,1,1,3,1,1,1,1,1,1,1,0,0,0,1,0,0,2,2,1,1,1,2,0,0,1,1,1,1,1,1,0,2,0,2,1,0,1,0,0,0,2,2,0,2,1,2,0,1,0,0,1,1,1,1,0,0,0,2,1,1,0,1,0,1,0,1,2,0,1,0,0,1,0,2,2,1,1,0,1,1,0,1,1,1,1,0,1,0,1,2,0,0,2,0,1,1,1,0,0,1,1,1,2,1,1,2,2,3,0,0,1,2,1,1,0,1,2,0,0,1,1,1,1,1,0,1,1,2,1,1,0,1,1,0,1,2,2,0,0,1,1,2,1,0,1,1,1,3,0,0,0,0,0,2,1,1,2,1,2,0,1,1,1,2,1,1,2,1,1,2,0,1,1,1,2,1,1,1,0,1,2,1,1,1,0,1,0,0,2,1,1,1,1,0,2,2,1,2,0,1,1,1,0,2,2,1,0,1,1,2,2,1,1,1,1,1,1,0,1,2,1,3,1,0,1,0,1,2,1,1,0,2,1,1,1,2,1,1,2,0,2,0,0,2,2,0,2,1,1,0,0,1,1,2,1,1,1,3,0,1,0,0,2,0,0,1,1,2,0,0,0,1,1,2,2,1,1,1,0,2,0,0,2,0,1,2,0,0,1,1,0,1,1,1,2,1,2,2,1,0,1,1,2,1,1,0,1,0,0,1,2,1,0,1,1,0,0,1,1,1,1,2,0,1,1,1,0,1,0,0,0,1,1,0,1,1,0,0,2,2,1,2,0,1,1,1,1,1,1,1,2,3,1,1,1,3,1,1,1,1,2,2,2,1,0,1,2,2,0,2,1,1,2,1,2,2,1,1,2,2,1,1,1,1,2,1,1,1,2,1,1,2,0,1,1,0,0,3,2,3,0,1,1,0,1,1,1,2,0,1,1,0,2,2,2,2,0,0,1,2,2,1,0,0,0,0,1,0,1,1,0,0,1,0,0,1,2,0,0,1,1,2,1,1,1,1,0,2,1,2,1,1,2,1,1,0,1,0,1,1,1,1,1,1,1,0,3,1,1,2,2,0,1,1,0,1,1,1,0,2,1,1,2,0,0,2,1,0,1,0,2,1,0,0,1,1,1,1,1,0,0,1,1,1,2,0,2,0,1,1,2,1,2,1,1,1,0,1,1,1,2,0,3,1,1,0,0,1,2,1,0,1,0,1,2,2,1,3,1,1,2,1,1,1,1,1,1,2,3,0,2,0,1,1,1,2,0,0,1,3,0,0,1,0,2,2,0,1,0,1,0,1,1,1,1,2,1,1,1,1,0,0,2,2,2,1,1,1,1,0,0,0,1,2,1,1,1,1,1,1,1,0,2,2,1,1,0,1,1,1,1,2,1,2,1,1,0,2,1,2,2,2,1,1,0,1,0,0,2,1,0,2,1,1,1,1,1,0,2,2,1,2,0,1,2,2,1,1,0,0,0,0,1,0,1,1,1,1,0,2,2,1,1,2,0,1,1,0,1,0,1,1,0,1,2,0,2,2,1,2,1,1,1,1,1,1,1,1,0,1,1,0,1,1,1,2,2,1,1,0,0,0,1,1,2,1,2,1,2,0,2,0,1,1,2,0,1,1,1,1,0,0,1,0,0,0,1,0,1,1,1,1,2,2,2,1,2,1,1,1,1,1,1,1,1,0,0,1,1,0,0,0,1,2,1,0,1,0,1,2,0,1,2,2,1,1,2,1,2,2,0,1,2,2,1,1,2,1,1,1,2,2,2,1,2,2,0,0,2,1,0,0,1,1,1,0,2,2,1,2,2,1,0,1,1,0,0,1,1,1,1,1,2,2,0,1,1,1,1,0,1,0,2,0,2,0,1,1,0,1,0,0,0,1,3,0,0,1,1,0,1,1,0,2,2,1,1,0,1,1,2,1,1,0,0,0,1,1,0,1,1,1,0,1,2,0,2,1,0,0,1,1,0,1,1,0,0,1,2,0,0,1,1,0,1,1,0,1,0,1,0,1,1,1,0,1,0,2,1,1,0,0,2,1,1,0,0,2,2,1,1,2,1,2,1,1,1,1,0,1,1,0,1,0,0,1,2,1,0,1,0,0,0,0,1,1,0,2,1,0,2,2,1,0,1,1,0,0,1,1,2,1,2,1,0,2,1,1,1,1,0,1,2,1,2,0,1,1,0,1,0,1,2,0,0,1,1,1,1,1,1,0,2,1,1,1,1,1,0,1,0,0,0,2,0,2,2,3,1,1,2,1,1,1,2,0,1,1,1,1,1,1,1,1,2,1,1,0,0,3,1,1,1,1,1,0,1,0,2,2,1,2,2,0,1,1,1,2,1,1,0,2,1,1,0,1,1,1,1,1,1,0,0,1,1,0,2,1,1,1,1,0,0,1,0,1,1,1,2,0,1,0,1,2,0,2,1,1,2,1,1,1,0,1,1,1,1,0,2,0,2,1,1,1,1,1,0,1,1,2,1,1,2,0,1,0,0,3,1,0,1,0,1,2,1,1,2,1,2,2,0,1,0,1,3,2,1,2,0,1,2,1,1,2,1,1,1,1,1,1,0,1,1,1,0,0,2,1,0,1,1,1,0,0,1,1,1,1,1,0,1,1,1,1,0,0,1,0,2,0,0,1,2,0,1,2,2,1,1,1,1,0,2,1,2,1,2,1,0,2,0,1,2,1,0,1,1,1,0,1,3,1,2,2,1,0,2,1,0,0,1,1,3,0,1,2],\"coloraxis\":\"coloraxis\",\"symbol\":\"circle\"},\"mode\":\"markers\",\"name\":\"\",\"showlegend\":false,\"x\":[58138.0,46344.0,71613.0,26646.0,58293.0,62513.0,55635.0,33454.0,30351.0,5648.0,52247.25135379061,7500.0,63033.0,59354.0,17323.0,82800.0,41850.0,37760.0,76995.0,33812.0,37040.0,2447.0,58607.0,65324.0,40689.0,18589.0,53359.0,52247.25135379061,38360.0,84618.0,10979.0,38620.0,40548.0,46610.0,68657.0,49389.0,67353.0,23718.0,42429.0,48948.0,80011.0,20559.0,21994.0,52247.25135379061,7500.0,79941.0,7500.0,41728.0,52247.25135379061,72550.0,65486.0,79143.0,35790.0,82582.0,66373.0,82384.0,70287.0,27938.0,52247.25135379061,55954.0,75777.0,66653.0,61823.0,67680.0,70666.0,25721.0,32474.0,88194.0,69096.0,74854.0,66991.0,52247.25135379061,65031.0,60631.0,28332.0,40246.0,75251.0,75825.0,26326.0,56046.0,29760.0,26304.0,23559.0,38620.0,81361.0,29440.0,36138.0,50388.0,79593.0,54178.0,52247.25135379061,52247.25135379061,52247.25135379061,42394.0,23626.0,30096.0,47916.0,51813.0,78497.0,50150.0,47823.0,34554.0,85693.0,65846.0,87195.0,24594.0,49096.0,52413.0,38557.0,89058.0,77298.0,68126.0,57288.0,86037.0,43974.0,50785.0,90765.0,36550.0,30753.0,21918.0,56129.0,32557.0,19510.0,30992.0,101970.0,71488.0,79607.0,54348.0,52247.25135379061,77376.0,62998.0,61331.0,73448.0,52247.25135379061,41551.0,62981.0,9548.0,33762.0,35860.0,36921.0,92859.0,65104.0,86111.0,68352.0,41883.0,59809.0,23957.0,38547.0,35688.0,49605.0,59354.0,65747.0,46344.0,34176.0,61010.0,69372.0,49967.0,60199.0,55375.0,80317.0,30523.0,70356.0,23228.0,74165.0,43482.0,62551.0,52332.0,66951.0,26091.0,33456.0,28718.0,50447.0,53537.0,52074.0,80427.0,83837.0,38853.0,38285.0,78497.0,51650.0,16248.0,66835.0,30477.0,28249.0,25271.0,32303.0,61286.0,74068.0,45759.0,24882.0,66973.0,36640.0,38872.0,51148.0,31353.0,69661.0,80067.0,86718.0,46854.0,69142.0,75922.0,63693.0,102160.0,40637.0,18890.0,29604.0,48721.0,44794.0,64497.0,46097.0,77972.0,44377.0,46014.0,70951.0,41443.0,52195.0,83790.0,44551.0,69508.0,45204.0,72460.0,77622.0,30732.0,63887.0,42011.0,51369.0,51537.0,79930.0,34320.0,37070.0,81975.0,38590.0,15033.0,62745.0,22212.0,23661.0,79761.0,7500.0,60182.0,73455.0,64961.0,22804.0,73687.0,61074.0,31686.0,80134.0,75027.0,67546.0,65176.0,31160.0,29938.0,102692.0,26490.0,75702.0,30899.0,63342.0,45989.0,18701.0,40737.0,15287.0,69674.0,44159.0,37717.0,43776.0,38179.0,80124.0,38097.0,72940.0,22070.0,69267.0,31788.0,61905.0,29315.0,33378.0,66313.0,60714.0,77882.0,69867.0,63841.0,24480.0,51369.0,37760.0,65640.0,44319.0,30631.0,75278.0,50898.0,79946.0,35416.0,32414.0,38361.0,82497.0,16626.0,29672.0,55951.0,35388.0,42386.0,68627.0,57912.0,35246.0,58821.0,46377.0,39747.0,23976.0,80950.0,27038.0,77457.0,64100.0,42670.0,12571.0,22574.0,52247.25135379061,70893.0,54198.0,28839.0,40321.0,66503.0,30833.0,52247.25135379061,64795.0,34421.0,47025.0,64325.0,40464.0,62187.0,14849.0,27255.0,54432.0,29999.0,24072.0,33996.0,66334.0,35178.0,22010.0,62204.0,75693.0,30675.0,83003.0,83532.0,68655.0,41411.0,55212.0,59292.0,27190.0,82623.0,44300.0,84835.0,30372.0,33181.0,71113.0,71952.0,69759.0,72099.0,60000.0,38643.0,50737.0,68462.0,65073.0,46681.0,78618.0,62187.0,28442.0,37717.0,51479.0,54803.0,79530.0,31615.0,72025.0,52614.0,35684.0,48178.0,29548.0,63810.0,38578.0,46098.0,22585.0,30279.0,66426.0,30822.0,33581.0,19986.0,27421.0,35688.0,36143.0,10245.0,43795.0,63381.0,38823.0,83664.0,90300.0,62499.0,74293.0,51012.0,70777.0,68682.0,43824.0,15345.0,23442.0,14515.0,31395.0,75276.0,42373.0,30507.0,55521.0,48006.0,27213.0,65808.0,30351.0,50437.0,23616.0,53858.0,66465.0,46923.0,75072.0,75865.0,19789.0,80134.0,91065.0,49505.0,37401.0,30096.0,18492.0,82584.0,93027.0,48686.0,92910.0,75433.0,10404.0,61314.0,84865.0,42387.0,67309.0,75236.0,30015.0,50943.0,67272.0,51529.0,32011.0,7500.0,28691.0,56223.0,18100.0,30279.0,20130.0,23295.0,42618.0,81246.0,24027.0,55707.0,57959.0,56796.0,36230.0,70829.0,65991.0,38988.0,89572.0,42207.0,50300.0,66664.0,60597.0,70165.0,50520.0,80124.0,33183.0,66582.0,75261.0,31880.0,53790.0,49269.0,61456.0,37406.0,56937.0,38415.0,20518.0,62503.0,41644.0,55842.0,62010.0,41124.0,38961.0,37760.0,32233.0,43057.0,83151.0,78825.0,65104.0,60093.0,14045.0,28457.0,78952.0,46310.0,76005.0,58308.0,55614.0,59432.0,55563.0,78642.0,67911.0,65275.0,27203.0,48330.0,24279.0,64355.0,50943.0,53653.0,65665.0,81217.0,34935.0,61250.0,39665.0,60152.0,48920.0,89120.0,44124.0,81169.0,36443.0,26095.0,71367.0,80184.0,30630.0,73454.0,42691.0,70503.0,25545.0,32880.0,77863.0,50353.0,61839.0,49154.0,47682.0,72679.0,57954.0,65316.0,28567.0,47352.0,44931.0,76982.0,57247.0,22944.0,25315.0,43638.0,42710.0,84169.0,54058.0,24683.0,85620.0,47850.0,19514.0,27159.0,39548.0,21474.0,60504.0,22419.0,81698.0,43462.0,54880.0,79908.0,15315.0,87771.0,33039.0,81741.0,71499.0,62466.0,48799.0,52157.0,66565.0,29298.0,47691.0,38200.0,44989.0,38443.0,38593.0,64413.0,36959.0,61996.0,51287.0,13260.0,47472.0,54603.0,45207.0,40689.0,47821.0,27450.0,39453.0,26850.0,79800.0,61794.0,53863.0,24221.0,39684.0,92163.0,69882.0,33178.0,59973.0,17459.0,23910.0,42169.0,26224.0,31089.0,30081.0,62807.0,72906.0,61467.0,49618.0,21888.0,42429.0,26150.0,30801.0,81168.0,26877.0,45006.0,18978.0,22574.0,48240.0,45837.0,35791.0,54162.0,30522.0,54456.0,31632.0,72298.0,36975.0,72635.0,13624.0,84196.0,70971.0,34487.0,28769.0,69084.0,65488.0,62466.0,32218.0,83917.0,46102.0,84574.0,56181.0,63120.0,73691.0,63381.0,76140.0,62859.0,45906.0,77632.0,46463.0,105471.0,55282.0,78710.0,66886.0,98777.0,29103.0,67445.0,50616.0,49431.0,61278.0,26490.0,73059.0,46734.0,56253.0,19986.0,58330.0,25965.0,14661.0,18690.0,45068.0,21063.0,29187.0,54690.0,59304.0,59247.0,66731.0,77353.0,52614.0,26751.0,81300.0,70337.0,36145.0,65295.0,68118.0,68743.0,41039.0,38946.0,65777.0,66476.0,86857.0,77845.0,69476.0,50611.0,61209.0,42315.0,13084.0,47570.0,61923.0,34824.0,26518.0,45938.0,78468.0,78901.0,71427.0,71022.0,90247.0,41335.0,71952.0,35682.0,43185.0,66375.0,35178.0,25252.0,55250.0,33249.0,58398.0,50272.0,76618.0,87305.0,25851.0,58710.0,45160.0,74806.0,59111.0,18988.0,72190.0,7500.0,44794.0,80395.0,75012.0,56962.0,89891.0,35946.0,53593.0,66373.0,45072.0,89694.0,72025.0,67432.0,70545.0,17487.0,62882.0,64108.0,34941.0,48767.0,38702.0,82224.0,83844.0,17003.0,71163.0,33697.0,63564.0,83443.0,51518.0,58330.0,80952.0,75507.0,63855.0,62220.0,58512.0,40662.0,38829.0,35523.0,79146.0,78285.0,31626.0,75127.0,48726.0,74985.0,67430.0,46891.0,62058.0,72063.0,78939.0,42720.0,33622.0,6835.0,41452.0,40760.0,74250.0,51124.0,72258.0,71466.0,36283.0,20587.0,30467.0,31590.0,20425.0,17144.0,42564.0,43783.0,40780.0,62847.0,82017.0,16813.0,51267.0,46524.0,45183.0,70421.0,60161.0,73926.0,19329.0,61872.0,46984.0,34838.0,82716.0,48192.0,49681.0,56850.0,55267.0,59666.0,72504.0,26872.0,21359.0,73170.0,52750.0,91820.0,65968.0,30772.0,22507.0,65685.0,25804.0,76412.0,22063.0,57091.0,22419.0,87771.0,78353.0,93404.0,37859.0,80995.0,16529.0,55412.0,48789.0,56575.0,25130.0,35441.0,71391.0,49494.0,81702.0,45889.0,56628.0,34026.0,40049.0,34176.0,19419.0,82504.0,81205.0,61618.0,55284.0,49980.0,15072.0,49166.0,65324.0,82347.0,30843.0,46374.0,60474.0,38576.0,55357.0,37758.0,85710.0,23228.0,44602.0,7500.0,38683.0,49514.0,57906.0,43456.0,19485.0,53172.0,30545.0,70123.0,62450.0,21675.0,42395.0,61346.0,80812.0,42835.0,39922.0,86424.0,17117.0,24762.0,35797.0,36627.0,51111.0,86857.0,82072.0,46231.0,42243.0,51195.0,68092.0,31814.0,51390.0,76630.0,26868.0,48948.0,55260.0,64090.0,78331.0,37087.0,21846.0,81320.0,54137.0,66825.0,57100.0,58917.0,85072.0,86429.0,45684.0,47889.0,45921.0,78420.0,75114.0,52278.0,35641.0,95529.0,62820.0,73113.0,84169.0,42607.0,74637.0,46015.0,72354.0,39858.0,34469.0,83033.0,24401.0,77583.0,74116.0,74293.0,68397.0,79632.0,46107.0,64950.0,25443.0,75127.0,32892.0,71796.0,67536.0,55239.0,60554.0,64831.0,56067.0,82025.0,94384.0,14906.0,51563.0,57937.0,68274.0,39771.0,67893.0,27922.0,52190.0,44051.0,42767.0,46106.0,16927.0,59754.0,53700.0,59041.0,54237.0,70647.0,52597.0,41021.0,40233.0,50183.0,54753.0,92955.0,33471.0,34596.0,44010.0,84219.0,40706.0,15716.0,59052.0,80573.0,83715.0,82576.0,56962.0,35704.0,53103.0,46779.0,4861.0,33462.0,63693.0,80763.0,65352.0,82170.0,75759.0,79689.0,35340.0,85683.0,24884.0,42021.0,64449.0,64587.0,34824.0,75437.0,26091.0,52845.0,46086.0,78028.0,95169.0,56337.0,22434.0,36930.0,36130.0,65569.0,83844.0,19514.0,36736.0,77568.0,49187.0,30168.0,34053.0,38196.0,59412.0,70924.0,54165.0,32300.0,20180.0,34961.0,28440.0,64504.0,33564.0,17345.0,56320.0,28647.0,15038.0,32173.0,68316.0,74538.0,91700.0,68695.0,31056.0,79593.0,28071.0,37334.0,46423.0,37126.0,47703.0,61180.0,38998.0,8028.0,76081.0,34728.0,33168.0,33585.0,77037.0,35196.0,44529.0,70924.0,28764.0,69098.0,25959.0,27100.0,70596.0,42557.0,53312.0,72228.0,67605.0,62845.0,65196.0,42000.0,35860.0,65526.0,16860.0,83528.0,64176.0,22304.0,67023.0,32892.0,70713.0,59925.0,39722.0,46610.0,88347.0,87171.0,26907.0,50014.0,41014.0,66294.0,36715.0,79456.0,40479.0,75345.0,54233.0,24163.0,84460.0,43776.0,71691.0,85844.0,39190.0,71367.0,38578.0,57236.0,61825.0,79803.0,80910.0,27590.0,56775.0,83829.0,54210.0,38508.0,53187.0,30023.0,76045.0,50870.0,15315.0,65463.0,66480.0,76773.0,81698.0,54466.0,98777.0,16269.0,71819.0,33569.0,36262.0,22634.0,47025.0,70566.0,31605.0,52034.0,48526.0,46734.0,39552.0,86358.0,46931.0,16581.0,63998.0,67381.0,25930.0,42693.0,85606.0,72903.0,49669.0,36778.0,85696.0,10979.0,49678.0,56129.0,37155.0,21282.0,33419.0,63285.0,21255.0,42162.0,54450.0,57744.0,26576.0,57513.0,68142.0,7500.0,83145.0,54197.0,23091.0,46049.0,56715.0,79410.0,57304.0,44375.0,54450.0,59594.0,80685.0,40344.0,62710.0,48985.0,35322.0,77142.0,81657.0,14421.0,20130.0,74214.0,66726.0,23724.0,47353.0,33444.0,54386.0,28510.0,90638.0,48070.0,43140.0,54959.0,15056.0,26954.0,22327.0,44393.0,62000.0,31497.0,45894.0,78579.0,67369.0,58401.0,62307.0,43641.0,63841.0,46891.0,70091.0,78075.0,59184.0,54809.0,58113.0,51412.0,15287.0,66636.0,50965.0,84618.0,18351.0,40451.0,36317.0,42213.0,65748.0,77044.0,74918.0,56721.0,42160.0,61559.0,33629.0,68682.0,34377.0,8940.0,26228.0,77297.0,40211.0,33438.0,75032.0,61284.0,22518.0,54730.0,38452.0,44421.0,38197.0,41986.0,28427.0,37395.0,64722.0,55249.0,84906.0,28691.0,44213.0,25707.0,59062.0,76624.0,66000.0,27683.0,1730.0,7500.0,40521.0,20427.0,65106.0,69969.0,67433.0,77766.0,74716.0,68118.0,55158.0,62972.0,74190.0,39356.0,76653.0,35860.0,90687.0,73450.0,31454.0,47139.0,83829.0,53378.0,19656.0,45579.0,85485.0,55956.0,64191.0,38808.0,57183.0,23748.0,66303.0,37368.0,40800.0,71847.0,46149.0,78687.0,49118.0,37633.0,39767.0,26997.0,33986.0,57091.0,46831.0,83151.0,52531.0,15759.0,22804.0,43050.0,42997.0,48918.0,60033.0,34043.0,57811.0,78569.0,7500.0,94384.0,23148.0,44267.0,71626.0,60894.0,50200.0,81051.0,65169.0,59868.0,65695.0,64857.0,45143.0,74805.0,59060.0,27238.0,47009.0,46094.0,40321.0,37235.0,81843.0,46692.0,77382.0,37774.0,18393.0,72828.0,24711.0,45503.0,6560.0,71604.0,27244.0,48752.0,71434.0,90842.0,88097.0,51948.0,71853.0,35876.0,40049.0,39660.0,50127.0,43263.0,62845.0,18929.0,24367.0,33249.0,26887.0,50150.0,62061.0,85696.0,76542.0,70515.0,18227.0,69139.0,69109.0,69627.0,38136.0,62159.0,80695.0,33316.0,58554.0,17256.0,53034.0,52203.0,59601.0,75154.0,47025.0,37971.0,41335.0,67267.0,57338.0,50523.0,35791.0,50611.0,56242.0,48904.0,56243.0,21355.0,57420.0,52247.25135379061,46390.0,54342.0,52247.25135379061,52247.25135379061,20895.0,92344.0,52247.25135379061,26907.0,44964.0,75507.0,53761.0,22682.0,38887.0,41658.0,29791.0,63915.0,39996.0,26759.0,63841.0,51039.0,60544.0,65685.0,37716.0,36864.0,44511.0,36947.0,47352.0,67087.0,57045.0,36957.0,69389.0,80134.0,43142.0,80589.0,34412.0,57537.0,22634.0,51315.0,36026.0,24639.0,34578.0,65704.0,63810.0,54132.0,18690.0,28164.0,34596.0,43269.0,38741.0,31907.0,27100.0,31163.0,92533.0,34853.0,70844.0,31086.0,60544.0,20491.0,42523.0,39922.0,33402.0,36408.0,21645.0,78427.0,82657.0,51876.0,78041.0,52852.0,70038.0,69401.0,46053.0,77343.0,73892.0,40304.0,32727.0,68695.0,43300.0,26290.0,93790.0,38410.0,64866.0,57957.0,46015.0,16531.0,28072.0,49476.0,50725.0,83844.0,41145.0,67419.0,23162.0,34380.0,34704.0,94871.0,65148.0,39898.0,64857.0,59892.0,41020.0,57072.0,60474.0,62807.0,19414.0,19107.0,75484.0,70379.0,79419.0,64014.0,76998.0,49854.0,60585.0,42873.0,87679.0,57867.0,35765.0,65492.0,32952.0,53374.0,71706.0,68487.0,53253.0,31163.0,42014.0,54108.0,49667.0,63206.0,57136.0,46772.0,78931.0,53977.0,84219.0,46098.0,73538.0,79529.0,20981.0,51766.0,55759.0,33039.0,37787.0,27242.0,87188.0,69930.0,37697.0,37401.0,3502.0,58597.0,82032.0,28087.0,74004.0,19740.0,57036.0,53083.0,69283.0,46098.0,23331.0,23331.0,9255.0,67786.0,71969.0,59235.0,31928.0,74881.0,65819.0,51411.0,51983.0,42386.0,30390.0,30983.0,66033.0,37284.0,57530.0,76800.0,63943.0,76081.0,67445.0,37054.0,47175.0,31859.0,27215.0,70179.0,39922.0,49681.0,24645.0,79865.0,44322.0,47958.0,63972.0,75315.0,55517.0,75283.0,82800.0,38998.0,90638.0,27161.0,42014.0,38201.0,45203.0,81574.0,34935.0,60482.0,34633.0,78093.0,82460.0,45903.0,81361.0,35860.0,40442.0,61482.0,34968.0,75794.0,31497.0,74268.0,13724.0,45143.0,52569.0,48432.0,17144.0,36108.0,76445.0,36663.0,53843.0,90226.0,70638.0,44512.0,27116.0,54072.0,71855.0,51250.0,60432.0,65526.0,68655.0,12393.0,64509.0,33955.0,31353.0,55434.0,28359.0,57100.0,69139.0,52973.0,51717.0,18793.0,66664.0,50664.0,54414.0,54549.0,47111.0,41003.0,19444.0,36301.0,73059.0,42731.0,52854.0,22775.0,46681.0,59821.0,50002.0,69755.0,44078.0,30560.0,35924.0,64140.0,56386.0,24594.0,75774.0,39228.0,58494.0,58684.0,57136.0,56551.0,22448.0,82014.0,34213.0,25358.0,35544.0,36634.0,62670.0,50334.0,72066.0,50729.0,34916.0,64892.0,43602.0,33996.0,41473.0,63246.0,36732.0,69084.0,77766.0,37929.0,86610.0,80141.0,72635.0,69016.0,20193.0,27573.0,15862.0,49544.0,33228.0,70440.0,38232.0,22554.0,23536.0,49413.0,42231.0,78789.0,56534.0,58350.0,81217.0,49090.0,61787.0,18169.0,24336.0,18222.0,62335.0,42033.0,86580.0,41437.0,73705.0,61064.0,38452.0,18358.0,55012.0,9722.0,38175.0,58656.0,52117.0,64813.0,54222.0,83512.0,77520.0,41154.0,80398.0,18746.0,35196.0,60230.0,22108.0,44392.0,55424.0,17688.0,92491.0,90273.0,82571.0,38513.0,16653.0,42586.0,23529.0,74881.0,71107.0,46910.0,18690.0,37244.0,82427.0,75342.0,70044.0,79146.0,77437.0,54984.0,42403.0,55761.0,37292.0,45576.0,70321.0,58086.0,81795.0,28389.0,66835.0,69901.0,80360.0,63342.0,44989.0,31859.0,51569.0,30372.0,16014.0,41120.0,39763.0,38725.0,77981.0,62905.0,13533.0,59481.0,72117.0,21955.0,67131.0,36802.0,71853.0,28249.0,47808.0,25509.0,51012.0,70596.0,85431.0,42664.0,42586.0,29760.0,28973.0,39435.0,65370.0,20194.0,42473.0,64590.0,71232.0,34600.0,46904.0,49094.0,36075.0,60839.0,77298.0,34026.0,48918.0,82122.0,37697.0,34074.0,28520.0,62535.0,36273.0,63404.0,75774.0,78416.0,75702.0,59385.0,37070.0,44689.0,53977.0,7144.0,18701.0,90369.0,63159.0,37758.0,46757.0,79734.0,63207.0,72071.0,21840.0,58582.0,72282.0,50387.0,32583.0,62568.0,44635.0,33316.0,63967.0,52513.0,25293.0,54111.0,78394.0,80739.0,22669.0,29236.0,44911.0,54693.0,48186.0,54809.0,41580.0,80336.0,47743.0,62972.0,57333.0,32313.0,84953.0,27071.0,68148.0,65735.0,86836.0,4023.0,30093.0,57705.0,25008.0,83257.0,22280.0,72159.0,64260.0,82733.0,74290.0,58217.0,21024.0,70116.0,54006.0,69063.0,11448.0,61825.0,70886.0,69109.0,60208.0,32889.0,34738.0,30538.0,82326.0,26642.0,69932.0,44503.0,60200.0,49638.0,23830.0,33051.0,72905.0,69702.0,70300.0,70643.0,30396.0,50616.0,62772.0,30298.0,52413.0,44155.0,86979.0,76532.0,42081.0,67546.0,88420.0,31158.0,61671.0,69719.0,49160.0,24882.0,90933.0,113734.0,59292.0,45759.0,22148.0,73395.0,29819.0,45688.0,62820.0,60491.0,33235.0,35701.0,31535.0,92556.0,67384.0,80573.0,77870.0,52278.0,57107.0,18929.0,36038.0,20180.0,34230.0,31878.0,70932.0,91249.0,77598.0,80982.0,22701.0,55212.0,70617.0,64849.0,62694.0,61917.0,67472.0,21059.0,29543.0,75903.0,34984.0,54998.0,54356.0,34242.0,25410.0,73356.0,28320.0,23763.0,72570.0,34529.0,70792.0,63211.0,83891.0,36065.0,39898.0,51141.0,56939.0,80872.0,72335.0,61798.0,76842.0,29478.0,46998.0,96843.0,56551.0,70053.0,71670.0,44359.0,40887.0,48877.0,74485.0,64474.0,77226.0,72643.0,85738.0,55686.0,39062.0,34600.0,40794.0,54690.0,4428.0,32632.0,38236.0,36781.0,31385.0,24570.0,25509.0,94642.0,58646.0,53201.0,21994.0,57113.0,51373.0,23477.0,58116.0,72968.0,39791.0,91712.0,94472.0,13672.0,96547.0,79205.0,56559.0,32644.0,67506.0,24206.0,28420.0,22979.0,33279.0,46423.0,30368.0,63684.0,41638.0,68805.0,65814.0,71964.0,39146.0,96876.0,34445.0,68281.0,37284.0,36790.0,27943.0,22263.0,30261.0,28587.0,43815.0,48195.0,77027.0,71322.0,32765.0,29672.0,23272.0,49912.0,7500.0,68117.0,67225.0,17649.0,55914.0,40059.0,60905.0,75330.0,60689.0,38680.0,61416.0,49767.0,83273.0,29009.0,45057.0,37150.0,43020.0,53154.0,65308.0,76467.0,81044.0,32871.0,55801.0,76320.0,36927.0,48794.0,23478.0,71128.0,70179.0,59462.0,52247.25135379061,38361.0,52247.25135379061,70038.0,42554.0,67445.0,67046.0,42192.0,77610.0,31761.0,34350.0,54591.0,71866.0,25293.0,42000.0,69520.0,64713.0,27889.0,22123.0,52247.25135379061,52247.25135379061,27803.0,52247.25135379061,51651.0,68487.0,52247.25135379061,56796.0,87000.0,79823.0,30828.0,34109.0,53367.0,22390.0,71322.0,79244.0,49912.0,48699.0,80144.0,54252.0,81929.0,76068.0,53204.0,67911.0,14796.0,78128.0,14188.0,20425.0,58646.0,72967.0,48150.0,82332.0,58275.0,44953.0,34587.0,43018.0,45736.0,66476.0,27733.0,69805.0,72217.0,25818.0,37509.0,25176.0,43586.0,53230.0,50116.0,84906.0,61286.0,82333.0,65220.0,33590.0,30992.0,72309.0,16005.0,65487.0,58692.0,40590.0,20587.0,62637.0,29435.0,19346.0,35788.0,36997.0,23539.0,65333.0,78499.0,29732.0,41275.0,63516.0,42769.0,49572.0,69209.0,17148.0,40590.0,30560.0,32146.0,41713.0,34176.0,58482.0,59686.0,60896.0,62994.0,47320.0,74859.0,15253.0,31560.0,72071.0,91172.0,90000.0,41967.0,69263.0,65706.0,60934.0,71965.0,65210.0,79174.0,81380.0,48432.0,52914.0,38946.0,26067.0,44325.0,42523.0,26487.0,53233.0,67716.0,76234.0,84117.0,65487.0,25224.0,89616.0,40851.0,27469.0,82347.0,73803.0,8820.0,43322.0,55593.0,50501.0,37085.0,16185.0,57731.0,48432.0,73807.0,18929.0,35893.0,61014.0,32144.0,14918.0,45146.0,41769.0,88325.0,38054.0,80617.0,5305.0,36807.0,28427.0,82032.0,22775.0,40101.0,58025.0,75777.0,7500.0,33562.0,57642.0,58554.0,63777.0,57967.0,52247.25135379061,24434.0,11012.0,44802.0,26816.0,34421.0,61223.0,64014.0,56981.0,69245.0,52869.0],\"xaxis\":\"x\",\"y\":[1617,27,776,53,422,716,590,169,46,49,19,61,1102,310,46,1315,96,317,1782,133,316,1730,972,544,444,75,257,637,131,1672,30,318,120,302,1196,65,913,81,67,902,1395,53,22,186,31,984,122,55,124,1319,507,1693,72,1617,606,1957,1093,29,46,518,1438,612,884,606,1076,34,11,1274,653,1562,1253,109,863,661,65,13,1890,2209,18,692,165,16,79,318,778,56,151,372,1366,194,603,18,985,32,43,45,606,63,978,410,72,55,1169,1120,1097,29,187,910,145,850,969,1820,608,730,551,114,1724,577,81,33,660,80,30,43,1135,559,1923,90,404,661,463,632,725,725,279,1482,29,106,49,38,2077,1053,1385,871,312,877,68,22,211,127,459,460,429,89,1021,1381,306,18,162,1231,13,1706,121,1293,88,421,259,1117,89,36,57,148,93,119,1835,1318,45,10,978,191,57,1033,66,43,50,39,608,1581,68,80,1282,65,91,315,31,834,1600,1270,263,535,1295,1150,1240,38,35,53,293,65,1804,241,1101,264,541,1198,482,17,1615,285,1135,114,1047,714,185,1245,189,576,1103,1753,17,433,1588,22,19,1117,69,23,605,57,22,2088,1009,26,1627,1102,17,1690,1390,2126,1531,64,26,1112,210,1148,33,1101,322,44,17,31,845,275,25,275,90,1495,184,981,67,1635,60,231,48,99,770,957,818,925,908,102,576,317,461,37,70,930,859,1478,390,52,137,1919,68,25,1374,32,100,825,916,62,728,90,273,66,1213,107,1157,546,241,53,37,1611,1508,235,32,102,401,28,1052,680,30,20,1307,630,1283,65,37,38,160,23,71,1161,59,33,946,1442,62,1674,1853,1538,139,1182,507,18,940,42,1190,44,16,835,1443,1029,1188,1277,49,99,1670,900,425,2153,636,57,25,494,693,1348,51,1932,990,30,254,29,1371,73,120,81,37,1377,51,17,22,324,211,19,41,492,1005,114,1173,1738,222,1127,209,787,1598,186,47,27,96,64,1040,163,343,446,41,70,272,46,490,79,915,1485,369,1073,1242,78,1378,1474,751,48,45,10,1435,2119,20,1795,1188,43,1008,1688,684,1082,1068,57,46,733,467,122,36,34,156,14,37,34,20,192,1379,48,428,868,1001,59,431,971,348,2059,265,270,1289,893,926,135,1495,120,1288,1743,15,542,890,1388,17,906,44,25,973,31,518,530,506,70,54,296,266,747,895,1053,735,20,205,2092,309,1722,900,682,663,43,1816,976,746,64,32,263,1445,46,1210,945,1157,137,730,216,943,347,1924,397,2089,138,42,777,1902,52,1651,358,1727,210,42,1291,442,1895,411,521,1168,493,260,46,319,96,1062,232,76,54,201,406,1919,662,41,1600,134,69,21,54,91,526,162,1008,240,795,1772,64,1957,78,1572,795,889,331,265,1065,11,21,17,369,38,177,279,62,1230,182,49,75,227,215,444,47,143,55,63,1867,611,473,55,81,2086,1478,49,382,69,67,30,63,79,42,819,1151,594,129,213,67,28,45,1193,268,266,37,37,882,373,35,42,326,404,95,939,33,981,36,1237,1825,103,191,1586,963,889,93,1587,16,1375,393,1477,1179,1005,1348,1307,486,2252,235,1724,235,1092,599,2008,48,1174,67,365,165,210,1095,223,597,22,1064,74,26,60,20,59,34,198,1048,574,1029,670,990,11,1241,576,172,664,928,2074,467,257,1146,689,2114,1346,1044,493,957,270,29,121,126,23,57,636,1004,734,614,1453,1621,187,1443,57,637,948,59,18,903,112,596,233,1511,1152,48,1185,21,965,869,16,1947,71,65,1380,1027,411,836,11,480,606,284,1472,1677,1335,334,18,1338,1099,97,63,109,902,1574,38,960,28,1215,1497,449,1064,1757,1440,1006,1226,1171,92,99,66,564,1427,86,833,242,1869,1364,183,450,758,1507,654,81,137,16,93,1158,43,1525,1230,29,25,24,38,57,47,813,629,377,1612,729,50,270,177,315,767,1071,1580,60,573,41,170,1167,1526,458,63,405,1027,1478,72,48,726,860,1497,495,20,570,769,55,1808,55,577,162,1957,1576,1616,36,1482,22,63,680,542,50,39,1043,385,1633,46,761,76,290,89,70,1066,2009,1345,764,195,53,368,544,1853,35,446,1180,41,727,40,1062,40,292,15,341,369,401,393,10,486,69,1727,995,45,182,989,1677,595,156,1226,128,86,68,16,55,2114,2018,263,55,564,1281,83,353,1003,14,902,1139,797,1638,401,84,928,203,858,409,282,1423,1449,28,67,199,1453,1253,1198,178,1990,976,1001,1919,350,1650,46,1228,95,62,1761,467,1149,2052,1127,1416,1113,125,966,32,833,46,960,1829,779,811,1120,725,1187,2302,66,1250,683,305,50,995,41,77,171,131,54,53,475,694,96,361,1079,578,64,149,231,728,1778,93,23,662,1198,81,92,491,1564,926,1910,411,94,1085,23,6,54,1150,1415,405,1908,2486,1315,45,1789,19,573,805,108,23,1493,89,936,343,528,1901,724,58,297,488,859,1574,69,17,2194,116,279,103,44,406,1363,236,39,137,79,63,1314,71,58,702,94,80,22,1211,1461,1968,1091,55,1366,313,62,92,72,655,704,54,178,1033,36,122,122,1123,497,691,1363,12,2440,56,37,968,270,278,1250,938,1178,1155,653,49,506,38,1650,1826,18,906,46,1477,766,47,467,2116,1298,22,396,20,967,357,1401,15,2087,981,17,523,23,1192,1958,133,777,73,121,424,868,756,12,937,1862,367,443,267,61,1323,63,64,562,312,1156,1104,16,2008,44,1574,63,426,96,635,757,125,332,135,330,384,1722,78,24,1168,957,15,57,1956,2013,326,77,1313,30,315,660,74,46,86,1103,61,145,684,411,27,1060,1459,18,1833,237,48,515,1020,1370,1026,301,684,499,1004,218,606,75,106,990,1097,16,34,1711,438,75,225,18,470,91,2525,504,235,1232,88,17,24,60,1020,155,51,1812,1461,96,160,139,908,183,1161,988,1072,174,758,195,31,1084,685,1672,43,49,133,363,545,1065,2047,296,140,530,152,1598,114,101,25,789,87,90,1215,811,61,405,72,189,40,63,52,39,805,130,1631,34,152,21,71,899,711,351,8,119,21,10,973,1536,992,1529,860,928,418,587,641,23,2279,49,1779,1804,48,83,1862,793,84,183,1383,999,825,246,610,76,1286,30,99,1192,362,2130,1229,38,485,434,44,496,78,2346,794,17,26,76,15,62,198,49,802,1736,57,2302,37,310,1305,832,401,1501,1189,1194,656,1540,311,820,274,57,448,44,102,61,1643,397,1121,473,50,1678,58,170,373,1196,101,316,1400,1424,844,311,1149,129,32,299,320,441,1178,85,24,112,30,410,800,1313,1483,1258,28,227,1555,861,103,634,1918,131,586,62,447,939,797,1143,415,30,187,251,237,91,35,493,971,371,396,68,322,317,222,177,45,21,45,1899,42,22,41,1440,325,95,42,72,20,789,15,59,908,417,289,769,188,354,727,146,319,794,454,152,797,1690,20,1428,209,545,96,222,61,44,8,817,1371,42,60,78,23,19,61,449,37,38,1131,34,294,48,289,30,125,156,70,22,65,1930,2283,310,1319,879,1244,690,209,1134,1507,57,529,1091,180,77,2349,534,556,637,46,44,47,795,586,1574,13,1471,65,175,40,1078,1115,134,1540,87,217,1034,1180,819,32,46,1159,860,1631,444,1910,380,736,269,2524,612,75,1045,55,1064,1443,1366,436,38,436,747,1396,928,642,1048,943,907,1198,120,1658,1638,73,275,854,78,106,106,1923,1662,84,48,5,733,1234,112,1658,55,1513,271,904,120,103,269,22,1156,1086,1128,72,964,1383,18,793,100,80,167,677,23,92,641,1106,1033,1174,25,240,20,102,1034,156,458,17,792,92,407,1269,841,633,1019,1315,54,2525,52,436,268,147,1798,137,507,15,1105,974,66,778,49,169,299,221,1682,155,892,58,311,95,424,47,339,1410,35,562,2352,1334,32,41,39,1141,710,401,506,1538,57,1722,270,31,882,16,311,227,1152,122,77,1289,561,211,233,1092,601,54,78,1095,244,116,15,425,734,638,894,41,31,34,1750,612,29,823,20,396,813,1179,138,55,1511,117,32,67,335,825,694,1792,496,231,902,68,71,76,772,47,1586,1529,265,1603,2091,981,1533,82,244,36,404,71,1572,122,41,10,304,37,1754,815,1001,1157,688,1319,21,31,67,708,25,746,32,1695,1080,72,57,660,103,153,1220,279,745,264,2157,1526,69,1597,64,497,1067,31,211,877,11,2034,1991,1686,324,69,252,54,964,1327,68,60,55,1456,563,1504,564,1125,358,42,184,460,145,1376,792,1382,28,1033,882,2231,1101,369,48,467,44,38,81,167,45,664,622,48,461,1073,55,976,20,1149,43,224,101,209,968,1165,24,252,165,269,102,461,47,144,1338,917,318,253,502,119,1250,969,76,62,1382,84,255,43,398,76,902,823,1179,1921,185,433,34,907,416,44,1588,1797,40,1143,914,1502,1338,27,763,1331,525,9,953,68,131,882,1149,37,388,1428,1633,173,99,215,929,219,174,92,1052,275,587,1662,159,1024,35,1042,395,557,9,69,486,34,1365,13,1401,1574,1323,1217,103,84,1536,581,928,14,424,960,1555,656,55,20,367,2257,42,1049,48,685,39,43,835,1515,1039,1596,1828,34,149,946,28,450,46,1702,820,382,2126,2069,72,732,801,236,80,1685,277,507,68,49,397,39,306,976,1028,70,46,51,1263,1490,1564,1815,1198,416,85,47,137,21,70,909,1676,1735,1191,24,1182,1280,1336,749,91,414,44,63,901,38,455,775,15,38,1512,43,42,1089,162,1272,1173,816,74,134,157,561,1336,2092,463,1130,20,377,1544,138,1012,1766,45,161,144,1734,823,1138,1429,1371,982,44,318,434,198,359,576,88,63,27,193,101,2211,140,415,22,263,393,147,443,1958,174,2217,1691,25,809,895,484,413,331,25,13,115,16,92,52,1464,441,283,747,1870,165,1941,839,1655,23,66,37,21,22,78,79,265,1175,1305,46,25,46,874,100,930,868,45,1260,414,392,1109,639,79,1665,692,1392,44,50,467,223,158,1211,1575,1208,43,527,932,71,54,129,1615,1034,1088,721,137,47,1244,41,1174,993,100,1680,98,48,519,715,37,653,1455,602,26,102,97,207,176,450,433,1366,1564,1001,961,1518,56,22,400,26,350,1216,874,40,1367,264,2053,1376,45,976,51,1264,75,57,140,497,266,2006,615,1021,22,133,437,1013,57,1038,1573,28,123,13,132,732,66,1631,608,1822,1282,8,43,1931,103,1169,395,258,25,185,180,22,44,94,81,798,1334,38,61,300,88,54,1782,68,258,31,66,174,28,731,274,1701,312,414,1565,29,94,1338,1092,1479,54,568,1199,873,1213,731,2043,1893,424,575,257,56,542,125,69,40,1016,907,1566,1169,46,1644,59,17,1853,1528,35,141,546,500,61,106,704,424,849,85,199,1147,54,43,53,521,1623,45,1435,32,16,52,1234,15,415,470,1438,53,51,679,586,653,468,1679,50,84,1049,22,30,1341,444,1241,843,172],\"yaxis\":\"y\",\"type\":\"scattergl\"}],                        {\"template\":{\"data\":{\"bar\":[{\"error_x\":{\"color\":\"#2a3f5f\"},\"error_y\":{\"color\":\"#2a3f5f\"},\"marker\":{\"line\":{\"color\":\"#E5ECF6\",\"width\":0.5},\"pattern\":{\"fillmode\":\"overlay\",\"size\":10,\"solidity\":0.2}},\"type\":\"bar\"}],\"barpolar\":[{\"marker\":{\"line\":{\"color\":\"#E5ECF6\",\"width\":0.5},\"pattern\":{\"fillmode\":\"overlay\",\"size\":10,\"solidity\":0.2}},\"type\":\"barpolar\"}],\"carpet\":[{\"aaxis\":{\"endlinecolor\":\"#2a3f5f\",\"gridcolor\":\"white\",\"linecolor\":\"white\",\"minorgridcolor\":\"white\",\"startlinecolor\":\"#2a3f5f\"},\"baxis\":{\"endlinecolor\":\"#2a3f5f\",\"gridcolor\":\"white\",\"linecolor\":\"white\",\"minorgridcolor\":\"white\",\"startlinecolor\":\"#2a3f5f\"},\"type\":\"carpet\"}],\"choropleth\":[{\"colorbar\":{\"outlinewidth\":0,\"ticks\":\"\"},\"type\":\"choropleth\"}],\"contour\":[{\"colorbar\":{\"outlinewidth\":0,\"ticks\":\"\"},\"colorscale\":[[0.0,\"#0d0887\"],[0.1111111111111111,\"#46039f\"],[0.2222222222222222,\"#7201a8\"],[0.3333333333333333,\"#9c179e\"],[0.4444444444444444,\"#bd3786\"],[0.5555555555555556,\"#d8576b\"],[0.6666666666666666,\"#ed7953\"],[0.7777777777777778,\"#fb9f3a\"],[0.8888888888888888,\"#fdca26\"],[1.0,\"#f0f921\"]],\"type\":\"contour\"}],\"contourcarpet\":[{\"colorbar\":{\"outlinewidth\":0,\"ticks\":\"\"},\"type\":\"contourcarpet\"}],\"heatmap\":[{\"colorbar\":{\"outlinewidth\":0,\"ticks\":\"\"},\"colorscale\":[[0.0,\"#0d0887\"],[0.1111111111111111,\"#46039f\"],[0.2222222222222222,\"#7201a8\"],[0.3333333333333333,\"#9c179e\"],[0.4444444444444444,\"#bd3786\"],[0.5555555555555556,\"#d8576b\"],[0.6666666666666666,\"#ed7953\"],[0.7777777777777778,\"#fb9f3a\"],[0.8888888888888888,\"#fdca26\"],[1.0,\"#f0f921\"]],\"type\":\"heatmap\"}],\"heatmapgl\":[{\"colorbar\":{\"outlinewidth\":0,\"ticks\":\"\"},\"colorscale\":[[0.0,\"#0d0887\"],[0.1111111111111111,\"#46039f\"],[0.2222222222222222,\"#7201a8\"],[0.3333333333333333,\"#9c179e\"],[0.4444444444444444,\"#bd3786\"],[0.5555555555555556,\"#d8576b\"],[0.6666666666666666,\"#ed7953\"],[0.7777777777777778,\"#fb9f3a\"],[0.8888888888888888,\"#fdca26\"],[1.0,\"#f0f921\"]],\"type\":\"heatmapgl\"}],\"histogram\":[{\"marker\":{\"pattern\":{\"fillmode\":\"overlay\",\"size\":10,\"solidity\":0.2}},\"type\":\"histogram\"}],\"histogram2d\":[{\"colorbar\":{\"outlinewidth\":0,\"ticks\":\"\"},\"colorscale\":[[0.0,\"#0d0887\"],[0.1111111111111111,\"#46039f\"],[0.2222222222222222,\"#7201a8\"],[0.3333333333333333,\"#9c179e\"],[0.4444444444444444,\"#bd3786\"],[0.5555555555555556,\"#d8576b\"],[0.6666666666666666,\"#ed7953\"],[0.7777777777777778,\"#fb9f3a\"],[0.8888888888888888,\"#fdca26\"],[1.0,\"#f0f921\"]],\"type\":\"histogram2d\"}],\"histogram2dcontour\":[{\"colorbar\":{\"outlinewidth\":0,\"ticks\":\"\"},\"colorscale\":[[0.0,\"#0d0887\"],[0.1111111111111111,\"#46039f\"],[0.2222222222222222,\"#7201a8\"],[0.3333333333333333,\"#9c179e\"],[0.4444444444444444,\"#bd3786\"],[0.5555555555555556,\"#d8576b\"],[0.6666666666666666,\"#ed7953\"],[0.7777777777777778,\"#fb9f3a\"],[0.8888888888888888,\"#fdca26\"],[1.0,\"#f0f921\"]],\"type\":\"histogram2dcontour\"}],\"mesh3d\":[{\"colorbar\":{\"outlinewidth\":0,\"ticks\":\"\"},\"type\":\"mesh3d\"}],\"parcoords\":[{\"line\":{\"colorbar\":{\"outlinewidth\":0,\"ticks\":\"\"}},\"type\":\"parcoords\"}],\"pie\":[{\"automargin\":true,\"type\":\"pie\"}],\"scatter\":[{\"marker\":{\"colorbar\":{\"outlinewidth\":0,\"ticks\":\"\"}},\"type\":\"scatter\"}],\"scatter3d\":[{\"line\":{\"colorbar\":{\"outlinewidth\":0,\"ticks\":\"\"}},\"marker\":{\"colorbar\":{\"outlinewidth\":0,\"ticks\":\"\"}},\"type\":\"scatter3d\"}],\"scattercarpet\":[{\"marker\":{\"colorbar\":{\"outlinewidth\":0,\"ticks\":\"\"}},\"type\":\"scattercarpet\"}],\"scattergeo\":[{\"marker\":{\"colorbar\":{\"outlinewidth\":0,\"ticks\":\"\"}},\"type\":\"scattergeo\"}],\"scattergl\":[{\"marker\":{\"colorbar\":{\"outlinewidth\":0,\"ticks\":\"\"}},\"type\":\"scattergl\"}],\"scattermapbox\":[{\"marker\":{\"colorbar\":{\"outlinewidth\":0,\"ticks\":\"\"}},\"type\":\"scattermapbox\"}],\"scatterpolar\":[{\"marker\":{\"colorbar\":{\"outlinewidth\":0,\"ticks\":\"\"}},\"type\":\"scatterpolar\"}],\"scatterpolargl\":[{\"marker\":{\"colorbar\":{\"outlinewidth\":0,\"ticks\":\"\"}},\"type\":\"scatterpolargl\"}],\"scatterternary\":[{\"marker\":{\"colorbar\":{\"outlinewidth\":0,\"ticks\":\"\"}},\"type\":\"scatterternary\"}],\"surface\":[{\"colorbar\":{\"outlinewidth\":0,\"ticks\":\"\"},\"colorscale\":[[0.0,\"#0d0887\"],[0.1111111111111111,\"#46039f\"],[0.2222222222222222,\"#7201a8\"],[0.3333333333333333,\"#9c179e\"],[0.4444444444444444,\"#bd3786\"],[0.5555555555555556,\"#d8576b\"],[0.6666666666666666,\"#ed7953\"],[0.7777777777777778,\"#fb9f3a\"],[0.8888888888888888,\"#fdca26\"],[1.0,\"#f0f921\"]],\"type\":\"surface\"}],\"table\":[{\"cells\":{\"fill\":{\"color\":\"#EBF0F8\"},\"line\":{\"color\":\"white\"}},\"header\":{\"fill\":{\"color\":\"#C8D4E3\"},\"line\":{\"color\":\"white\"}},\"type\":\"table\"}]},\"layout\":{\"annotationdefaults\":{\"arrowcolor\":\"#2a3f5f\",\"arrowhead\":0,\"arrowwidth\":1},\"autotypenumbers\":\"strict\",\"coloraxis\":{\"colorbar\":{\"outlinewidth\":0,\"ticks\":\"\"}},\"colorscale\":{\"diverging\":[[0,\"#8e0152\"],[0.1,\"#c51b7d\"],[0.2,\"#de77ae\"],[0.3,\"#f1b6da\"],[0.4,\"#fde0ef\"],[0.5,\"#f7f7f7\"],[0.6,\"#e6f5d0\"],[0.7,\"#b8e186\"],[0.8,\"#7fbc41\"],[0.9,\"#4d9221\"],[1,\"#276419\"]],\"sequential\":[[0.0,\"#0d0887\"],[0.1111111111111111,\"#46039f\"],[0.2222222222222222,\"#7201a8\"],[0.3333333333333333,\"#9c179e\"],[0.4444444444444444,\"#bd3786\"],[0.5555555555555556,\"#d8576b\"],[0.6666666666666666,\"#ed7953\"],[0.7777777777777778,\"#fb9f3a\"],[0.8888888888888888,\"#fdca26\"],[1.0,\"#f0f921\"]],\"sequentialminus\":[[0.0,\"#0d0887\"],[0.1111111111111111,\"#46039f\"],[0.2222222222222222,\"#7201a8\"],[0.3333333333333333,\"#9c179e\"],[0.4444444444444444,\"#bd3786\"],[0.5555555555555556,\"#d8576b\"],[0.6666666666666666,\"#ed7953\"],[0.7777777777777778,\"#fb9f3a\"],[0.8888888888888888,\"#fdca26\"],[1.0,\"#f0f921\"]]},\"colorway\":[\"#636efa\",\"#EF553B\",\"#00cc96\",\"#ab63fa\",\"#FFA15A\",\"#19d3f3\",\"#FF6692\",\"#B6E880\",\"#FF97FF\",\"#FECB52\"],\"font\":{\"color\":\"#2a3f5f\"},\"geo\":{\"bgcolor\":\"white\",\"lakecolor\":\"white\",\"landcolor\":\"#E5ECF6\",\"showlakes\":true,\"showland\":true,\"subunitcolor\":\"white\"},\"hoverlabel\":{\"align\":\"left\"},\"hovermode\":\"closest\",\"mapbox\":{\"style\":\"light\"},\"paper_bgcolor\":\"white\",\"plot_bgcolor\":\"#E5ECF6\",\"polar\":{\"angularaxis\":{\"gridcolor\":\"white\",\"linecolor\":\"white\",\"ticks\":\"\"},\"bgcolor\":\"#E5ECF6\",\"radialaxis\":{\"gridcolor\":\"white\",\"linecolor\":\"white\",\"ticks\":\"\"}},\"scene\":{\"xaxis\":{\"backgroundcolor\":\"#E5ECF6\",\"gridcolor\":\"white\",\"gridwidth\":2,\"linecolor\":\"white\",\"showbackground\":true,\"ticks\":\"\",\"zerolinecolor\":\"white\"},\"yaxis\":{\"backgroundcolor\":\"#E5ECF6\",\"gridcolor\":\"white\",\"gridwidth\":2,\"linecolor\":\"white\",\"showbackground\":true,\"ticks\":\"\",\"zerolinecolor\":\"white\"},\"zaxis\":{\"backgroundcolor\":\"#E5ECF6\",\"gridcolor\":\"white\",\"gridwidth\":2,\"linecolor\":\"white\",\"showbackground\":true,\"ticks\":\"\",\"zerolinecolor\":\"white\"}},\"shapedefaults\":{\"line\":{\"color\":\"#2a3f5f\"}},\"ternary\":{\"aaxis\":{\"gridcolor\":\"white\",\"linecolor\":\"white\",\"ticks\":\"\"},\"baxis\":{\"gridcolor\":\"white\",\"linecolor\":\"white\",\"ticks\":\"\"},\"bgcolor\":\"#E5ECF6\",\"caxis\":{\"gridcolor\":\"white\",\"linecolor\":\"white\",\"ticks\":\"\"}},\"title\":{\"x\":0.05},\"xaxis\":{\"automargin\":true,\"gridcolor\":\"white\",\"linecolor\":\"white\",\"ticks\":\"\",\"title\":{\"standoff\":15},\"zerolinecolor\":\"white\",\"zerolinewidth\":2},\"yaxis\":{\"automargin\":true,\"gridcolor\":\"white\",\"linecolor\":\"white\",\"ticks\":\"\",\"title\":{\"standoff\":15},\"zerolinecolor\":\"white\",\"zerolinewidth\":2}}},\"xaxis\":{\"anchor\":\"y\",\"domain\":[0.0,1.0],\"title\":{\"text\":\"Income\"}},\"yaxis\":{\"anchor\":\"x\",\"domain\":[0.0,1.0],\"title\":{\"text\":\"Total_Amount_spent\"}},\"coloraxis\":{\"colorbar\":{\"title\":{\"text\":\"Total_Children\"}},\"colorscale\":[[0.0,\"#0d0887\"],[0.1111111111111111,\"#46039f\"],[0.2222222222222222,\"#7201a8\"],[0.3333333333333333,\"#9c179e\"],[0.4444444444444444,\"#bd3786\"],[0.5555555555555556,\"#d8576b\"],[0.6666666666666666,\"#ed7953\"],[0.7777777777777778,\"#fb9f3a\"],[0.8888888888888888,\"#fdca26\"],[1.0,\"#f0f921\"]]},\"legend\":{\"tracegroupgap\":0},\"title\":{\"text\":\"Relationship between Income VS Total Amount Spent Based on Education\"},\"height\":500},                        {\"responsive\": true}                    ).then(function(){\n",
              "                            \n",
              "var gd = document.getElementById('ffafc011-65d6-4bfc-8fa7-e9481f8e58c8');\n",
              "var x = new MutationObserver(function (mutations, observer) {{\n",
              "        var display = window.getComputedStyle(gd).display;\n",
              "        if (!display || display === 'none') {{\n",
              "            console.log([gd, 'removed!']);\n",
              "            Plotly.purge(gd);\n",
              "            observer.disconnect();\n",
              "        }}\n",
              "}});\n",
              "\n",
              "// Listen for the removal of the full notebook cells\n",
              "var notebookContainer = gd.closest('#notebook-container');\n",
              "if (notebookContainer) {{\n",
              "    x.observe(notebookContainer, {childList: true});\n",
              "}}\n",
              "\n",
              "// Listen for the clearing of the current output cell\n",
              "var outputEl = gd.closest('.output');\n",
              "if (outputEl) {{\n",
              "    x.observe(outputEl, {childList: true});\n",
              "}}\n",
              "\n",
              "                        })                };                            </script>        </div>\n",
              "</body>\n",
              "</html>"
            ]
          },
          "metadata": {}
        }
      ]
    },
    {
      "cell_type": "markdown",
      "source": [
        "# **Conclusion From EDA**"
      ],
      "metadata": {
        "id": "TR2vlrjUlglZ"
      }
    },
    {
      "cell_type": "markdown",
      "source": [
        "\n",
        "\n",
        "\n",
        "`Firstly from the EDA we saw that Income was really the key indicator that was determined the amount a customer will spend.`\n",
        "\n",
        "\n",
        "\n",
        "`Also In terms of Education we noticed customers with graduate education level and above tends to spend 12 times higher than those customers with undergraduate education level. The reason for this is because customers with graduate education level and above earns above 2 times than customers with undergradute education level`.\n",
        "\n",
        "\n",
        "\n",
        "`Also we noticed a trends in terms of total children and total amount spent. We saw that on average there was a decline on the amount spent as the total number of children increases.I.e, as children increases so do the amount spent on average reduces`\n",
        " "
      ],
      "metadata": {
        "id": "qcBuFw9GlXd5"
      }
    },
    {
      "cell_type": "markdown",
      "source": [
        "# **We will build the Kmeans Model using two Features to Segment the *Customers Demographic and Behaviour* \"Income\" and \"Total Amount Spent\"**\n",
        "\n",
        "---\n",
        "\n"
      ],
      "metadata": {
        "id": "MUJlkyl_prlV"
      }
    },
    {
      "cell_type": "code",
      "source": [
        "df2[\"Income\"].fillna(df2[\"Income\"].median(), inplace=True)"
      ],
      "metadata": {
        "id": "JiEWs78Wlonv"
      },
      "execution_count": 95,
      "outputs": []
    },
    {
      "cell_type": "code",
      "source": [
        "data = df2[['Income','Total_Amount_spent']]"
      ],
      "metadata": {
        "id": "tKzK_MViqSsk"
      },
      "execution_count": 96,
      "outputs": []
    },
    {
      "cell_type": "code",
      "source": [
        "df_log = np.log(data)"
      ],
      "metadata": {
        "id": "3Pm66xjHqfNO"
      },
      "execution_count": 97,
      "outputs": []
    },
    {
      "cell_type": "code",
      "source": [
        "from sklearn.preprocessing import StandardScaler\n",
        "from sklearn.cluster import KMeans"
      ],
      "metadata": {
        "id": "e5YVJOxuqmO4"
      },
      "execution_count": 98,
      "outputs": []
    },
    {
      "cell_type": "code",
      "source": [
        "std_scaler = StandardScaler()\n",
        "df_scaled = std_scaler.fit_transform(df_log)"
      ],
      "metadata": {
        "id": "nT3JqLdwqnpU"
      },
      "execution_count": 99,
      "outputs": []
    },
    {
      "cell_type": "code",
      "source": [
        "errors = []\n",
        "for k in range(1,11):\n",
        "  model = KMeans(n_clusters = k,random_state = 45)\n",
        "  model.fit(df_scaled)\n",
        "  errors.append(model.inertia_)\n"
      ],
      "metadata": {
        "id": "ZprpujOhqt42"
      },
      "execution_count": 102,
      "outputs": []
    },
    {
      "cell_type": "code",
      "source": [
        "plt.title('The Elbow Method')\n",
        "plt.xlabel('k'); plt.ylabel('SSE')\n",
        "sns.pointplot(x=list(range(1, 11)), y=errors)\n",
        "plt.savefig(\"Elbow.png\")"
      ],
      "metadata": {
        "id": "S8spgmChrjdd",
        "outputId": "63d1e1cc-6b4c-4475-e44a-959fc3482515",
        "colab": {
          "base_uri": "https://localhost:8080/",
          "height": 295
        }
      },
      "execution_count": 103,
      "outputs": [
        {
          "output_type": "display_data",
          "data": {
            "text/plain": [
              "<Figure size 432x288 with 1 Axes>"
            ],
            "image/png": "[encoded data removed]"
          },
          "metadata": {
            "needs_background": "light"
          }
        }
      ]
    },
    {
      "cell_type": "markdown",
      "source": [
        " We can also Make use of Knee Locator to determine Optimal Cluster"
      ],
      "metadata": {
        "id": "qwFMfyPur1Mf"
      }
    },
    {
      "cell_type": "code",
      "source": [
        "!pip install --upgrade kneed"
      ],
      "metadata": {
        "id": "gEsUCj4Qs1-o",
        "outputId": "a1e7a866-5568-468d-e2d7-5177dbf5b20d",
        "colab": {
          "base_uri": "https://localhost:8080/"
        }
      },
      "execution_count": 105,
      "outputs": [
        {
          "output_type": "stream",
          "name": "stdout",
          "text": [
            "Looking in indexes: https://pypi.org/simple, https://us-python.pkg.dev/colab-wheels/public/simple/\n",
            "Collecting kneed\n",
            "  Downloading kneed-0.8.2-py3-none-any.whl (10 kB)\n",
            "Requirement already satisfied: scipy>=1.0.0 in /usr/local/lib/python3.8/dist-packages (from kneed) (1.7.3)\n",
            "Requirement already satisfied: numpy>=1.14.2 in /usr/local/lib/python3.8/dist-packages (from kneed) (1.21.6)\n",
            "Installing collected packages: kneed\n",
            "Successfully installed kneed-0.8.2\n"
          ]
        }
      ]
    },
    {
      "cell_type": "code",
      "source": [
        "from kneed import KneeLocator\n",
        "kl = KneeLocator(x = range(1, 11),\n",
        "                 y = errors,\n",
        "                 curve=\"convex\",\n",
        "                 direction=\"decreasing\")\n",
        "print('The optimum number of clusters is: ' + str(kl.elbow))"
      ],
      "metadata": {
        "id": "0rculVKXr3e9",
        "outputId": "09418267-2d52-4d65-b5dc-fdd2323076ac",
        "colab": {
          "base_uri": "https://localhost:8080/"
        }
      },
      "execution_count": 106,
      "outputs": [
        {
          "output_type": "stream",
          "name": "stdout",
          "text": [
            "The optimum number of clusters is: 3\n"
          ]
        }
      ]
    },
    {
      "cell_type": "markdown",
      "source": [
        "We  will Build the 3 cluster model"
      ],
      "metadata": {
        "id": "8xfVAVWos7At"
      }
    },
    {
      "cell_type": "code",
      "source": [
        "model = KMeans(n_clusters = 3,random_state = 40)\n",
        "model.fit(df_scaled)"
      ],
      "metadata": {
        "id": "r0FCusZ4tAYU",
        "outputId": "6beb9b20-3dff-4e4f-9792-8b36c37c04b1",
        "colab": {
          "base_uri": "https://localhost:8080/"
        }
      },
      "execution_count": 107,
      "outputs": [
        {
          "output_type": "execute_result",
          "data": {
            "text/plain": [
              "KMeans(n_clusters=3, random_state=40)"
            ]
          },
          "metadata": {},
          "execution_count": 107
        }
      ]
    },
    {
      "cell_type": "code",
      "source": [
        "data = data.assign(ClusterLabel= model.labels_)\n"
      ],
      "metadata": {
        "id": "r9yBeS9wtcxe"
      },
      "execution_count": 108,
      "outputs": []
    },
    {
      "cell_type": "code",
      "source": [
        "data.groupby(\"ClusterLabel\")[[\"Income\", \"Total_Amount_spent\"]].median()"
      ],
      "metadata": {
        "id": "6HsbJkZ2teAR",
        "outputId": "4a9e2c62-5906-4ca6-de7f-5a0ab590f862",
        "colab": {
          "base_uri": "https://localhost:8080/",
          "height": 174
        }
      },
      "execution_count": 109,
      "outputs": [
        {
          "output_type": "execute_result",
          "data": {
            "text/plain": [
              "               Income  Total_Amount_spent\n",
              "ClusterLabel                             \n",
              "0             25271.0                43.0\n",
              "1             69063.0              1067.0\n",
              "2             42596.5               144.5"
            ],
            "text/html": [
              "\n",
              "  <div id=\"df-a2eced07-05d6-48ca-abf4-282f3e8d53b2\">\n",
              "    <div class=\"colab-df-container\">\n",
              "      <div>\n",
              "<style scoped>\n",
              "    .dataframe tbody tr th:only-of-type {\n",
              "        vertical-align: middle;\n",
              "    }\n",
              "\n",
              "    .dataframe tbody tr th {\n",
              "        vertical-align: top;\n",
              "    }\n",
              "\n",
              "    .dataframe thead th {\n",
              "        text-align: right;\n",
              "    }\n",
              "</style>\n",
              "<table border=\"1\" class=\"dataframe\">\n",
              "  <thead>\n",
              "    <tr style=\"text-align: right;\">\n",
              "      <th></th>\n",
              "      <th>Income</th>\n",
              "      <th>Total_Amount_spent</th>\n",
              "    </tr>\n",
              "    <tr>\n",
              "      <th>ClusterLabel</th>\n",
              "      <th></th>\n",
              "      <th></th>\n",
              "    </tr>\n",
              "  </thead>\n",
              "  <tbody>\n",
              "    <tr>\n",
              "      <th>0</th>\n",
              "      <td>25271.0</td>\n",
              "      <td>43.0</td>\n",
              "    </tr>\n",
              "    <tr>\n",
              "      <th>1</th>\n",
              "      <td>69063.0</td>\n",
              "      <td>1067.0</td>\n",
              "    </tr>\n",
              "    <tr>\n",
              "      <th>2</th>\n",
              "      <td>42596.5</td>\n",
              "      <td>144.5</td>\n",
              "    </tr>\n",
              "  </tbody>\n",
              "</table>\n",
              "</div>\n",
              "      <button class=\"colab-df-convert\" onclick=\"convertToInteractive('df-a2eced07-05d6-48ca-abf4-282f3e8d53b2')\"\n",
              "              title=\"Convert this dataframe to an interactive table.\"\n",
              "              style=\"display:none;\">\n",
              "        \n",
              "  <svg xmlns=\"http://www.w3.org/2000/svg\" height=\"24px\"viewBox=\"0 0 24 24\"\n",
              "       width=\"24px\">\n",
              "    <path d=\"M0 0h24v24H0V0z\" fill=\"none\"/>\n",
              "    <path d=\"M18.56 5.44l.94 2.06.94-2.06 2.06-.94-2.06-.94-.94-2.06-.94 2.06-2.06.94zm-11 1L8.5 8.5l.94-2.06 2.06-.94-2.06-.94L8.5 2.5l-.94 2.06-2.06.94zm10 10l.94 2.06.94-2.06 2.06-.94-2.06-.94-.94-2.06-.94 2.06-2.06.94z\"/><path d=\"M17.41 7.96l-1.37-1.37c-.4-.4-.92-.59-1.43-.59-.52 0-1.04.2-1.43.59L10.3 9.45l-7.72 7.72c-.78.78-.78 2.05 0 2.83L4 21.41c.39.39.9.59 1.41.59.51 0 1.02-.2 1.41-.59l7.78-7.78 2.81-2.81c.8-.78.8-2.07 0-2.86zM5.41 20L4 18.59l7.72-7.72 1.47 1.35L5.41 20z\"/>\n",
              "  </svg>\n",
              "      </button>\n",
              "      \n",
              "  <style>\n",
              "    .colab-df-container {\n",
              "      display:flex;\n",
              "      flex-wrap:wrap;\n",
              "      gap: 12px;\n",
              "    }\n",
              "\n",
              "    .colab-df-convert {\n",
              "      background-color: #E8F0FE;\n",
              "      border: none;\n",
              "      border-radius: 50%;\n",
              "      cursor: pointer;\n",
              "      display: none;\n",
              "      fill: #1967D2;\n",
              "      height: 32px;\n",
              "      padding: 0 0 0 0;\n",
              "      width: 32px;\n",
              "    }\n",
              "\n",
              "    .colab-df-convert:hover {\n",
              "      background-color: #E2EBFA;\n",
              "      box-shadow: 0px 1px 2px rgba(60, 64, 67, 0.3), 0px 1px 3px 1px rgba(60, 64, 67, 0.15);\n",
              "      fill: #174EA6;\n",
              "    }\n",
              "\n",
              "    [theme=dark] .colab-df-convert {\n",
              "      background-color: #3B4455;\n",
              "      fill: #D2E3FC;\n",
              "    }\n",
              "\n",
              "    [theme=dark] .colab-df-convert:hover {\n",
              "      background-color: #434B5C;\n",
              "      box-shadow: 0px 1px 3px 1px rgba(0, 0, 0, 0.15);\n",
              "      filter: drop-shadow(0px 1px 2px rgba(0, 0, 0, 0.3));\n",
              "      fill: #FFFFFF;\n",
              "    }\n",
              "  </style>\n",
              "\n",
              "      <script>\n",
              "        const buttonEl =\n",
              "          document.querySelector('#df-a2eced07-05d6-48ca-abf4-282f3e8d53b2 button.colab-df-convert');\n",
              "        buttonEl.style.display =\n",
              "          google.colab.kernel.accessAllowed ? 'block' : 'none';\n",
              "\n",
              "        async function convertToInteractive(key) {\n",
              "          const element = document.querySelector('#df-a2eced07-05d6-48ca-abf4-282f3e8d53b2');\n",
              "          const dataTable =\n",
              "            await google.colab.kernel.invokeFunction('convertToInteractive',\n",
              "                                                     [key], {});\n",
              "          if (!dataTable) return;\n",
              "\n",
              "          const docLinkHtml = 'Like what you see? Visit the ' +\n",
              "            '<a target=\"_blank\" href=https://colab.research.google.com/notebooks/data_table.ipynb>data table notebook</a>'\n",
              "            + ' to learn more about interactive tables.';\n",
              "          element.innerHTML = '';\n",
              "          dataTable['output_type'] = 'display_data';\n",
              "          await google.colab.output.renderOutput(dataTable, element);\n",
              "          const docLink = document.createElement('div');\n",
              "          docLink.innerHTML = docLinkHtml;\n",
              "          element.appendChild(docLink);\n",
              "        }\n",
              "      </script>\n",
              "    </div>\n",
              "  </div>\n",
              "  "
            ]
          },
          "metadata": {},
          "execution_count": 109
        }
      ]
    },
    {
      "cell_type": "code",
      "source": [
        "fig = px.scatter(\n",
        "    data_frame=data,\n",
        "    x = \"Income\",\n",
        "    y= \"Total_Amount_spent\",\n",
        "    title = \"Relationship between Income VS Total Amount Spent\",\n",
        "    color = \"ClusterLabel\",\n",
        "    height=500\n",
        ")\n",
        "fig.show()"
      ],
      "metadata": {
        "id": "xhiD7mOXtmVA",
        "outputId": "db8d7b4d-ef24-49f5-af05-dfdbcce106d9",
        "colab": {
          "base_uri": "https://localhost:8080/",
          "height": 517
        }
      },
      "execution_count": 110,
      "outputs": [
        {
          "output_type": "display_data",
          "data": {
            "text/html": [
              "<html>\n",
              "<head><meta charset=\"utf-8\" /></head>\n",
              "<body>\n",
              "    <div>            <script src=\"https://cdnjs.cloudflare.com/ajax/libs/mathjax/2.7.5/MathJax.js?config=TeX-AMS-MML_SVG\"></script><script type=\"text/javascript\">if (window.MathJax) {MathJax.Hub.Config({SVG: {font: \"STIX-Web\"}});}</script>                <script type=\"text/javascript\">window.PlotlyConfig = {MathJaxConfig: 'local'};</script>\n",
              "        <script src=\"https://cdn.plot.ly/plotly-2.8.3.min.js\"></script>                <div id=\"58a03130-3d79-44f8-ad37-ab46dc51d2f6\" class=\"plotly-graph-div\" style=\"height:500px; width:100%;\"></div>            <script type=\"text/javascript\">                                    window.PLOTLYENV=window.PLOTLYENV || {};                                    if (document.getElementById(\"58a03130-3d79-44f8-ad37-ab46dc51d2f6\")) {                    Plotly.newPlot(                        \"58a03130-3d79-44f8-ad37-ab46dc51d2f6\",                        [{\"hovertemplate\":\"Income=%{x}<br>Total_Amount_spent=%{y}<br>ClusterLabel=%{marker.color}<extra></extra>\",\"legendgroup\":\"\",\"marker\":{\"color\":[1,2,1,0,1,1,1,2,0,0,2,0,1,1,0,1,2,2,1,2,2,0,1,1,2,0,2,1,2,1,0,2,2,2,1,2,1,0,2,1,1,0,0,2,0,1,0,2,2,1,1,1,2,1,1,1,1,0,2,1,1,1,1,1,1,0,0,1,1,1,1,2,1,1,0,0,1,1,0,1,2,0,0,2,1,0,2,2,1,2,1,2,1,2,0,0,1,2,1,2,2,2,1,1,1,0,2,1,2,1,1,1,1,1,2,2,1,2,2,0,1,2,0,0,1,1,1,2,1,1,1,1,1,1,2,1,0,2,2,2,1,1,1,1,2,1,0,0,2,2,1,1,2,2,1,1,2,2,2,1,0,1,0,1,1,2,1,2,1,0,0,0,2,2,2,1,1,2,0,1,2,0,1,0,0,0,0,1,1,2,0,1,2,2,2,0,1,1,1,2,1,1,1,1,2,0,0,2,2,1,2,1,2,1,1,2,2,1,2,1,2,1,1,2,1,2,1,1,1,0,2,1,0,0,1,0,0,1,0,2,1,1,0,1,1,0,1,1,1,1,0,0,1,2,1,0,1,2,0,0,0,1,2,0,2,2,1,2,1,0,1,0,2,0,2,1,1,1,1,1,0,1,2,1,2,0,1,1,1,2,0,2,1,0,0,1,0,2,1,1,2,1,2,2,0,1,0,1,1,2,0,0,1,1,2,0,2,1,0,1,1,0,2,1,2,1,0,0,2,2,0,2,1,2,0,1,1,0,1,1,1,2,1,1,0,1,2,1,0,0,1,1,1,1,1,2,2,1,1,2,1,1,0,0,1,1,1,0,1,1,0,2,0,1,2,2,0,0,1,0,0,0,2,2,0,0,2,1,2,1,1,2,1,2,1,1,2,0,0,0,0,1,2,2,1,2,0,1,0,1,0,1,1,2,1,1,0,1,1,1,2,0,0,1,1,2,1,1,0,1,1,1,1,1,0,2,1,1,2,0,0,2,0,0,0,0,2,1,0,1,1,1,2,1,1,2,1,2,2,1,1,1,2,1,2,1,1,0,1,1,1,0,1,2,0,1,2,1,1,2,2,2,2,2,1,1,1,1,0,2,1,2,1,1,1,1,2,1,1,1,0,2,2,1,2,1,1,1,2,1,2,1,2,1,2,1,2,0,1,1,0,1,2,1,2,0,1,1,1,2,1,1,1,1,0,2,2,1,2,0,0,2,2,1,1,0,1,2,0,0,2,0,1,0,1,2,1,1,0,1,2,1,1,1,2,2,1,0,2,0,2,2,2,1,2,1,2,0,2,2,2,2,2,2,2,0,1,1,1,0,2,1,1,0,1,0,0,2,0,2,0,1,1,1,2,0,2,0,0,1,2,2,0,0,1,2,0,1,2,2,1,2,1,0,1,0,1,1,2,2,1,1,1,2,1,2,1,1,1,1,1,1,1,2,1,2,1,2,1,1,1,0,1,2,2,2,2,2,1,2,1,0,1,0,0,0,2,0,0,2,1,1,1,1,1,0,1,1,2,1,1,1,2,2,1,1,1,1,1,1,1,1,2,0,2,2,0,0,1,1,1,1,1,1,2,1,2,1,1,2,0,1,2,1,2,1,1,0,1,2,1,1,0,1,0,2,1,1,1,1,0,1,1,2,1,1,1,1,0,1,1,2,2,2,1,1,0,1,0,1,1,1,1,1,1,1,1,1,2,2,2,1,1,2,1,2,1,1,2,1,1,1,1,2,0,0,2,1,2,1,1,0,0,0,0,0,0,1,1,2,1,1,0,2,2,2,1,1,1,0,1,2,2,1,1,1,2,1,1,1,0,0,1,1,1,1,0,2,1,0,1,0,1,0,1,1,1,2,1,0,2,1,1,0,0,1,2,1,2,1,2,2,2,0,1,1,1,1,2,0,2,1,1,0,2,1,2,1,2,1,0,2,0,2,2,1,2,0,1,0,1,1,0,2,1,1,2,2,1,0,0,2,0,2,1,1,2,2,1,1,2,2,1,0,1,1,1,1,2,0,1,2,1,1,2,1,1,2,2,2,1,1,1,2,1,1,1,1,2,1,2,1,2,2,1,2,1,1,1,1,1,2,1,0,1,0,1,1,1,1,1,1,1,1,0,1,1,1,2,1,0,2,2,2,2,0,1,1,2,2,1,1,2,2,2,1,1,2,0,1,1,2,0,1,1,1,1,1,2,1,2,0,0,1,1,1,1,1,1,2,1,0,2,1,2,0,1,0,1,2,1,1,1,0,2,2,1,1,0,0,1,2,2,2,2,1,1,2,0,0,2,0,1,2,0,1,0,0,0,1,1,1,1,0,1,2,2,2,2,1,1,2,0,1,0,2,2,1,2,1,1,0,1,0,0,1,2,2,1,1,1,1,1,2,1,0,1,1,0,1,0,1,1,2,2,1,1,0,2,0,1,2,1,0,1,1,0,1,2,1,1,2,1,2,2,1,1,1,0,1,1,2,2,2,0,1,2,0,1,1,1,1,2,1,0,1,2,2,0,1,1,2,2,2,2,2,1,2,0,1,1,0,2,1,1,2,2,1,0,2,1,2,0,2,1,0,2,1,1,0,1,1,0,1,2,0,2,1,1,1,2,1,1,1,2,1,2,2,1,1,0,0,1,1,0,2,0,1,0,1,1,2,1,0,0,0,2,1,2,2,1,1,2,2,2,1,2,1,1,1,2,1,2,0,1,1,1,0,2,2,2,1,1,1,2,2,1,2,1,2,0,0,1,2,2,1,1,0,1,2,2,2,2,0,2,1,2,1,0,2,0,2,1,1,2,0,0,0,0,1,1,1,1,1,1,1,1,1,0,1,2,1,1,0,2,1,1,0,2,1,1,1,2,1,0,1,0,2,1,2,1,1,2,2,2,0,1,2,1,1,0,0,2,0,2,2,0,1,1,0,1,1,0,2,1,1,2,1,1,1,1,1,2,1,2,0,2,2,2,2,1,2,1,2,0,1,0,2,0,1,0,2,1,1,1,2,1,2,2,2,2,2,1,0,0,2,0,2,1,1,1,1,0,1,1,1,2,1,1,2,1,0,1,1,1,1,2,0,2,1,2,2,0,1,1,2,1,0,2,2,2,2,2,2,0,1,2,0,2,1,2,0,2,2,0,1,0,0,1,1,2,1,2,2,1,2,2,1,1,2,1,1,2,1,2,1,0,2,2,0,0,1,1,2,0,0,0,2,2,2,0,0,1,0,1,0,2,0,2,2,2,0,0,1,1,2,1,1,1,1,2,1,1,2,2,1,2,0,1,2,1,1,2,0,0,1,1,1,0,1,0,2,0,1,1,2,1,2,2,1,1,1,0,0,1,1,1,1,1,2,1,2,1,1,2,1,0,1,1,1,1,0,2,1,1,1,1,1,1,1,1,2,1,1,0,2,1,2,2,0,1,1,2,2,0,1,1,0,1,0,1,2,1,2,0,2,0,1,1,1,2,1,1,2,1,2,0,2,1,0,2,1,1,1,1,0,2,0,0,1,2,1,0,1,2,2,1,1,1,1,1,2,1,0,2,2,2,1,2,1,0,1,1,2,1,2,2,1,2,1,2,1,0,2,2,2,0,2,1,0,1,1,1,2,0,2,1,1,1,1,1,0,1,2,0,1,0,2,1,1,2,0,1,1,2,2,1,2,0,2,1,2,2,0,2,1,1,1,2,0,0,1,1,0,1,0,1,1,1,2,0,1,2,1,0,2,2,1,1,1,1,2,1,2,2,2,1,2,1,1,2,1,1,1,1,0,2,0,2,2,1,2,0,0,2,2,1,1,1,1,1,1,0,0,0,1,2,1,2,1,1,2,0,1,0,2,1,2,1,2,1,1,2,1,0,2,1,0,2,1,0,1,1,1,2,0,2,0,1,1,2,0,2,1,1,1,1,1,1,2,2,2,2,1,1,1,0,1,1,1,1,2,0,1,0,0,2,2,2,1,1,0,1,1,0,1,0,1,0,2,0,2,1,1,2,2,2,2,2,1,0,2,1,1,2,2,1,2,1,1,2,2,1,2,2,0,1,2,1,1,1,1,2,2,2,1,0,0,1,1,2,1,1,1,1,0,1,1,1,0,1,2,2,1,1,0,1,1,1,0,0,2,1,2,2,2,1,2,1,1,2,1,0,1,1,1,0,0,1,0,1,0,1,1,1,1,2,0,1,1,1,0,1,1,1,1,0,0,2,1,0,1,2,1,2,0,2,1,1,1,1,0,2,1,0,1,2,1,1,2,1,1,0,1,1,2,0,1,1,1,2,0,1,0,2,1,1,2,2,0,1,1,1,1,1,1,0,2,0,0,2,1,1,1,1,0,1,1,1,1,2,1,0,0,1,0,1,1,0,0,1,0,0,1,2,1,1,1,2,2,2,1,1,1,1,1,0,2,1,2,1,1,2,2,2,1,1,1,1,1,1,2,2,2,2,0,2,2,2,0,0,0,1,2,1,0,2,2,0,1,1,2,1,1,0,1,1,1,2,1,0,0,0,0,2,0,1,2,1,1,1,2,1,2,1,0,2,0,0,0,0,2,2,1,1,0,0,0,1,0,1,1,0,1,2,1,1,1,2,1,1,1,0,2,2,2,2,1,1,1,0,1,1,2,2,0,1,1,1,1,2,2,1,2,1,1,2,1,2,0,1,1,0,1,1,1,0,0,2,2,2,1,1,1,1,1,1,1,0,0,1,0,1,1,1,2,1,2,1,1,2,1,0,1,0,0,2,1,2,1,1,1,0,2,2,1,0,1,1,0,2,0,2,1,2,1,1,1,1,0,0,1,2,0,1,1,2,0,2,2,0,2,2,0,1,1,0,2,1,2,2,1,0,2,0,2,2,0,1,2,1,1,2,1,0,2,1,1,1,2,1,1,1,1,1,1,1,2,1,2,0,2,2,0,2,1,1,1,1,0,1,2,0,1,1,0,2,1,1,2,0,1,2,1,0,2,1,0,0,2,2,1,2,1,0,0,0,1,0,2,1,1,0,0,1,1,1,1,1,0,0,1,0,1,0,1,1,1,1,2],\"coloraxis\":\"coloraxis\",\"symbol\":\"circle\"},\"mode\":\"markers\",\"name\":\"\",\"showlegend\":false,\"x\":[58138.0,46344.0,71613.0,26646.0,58293.0,62513.0,55635.0,33454.0,30351.0,5648.0,52247.25135379061,7500.0,63033.0,59354.0,17323.0,82800.0,41850.0,37760.0,76995.0,33812.0,37040.0,2447.0,58607.0,65324.0,40689.0,18589.0,53359.0,52247.25135379061,38360.0,84618.0,10979.0,38620.0,40548.0,46610.0,68657.0,49389.0,67353.0,23718.0,42429.0,48948.0,80011.0,20559.0,21994.0,52247.25135379061,7500.0,79941.0,7500.0,41728.0,52247.25135379061,72550.0,65486.0,79143.0,35790.0,82582.0,66373.0,82384.0,70287.0,27938.0,52247.25135379061,55954.0,75777.0,66653.0,61823.0,67680.0,70666.0,25721.0,32474.0,88194.0,69096.0,74854.0,66991.0,52247.25135379061,65031.0,60631.0,28332.0,40246.0,75251.0,75825.0,26326.0,56046.0,29760.0,26304.0,23559.0,38620.0,81361.0,29440.0,36138.0,50388.0,79593.0,54178.0,52247.25135379061,52247.25135379061,52247.25135379061,42394.0,23626.0,30096.0,47916.0,51813.0,78497.0,50150.0,47823.0,34554.0,85693.0,65846.0,87195.0,24594.0,49096.0,52413.0,38557.0,89058.0,77298.0,68126.0,57288.0,86037.0,43974.0,50785.0,90765.0,36550.0,30753.0,21918.0,56129.0,32557.0,19510.0,30992.0,101970.0,71488.0,79607.0,54348.0,52247.25135379061,77376.0,62998.0,61331.0,73448.0,52247.25135379061,41551.0,62981.0,9548.0,33762.0,35860.0,36921.0,92859.0,65104.0,86111.0,68352.0,41883.0,59809.0,23957.0,38547.0,35688.0,49605.0,59354.0,65747.0,46344.0,34176.0,61010.0,69372.0,49967.0,60199.0,55375.0,80317.0,30523.0,70356.0,23228.0,74165.0,157243.0,43482.0,62551.0,52332.0,66951.0,26091.0,33456.0,28718.0,50447.0,53537.0,52074.0,80427.0,83837.0,38853.0,38285.0,78497.0,51650.0,16248.0,66835.0,30477.0,28249.0,25271.0,32303.0,61286.0,74068.0,45759.0,24882.0,66973.0,36640.0,38872.0,51148.0,31353.0,69661.0,80067.0,86718.0,46854.0,69142.0,75922.0,63693.0,102160.0,40637.0,18890.0,29604.0,48721.0,44794.0,64497.0,46097.0,77972.0,44377.0,46014.0,70951.0,41443.0,52195.0,83790.0,44551.0,69508.0,45204.0,72460.0,77622.0,30732.0,63887.0,42011.0,51369.0,51537.0,79930.0,34320.0,37070.0,81975.0,38590.0,15033.0,62745.0,22212.0,23661.0,79761.0,7500.0,60182.0,73455.0,64961.0,22804.0,73687.0,61074.0,31686.0,80134.0,75027.0,67546.0,65176.0,31160.0,29938.0,102692.0,26490.0,75702.0,30899.0,63342.0,45989.0,18701.0,40737.0,15287.0,69674.0,44159.0,37717.0,43776.0,38179.0,80124.0,38097.0,72940.0,22070.0,69267.0,31788.0,61905.0,29315.0,33378.0,66313.0,60714.0,77882.0,69867.0,63841.0,24480.0,51369.0,37760.0,65640.0,44319.0,30631.0,75278.0,50898.0,79946.0,35416.0,32414.0,38361.0,82497.0,16626.0,29672.0,55951.0,35388.0,42386.0,68627.0,57912.0,35246.0,58821.0,46377.0,39747.0,23976.0,80950.0,27038.0,77457.0,64100.0,42670.0,12571.0,22574.0,52247.25135379061,70893.0,54198.0,28839.0,40321.0,66503.0,30833.0,52247.25135379061,64795.0,34421.0,47025.0,64325.0,40464.0,62187.0,14849.0,27255.0,54432.0,29999.0,24072.0,33996.0,66334.0,35178.0,22010.0,62204.0,75693.0,30675.0,83003.0,83532.0,68655.0,41411.0,55212.0,59292.0,27190.0,82623.0,44300.0,84835.0,30372.0,33181.0,71113.0,71952.0,69759.0,72099.0,60000.0,38643.0,50737.0,68462.0,65073.0,46681.0,78618.0,62187.0,28442.0,37717.0,51479.0,54803.0,79530.0,31615.0,72025.0,52614.0,35684.0,48178.0,29548.0,63810.0,38578.0,46098.0,22585.0,30279.0,66426.0,30822.0,33581.0,19986.0,27421.0,35688.0,36143.0,10245.0,43795.0,63381.0,38823.0,83664.0,90300.0,62499.0,74293.0,51012.0,70777.0,68682.0,43824.0,15345.0,23442.0,14515.0,31395.0,75276.0,42373.0,30507.0,55521.0,48006.0,27213.0,65808.0,30351.0,50437.0,23616.0,53858.0,66465.0,46923.0,75072.0,75865.0,19789.0,80134.0,91065.0,49505.0,37401.0,30096.0,18492.0,82584.0,93027.0,48686.0,92910.0,75433.0,10404.0,61314.0,84865.0,42387.0,67309.0,75236.0,30015.0,50943.0,67272.0,51529.0,32011.0,7500.0,28691.0,56223.0,18100.0,30279.0,20130.0,23295.0,42618.0,81246.0,24027.0,55707.0,57959.0,56796.0,36230.0,70829.0,65991.0,38988.0,89572.0,42207.0,50300.0,66664.0,60597.0,70165.0,50520.0,80124.0,33183.0,66582.0,75261.0,31880.0,53790.0,49269.0,61456.0,37406.0,56937.0,38415.0,20518.0,62503.0,41644.0,55842.0,62010.0,41124.0,38961.0,37760.0,32233.0,43057.0,83151.0,78825.0,65104.0,60093.0,14045.0,28457.0,78952.0,46310.0,76005.0,58308.0,55614.0,59432.0,55563.0,78642.0,67911.0,65275.0,27203.0,48330.0,24279.0,64355.0,50943.0,53653.0,65665.0,81217.0,34935.0,61250.0,39665.0,60152.0,48920.0,89120.0,44124.0,81169.0,36443.0,26095.0,71367.0,80184.0,30630.0,73454.0,42691.0,70503.0,25545.0,32880.0,77863.0,50353.0,61839.0,49154.0,47682.0,72679.0,57954.0,65316.0,28567.0,47352.0,44931.0,76982.0,57247.0,22944.0,25315.0,43638.0,42710.0,84169.0,54058.0,24683.0,85620.0,47850.0,19514.0,27159.0,39548.0,21474.0,60504.0,22419.0,81698.0,43462.0,54880.0,79908.0,15315.0,87771.0,33039.0,81741.0,71499.0,62466.0,48799.0,52157.0,66565.0,29298.0,47691.0,38200.0,44989.0,38443.0,38593.0,64413.0,36959.0,61996.0,51287.0,13260.0,47472.0,54603.0,45207.0,40689.0,47821.0,27450.0,39453.0,26850.0,79800.0,61794.0,53863.0,24221.0,39684.0,92163.0,69882.0,33178.0,59973.0,17459.0,23910.0,42169.0,26224.0,31089.0,30081.0,62807.0,72906.0,61467.0,49618.0,21888.0,42429.0,26150.0,30801.0,81168.0,26877.0,45006.0,18978.0,22574.0,48240.0,45837.0,35791.0,162397.0,54162.0,30522.0,54456.0,31632.0,72298.0,36975.0,72635.0,13624.0,84196.0,70971.0,34487.0,28769.0,69084.0,65488.0,62466.0,32218.0,83917.0,46102.0,84574.0,56181.0,63120.0,73691.0,63381.0,76140.0,62859.0,45906.0,77632.0,46463.0,105471.0,55282.0,78710.0,66886.0,98777.0,29103.0,67445.0,50616.0,49431.0,153924.0,61278.0,26490.0,73059.0,46734.0,56253.0,19986.0,58330.0,25965.0,14661.0,18690.0,45068.0,21063.0,29187.0,54690.0,59304.0,59247.0,66731.0,77353.0,52614.0,26751.0,81300.0,70337.0,36145.0,65295.0,68118.0,68743.0,41039.0,38946.0,65777.0,66476.0,86857.0,160803.0,77845.0,69476.0,50611.0,61209.0,42315.0,13084.0,47570.0,61923.0,34824.0,26518.0,45938.0,78468.0,78901.0,71427.0,71022.0,90247.0,41335.0,71952.0,35682.0,43185.0,66375.0,35178.0,25252.0,55250.0,33249.0,58398.0,50272.0,76618.0,87305.0,25851.0,58710.0,45160.0,74806.0,59111.0,18988.0,72190.0,7500.0,44794.0,80395.0,75012.0,56962.0,89891.0,35946.0,53593.0,66373.0,45072.0,89694.0,72025.0,67432.0,70545.0,17487.0,62882.0,64108.0,34941.0,48767.0,38702.0,82224.0,83844.0,17003.0,71163.0,33697.0,63564.0,83443.0,51518.0,58330.0,80952.0,75507.0,63855.0,62220.0,58512.0,40662.0,38829.0,35523.0,79146.0,78285.0,31626.0,75127.0,48726.0,74985.0,67430.0,46891.0,62058.0,72063.0,78939.0,42720.0,33622.0,6835.0,41452.0,40760.0,74250.0,51124.0,72258.0,71466.0,36283.0,20587.0,30467.0,31590.0,20425.0,17144.0,42564.0,43783.0,40780.0,62847.0,82017.0,16813.0,51267.0,46524.0,45183.0,70421.0,60161.0,73926.0,19329.0,61872.0,46984.0,34838.0,82716.0,48192.0,49681.0,56850.0,55267.0,59666.0,72504.0,26872.0,21359.0,73170.0,52750.0,91820.0,65968.0,30772.0,22507.0,65685.0,25804.0,76412.0,22063.0,57091.0,22419.0,87771.0,78353.0,93404.0,37859.0,80995.0,16529.0,55412.0,48789.0,56575.0,25130.0,35441.0,71391.0,49494.0,81702.0,45889.0,56628.0,34026.0,40049.0,34176.0,19419.0,82504.0,81205.0,61618.0,55284.0,49980.0,15072.0,49166.0,65324.0,82347.0,30843.0,46374.0,60474.0,38576.0,55357.0,37758.0,85710.0,23228.0,44602.0,7500.0,38683.0,49514.0,57906.0,43456.0,19485.0,53172.0,30545.0,70123.0,62450.0,21675.0,42395.0,61346.0,80812.0,42835.0,39922.0,86424.0,17117.0,24762.0,35797.0,36627.0,51111.0,86857.0,82072.0,46231.0,42243.0,51195.0,68092.0,31814.0,51390.0,76630.0,26868.0,48948.0,55260.0,64090.0,78331.0,37087.0,21846.0,81320.0,54137.0,66825.0,57100.0,58917.0,85072.0,86429.0,45684.0,47889.0,45921.0,78420.0,75114.0,52278.0,35641.0,95529.0,62820.0,73113.0,84169.0,42607.0,74637.0,46015.0,72354.0,39858.0,34469.0,83033.0,24401.0,77583.0,74116.0,74293.0,68397.0,79632.0,46107.0,64950.0,25443.0,75127.0,32892.0,71796.0,67536.0,55239.0,60554.0,64831.0,56067.0,82025.0,94384.0,14906.0,51563.0,57937.0,68274.0,39771.0,67893.0,27922.0,52190.0,44051.0,42767.0,46106.0,16927.0,59754.0,53700.0,59041.0,54237.0,70647.0,52597.0,41021.0,40233.0,50183.0,54753.0,92955.0,33471.0,34596.0,44010.0,84219.0,40706.0,15716.0,59052.0,80573.0,83715.0,82576.0,56962.0,35704.0,53103.0,46779.0,4861.0,33462.0,63693.0,80763.0,65352.0,82170.0,75759.0,79689.0,35340.0,85683.0,24884.0,42021.0,64449.0,64587.0,34824.0,75437.0,26091.0,52845.0,46086.0,78028.0,95169.0,56337.0,22434.0,36930.0,36130.0,65569.0,83844.0,19514.0,36736.0,77568.0,49187.0,30168.0,34053.0,38196.0,59412.0,70924.0,54165.0,32300.0,20180.0,34961.0,28440.0,64504.0,33564.0,17345.0,56320.0,28647.0,15038.0,32173.0,68316.0,74538.0,91700.0,68695.0,31056.0,79593.0,28071.0,37334.0,46423.0,37126.0,47703.0,61180.0,38998.0,8028.0,76081.0,34728.0,33168.0,33585.0,77037.0,35196.0,44529.0,70924.0,28764.0,69098.0,25959.0,27100.0,70596.0,42557.0,53312.0,72228.0,67605.0,62845.0,65196.0,42000.0,35860.0,65526.0,16860.0,83528.0,64176.0,22304.0,67023.0,32892.0,70713.0,59925.0,39722.0,46610.0,88347.0,87171.0,26907.0,50014.0,41014.0,66294.0,36715.0,79456.0,40479.0,75345.0,54233.0,24163.0,84460.0,43776.0,71691.0,85844.0,39190.0,71367.0,38578.0,57236.0,61825.0,79803.0,80910.0,27590.0,56775.0,83829.0,54210.0,38508.0,53187.0,30023.0,76045.0,50870.0,15315.0,65463.0,66480.0,76773.0,81698.0,54466.0,98777.0,16269.0,71819.0,33569.0,36262.0,22634.0,47025.0,70566.0,31605.0,52034.0,48526.0,46734.0,39552.0,86358.0,46931.0,16581.0,63998.0,67381.0,25930.0,42693.0,85606.0,72903.0,49669.0,36778.0,85696.0,10979.0,49678.0,56129.0,37155.0,21282.0,33419.0,63285.0,21255.0,42162.0,54450.0,57744.0,26576.0,57513.0,68142.0,7500.0,83145.0,54197.0,23091.0,46049.0,56715.0,79410.0,57304.0,44375.0,54450.0,59594.0,80685.0,40344.0,62710.0,48985.0,35322.0,77142.0,81657.0,14421.0,20130.0,74214.0,66726.0,23724.0,47353.0,33444.0,54386.0,28510.0,90638.0,48070.0,43140.0,54959.0,15056.0,26954.0,22327.0,44393.0,62000.0,31497.0,45894.0,78579.0,67369.0,58401.0,62307.0,43641.0,63841.0,46891.0,70091.0,78075.0,59184.0,54809.0,58113.0,51412.0,15287.0,66636.0,50965.0,84618.0,18351.0,40451.0,36317.0,42213.0,65748.0,77044.0,74918.0,56721.0,42160.0,61559.0,33629.0,68682.0,34377.0,8940.0,26228.0,77297.0,40211.0,33438.0,75032.0,61284.0,22518.0,54730.0,38452.0,44421.0,38197.0,41986.0,28427.0,37395.0,64722.0,55249.0,84906.0,28691.0,44213.0,25707.0,59062.0,76624.0,66000.0,27683.0,1730.0,7500.0,40521.0,20427.0,65106.0,69969.0,67433.0,77766.0,74716.0,68118.0,55158.0,62972.0,74190.0,39356.0,76653.0,35860.0,90687.0,73450.0,31454.0,47139.0,83829.0,53378.0,19656.0,45579.0,85485.0,55956.0,64191.0,38808.0,57183.0,23748.0,66303.0,37368.0,40800.0,71847.0,46149.0,78687.0,49118.0,37633.0,39767.0,26997.0,33986.0,57091.0,46831.0,83151.0,52531.0,15759.0,22804.0,43050.0,42997.0,48918.0,60033.0,34043.0,57811.0,78569.0,7500.0,157733.0,94384.0,23148.0,44267.0,71626.0,60894.0,50200.0,81051.0,65169.0,59868.0,65695.0,64857.0,45143.0,74805.0,59060.0,27238.0,47009.0,46094.0,40321.0,37235.0,81843.0,46692.0,77382.0,37774.0,18393.0,72828.0,24711.0,45503.0,6560.0,71604.0,27244.0,48752.0,71434.0,90842.0,88097.0,51948.0,71853.0,35876.0,40049.0,39660.0,50127.0,43263.0,62845.0,18929.0,24367.0,33249.0,26887.0,50150.0,62061.0,85696.0,76542.0,70515.0,18227.0,69139.0,69109.0,69627.0,38136.0,62159.0,80695.0,33316.0,58554.0,17256.0,53034.0,52203.0,59601.0,75154.0,47025.0,37971.0,41335.0,67267.0,57338.0,50523.0,35791.0,50611.0,56242.0,48904.0,56243.0,21355.0,57420.0,52247.25135379061,46390.0,54342.0,52247.25135379061,52247.25135379061,20895.0,92344.0,52247.25135379061,26907.0,44964.0,75507.0,53761.0,22682.0,38887.0,41658.0,29791.0,63915.0,39996.0,26759.0,63841.0,51039.0,60544.0,65685.0,37716.0,36864.0,44511.0,36947.0,47352.0,67087.0,57045.0,36957.0,69389.0,80134.0,43142.0,80589.0,34412.0,57537.0,22634.0,51315.0,36026.0,24639.0,34578.0,65704.0,63810.0,54132.0,18690.0,28164.0,34596.0,43269.0,38741.0,31907.0,27100.0,31163.0,92533.0,34853.0,70844.0,31086.0,60544.0,20491.0,42523.0,39922.0,33402.0,36408.0,21645.0,78427.0,82657.0,51876.0,78041.0,52852.0,70038.0,69401.0,46053.0,77343.0,73892.0,40304.0,32727.0,68695.0,43300.0,26290.0,93790.0,38410.0,64866.0,57957.0,46015.0,16531.0,28072.0,49476.0,50725.0,83844.0,41145.0,67419.0,23162.0,34380.0,34704.0,94871.0,65148.0,39898.0,64857.0,59892.0,41020.0,57072.0,60474.0,62807.0,19414.0,19107.0,75484.0,70379.0,79419.0,64014.0,76998.0,49854.0,60585.0,42873.0,87679.0,57867.0,35765.0,65492.0,32952.0,53374.0,71706.0,68487.0,53253.0,31163.0,42014.0,54108.0,49667.0,63206.0,57136.0,46772.0,78931.0,53977.0,84219.0,46098.0,73538.0,79529.0,20981.0,51766.0,55759.0,33039.0,37787.0,27242.0,87188.0,69930.0,37697.0,37401.0,3502.0,58597.0,82032.0,28087.0,74004.0,19740.0,57036.0,53083.0,69283.0,46098.0,23331.0,23331.0,9255.0,67786.0,71969.0,59235.0,31928.0,74881.0,65819.0,51411.0,51983.0,42386.0,30390.0,30983.0,66033.0,37284.0,57530.0,76800.0,63943.0,76081.0,67445.0,37054.0,47175.0,31859.0,27215.0,70179.0,39922.0,49681.0,24645.0,79865.0,44322.0,47958.0,63972.0,75315.0,55517.0,75283.0,82800.0,38998.0,90638.0,27161.0,42014.0,38201.0,45203.0,81574.0,34935.0,60482.0,34633.0,78093.0,82460.0,45903.0,81361.0,35860.0,40442.0,61482.0,34968.0,75794.0,31497.0,74268.0,13724.0,45143.0,52569.0,48432.0,17144.0,36108.0,76445.0,36663.0,53843.0,90226.0,70638.0,44512.0,27116.0,54072.0,71855.0,51250.0,60432.0,65526.0,68655.0,12393.0,64509.0,33955.0,31353.0,55434.0,28359.0,57100.0,69139.0,52973.0,51717.0,18793.0,66664.0,50664.0,54414.0,54549.0,47111.0,41003.0,19444.0,36301.0,73059.0,42731.0,52854.0,22775.0,46681.0,59821.0,50002.0,69755.0,44078.0,30560.0,35924.0,64140.0,56386.0,24594.0,75774.0,39228.0,58494.0,58684.0,57136.0,56551.0,22448.0,82014.0,34213.0,157146.0,25358.0,35544.0,36634.0,62670.0,50334.0,72066.0,50729.0,34916.0,64892.0,43602.0,33996.0,41473.0,63246.0,36732.0,69084.0,77766.0,37929.0,86610.0,80141.0,72635.0,69016.0,20193.0,27573.0,15862.0,49544.0,33228.0,70440.0,38232.0,22554.0,23536.0,49413.0,42231.0,78789.0,56534.0,58350.0,81217.0,49090.0,61787.0,18169.0,24336.0,18222.0,62335.0,42033.0,86580.0,41437.0,73705.0,61064.0,38452.0,18358.0,55012.0,9722.0,38175.0,58656.0,52117.0,64813.0,54222.0,83512.0,77520.0,41154.0,80398.0,18746.0,35196.0,60230.0,22108.0,44392.0,55424.0,17688.0,92491.0,90273.0,82571.0,38513.0,16653.0,42586.0,23529.0,74881.0,71107.0,46910.0,18690.0,37244.0,82427.0,75342.0,70044.0,79146.0,77437.0,54984.0,42403.0,55761.0,37292.0,45576.0,70321.0,58086.0,81795.0,28389.0,66835.0,69901.0,80360.0,63342.0,44989.0,31859.0,51569.0,30372.0,16014.0,41120.0,39763.0,38725.0,77981.0,62905.0,13533.0,59481.0,72117.0,21955.0,67131.0,36802.0,71853.0,28249.0,47808.0,25509.0,51012.0,70596.0,85431.0,42664.0,42586.0,29760.0,28973.0,39435.0,65370.0,20194.0,42473.0,64590.0,71232.0,34600.0,46904.0,49094.0,36075.0,60839.0,77298.0,34026.0,48918.0,82122.0,37697.0,34074.0,28520.0,62535.0,36273.0,63404.0,75774.0,78416.0,75702.0,59385.0,37070.0,44689.0,53977.0,7144.0,18701.0,90369.0,63159.0,37758.0,46757.0,79734.0,63207.0,72071.0,21840.0,58582.0,72282.0,50387.0,32583.0,62568.0,44635.0,33316.0,63967.0,52513.0,25293.0,54111.0,78394.0,80739.0,22669.0,29236.0,44911.0,54693.0,48186.0,54809.0,41580.0,80336.0,47743.0,62972.0,57333.0,32313.0,84953.0,27071.0,68148.0,65735.0,86836.0,4023.0,30093.0,57705.0,25008.0,83257.0,22280.0,72159.0,64260.0,82733.0,74290.0,58217.0,21024.0,70116.0,54006.0,69063.0,11448.0,61825.0,70886.0,69109.0,60208.0,32889.0,34738.0,30538.0,82326.0,26642.0,69932.0,44503.0,60200.0,49638.0,23830.0,33051.0,72905.0,69702.0,70300.0,70643.0,30396.0,50616.0,62772.0,30298.0,52413.0,44155.0,86979.0,76532.0,42081.0,67546.0,88420.0,31158.0,61671.0,69719.0,49160.0,24882.0,90933.0,113734.0,59292.0,45759.0,22148.0,73395.0,29819.0,45688.0,62820.0,60491.0,33235.0,35701.0,31535.0,92556.0,67384.0,80573.0,77870.0,52278.0,57107.0,18929.0,36038.0,20180.0,34230.0,31878.0,70932.0,91249.0,77598.0,80982.0,22701.0,55212.0,70617.0,64849.0,62694.0,61917.0,67472.0,21059.0,29543.0,75903.0,34984.0,54998.0,54356.0,34242.0,25410.0,73356.0,28320.0,23763.0,72570.0,34529.0,70792.0,63211.0,83891.0,36065.0,39898.0,51141.0,56939.0,80872.0,72335.0,61798.0,76842.0,29478.0,46998.0,96843.0,56551.0,70053.0,71670.0,44359.0,40887.0,48877.0,74485.0,64474.0,77226.0,72643.0,85738.0,55686.0,39062.0,34600.0,40794.0,54690.0,4428.0,32632.0,38236.0,36781.0,31385.0,24570.0,25509.0,94642.0,58646.0,53201.0,21994.0,57113.0,51373.0,23477.0,58116.0,72968.0,39791.0,91712.0,94472.0,13672.0,96547.0,79205.0,56559.0,32644.0,67506.0,24206.0,28420.0,22979.0,33279.0,46423.0,30368.0,63684.0,41638.0,68805.0,65814.0,71964.0,39146.0,96876.0,34445.0,68281.0,37284.0,36790.0,27943.0,22263.0,30261.0,28587.0,43815.0,48195.0,77027.0,71322.0,32765.0,29672.0,23272.0,49912.0,7500.0,68117.0,67225.0,17649.0,55914.0,40059.0,60905.0,75330.0,60689.0,38680.0,61416.0,49767.0,83273.0,29009.0,45057.0,37150.0,43020.0,53154.0,65308.0,76467.0,81044.0,32871.0,55801.0,76320.0,36927.0,48794.0,23478.0,71128.0,70179.0,59462.0,52247.25135379061,38361.0,52247.25135379061,70038.0,42554.0,67445.0,67046.0,42192.0,77610.0,31761.0,34350.0,54591.0,71866.0,25293.0,42000.0,69520.0,64713.0,27889.0,22123.0,52247.25135379061,52247.25135379061,27803.0,52247.25135379061,51651.0,68487.0,52247.25135379061,56796.0,87000.0,79823.0,30828.0,34109.0,53367.0,22390.0,71322.0,79244.0,49912.0,48699.0,80144.0,54252.0,81929.0,76068.0,53204.0,67911.0,14796.0,78128.0,14188.0,20425.0,58646.0,72967.0,48150.0,82332.0,58275.0,44953.0,34587.0,43018.0,45736.0,66476.0,27733.0,69805.0,72217.0,25818.0,37509.0,25176.0,43586.0,53230.0,50116.0,84906.0,61286.0,82333.0,65220.0,33590.0,30992.0,72309.0,156924.0,16005.0,65487.0,58692.0,40590.0,20587.0,62637.0,29435.0,19346.0,35788.0,36997.0,23539.0,65333.0,78499.0,29732.0,41275.0,63516.0,42769.0,49572.0,69209.0,17148.0,40590.0,30560.0,32146.0,41713.0,34176.0,58482.0,59686.0,60896.0,62994.0,47320.0,74859.0,15253.0,31560.0,72071.0,91172.0,90000.0,41967.0,69263.0,65706.0,60934.0,71965.0,65210.0,79174.0,81380.0,48432.0,52914.0,38946.0,26067.0,44325.0,42523.0,26487.0,53233.0,67716.0,76234.0,84117.0,65487.0,25224.0,89616.0,40851.0,27469.0,82347.0,73803.0,8820.0,43322.0,55593.0,50501.0,37085.0,16185.0,57731.0,48432.0,73807.0,18929.0,35893.0,61014.0,32144.0,14918.0,45146.0,41769.0,88325.0,38054.0,80617.0,5305.0,36807.0,28427.0,82032.0,22775.0,40101.0,58025.0,75777.0,7500.0,33562.0,57642.0,58554.0,63777.0,57967.0,52247.25135379061,24434.0,11012.0,44802.0,26816.0,666666.0,34421.0,61223.0,64014.0,56981.0,69245.0,52869.0],\"xaxis\":\"x\",\"y\":[1617,27,776,53,422,716,590,169,46,49,19,61,1102,310,46,1315,96,317,1782,133,316,1730,972,544,444,75,257,637,131,1672,30,318,120,302,1196,65,913,81,67,902,1395,53,22,186,31,984,122,55,124,1319,507,1693,72,1617,606,1957,1093,29,46,518,1438,612,884,606,1076,34,11,1274,653,1562,1253,109,863,661,65,13,1890,2209,18,692,165,16,79,318,778,56,151,372,1366,194,603,18,985,32,43,45,606,63,978,410,72,55,1169,1120,1097,29,187,910,145,850,969,1820,608,730,551,114,1724,577,81,33,660,80,30,43,1135,559,1923,90,404,661,463,632,725,725,279,1482,29,106,49,38,2077,1053,1385,871,312,877,68,22,211,127,459,460,429,89,1021,1381,306,18,162,1231,13,1706,121,1293,1608,88,421,259,1117,89,36,57,148,93,119,1835,1318,45,10,978,191,57,1033,66,43,50,39,608,1581,68,80,1282,65,91,315,31,834,1600,1270,263,535,1295,1150,1240,38,35,53,293,65,1804,241,1101,264,541,1198,482,17,1615,285,1135,114,1047,714,185,1245,189,576,1103,1753,17,433,1588,22,19,1117,69,23,605,57,22,2088,1009,26,1627,1102,17,1690,1390,2126,1531,64,26,1112,210,1148,33,1101,322,44,17,31,845,275,25,275,90,1495,184,981,67,1635,60,231,48,99,770,957,818,925,908,102,576,317,461,37,70,930,859,1478,390,52,137,1919,68,25,1374,32,100,825,916,62,728,90,273,66,1213,107,1157,546,241,53,37,1611,1508,235,32,102,401,28,1052,680,30,20,1307,630,1283,65,37,38,160,23,71,1161,59,33,946,1442,62,1674,1853,1538,139,1182,507,18,940,42,1190,44,16,835,1443,1029,1188,1277,49,99,1670,900,425,2153,636,57,25,494,693,1348,51,1932,990,30,254,29,1371,73,120,81,37,1377,51,17,22,324,211,19,41,492,1005,114,1173,1738,222,1127,209,787,1598,186,47,27,96,64,1040,163,343,446,41,70,272,46,490,79,915,1485,369,1073,1242,78,1378,1474,751,48,45,10,1435,2119,20,1795,1188,43,1008,1688,684,1082,1068,57,46,733,467,122,36,34,156,14,37,34,20,192,1379,48,428,868,1001,59,431,971,348,2059,265,270,1289,893,926,135,1495,120,1288,1743,15,542,890,1388,17,906,44,25,973,31,518,530,506,70,54,296,266,747,895,1053,735,20,205,2092,309,1722,900,682,663,43,1816,976,746,64,32,263,1445,46,1210,945,1157,137,730,216,943,347,1924,397,2089,138,42,777,1902,52,1651,358,1727,210,42,1291,442,1895,411,521,1168,493,260,46,319,96,1062,232,76,54,201,406,1919,662,41,1600,134,69,21,54,91,526,162,1008,240,795,1772,64,1957,78,1572,795,889,331,265,1065,11,21,17,369,38,177,279,62,1230,182,49,75,227,215,444,47,143,55,63,1867,611,473,55,81,2086,1478,49,382,69,67,30,63,79,42,819,1151,594,129,213,67,28,45,1193,268,266,37,37,882,373,35,107,42,326,404,95,939,33,981,36,1237,1825,103,191,1586,963,889,93,1587,16,1375,393,1477,1179,1005,1348,1307,486,2252,235,1724,235,1092,599,2008,48,1174,67,365,6,165,210,1095,223,597,22,1064,74,26,60,20,59,34,198,1048,574,1029,670,990,11,1241,576,172,664,928,2074,467,257,1146,689,2114,1717,1346,1044,493,957,270,29,121,126,23,57,636,1004,734,614,1453,1621,187,1443,57,637,948,59,18,903,112,596,233,1511,1152,48,1185,21,965,869,16,1947,71,65,1380,1027,411,836,11,480,606,284,1472,1677,1335,334,18,1338,1099,97,63,109,902,1574,38,960,28,1215,1497,449,1064,1757,1440,1006,1226,1171,92,99,66,564,1427,86,833,242,1869,1364,183,450,758,1507,654,81,137,16,93,1158,43,1525,1230,29,25,24,38,57,47,813,629,377,1612,729,50,270,177,315,767,1071,1580,60,573,41,170,1167,1526,458,63,405,1027,1478,72,48,726,860,1497,495,20,570,769,55,1808,55,577,162,1957,1576,1616,36,1482,22,63,680,542,50,39,1043,385,1633,46,761,76,290,89,70,1066,2009,1345,764,195,53,368,544,1853,35,446,1180,41,727,40,1062,40,292,15,341,369,401,393,10,486,69,1727,995,45,182,989,1677,595,156,1226,128,86,68,16,55,2114,2018,263,55,564,1281,83,353,1003,14,902,1139,797,1638,401,84,928,203,858,409,282,1423,1449,28,67,199,1453,1253,1198,178,1990,976,1001,1919,350,1650,46,1228,95,62,1761,467,1149,2052,1127,1416,1113,125,966,32,833,46,960,1829,779,811,1120,725,1187,2302,66,1250,683,305,50,995,41,77,171,131,54,53,475,694,96,361,1079,578,64,149,231,728,1778,93,23,662,1198,81,92,491,1564,926,1910,411,94,1085,23,6,54,1150,1415,405,1908,2486,1315,45,1789,19,573,805,108,23,1493,89,936,343,528,1901,724,58,297,488,859,1574,69,17,2194,116,279,103,44,406,1363,236,39,137,79,63,1314,71,58,702,94,80,22,1211,1461,1968,1091,55,1366,313,62,92,72,655,704,54,178,1033,36,122,122,1123,497,691,1363,12,2440,56,37,968,270,278,1250,938,1178,1155,653,49,506,38,1650,1826,18,906,46,1477,766,47,467,2116,1298,22,396,20,967,357,1401,15,2087,981,17,523,23,1192,1958,133,777,73,121,424,868,756,12,937,1862,367,443,267,61,1323,63,64,562,312,1156,1104,16,2008,44,1574,63,426,96,635,757,125,332,135,330,384,1722,78,24,1168,957,15,57,1956,2013,326,77,1313,30,315,660,74,46,86,1103,61,145,684,411,27,1060,1459,18,1833,237,48,515,1020,1370,1026,301,684,499,1004,218,606,75,106,990,1097,16,34,1711,438,75,225,18,470,91,2525,504,235,1232,88,17,24,60,1020,155,51,1812,1461,96,160,139,908,183,1161,988,1072,174,758,195,31,1084,685,1672,43,49,133,363,545,1065,2047,296,140,530,152,1598,114,101,25,789,87,90,1215,811,61,405,72,189,40,63,52,39,805,130,1631,34,152,21,71,899,711,351,8,119,21,10,973,1536,992,1529,860,928,418,587,641,23,2279,49,1779,1804,48,83,1862,793,84,183,1383,999,825,246,610,76,1286,30,99,1192,362,2130,1229,38,485,434,44,496,78,2346,794,17,26,76,15,62,198,49,802,1736,57,59,2302,37,310,1305,832,401,1501,1189,1194,656,1540,311,820,274,57,448,44,102,61,1643,397,1121,473,50,1678,58,170,373,1196,101,316,1400,1424,844,311,1149,129,32,299,320,441,1178,85,24,112,30,410,800,1313,1483,1258,28,227,1555,861,103,634,1918,131,586,62,447,939,797,1143,415,30,187,251,237,91,35,493,971,371,396,68,322,317,222,177,45,21,45,1899,42,22,41,1440,325,95,42,72,20,789,15,59,908,417,289,769,188,354,727,146,319,794,454,152,797,1690,20,1428,209,545,96,222,61,44,8,817,1371,42,60,78,23,19,61,449,37,38,1131,34,294,48,289,30,125,156,70,22,65,1930,2283,310,1319,879,1244,690,209,1134,1507,57,529,1091,180,77,2349,534,556,637,46,44,47,795,586,1574,13,1471,65,175,40,1078,1115,134,1540,87,217,1034,1180,819,32,46,1159,860,1631,444,1910,380,736,269,2524,612,75,1045,55,1064,1443,1366,436,38,436,747,1396,928,642,1048,943,907,1198,120,1658,1638,73,275,854,78,106,106,1923,1662,84,48,5,733,1234,112,1658,55,1513,271,904,120,103,269,22,1156,1086,1128,72,964,1383,18,793,100,80,167,677,23,92,641,1106,1033,1174,25,240,20,102,1034,156,458,17,792,92,407,1269,841,633,1019,1315,54,2525,52,436,268,147,1798,137,507,15,1105,974,66,778,49,169,299,221,1682,155,892,58,311,95,424,47,339,1410,35,562,2352,1334,32,41,39,1141,710,401,506,1538,57,1722,270,31,882,16,311,227,1152,122,77,1289,561,211,233,1092,601,54,78,1095,244,116,15,425,734,638,894,41,31,34,1750,612,29,823,20,396,813,1179,138,55,1511,117,1730,32,67,335,825,694,1792,496,231,902,68,71,76,772,47,1586,1529,265,1603,2091,981,1533,82,244,36,404,71,1572,122,41,10,304,37,1754,815,1001,1157,688,1319,21,31,67,708,25,746,32,1695,1080,72,57,660,103,153,1220,279,745,264,2157,1526,69,1597,64,497,1067,31,211,877,11,2034,1991,1686,324,69,252,54,964,1327,68,60,55,1456,563,1504,564,1125,358,42,184,460,145,1376,792,1382,28,1033,882,2231,1101,369,48,467,44,38,81,167,45,664,622,48,461,1073,55,976,20,1149,43,224,101,209,968,1165,24,252,165,269,102,461,47,144,1338,917,318,253,502,119,1250,969,76,62,1382,84,255,43,398,76,902,823,1179,1921,185,433,34,907,416,44,1588,1797,40,1143,914,1502,1338,27,763,1331,525,9,953,68,131,882,1149,37,388,1428,1633,173,99,215,929,219,174,92,1052,275,587,1662,159,1024,35,1042,395,557,9,69,486,34,1365,13,1401,1574,1323,1217,103,84,1536,581,928,14,424,960,1555,656,55,20,367,2257,42,1049,48,685,39,43,835,1515,1039,1596,1828,34,149,946,28,450,46,1702,820,382,2126,2069,72,732,801,236,80,1685,277,507,68,49,397,39,306,976,1028,70,46,51,1263,1490,1564,1815,1198,416,85,47,137,21,70,909,1676,1735,1191,24,1182,1280,1336,749,91,414,44,63,901,38,455,775,15,38,1512,43,42,1089,162,1272,1173,816,74,134,157,561,1336,2092,463,1130,20,377,1544,138,1012,1766,45,161,144,1734,823,1138,1429,1371,982,44,318,434,198,359,576,88,63,27,193,101,2211,140,415,22,263,393,147,443,1958,174,2217,1691,25,809,895,484,413,331,25,13,115,16,92,52,1464,441,283,747,1870,165,1941,839,1655,23,66,37,21,22,78,79,265,1175,1305,46,25,46,874,100,930,868,45,1260,414,392,1109,639,79,1665,692,1392,44,50,467,223,158,1211,1575,1208,43,527,932,71,54,129,1615,1034,1088,721,137,47,1244,41,1174,993,100,1680,98,48,519,715,37,653,1455,602,26,102,97,207,176,450,433,1366,1564,1001,961,1518,56,22,400,26,350,1216,874,40,1367,264,2053,1376,45,976,51,1264,75,57,140,497,266,2006,615,1021,22,133,437,1013,57,1038,1573,28,123,13,132,732,66,1631,608,1822,1282,8,43,1931,8,103,1169,395,258,25,185,180,22,44,94,81,798,1334,38,61,300,88,54,1782,68,258,31,66,174,28,731,274,1701,312,414,1565,29,94,1338,1092,1479,54,568,1199,873,1213,731,2043,1893,424,575,257,56,542,125,69,40,1016,907,1566,1169,46,1644,59,17,1853,1528,35,141,546,500,61,106,704,424,849,85,199,1147,54,43,53,521,1623,45,1435,32,16,52,1234,15,415,470,1438,53,51,679,586,653,468,1679,50,84,1049,22,62,30,1341,444,1241,843,172],\"yaxis\":\"y\",\"type\":\"scattergl\"}],                        {\"template\":{\"data\":{\"bar\":[{\"error_x\":{\"color\":\"#2a3f5f\"},\"error_y\":{\"color\":\"#2a3f5f\"},\"marker\":{\"line\":{\"color\":\"#E5ECF6\",\"width\":0.5},\"pattern\":{\"fillmode\":\"overlay\",\"size\":10,\"solidity\":0.2}},\"type\":\"bar\"}],\"barpolar\":[{\"marker\":{\"line\":{\"color\":\"#E5ECF6\",\"width\":0.5},\"pattern\":{\"fillmode\":\"overlay\",\"size\":10,\"solidity\":0.2}},\"type\":\"barpolar\"}],\"carpet\":[{\"aaxis\":{\"endlinecolor\":\"#2a3f5f\",\"gridcolor\":\"white\",\"linecolor\":\"white\",\"minorgridcolor\":\"white\",\"startlinecolor\":\"#2a3f5f\"},\"baxis\":{\"endlinecolor\":\"#2a3f5f\",\"gridcolor\":\"white\",\"linecolor\":\"white\",\"minorgridcolor\":\"white\",\"startlinecolor\":\"#2a3f5f\"},\"type\":\"carpet\"}],\"choropleth\":[{\"colorbar\":{\"outlinewidth\":0,\"ticks\":\"\"},\"type\":\"choropleth\"}],\"contour\":[{\"colorbar\":{\"outlinewidth\":0,\"ticks\":\"\"},\"colorscale\":[[0.0,\"#0d0887\"],[0.1111111111111111,\"#46039f\"],[0.2222222222222222,\"#7201a8\"],[0.3333333333333333,\"#9c179e\"],[0.4444444444444444,\"#bd3786\"],[0.5555555555555556,\"#d8576b\"],[0.6666666666666666,\"#ed7953\"],[0.7777777777777778,\"#fb9f3a\"],[0.8888888888888888,\"#fdca26\"],[1.0,\"#f0f921\"]],\"type\":\"contour\"}],\"contourcarpet\":[{\"colorbar\":{\"outlinewidth\":0,\"ticks\":\"\"},\"type\":\"contourcarpet\"}],\"heatmap\":[{\"colorbar\":{\"outlinewidth\":0,\"ticks\":\"\"},\"colorscale\":[[0.0,\"#0d0887\"],[0.1111111111111111,\"#46039f\"],[0.2222222222222222,\"#7201a8\"],[0.3333333333333333,\"#9c179e\"],[0.4444444444444444,\"#bd3786\"],[0.5555555555555556,\"#d8576b\"],[0.6666666666666666,\"#ed7953\"],[0.7777777777777778,\"#fb9f3a\"],[0.8888888888888888,\"#fdca26\"],[1.0,\"#f0f921\"]],\"type\":\"heatmap\"}],\"heatmapgl\":[{\"colorbar\":{\"outlinewidth\":0,\"ticks\":\"\"},\"colorscale\":[[0.0,\"#0d0887\"],[0.1111111111111111,\"#46039f\"],[0.2222222222222222,\"#7201a8\"],[0.3333333333333333,\"#9c179e\"],[0.4444444444444444,\"#bd3786\"],[0.5555555555555556,\"#d8576b\"],[0.6666666666666666,\"#ed7953\"],[0.7777777777777778,\"#fb9f3a\"],[0.8888888888888888,\"#fdca26\"],[1.0,\"#f0f921\"]],\"type\":\"heatmapgl\"}],\"histogram\":[{\"marker\":{\"pattern\":{\"fillmode\":\"overlay\",\"size\":10,\"solidity\":0.2}},\"type\":\"histogram\"}],\"histogram2d\":[{\"colorbar\":{\"outlinewidth\":0,\"ticks\":\"\"},\"colorscale\":[[0.0,\"#0d0887\"],[0.1111111111111111,\"#46039f\"],[0.2222222222222222,\"#7201a8\"],[0.3333333333333333,\"#9c179e\"],[0.4444444444444444,\"#bd3786\"],[0.5555555555555556,\"#d8576b\"],[0.6666666666666666,\"#ed7953\"],[0.7777777777777778,\"#fb9f3a\"],[0.8888888888888888,\"#fdca26\"],[1.0,\"#f0f921\"]],\"type\":\"histogram2d\"}],\"histogram2dcontour\":[{\"colorbar\":{\"outlinewidth\":0,\"ticks\":\"\"},\"colorscale\":[[0.0,\"#0d0887\"],[0.1111111111111111,\"#46039f\"],[0.2222222222222222,\"#7201a8\"],[0.3333333333333333,\"#9c179e\"],[0.4444444444444444,\"#bd3786\"],[0.5555555555555556,\"#d8576b\"],[0.6666666666666666,\"#ed7953\"],[0.7777777777777778,\"#fb9f3a\"],[0.8888888888888888,\"#fdca26\"],[1.0,\"#f0f921\"]],\"type\":\"histogram2dcontour\"}],\"mesh3d\":[{\"colorbar\":{\"outlinewidth\":0,\"ticks\":\"\"},\"type\":\"mesh3d\"}],\"parcoords\":[{\"line\":{\"colorbar\":{\"outlinewidth\":0,\"ticks\":\"\"}},\"type\":\"parcoords\"}],\"pie\":[{\"automargin\":true,\"type\":\"pie\"}],\"scatter\":[{\"marker\":{\"colorbar\":{\"outlinewidth\":0,\"ticks\":\"\"}},\"type\":\"scatter\"}],\"scatter3d\":[{\"line\":{\"colorbar\":{\"outlinewidth\":0,\"ticks\":\"\"}},\"marker\":{\"colorbar\":{\"outlinewidth\":0,\"ticks\":\"\"}},\"type\":\"scatter3d\"}],\"scattercarpet\":[{\"marker\":{\"colorbar\":{\"outlinewidth\":0,\"ticks\":\"\"}},\"type\":\"scattercarpet\"}],\"scattergeo\":[{\"marker\":{\"colorbar\":{\"outlinewidth\":0,\"ticks\":\"\"}},\"type\":\"scattergeo\"}],\"scattergl\":[{\"marker\":{\"colorbar\":{\"outlinewidth\":0,\"ticks\":\"\"}},\"type\":\"scattergl\"}],\"scattermapbox\":[{\"marker\":{\"colorbar\":{\"outlinewidth\":0,\"ticks\":\"\"}},\"type\":\"scattermapbox\"}],\"scatterpolar\":[{\"marker\":{\"colorbar\":{\"outlinewidth\":0,\"ticks\":\"\"}},\"type\":\"scatterpolar\"}],\"scatterpolargl\":[{\"marker\":{\"colorbar\":{\"outlinewidth\":0,\"ticks\":\"\"}},\"type\":\"scatterpolargl\"}],\"scatterternary\":[{\"marker\":{\"colorbar\":{\"outlinewidth\":0,\"ticks\":\"\"}},\"type\":\"scatterternary\"}],\"surface\":[{\"colorbar\":{\"outlinewidth\":0,\"ticks\":\"\"},\"colorscale\":[[0.0,\"#0d0887\"],[0.1111111111111111,\"#46039f\"],[0.2222222222222222,\"#7201a8\"],[0.3333333333333333,\"#9c179e\"],[0.4444444444444444,\"#bd3786\"],[0.5555555555555556,\"#d8576b\"],[0.6666666666666666,\"#ed7953\"],[0.7777777777777778,\"#fb9f3a\"],[0.8888888888888888,\"#fdca26\"],[1.0,\"#f0f921\"]],\"type\":\"surface\"}],\"table\":[{\"cells\":{\"fill\":{\"color\":\"#EBF0F8\"},\"line\":{\"color\":\"white\"}},\"header\":{\"fill\":{\"color\":\"#C8D4E3\"},\"line\":{\"color\":\"white\"}},\"type\":\"table\"}]},\"layout\":{\"annotationdefaults\":{\"arrowcolor\":\"#2a3f5f\",\"arrowhead\":0,\"arrowwidth\":1},\"autotypenumbers\":\"strict\",\"coloraxis\":{\"colorbar\":{\"outlinewidth\":0,\"ticks\":\"\"}},\"colorscale\":{\"diverging\":[[0,\"#8e0152\"],[0.1,\"#c51b7d\"],[0.2,\"#de77ae\"],[0.3,\"#f1b6da\"],[0.4,\"#fde0ef\"],[0.5,\"#f7f7f7\"],[0.6,\"#e6f5d0\"],[0.7,\"#b8e186\"],[0.8,\"#7fbc41\"],[0.9,\"#4d9221\"],[1,\"#276419\"]],\"sequential\":[[0.0,\"#0d0887\"],[0.1111111111111111,\"#46039f\"],[0.2222222222222222,\"#7201a8\"],[0.3333333333333333,\"#9c179e\"],[0.4444444444444444,\"#bd3786\"],[0.5555555555555556,\"#d8576b\"],[0.6666666666666666,\"#ed7953\"],[0.7777777777777778,\"#fb9f3a\"],[0.8888888888888888,\"#fdca26\"],[1.0,\"#f0f921\"]],\"sequentialminus\":[[0.0,\"#0d0887\"],[0.1111111111111111,\"#46039f\"],[0.2222222222222222,\"#7201a8\"],[0.3333333333333333,\"#9c179e\"],[0.4444444444444444,\"#bd3786\"],[0.5555555555555556,\"#d8576b\"],[0.6666666666666666,\"#ed7953\"],[0.7777777777777778,\"#fb9f3a\"],[0.8888888888888888,\"#fdca26\"],[1.0,\"#f0f921\"]]},\"colorway\":[\"#636efa\",\"#EF553B\",\"#00cc96\",\"#ab63fa\",\"#FFA15A\",\"#19d3f3\",\"#FF6692\",\"#B6E880\",\"#FF97FF\",\"#FECB52\"],\"font\":{\"color\":\"#2a3f5f\"},\"geo\":{\"bgcolor\":\"white\",\"lakecolor\":\"white\",\"landcolor\":\"#E5ECF6\",\"showlakes\":true,\"showland\":true,\"subunitcolor\":\"white\"},\"hoverlabel\":{\"align\":\"left\"},\"hovermode\":\"closest\",\"mapbox\":{\"style\":\"light\"},\"paper_bgcolor\":\"white\",\"plot_bgcolor\":\"#E5ECF6\",\"polar\":{\"angularaxis\":{\"gridcolor\":\"white\",\"linecolor\":\"white\",\"ticks\":\"\"},\"bgcolor\":\"#E5ECF6\",\"radialaxis\":{\"gridcolor\":\"white\",\"linecolor\":\"white\",\"ticks\":\"\"}},\"scene\":{\"xaxis\":{\"backgroundcolor\":\"#E5ECF6\",\"gridcolor\":\"white\",\"gridwidth\":2,\"linecolor\":\"white\",\"showbackground\":true,\"ticks\":\"\",\"zerolinecolor\":\"white\"},\"yaxis\":{\"backgroundcolor\":\"#E5ECF6\",\"gridcolor\":\"white\",\"gridwidth\":2,\"linecolor\":\"white\",\"showbackground\":true,\"ticks\":\"\",\"zerolinecolor\":\"white\"},\"zaxis\":{\"backgroundcolor\":\"#E5ECF6\",\"gridcolor\":\"white\",\"gridwidth\":2,\"linecolor\":\"white\",\"showbackground\":true,\"ticks\":\"\",\"zerolinecolor\":\"white\"}},\"shapedefaults\":{\"line\":{\"color\":\"#2a3f5f\"}},\"ternary\":{\"aaxis\":{\"gridcolor\":\"white\",\"linecolor\":\"white\",\"ticks\":\"\"},\"baxis\":{\"gridcolor\":\"white\",\"linecolor\":\"white\",\"ticks\":\"\"},\"bgcolor\":\"#E5ECF6\",\"caxis\":{\"gridcolor\":\"white\",\"linecolor\":\"white\",\"ticks\":\"\"}},\"title\":{\"x\":0.05},\"xaxis\":{\"automargin\":true,\"gridcolor\":\"white\",\"linecolor\":\"white\",\"ticks\":\"\",\"title\":{\"standoff\":15},\"zerolinecolor\":\"white\",\"zerolinewidth\":2},\"yaxis\":{\"automargin\":true,\"gridcolor\":\"white\",\"linecolor\":\"white\",\"ticks\":\"\",\"title\":{\"standoff\":15},\"zerolinecolor\":\"white\",\"zerolinewidth\":2}}},\"xaxis\":{\"anchor\":\"y\",\"domain\":[0.0,1.0],\"title\":{\"text\":\"Income\"}},\"yaxis\":{\"anchor\":\"x\",\"domain\":[0.0,1.0],\"title\":{\"text\":\"Total_Amount_spent\"}},\"coloraxis\":{\"colorbar\":{\"title\":{\"text\":\"ClusterLabel\"}},\"colorscale\":[[0.0,\"#0d0887\"],[0.1111111111111111,\"#46039f\"],[0.2222222222222222,\"#7201a8\"],[0.3333333333333333,\"#9c179e\"],[0.4444444444444444,\"#bd3786\"],[0.5555555555555556,\"#d8576b\"],[0.6666666666666666,\"#ed7953\"],[0.7777777777777778,\"#fb9f3a\"],[0.8888888888888888,\"#fdca26\"],[1.0,\"#f0f921\"]]},\"legend\":{\"tracegroupgap\":0},\"title\":{\"text\":\"Relationship between Income VS Total Amount Spent\"},\"height\":500},                        {\"responsive\": true}                    ).then(function(){\n",
              "                            \n",
              "var gd = document.getElementById('58a03130-3d79-44f8-ad37-ab46dc51d2f6');\n",
              "var x = new MutationObserver(function (mutations, observer) {{\n",
              "        var display = window.getComputedStyle(gd).display;\n",
              "        if (!display || display === 'none') {{\n",
              "            console.log([gd, 'removed!']);\n",
              "            Plotly.purge(gd);\n",
              "            observer.disconnect();\n",
              "        }}\n",
              "}});\n",
              "\n",
              "// Listen for the removal of the full notebook cells\n",
              "var notebookContainer = gd.closest('#notebook-container');\n",
              "if (notebookContainer) {{\n",
              "    x.observe(notebookContainer, {childList: true});\n",
              "}}\n",
              "\n",
              "// Listen for the clearing of the current output cell\n",
              "var outputEl = gd.closest('.output');\n",
              "if (outputEl) {{\n",
              "    x.observe(outputEl, {childList: true});\n",
              "}}\n",
              "\n",
              "                        })                };                            </script>        </div>\n",
              "</body>\n",
              "</html>"
            ]
          },
          "metadata": {}
        }
      ]
    },
    {
      "cell_type": "markdown",
      "source": [
        "**Interpreting the cluster Label.**\n",
        "\n",
        "---\n",
        "\n",
        "\n",
        "\n",
        "\n",
        "`Cluster 0: Customers with low Income and Low spending.`\n",
        " \n",
        "\n",
        "\n",
        "`Cluster 1: Customer with moderate Income and Moderate spending.`\n",
        "\n",
        "\n",
        "`Cluster 3: Custoemers who earn much and spend much`."
      ],
      "metadata": {
        "id": "dk3_GEZatvhQ"
      }
    },
    {
      "cell_type": "markdown",
      "source": [
        "\n",
        "***Building The Kmeans Model with Three Features***"
      ],
      "metadata": {
        "id": "UJtH11tLuAxQ"
      }
    },
    {
      "cell_type": "code",
      "source": [
        "data1 = df2[[\"Age\", \"Income\", \"Total_Amount_spent\"]]"
      ],
      "metadata": {
        "id": "QOmalQgCt98p"
      },
      "execution_count": 111,
      "outputs": []
    },
    {
      "cell_type": "code",
      "source": [
        "df_log1 = np.log(data1)\n",
        "std_scaler = StandardScaler()\n",
        "df_scaled1 = std_scaler.fit_transform(df_log1)"
      ],
      "metadata": {
        "id": "DGr3ZmAouNLx"
      },
      "execution_count": 112,
      "outputs": []
    },
    {
      "cell_type": "code",
      "source": [
        "sse = {}\n",
        "for k in range(1, 11):\n",
        "    model = KMeans(n_clusters=k, random_state=42)\n",
        "    model.fit(df_scaled)\n",
        "    sse[k] = model.inertia_"
      ],
      "metadata": {
        "id": "u18E70ycuSly"
      },
      "execution_count": 113,
      "outputs": []
    },
    {
      "cell_type": "code",
      "source": [
        "plt.title('The Elbow Method')\n",
        "plt.xlabel('k'); plt.ylabel('SSE')\n",
        "sns.pointplot(x=list(sse.keys()), y=list(sse.values()))\n",
        "plt.show()"
      ],
      "metadata": {
        "id": "eGzCeDytud0B",
        "outputId": "e696f237-4dc9-494a-eab1-8460ad04b2aa",
        "colab": {
          "base_uri": "https://localhost:8080/",
          "height": 295
        }
      },
      "execution_count": 114,
      "outputs": [
        {
          "output_type": "display_data",
          "data": {
            "text/plain": [
              "<Figure size 432x288 with 1 Axes>"
            ],
            "image/png": "[encoded data removed]"
          },
          "metadata": {
            "needs_background": "light"
          }
        }
      ]
    },
    {
      "cell_type": "markdown",
      "source": [
        "Here Also the graph bends totaly on 3 . So, we should take 3 no. of clusters"
      ],
      "metadata": {
        "id": "gu8gdE-LugGD"
      }
    },
    {
      "cell_type": "code",
      "source": [
        "model1 = KMeans(n_clusters=3, random_state=42)\n",
        "model1.fit(df_scaled1)\n",
        "\n",
        "\n",
        "data2 = data1.assign(ClusterLabel= model1.labels_)"
      ],
      "metadata": {
        "id": "jcesnNUZur8J"
      },
      "execution_count": 120,
      "outputs": []
    },
    {
      "cell_type": "code",
      "source": [
        "result = data2.groupby(\"ClusterLabel\").agg({\"Age\":\"mean\", \"Income\":\"median\", \"Total_Amount_spent\":\"median\"}).round()"
      ],
      "metadata": {
        "id": "n0RoOhpZu8Hh"
      },
      "execution_count": 121,
      "outputs": []
    },
    {
      "cell_type": "code",
      "source": [
        "result"
      ],
      "metadata": {
        "id": "22baUUf4u-00",
        "outputId": "02815cf5-7d0f-4cca-bfc6-32bf7b90289c",
        "colab": {
          "base_uri": "https://localhost:8080/",
          "height": 174
        }
      },
      "execution_count": 122,
      "outputs": [
        {
          "output_type": "execute_result",
          "data": {
            "text/plain": [
              "               Age   Income  Total_Amount_spent\n",
              "ClusterLabel                                   \n",
              "0             66.0  62814.0               822.0\n",
              "1             50.0  31801.0                54.0\n",
              "2             45.0  67402.0              1001.0"
            ],
            "text/html": [
              "\n",
              "  <div id=\"df-f9019782-978e-484f-9783-86d3e6e07b58\">\n",
              "    <div class=\"colab-df-container\">\n",
              "      <div>\n",
              "<style scoped>\n",
              "    .dataframe tbody tr th:only-of-type {\n",
              "        vertical-align: middle;\n",
              "    }\n",
              "\n",
              "    .dataframe tbody tr th {\n",
              "        vertical-align: top;\n",
              "    }\n",
              "\n",
              "    .dataframe thead th {\n",
              "        text-align: right;\n",
              "    }\n",
              "</style>\n",
              "<table border=\"1\" class=\"dataframe\">\n",
              "  <thead>\n",
              "    <tr style=\"text-align: right;\">\n",
              "      <th></th>\n",
              "      <th>Age</th>\n",
              "      <th>Income</th>\n",
              "      <th>Total_Amount_spent</th>\n",
              "    </tr>\n",
              "    <tr>\n",
              "      <th>ClusterLabel</th>\n",
              "      <th></th>\n",
              "      <th></th>\n",
              "      <th></th>\n",
              "    </tr>\n",
              "  </thead>\n",
              "  <tbody>\n",
              "    <tr>\n",
              "      <th>0</th>\n",
              "      <td>66.0</td>\n",
              "      <td>62814.0</td>\n",
              "      <td>822.0</td>\n",
              "    </tr>\n",
              "    <tr>\n",
              "      <th>1</th>\n",
              "      <td>50.0</td>\n",
              "      <td>31801.0</td>\n",
              "      <td>54.0</td>\n",
              "    </tr>\n",
              "    <tr>\n",
              "      <th>2</th>\n",
              "      <td>45.0</td>\n",
              "      <td>67402.0</td>\n",
              "      <td>1001.0</td>\n",
              "    </tr>\n",
              "  </tbody>\n",
              "</table>\n",
              "</div>\n",
              "      <button class=\"colab-df-convert\" onclick=\"convertToInteractive('df-f9019782-978e-484f-9783-86d3e6e07b58')\"\n",
              "              title=\"Convert this dataframe to an interactive table.\"\n",
              "              style=\"display:none;\">\n",
              "        \n",
              "  <svg xmlns=\"http://www.w3.org/2000/svg\" height=\"24px\"viewBox=\"0 0 24 24\"\n",
              "       width=\"24px\">\n",
              "    <path d=\"M0 0h24v24H0V0z\" fill=\"none\"/>\n",
              "    <path d=\"M18.56 5.44l.94 2.06.94-2.06 2.06-.94-2.06-.94-.94-2.06-.94 2.06-2.06.94zm-11 1L8.5 8.5l.94-2.06 2.06-.94-2.06-.94L8.5 2.5l-.94 2.06-2.06.94zm10 10l.94 2.06.94-2.06 2.06-.94-2.06-.94-.94-2.06-.94 2.06-2.06.94z\"/><path d=\"M17.41 7.96l-1.37-1.37c-.4-.4-.92-.59-1.43-.59-.52 0-1.04.2-1.43.59L10.3 9.45l-7.72 7.72c-.78.78-.78 2.05 0 2.83L4 21.41c.39.39.9.59 1.41.59.51 0 1.02-.2 1.41-.59l7.78-7.78 2.81-2.81c.8-.78.8-2.07 0-2.86zM5.41 20L4 18.59l7.72-7.72 1.47 1.35L5.41 20z\"/>\n",
              "  </svg>\n",
              "      </button>\n",
              "      \n",
              "  <style>\n",
              "    .colab-df-container {\n",
              "      display:flex;\n",
              "      flex-wrap:wrap;\n",
              "      gap: 12px;\n",
              "    }\n",
              "\n",
              "    .colab-df-convert {\n",
              "      background-color: #E8F0FE;\n",
              "      border: none;\n",
              "      border-radius: 50%;\n",
              "      cursor: pointer;\n",
              "      display: none;\n",
              "      fill: #1967D2;\n",
              "      height: 32px;\n",
              "      padding: 0 0 0 0;\n",
              "      width: 32px;\n",
              "    }\n",
              "\n",
              "    .colab-df-convert:hover {\n",
              "      background-color: #E2EBFA;\n",
              "      box-shadow: 0px 1px 2px rgba(60, 64, 67, 0.3), 0px 1px 3px 1px rgba(60, 64, 67, 0.15);\n",
              "      fill: #174EA6;\n",
              "    }\n",
              "\n",
              "    [theme=dark] .colab-df-convert {\n",
              "      background-color: #3B4455;\n",
              "      fill: #D2E3FC;\n",
              "    }\n",
              "\n",
              "    [theme=dark] .colab-df-convert:hover {\n",
              "      background-color: #434B5C;\n",
              "      box-shadow: 0px 1px 3px 1px rgba(0, 0, 0, 0.15);\n",
              "      filter: drop-shadow(0px 1px 2px rgba(0, 0, 0, 0.3));\n",
              "      fill: #FFFFFF;\n",
              "    }\n",
              "  </style>\n",
              "\n",
              "      <script>\n",
              "        const buttonEl =\n",
              "          document.querySelector('#df-f9019782-978e-484f-9783-86d3e6e07b58 button.colab-df-convert');\n",
              "        buttonEl.style.display =\n",
              "          google.colab.kernel.accessAllowed ? 'block' : 'none';\n",
              "\n",
              "        async function convertToInteractive(key) {\n",
              "          const element = document.querySelector('#df-f9019782-978e-484f-9783-86d3e6e07b58');\n",
              "          const dataTable =\n",
              "            await google.colab.kernel.invokeFunction('convertToInteractive',\n",
              "                                                     [key], {});\n",
              "          if (!dataTable) return;\n",
              "\n",
              "          const docLinkHtml = 'Like what you see? Visit the ' +\n",
              "            '<a target=\"_blank\" href=https://colab.research.google.com/notebooks/data_table.ipynb>data table notebook</a>'\n",
              "            + ' to learn more about interactive tables.';\n",
              "          element.innerHTML = '';\n",
              "          dataTable['output_type'] = 'display_data';\n",
              "          await google.colab.output.renderOutput(dataTable, element);\n",
              "          const docLink = document.createElement('div');\n",
              "          docLink.innerHTML = docLinkHtml;\n",
              "          element.appendChild(docLink);\n",
              "        }\n",
              "      </script>\n",
              "    </div>\n",
              "  </div>\n",
              "  "
            ]
          },
          "metadata": {},
          "execution_count": 122
        }
      ]
    },
    {
      "cell_type": "markdown",
      "source": [
        "***Interpreting the cluster label***\n",
        "\n",
        "\n",
        "`Cluster 0: Middle Age High Rollers (High Income and High Spending)`\n",
        " \n",
        "\n",
        "\n",
        "`Cluster 1: Middle Age Average Joes (Low Income Low Spend).`\n",
        " \n",
        "\n",
        "\n",
        "`Cluster 2: Old Age High Rollers (High Income and High Spending).`\n",
        "\n",
        "\n",
        "`Cluster 3: Old Age Average Joes (Low Income Low Spend).`"
      ],
      "metadata": {
        "id": "OwMaYrklvZ4g"
      }
    },
    {
      "cell_type": "markdown",
      "source": [
        "# **Visualizing The Result**"
      ],
      "metadata": {
        "id": "AIM0V67uvtyE"
      }
    },
    {
      "cell_type": "code",
      "source": [
        "fig = px.scatter_3d(data_frame=data2, x=\"Income\", \n",
        "                    y=\"Total_Amount_spent\", z=\"Age\", color=\"ClusterLabel\", height=550,\n",
        "                   title = \"Visualizing Cluster Result Using 3 Features\")\n",
        "fig.show()"
      ],
      "metadata": {
        "id": "ZPT_B-8Kvv2g",
        "outputId": "eb7ac237-22ea-4054-bf31-e3dc748398f9",
        "colab": {
          "base_uri": "https://localhost:8080/",
          "height": 567
        }
      },
      "execution_count": 123,
      "outputs": [
        {
          "output_type": "display_data",
          "data": {
            "text/html": [
              "<html>\n",
              "<head><meta charset=\"utf-8\" /></head>\n",
              "<body>\n",
              "    <div>            <script src=\"https://cdnjs.cloudflare.com/ajax/libs/mathjax/2.7.5/MathJax.js?config=TeX-AMS-MML_SVG\"></script><script type=\"text/javascript\">if (window.MathJax) {MathJax.Hub.Config({SVG: {font: \"STIX-Web\"}});}</script>                <script type=\"text/javascript\">window.PlotlyConfig = {MathJaxConfig: 'local'};</script>\n",
              "        <script src=\"https://cdn.plot.ly/plotly-2.8.3.min.js\"></script>                <div id=\"24ad45c0-e161-4af7-8864-e2ae63d0a938\" class=\"plotly-graph-div\" style=\"height:550px; width:100%;\"></div>            <script type=\"text/javascript\">                                    window.PLOTLYENV=window.PLOTLYENV || {};                                    if (document.getElementById(\"24ad45c0-e161-4af7-8864-e2ae63d0a938\")) {                    Plotly.newPlot(                        \"24ad45c0-e161-4af7-8864-e2ae63d0a938\",                        [{\"hovertemplate\":\"Income=%{x}<br>Total_Amount_spent=%{y}<br>Age=%{z}<br>ClusterLabel=%{marker.color}<extra></extra>\",\"legendgroup\":\"\",\"marker\":{\"color\":[0,1,0,1,2,0,2,1,1,1,1,1,0,0,1,0,1,0,0,1,2,1,0,0,0,1,2,2,1,0,1,0,1,0,0,0,2,1,1,0,2,1,1,0,1,2,1,1,0,0,0,0,1,2,2,0,0,1,1,0,2,2,0,0,0,1,1,2,0,2,0,1,0,2,1,1,2,2,1,0,1,1,1,0,2,1,1,0,2,0,0,1,2,1,1,1,0,1,0,2,1,1,2,0,0,1,0,0,1,0,2,2,0,2,2,0,2,2,1,1,0,1,1,1,2,0,2,0,0,0,0,0,2,0,0,0,1,1,1,1,2,2,0,2,2,2,1,1,1,0,0,0,2,1,0,0,0,1,2,0,1,0,1,2,2,1,0,0,2,1,1,1,1,0,0,2,0,1,1,0,2,1,0,1,1,1,1,0,2,1,1,2,0,1,2,1,2,0,0,2,0,0,2,2,1,1,1,0,1,0,0,0,0,2,2,2,1,0,0,2,1,2,2,1,0,1,2,0,2,1,0,0,1,1,0,1,1,0,1,0,2,0,1,2,0,1,2,0,2,2,1,1,2,1,0,1,0,0,1,1,1,0,0,1,0,1,0,1,2,1,0,1,2,1,1,0,0,2,2,0,1,2,0,2,1,1,0,0,0,0,1,1,2,1,1,0,1,1,2,0,1,0,1,2,1,0,1,0,0,2,1,1,2,2,0,1,1,2,1,2,2,1,1,0,0,0,1,1,0,1,1,1,0,1,1,0,0,1,0,0,2,1,2,0,1,0,1,2,1,1,0,2,0,2,2,1,0,2,0,0,0,0,1,1,0,0,0,1,0,2,1,2,1,0,1,1,1,1,0,1,1,1,0,1,1,1,0,0,0,0,2,2,2,0,0,2,1,1,1,1,1,0,1,0,0,1,1,2,1,0,1,2,0,2,0,0,1,2,2,2,1,1,1,2,0,1,2,2,1,0,0,2,0,0,1,1,0,0,1,1,1,0,1,1,1,1,1,0,1,0,0,2,1,2,2,2,0,2,0,2,0,0,0,0,1,2,0,1,0,2,2,1,2,1,1,0,1,2,2,2,1,1,1,2,0,0,2,2,1,0,0,2,0,0,0,0,1,2,0,0,1,1,1,2,1,0,2,2,1,0,1,2,0,0,0,2,1,1,0,0,1,2,2,0,1,1,0,2,0,0,2,2,2,0,1,0,1,0,0,1,1,1,2,2,2,1,0,1,1,1,1,1,2,1,0,0,2,2,1,0,1,2,2,2,0,0,0,1,1,1,2,1,1,2,1,2,0,1,1,0,2,0,1,1,1,1,0,0,0,1,1,2,0,1,2,1,1,1,1,1,1,0,0,0,0,1,1,1,1,0,1,0,1,1,0,2,1,2,1,0,0,1,0,1,0,1,2,0,1,1,2,0,2,1,2,1,0,0,0,2,0,0,0,0,0,2,2,0,2,0,0,1,2,0,0,1,0,1,0,0,0,1,2,1,1,1,1,1,1,2,0,0,2,2,2,1,0,2,1,2,0,0,2,0,0,2,2,2,2,2,0,2,0,1,0,0,1,1,0,0,2,2,2,2,1,2,1,0,0,1,1,0,1,0,2,2,0,1,2,1,0,0,1,0,1,1,0,2,0,2,1,0,2,0,2,0,2,0,1,2,0,1,0,1,0,0,1,2,1,0,2,0,2,2,2,2,2,0,1,1,1,0,2,1,0,0,2,2,0,0,2,0,0,1,1,1,1,0,1,2,2,1,1,1,1,1,1,0,2,2,0,0,1,2,0,0,0,0,2,1,2,1,0,0,0,2,1,0,2,2,1,1,2,0,2,2,1,0,2,1,2,1,0,1,0,0,0,1,0,1,1,2,0,1,1,0,2,2,1,2,1,2,1,1,0,2,2,0,0,1,2,0,0,1,2,2,1,2,1,2,1,0,1,2,2,2,0,1,2,1,2,0,1,1,2,0,2,1,0,1,1,1,1,1,2,2,0,1,0,2,1,0,2,1,0,2,0,0,2,1,0,0,0,2,0,2,0,1,1,2,0,2,0,1,2,0,0,2,0,0,1,2,1,1,2,1,2,2,2,2,2,2,0,1,0,1,2,2,2,2,0,0,2,0,1,2,2,2,1,2,1,1,1,1,1,1,0,0,1,0,0,0,1,1,2,0,2,1,1,2,2,1,1,0,2,0,0,0,1,0,1,1,1,2,0,2,2,2,2,1,0,1,2,2,0,1,2,1,2,0,0,2,2,1,0,0,0,0,1,1,2,1,1,1,1,0,0,0,1,1,1,1,0,1,1,0,1,1,1,0,2,2,2,1,2,1,1,1,1,0,0,1,1,0,1,1,1,0,2,0,0,1,0,1,1,2,2,0,0,2,0,0,2,1,0,1,2,0,1,2,1,0,0,1,0,0,2,1,0,1,0,1,0,1,2,2,1,0,1,0,2,1,0,1,0,2,0,2,1,2,2,2,2,0,1,0,0,1,2,0,0,2,1,0,1,2,1,2,1,2,0,1,2,1,0,0,0,1,1,0,0,1,1,2,2,2,1,0,1,0,0,1,1,1,0,1,1,0,0,1,0,0,1,2,0,1,2,2,0,0,0,0,0,2,1,2,1,1,0,2,1,1,2,0,1,0,1,2,1,2,0,0,0,1,1,1,1,0,1,1,2,2,0,0,1,0,0,2,2,0,2,0,0,1,0,0,0,1,1,1,0,0,2,2,2,1,0,1,2,1,1,1,0,1,1,0,0,1,2,1,1,1,1,1,1,2,0,2,1,0,1,1,0,0,1,1,1,1,1,2,0,0,0,2,0,2,0,2,1,2,1,2,2,1,0,2,0,1,0,0,0,0,1,0,1,2,1,1,2,2,2,2,1,0,0,1,2,1,2,2,1,1,1,1,1,0,1,0,0,1,2,0,1,0,2,0,2,0,2,2,0,0,0,0,2,1,0,1,1,1,0,0,0,2,1,0,1,1,1,0,1,0,0,0,2,2,2,1,1,2,0,2,0,1,1,1,1,2,2,0,0,2,1,0,2,0,1,0,0,1,0,1,2,0,2,0,2,1,1,0,2,0,1,0,2,0,2,1,2,0,0,0,1,1,1,0,1,1,1,2,2,1,1,1,1,0,1,1,0,0,0,2,0,0,2,1,0,0,0,0,2,2,1,0,1,2,1,0,1,1,1,2,0,1,1,1,1,1,1,1,1,1,2,1,0,1,0,1,1,1,1,1,1,0,0,0,2,0,2,2,1,0,0,1,0,2,1,1,2,2,0,0,1,1,1,0,0,0,1,2,1,1,1,2,0,0,0,1,2,0,2,0,1,1,2,2,2,0,0,2,2,0,2,2,1,0,1,2,0,2,2,1,2,2,0,2,2,2,2,0,2,1,0,2,1,2,0,1,1,1,2,2,1,1,1,2,0,1,2,1,2,0,2,1,1,1,1,0,2,0,1,0,2,1,0,1,1,1,0,1,0,0,0,0,2,1,0,1,1,2,1,2,1,0,1,0,0,0,0,0,0,1,2,1,2,0,1,0,1,2,1,0,0,1,2,1,0,0,1,2,1,0,1,0,1,2,1,2,2,1,0,0,0,1,1,1,2,2,2,0,2,1,2,1,1,2,1,2,0,0,0,1,2,0,0,0,2,0,1,1,0,0,0,1,0,0,0,0,1,1,1,0,2,1,2,1,2,2,0,0,1,0,1,2,1,1,0,0,2,2,0,1,2,1,1,1,0,1,2,0,2,0,2,0,2,1,1,1,2,1,2,1,1,1,0,1,2,0,2,2,0,2,1,1,1,0,1,2,1,0,2,1,1,2,1,1,0,0,2,2,2,0,1,0,1,2,0,1,1,2,1,2,2,0,2,1,0,1,0,0,1,1,1,0,0,0,0,0,0,1,0,2,0,0,0,0,1,0,2,0,0,2,1,0,1,1,1,1,1,2,0,1,2,2,1,0,1,2,1,2,1,0,2,0,1,0,1,1,1,2,1,1,0,0,1,0,2,1,2,2,1,1,0,1,0,1,0,1,0,2,2,2,0,0,1,0,1,1,0,2,1,0,2,2,0,1,2,0,0,1,0,1,1,0,2,1,0,2,0,1,1,0,0,2,2,1,2,0,0,0,1,0,1,0,0,2,1,1,0,1,2,1,2,0,2,2,0,1,2,2,0,1,2,2,2,2,1,1,1,2,1,0,1,0,1,1,0,0,0,2,2,1,0,2,1,2,1,2,2,2,2,2,1,0,2,0,1,0,0,0,1,1,2,1,0,0,2,1,1,1,0,2,2,0,0,0,1,1,1,1,1,2,0,0,0,1,2,2,0,0,1,0,1,1,0,1,0,0,1,1,2,1,1,2,1,0,2,2,1,0,0,2,0,2,0,0,1,0,2,0,0,0,1,0,0,0,2,0,0,2,0,1,1,2,2,1,0,1,1,1,1,1,0,0,2,1,2,2,1,0,0,1,0,0,1,2,2,2,1,2,1,1,1,1,1,1,2,0,0,0,0,1,2,2,0,1,1,1,1,1,1,1,0,0,0,1,1,1,0,1,0,0,1,2,2,0,2,0,1,2,2,2,1,1,2,1,0,2,2,0,1,2,0,1,0,1,2,2,0,0,1,1,2,1,2,0,0,0,1,1,0,0,1,2,2,2,1,1,1,0,1,0,0,2,0,2,2,0,1,1,2,1,2,2,0,0,2,0,2,2,1,0,1,2,1,1,0,2,0,0,0,2,1,1,0,2,1,0,0,1,1,1,1,0,0,2,0,2,0,1,1,2,0,1,0,0,1,1,0,1,1,1,1,1,2,0,1,1,2,1,1,2,1,1,1,1,0,1,0,0,0,2,0,0,1,1,0,2,2,1,0,2,2,0,0,2,0,2,2,0,1,2,1,1,1,0,2,0,0,1,2,1,1,0,0,1,1,2,0,1,1,0,2,2,1,1,2,1,1,1,0,2,1,2,1,1,1,0,1,2,2,2,1,1,2,0,2,0,2,1,1,2,1,2,1,0,0,2,0,0],\"coloraxis\":\"coloraxis\",\"symbol\":\"circle\"},\"mode\":\"markers\",\"name\":\"\",\"scene\":\"scene\",\"showlegend\":false,\"x\":[58138.0,46344.0,71613.0,26646.0,58293.0,62513.0,55635.0,33454.0,30351.0,5648.0,52247.25135379061,7500.0,63033.0,59354.0,17323.0,82800.0,41850.0,37760.0,76995.0,33812.0,37040.0,2447.0,58607.0,65324.0,40689.0,18589.0,53359.0,52247.25135379061,38360.0,84618.0,10979.0,38620.0,40548.0,46610.0,68657.0,49389.0,67353.0,23718.0,42429.0,48948.0,80011.0,20559.0,21994.0,52247.25135379061,7500.0,79941.0,7500.0,41728.0,52247.25135379061,72550.0,65486.0,79143.0,35790.0,82582.0,66373.0,82384.0,70287.0,27938.0,52247.25135379061,55954.0,75777.0,66653.0,61823.0,67680.0,70666.0,25721.0,32474.0,88194.0,69096.0,74854.0,66991.0,52247.25135379061,65031.0,60631.0,28332.0,40246.0,75251.0,75825.0,26326.0,56046.0,29760.0,26304.0,23559.0,38620.0,81361.0,29440.0,36138.0,50388.0,79593.0,54178.0,52247.25135379061,52247.25135379061,52247.25135379061,42394.0,23626.0,30096.0,47916.0,51813.0,78497.0,50150.0,47823.0,34554.0,85693.0,65846.0,87195.0,24594.0,49096.0,52413.0,38557.0,89058.0,77298.0,68126.0,57288.0,86037.0,43974.0,50785.0,90765.0,36550.0,30753.0,21918.0,56129.0,32557.0,19510.0,30992.0,101970.0,71488.0,79607.0,54348.0,52247.25135379061,77376.0,62998.0,61331.0,73448.0,52247.25135379061,41551.0,62981.0,9548.0,33762.0,35860.0,36921.0,92859.0,65104.0,86111.0,68352.0,41883.0,59809.0,23957.0,38547.0,35688.0,49605.0,59354.0,65747.0,46344.0,34176.0,61010.0,69372.0,49967.0,60199.0,55375.0,80317.0,30523.0,70356.0,23228.0,74165.0,157243.0,43482.0,62551.0,52332.0,66951.0,26091.0,33456.0,28718.0,50447.0,53537.0,52074.0,80427.0,83837.0,38853.0,38285.0,78497.0,51650.0,16248.0,66835.0,30477.0,28249.0,25271.0,32303.0,61286.0,74068.0,45759.0,24882.0,66973.0,36640.0,38872.0,51148.0,31353.0,69661.0,80067.0,86718.0,46854.0,69142.0,75922.0,63693.0,102160.0,40637.0,18890.0,29604.0,48721.0,44794.0,64497.0,46097.0,77972.0,44377.0,46014.0,70951.0,41443.0,52195.0,83790.0,44551.0,69508.0,45204.0,72460.0,77622.0,30732.0,63887.0,42011.0,51369.0,51537.0,79930.0,34320.0,37070.0,81975.0,38590.0,15033.0,62745.0,22212.0,23661.0,79761.0,7500.0,60182.0,73455.0,64961.0,22804.0,73687.0,61074.0,31686.0,80134.0,75027.0,67546.0,65176.0,31160.0,29938.0,102692.0,26490.0,75702.0,30899.0,63342.0,45989.0,18701.0,40737.0,15287.0,69674.0,44159.0,37717.0,43776.0,38179.0,80124.0,38097.0,72940.0,22070.0,69267.0,31788.0,61905.0,29315.0,33378.0,66313.0,60714.0,77882.0,69867.0,63841.0,24480.0,51369.0,37760.0,65640.0,44319.0,30631.0,75278.0,50898.0,79946.0,35416.0,32414.0,38361.0,82497.0,16626.0,29672.0,55951.0,35388.0,42386.0,68627.0,57912.0,35246.0,58821.0,46377.0,39747.0,23976.0,80950.0,27038.0,77457.0,64100.0,42670.0,12571.0,22574.0,52247.25135379061,70893.0,54198.0,28839.0,40321.0,66503.0,30833.0,52247.25135379061,64795.0,34421.0,47025.0,64325.0,40464.0,62187.0,14849.0,27255.0,54432.0,29999.0,24072.0,33996.0,66334.0,35178.0,22010.0,62204.0,75693.0,30675.0,83003.0,83532.0,68655.0,41411.0,55212.0,59292.0,27190.0,82623.0,44300.0,84835.0,30372.0,33181.0,71113.0,71952.0,69759.0,72099.0,60000.0,38643.0,50737.0,68462.0,65073.0,46681.0,78618.0,62187.0,28442.0,37717.0,51479.0,54803.0,79530.0,31615.0,72025.0,52614.0,35684.0,48178.0,29548.0,63810.0,38578.0,46098.0,22585.0,30279.0,66426.0,30822.0,33581.0,19986.0,27421.0,35688.0,36143.0,10245.0,43795.0,63381.0,38823.0,83664.0,90300.0,62499.0,74293.0,51012.0,70777.0,68682.0,43824.0,15345.0,23442.0,14515.0,31395.0,75276.0,42373.0,30507.0,55521.0,48006.0,27213.0,65808.0,30351.0,50437.0,23616.0,53858.0,66465.0,46923.0,75072.0,75865.0,19789.0,80134.0,91065.0,49505.0,37401.0,30096.0,18492.0,82584.0,93027.0,48686.0,92910.0,75433.0,10404.0,61314.0,84865.0,42387.0,67309.0,75236.0,30015.0,50943.0,67272.0,51529.0,32011.0,7500.0,28691.0,56223.0,18100.0,30279.0,20130.0,23295.0,42618.0,81246.0,24027.0,55707.0,57959.0,56796.0,36230.0,70829.0,65991.0,38988.0,89572.0,42207.0,50300.0,66664.0,60597.0,70165.0,50520.0,80124.0,33183.0,66582.0,75261.0,31880.0,53790.0,49269.0,61456.0,37406.0,56937.0,38415.0,20518.0,62503.0,41644.0,55842.0,62010.0,41124.0,38961.0,37760.0,32233.0,43057.0,83151.0,78825.0,65104.0,60093.0,14045.0,28457.0,78952.0,46310.0,76005.0,58308.0,55614.0,59432.0,55563.0,78642.0,67911.0,65275.0,27203.0,48330.0,24279.0,64355.0,50943.0,53653.0,65665.0,81217.0,34935.0,61250.0,39665.0,60152.0,48920.0,89120.0,44124.0,81169.0,36443.0,26095.0,71367.0,80184.0,30630.0,73454.0,42691.0,70503.0,25545.0,32880.0,77863.0,50353.0,61839.0,49154.0,47682.0,72679.0,57954.0,65316.0,28567.0,47352.0,44931.0,76982.0,57247.0,22944.0,25315.0,43638.0,42710.0,84169.0,54058.0,24683.0,85620.0,47850.0,19514.0,27159.0,39548.0,21474.0,60504.0,22419.0,81698.0,43462.0,54880.0,79908.0,15315.0,87771.0,33039.0,81741.0,71499.0,62466.0,48799.0,52157.0,66565.0,29298.0,47691.0,38200.0,44989.0,38443.0,38593.0,64413.0,36959.0,61996.0,51287.0,13260.0,47472.0,54603.0,45207.0,40689.0,47821.0,27450.0,39453.0,26850.0,79800.0,61794.0,53863.0,24221.0,39684.0,92163.0,69882.0,33178.0,59973.0,17459.0,23910.0,42169.0,26224.0,31089.0,30081.0,62807.0,72906.0,61467.0,49618.0,21888.0,42429.0,26150.0,30801.0,81168.0,26877.0,45006.0,18978.0,22574.0,48240.0,45837.0,35791.0,162397.0,54162.0,30522.0,54456.0,31632.0,72298.0,36975.0,72635.0,13624.0,84196.0,70971.0,34487.0,28769.0,69084.0,65488.0,62466.0,32218.0,83917.0,46102.0,84574.0,56181.0,63120.0,73691.0,63381.0,76140.0,62859.0,45906.0,77632.0,46463.0,105471.0,55282.0,78710.0,66886.0,98777.0,29103.0,67445.0,50616.0,49431.0,153924.0,61278.0,26490.0,73059.0,46734.0,56253.0,19986.0,58330.0,25965.0,14661.0,18690.0,45068.0,21063.0,29187.0,54690.0,59304.0,59247.0,66731.0,77353.0,52614.0,26751.0,81300.0,70337.0,36145.0,65295.0,68118.0,68743.0,41039.0,38946.0,65777.0,66476.0,86857.0,160803.0,77845.0,69476.0,50611.0,61209.0,42315.0,13084.0,47570.0,61923.0,34824.0,26518.0,45938.0,78468.0,78901.0,71427.0,71022.0,90247.0,41335.0,71952.0,35682.0,43185.0,66375.0,35178.0,25252.0,55250.0,33249.0,58398.0,50272.0,76618.0,87305.0,25851.0,58710.0,45160.0,74806.0,59111.0,18988.0,72190.0,7500.0,44794.0,80395.0,75012.0,56962.0,89891.0,35946.0,53593.0,66373.0,45072.0,89694.0,72025.0,67432.0,70545.0,17487.0,62882.0,64108.0,34941.0,48767.0,38702.0,82224.0,83844.0,17003.0,71163.0,33697.0,63564.0,83443.0,51518.0,58330.0,80952.0,75507.0,63855.0,62220.0,58512.0,40662.0,38829.0,35523.0,79146.0,78285.0,31626.0,75127.0,48726.0,74985.0,67430.0,46891.0,62058.0,72063.0,78939.0,42720.0,33622.0,6835.0,41452.0,40760.0,74250.0,51124.0,72258.0,71466.0,36283.0,20587.0,30467.0,31590.0,20425.0,17144.0,42564.0,43783.0,40780.0,62847.0,82017.0,16813.0,51267.0,46524.0,45183.0,70421.0,60161.0,73926.0,19329.0,61872.0,46984.0,34838.0,82716.0,48192.0,49681.0,56850.0,55267.0,59666.0,72504.0,26872.0,21359.0,73170.0,52750.0,91820.0,65968.0,30772.0,22507.0,65685.0,25804.0,76412.0,22063.0,57091.0,22419.0,87771.0,78353.0,93404.0,37859.0,80995.0,16529.0,55412.0,48789.0,56575.0,25130.0,35441.0,71391.0,49494.0,81702.0,45889.0,56628.0,34026.0,40049.0,34176.0,19419.0,82504.0,81205.0,61618.0,55284.0,49980.0,15072.0,49166.0,65324.0,82347.0,30843.0,46374.0,60474.0,38576.0,55357.0,37758.0,85710.0,23228.0,44602.0,7500.0,38683.0,49514.0,57906.0,43456.0,19485.0,53172.0,30545.0,70123.0,62450.0,21675.0,42395.0,61346.0,80812.0,42835.0,39922.0,86424.0,17117.0,24762.0,35797.0,36627.0,51111.0,86857.0,82072.0,46231.0,42243.0,51195.0,68092.0,31814.0,51390.0,76630.0,26868.0,48948.0,55260.0,64090.0,78331.0,37087.0,21846.0,81320.0,54137.0,66825.0,57100.0,58917.0,85072.0,86429.0,45684.0,47889.0,45921.0,78420.0,75114.0,52278.0,35641.0,95529.0,62820.0,73113.0,84169.0,42607.0,74637.0,46015.0,72354.0,39858.0,34469.0,83033.0,24401.0,77583.0,74116.0,74293.0,68397.0,79632.0,46107.0,64950.0,25443.0,75127.0,32892.0,71796.0,67536.0,55239.0,60554.0,64831.0,56067.0,82025.0,94384.0,14906.0,51563.0,57937.0,68274.0,39771.0,67893.0,27922.0,52190.0,44051.0,42767.0,46106.0,16927.0,59754.0,53700.0,59041.0,54237.0,70647.0,52597.0,41021.0,40233.0,50183.0,54753.0,92955.0,33471.0,34596.0,44010.0,84219.0,40706.0,15716.0,59052.0,80573.0,83715.0,82576.0,56962.0,35704.0,53103.0,46779.0,4861.0,33462.0,63693.0,80763.0,65352.0,82170.0,75759.0,79689.0,35340.0,85683.0,24884.0,42021.0,64449.0,64587.0,34824.0,75437.0,26091.0,52845.0,46086.0,78028.0,95169.0,56337.0,22434.0,36930.0,36130.0,65569.0,83844.0,19514.0,36736.0,77568.0,49187.0,30168.0,34053.0,38196.0,59412.0,70924.0,54165.0,32300.0,20180.0,34961.0,28440.0,64504.0,33564.0,17345.0,56320.0,28647.0,15038.0,32173.0,68316.0,74538.0,91700.0,68695.0,31056.0,79593.0,28071.0,37334.0,46423.0,37126.0,47703.0,61180.0,38998.0,8028.0,76081.0,34728.0,33168.0,33585.0,77037.0,35196.0,44529.0,70924.0,28764.0,69098.0,25959.0,27100.0,70596.0,42557.0,53312.0,72228.0,67605.0,62845.0,65196.0,42000.0,35860.0,65526.0,16860.0,83528.0,64176.0,22304.0,67023.0,32892.0,70713.0,59925.0,39722.0,46610.0,88347.0,87171.0,26907.0,50014.0,41014.0,66294.0,36715.0,79456.0,40479.0,75345.0,54233.0,24163.0,84460.0,43776.0,71691.0,85844.0,39190.0,71367.0,38578.0,57236.0,61825.0,79803.0,80910.0,27590.0,56775.0,83829.0,54210.0,38508.0,53187.0,30023.0,76045.0,50870.0,15315.0,65463.0,66480.0,76773.0,81698.0,54466.0,98777.0,16269.0,71819.0,33569.0,36262.0,22634.0,47025.0,70566.0,31605.0,52034.0,48526.0,46734.0,39552.0,86358.0,46931.0,16581.0,63998.0,67381.0,25930.0,42693.0,85606.0,72903.0,49669.0,36778.0,85696.0,10979.0,49678.0,56129.0,37155.0,21282.0,33419.0,63285.0,21255.0,42162.0,54450.0,57744.0,26576.0,57513.0,68142.0,7500.0,83145.0,54197.0,23091.0,46049.0,56715.0,79410.0,57304.0,44375.0,54450.0,59594.0,80685.0,40344.0,62710.0,48985.0,35322.0,77142.0,81657.0,14421.0,20130.0,74214.0,66726.0,23724.0,47353.0,33444.0,54386.0,28510.0,90638.0,48070.0,43140.0,54959.0,15056.0,26954.0,22327.0,44393.0,62000.0,31497.0,45894.0,78579.0,67369.0,58401.0,62307.0,43641.0,63841.0,46891.0,70091.0,78075.0,59184.0,54809.0,58113.0,51412.0,15287.0,66636.0,50965.0,84618.0,18351.0,40451.0,36317.0,42213.0,65748.0,77044.0,74918.0,56721.0,42160.0,61559.0,33629.0,68682.0,34377.0,8940.0,26228.0,77297.0,40211.0,33438.0,75032.0,61284.0,22518.0,54730.0,38452.0,44421.0,38197.0,41986.0,28427.0,37395.0,64722.0,55249.0,84906.0,28691.0,44213.0,25707.0,59062.0,76624.0,66000.0,27683.0,1730.0,7500.0,40521.0,20427.0,65106.0,69969.0,67433.0,77766.0,74716.0,68118.0,55158.0,62972.0,74190.0,39356.0,76653.0,35860.0,90687.0,73450.0,31454.0,47139.0,83829.0,53378.0,19656.0,45579.0,85485.0,55956.0,64191.0,38808.0,57183.0,23748.0,66303.0,37368.0,40800.0,71847.0,46149.0,78687.0,49118.0,37633.0,39767.0,26997.0,33986.0,57091.0,46831.0,83151.0,52531.0,15759.0,22804.0,43050.0,42997.0,48918.0,60033.0,34043.0,57811.0,78569.0,7500.0,157733.0,94384.0,23148.0,44267.0,71626.0,60894.0,50200.0,81051.0,65169.0,59868.0,65695.0,64857.0,45143.0,74805.0,59060.0,27238.0,47009.0,46094.0,40321.0,37235.0,81843.0,46692.0,77382.0,37774.0,18393.0,72828.0,24711.0,45503.0,6560.0,71604.0,27244.0,48752.0,71434.0,90842.0,88097.0,51948.0,71853.0,35876.0,40049.0,39660.0,50127.0,43263.0,62845.0,18929.0,24367.0,33249.0,26887.0,50150.0,62061.0,85696.0,76542.0,70515.0,18227.0,69139.0,69109.0,69627.0,38136.0,62159.0,80695.0,33316.0,58554.0,17256.0,53034.0,52203.0,59601.0,75154.0,47025.0,37971.0,41335.0,67267.0,57338.0,50523.0,35791.0,50611.0,56242.0,48904.0,56243.0,21355.0,57420.0,52247.25135379061,46390.0,54342.0,52247.25135379061,52247.25135379061,20895.0,92344.0,52247.25135379061,26907.0,44964.0,75507.0,53761.0,22682.0,38887.0,41658.0,29791.0,63915.0,39996.0,26759.0,63841.0,51039.0,60544.0,65685.0,37716.0,36864.0,44511.0,36947.0,47352.0,67087.0,57045.0,36957.0,69389.0,80134.0,43142.0,80589.0,34412.0,57537.0,22634.0,51315.0,36026.0,24639.0,34578.0,65704.0,63810.0,54132.0,18690.0,28164.0,34596.0,43269.0,38741.0,31907.0,27100.0,31163.0,92533.0,34853.0,70844.0,31086.0,60544.0,20491.0,42523.0,39922.0,33402.0,36408.0,21645.0,78427.0,82657.0,51876.0,78041.0,52852.0,70038.0,69401.0,46053.0,77343.0,73892.0,40304.0,32727.0,68695.0,43300.0,26290.0,93790.0,38410.0,64866.0,57957.0,46015.0,16531.0,28072.0,49476.0,50725.0,83844.0,41145.0,67419.0,23162.0,34380.0,34704.0,94871.0,65148.0,39898.0,64857.0,59892.0,41020.0,57072.0,60474.0,62807.0,19414.0,19107.0,75484.0,70379.0,79419.0,64014.0,76998.0,49854.0,60585.0,42873.0,87679.0,57867.0,35765.0,65492.0,32952.0,53374.0,71706.0,68487.0,53253.0,31163.0,42014.0,54108.0,49667.0,63206.0,57136.0,46772.0,78931.0,53977.0,84219.0,46098.0,73538.0,79529.0,20981.0,51766.0,55759.0,33039.0,37787.0,27242.0,87188.0,69930.0,37697.0,37401.0,3502.0,58597.0,82032.0,28087.0,74004.0,19740.0,57036.0,53083.0,69283.0,46098.0,23331.0,23331.0,9255.0,67786.0,71969.0,59235.0,31928.0,74881.0,65819.0,51411.0,51983.0,42386.0,30390.0,30983.0,66033.0,37284.0,57530.0,76800.0,63943.0,76081.0,67445.0,37054.0,47175.0,31859.0,27215.0,70179.0,39922.0,49681.0,24645.0,79865.0,44322.0,47958.0,63972.0,75315.0,55517.0,75283.0,82800.0,38998.0,90638.0,27161.0,42014.0,38201.0,45203.0,81574.0,34935.0,60482.0,34633.0,78093.0,82460.0,45903.0,81361.0,35860.0,40442.0,61482.0,34968.0,75794.0,31497.0,74268.0,13724.0,45143.0,52569.0,48432.0,17144.0,36108.0,76445.0,36663.0,53843.0,90226.0,70638.0,44512.0,27116.0,54072.0,71855.0,51250.0,60432.0,65526.0,68655.0,12393.0,64509.0,33955.0,31353.0,55434.0,28359.0,57100.0,69139.0,52973.0,51717.0,18793.0,66664.0,50664.0,54414.0,54549.0,47111.0,41003.0,19444.0,36301.0,73059.0,42731.0,52854.0,22775.0,46681.0,59821.0,50002.0,69755.0,44078.0,30560.0,35924.0,64140.0,56386.0,24594.0,75774.0,39228.0,58494.0,58684.0,57136.0,56551.0,22448.0,82014.0,34213.0,157146.0,25358.0,35544.0,36634.0,62670.0,50334.0,72066.0,50729.0,34916.0,64892.0,43602.0,33996.0,41473.0,63246.0,36732.0,69084.0,77766.0,37929.0,86610.0,80141.0,72635.0,69016.0,20193.0,27573.0,15862.0,49544.0,33228.0,70440.0,38232.0,22554.0,23536.0,49413.0,42231.0,78789.0,56534.0,58350.0,81217.0,49090.0,61787.0,18169.0,24336.0,18222.0,62335.0,42033.0,86580.0,41437.0,73705.0,61064.0,38452.0,18358.0,55012.0,9722.0,38175.0,58656.0,52117.0,64813.0,54222.0,83512.0,77520.0,41154.0,80398.0,18746.0,35196.0,60230.0,22108.0,44392.0,55424.0,17688.0,92491.0,90273.0,82571.0,38513.0,16653.0,42586.0,23529.0,74881.0,71107.0,46910.0,18690.0,37244.0,82427.0,75342.0,70044.0,79146.0,77437.0,54984.0,42403.0,55761.0,37292.0,45576.0,70321.0,58086.0,81795.0,28389.0,66835.0,69901.0,80360.0,63342.0,44989.0,31859.0,51569.0,30372.0,16014.0,41120.0,39763.0,38725.0,77981.0,62905.0,13533.0,59481.0,72117.0,21955.0,67131.0,36802.0,71853.0,28249.0,47808.0,25509.0,51012.0,70596.0,85431.0,42664.0,42586.0,29760.0,28973.0,39435.0,65370.0,20194.0,42473.0,64590.0,71232.0,34600.0,46904.0,49094.0,36075.0,60839.0,77298.0,34026.0,48918.0,82122.0,37697.0,34074.0,28520.0,62535.0,36273.0,63404.0,75774.0,78416.0,75702.0,59385.0,37070.0,44689.0,53977.0,7144.0,18701.0,90369.0,63159.0,37758.0,46757.0,79734.0,63207.0,72071.0,21840.0,58582.0,72282.0,50387.0,32583.0,62568.0,44635.0,33316.0,63967.0,52513.0,25293.0,54111.0,78394.0,80739.0,22669.0,29236.0,44911.0,54693.0,48186.0,54809.0,41580.0,80336.0,47743.0,62972.0,57333.0,32313.0,84953.0,27071.0,68148.0,65735.0,86836.0,4023.0,30093.0,57705.0,25008.0,83257.0,22280.0,72159.0,64260.0,82733.0,74290.0,58217.0,21024.0,70116.0,54006.0,69063.0,11448.0,61825.0,70886.0,69109.0,60208.0,32889.0,34738.0,30538.0,82326.0,26642.0,69932.0,44503.0,60200.0,49638.0,23830.0,33051.0,72905.0,69702.0,70300.0,70643.0,30396.0,50616.0,62772.0,30298.0,52413.0,44155.0,86979.0,76532.0,42081.0,67546.0,88420.0,31158.0,61671.0,69719.0,49160.0,24882.0,90933.0,113734.0,59292.0,45759.0,22148.0,73395.0,29819.0,45688.0,62820.0,60491.0,33235.0,35701.0,31535.0,92556.0,67384.0,80573.0,77870.0,52278.0,57107.0,18929.0,36038.0,20180.0,34230.0,31878.0,70932.0,91249.0,77598.0,80982.0,22701.0,55212.0,70617.0,64849.0,62694.0,61917.0,67472.0,21059.0,29543.0,75903.0,34984.0,54998.0,54356.0,34242.0,25410.0,73356.0,28320.0,23763.0,72570.0,34529.0,70792.0,63211.0,83891.0,36065.0,39898.0,51141.0,56939.0,80872.0,72335.0,61798.0,76842.0,29478.0,46998.0,96843.0,56551.0,70053.0,71670.0,44359.0,40887.0,48877.0,74485.0,64474.0,77226.0,72643.0,85738.0,55686.0,39062.0,34600.0,40794.0,54690.0,4428.0,32632.0,38236.0,36781.0,31385.0,24570.0,25509.0,94642.0,58646.0,53201.0,21994.0,57113.0,51373.0,23477.0,58116.0,72968.0,39791.0,91712.0,94472.0,13672.0,96547.0,79205.0,56559.0,32644.0,67506.0,24206.0,28420.0,22979.0,33279.0,46423.0,30368.0,63684.0,41638.0,68805.0,65814.0,71964.0,39146.0,96876.0,34445.0,68281.0,37284.0,36790.0,27943.0,22263.0,30261.0,28587.0,43815.0,48195.0,77027.0,71322.0,32765.0,29672.0,23272.0,49912.0,7500.0,68117.0,67225.0,17649.0,55914.0,40059.0,60905.0,75330.0,60689.0,38680.0,61416.0,49767.0,83273.0,29009.0,45057.0,37150.0,43020.0,53154.0,65308.0,76467.0,81044.0,32871.0,55801.0,76320.0,36927.0,48794.0,23478.0,71128.0,70179.0,59462.0,52247.25135379061,38361.0,52247.25135379061,70038.0,42554.0,67445.0,67046.0,42192.0,77610.0,31761.0,34350.0,54591.0,71866.0,25293.0,42000.0,69520.0,64713.0,27889.0,22123.0,52247.25135379061,52247.25135379061,27803.0,52247.25135379061,51651.0,68487.0,52247.25135379061,56796.0,87000.0,79823.0,30828.0,34109.0,53367.0,22390.0,71322.0,79244.0,49912.0,48699.0,80144.0,54252.0,81929.0,76068.0,53204.0,67911.0,14796.0,78128.0,14188.0,20425.0,58646.0,72967.0,48150.0,82332.0,58275.0,44953.0,34587.0,43018.0,45736.0,66476.0,27733.0,69805.0,72217.0,25818.0,37509.0,25176.0,43586.0,53230.0,50116.0,84906.0,61286.0,82333.0,65220.0,33590.0,30992.0,72309.0,156924.0,16005.0,65487.0,58692.0,40590.0,20587.0,62637.0,29435.0,19346.0,35788.0,36997.0,23539.0,65333.0,78499.0,29732.0,41275.0,63516.0,42769.0,49572.0,69209.0,17148.0,40590.0,30560.0,32146.0,41713.0,34176.0,58482.0,59686.0,60896.0,62994.0,47320.0,74859.0,15253.0,31560.0,72071.0,91172.0,90000.0,41967.0,69263.0,65706.0,60934.0,71965.0,65210.0,79174.0,81380.0,48432.0,52914.0,38946.0,26067.0,44325.0,42523.0,26487.0,53233.0,67716.0,76234.0,84117.0,65487.0,25224.0,89616.0,40851.0,27469.0,82347.0,73803.0,8820.0,43322.0,55593.0,50501.0,37085.0,16185.0,57731.0,48432.0,73807.0,18929.0,35893.0,61014.0,32144.0,14918.0,45146.0,41769.0,88325.0,38054.0,80617.0,5305.0,36807.0,28427.0,82032.0,22775.0,40101.0,58025.0,75777.0,7500.0,33562.0,57642.0,58554.0,63777.0,57967.0,52247.25135379061,24434.0,11012.0,44802.0,26816.0,666666.0,34421.0,61223.0,64014.0,56981.0,69245.0,52869.0],\"y\":[1617,27,776,53,422,716,590,169,46,49,19,61,1102,310,46,1315,96,317,1782,133,316,1730,972,544,444,75,257,637,131,1672,30,318,120,302,1196,65,913,81,67,902,1395,53,22,186,31,984,122,55,124,1319,507,1693,72,1617,606,1957,1093,29,46,518,1438,612,884,606,1076,34,11,1274,653,1562,1253,109,863,661,65,13,1890,2209,18,692,165,16,79,318,778,56,151,372,1366,194,603,18,985,32,43,45,606,63,978,410,72,55,1169,1120,1097,29,187,910,145,850,969,1820,608,730,551,114,1724,577,81,33,660,80,30,43,1135,559,1923,90,404,661,463,632,725,725,279,1482,29,106,49,38,2077,1053,1385,871,312,877,68,22,211,127,459,460,429,89,1021,1381,306,18,162,1231,13,1706,121,1293,1608,88,421,259,1117,89,36,57,148,93,119,1835,1318,45,10,978,191,57,1033,66,43,50,39,608,1581,68,80,1282,65,91,315,31,834,1600,1270,263,535,1295,1150,1240,38,35,53,293,65,1804,241,1101,264,541,1198,482,17,1615,285,1135,114,1047,714,185,1245,189,576,1103,1753,17,433,1588,22,19,1117,69,23,605,57,22,2088,1009,26,1627,1102,17,1690,1390,2126,1531,64,26,1112,210,1148,33,1101,322,44,17,31,845,275,25,275,90,1495,184,981,67,1635,60,231,48,99,770,957,818,925,908,102,576,317,461,37,70,930,859,1478,390,52,137,1919,68,25,1374,32,100,825,916,62,728,90,273,66,1213,107,1157,546,241,53,37,1611,1508,235,32,102,401,28,1052,680,30,20,1307,630,1283,65,37,38,160,23,71,1161,59,33,946,1442,62,1674,1853,1538,139,1182,507,18,940,42,1190,44,16,835,1443,1029,1188,1277,49,99,1670,900,425,2153,636,57,25,494,693,1348,51,1932,990,30,254,29,1371,73,120,81,37,1377,51,17,22,324,211,19,41,492,1005,114,1173,1738,222,1127,209,787,1598,186,47,27,96,64,1040,163,343,446,41,70,272,46,490,79,915,1485,369,1073,1242,78,1378,1474,751,48,45,10,1435,2119,20,1795,1188,43,1008,1688,684,1082,1068,57,46,733,467,122,36,34,156,14,37,34,20,192,1379,48,428,868,1001,59,431,971,348,2059,265,270,1289,893,926,135,1495,120,1288,1743,15,542,890,1388,17,906,44,25,973,31,518,530,506,70,54,296,266,747,895,1053,735,20,205,2092,309,1722,900,682,663,43,1816,976,746,64,32,263,1445,46,1210,945,1157,137,730,216,943,347,1924,397,2089,138,42,777,1902,52,1651,358,1727,210,42,1291,442,1895,411,521,1168,493,260,46,319,96,1062,232,76,54,201,406,1919,662,41,1600,134,69,21,54,91,526,162,1008,240,795,1772,64,1957,78,1572,795,889,331,265,1065,11,21,17,369,38,177,279,62,1230,182,49,75,227,215,444,47,143,55,63,1867,611,473,55,81,2086,1478,49,382,69,67,30,63,79,42,819,1151,594,129,213,67,28,45,1193,268,266,37,37,882,373,35,107,42,326,404,95,939,33,981,36,1237,1825,103,191,1586,963,889,93,1587,16,1375,393,1477,1179,1005,1348,1307,486,2252,235,1724,235,1092,599,2008,48,1174,67,365,6,165,210,1095,223,597,22,1064,74,26,60,20,59,34,198,1048,574,1029,670,990,11,1241,576,172,664,928,2074,467,257,1146,689,2114,1717,1346,1044,493,957,270,29,121,126,23,57,636,1004,734,614,1453,1621,187,1443,57,637,948,59,18,903,112,596,233,1511,1152,48,1185,21,965,869,16,1947,71,65,1380,1027,411,836,11,480,606,284,1472,1677,1335,334,18,1338,1099,97,63,109,902,1574,38,960,28,1215,1497,449,1064,1757,1440,1006,1226,1171,92,99,66,564,1427,86,833,242,1869,1364,183,450,758,1507,654,81,137,16,93,1158,43,1525,1230,29,25,24,38,57,47,813,629,377,1612,729,50,270,177,315,767,1071,1580,60,573,41,170,1167,1526,458,63,405,1027,1478,72,48,726,860,1497,495,20,570,769,55,1808,55,577,162,1957,1576,1616,36,1482,22,63,680,542,50,39,1043,385,1633,46,761,76,290,89,70,1066,2009,1345,764,195,53,368,544,1853,35,446,1180,41,727,40,1062,40,292,15,341,369,401,393,10,486,69,1727,995,45,182,989,1677,595,156,1226,128,86,68,16,55,2114,2018,263,55,564,1281,83,353,1003,14,902,1139,797,1638,401,84,928,203,858,409,282,1423,1449,28,67,199,1453,1253,1198,178,1990,976,1001,1919,350,1650,46,1228,95,62,1761,467,1149,2052,1127,1416,1113,125,966,32,833,46,960,1829,779,811,1120,725,1187,2302,66,1250,683,305,50,995,41,77,171,131,54,53,475,694,96,361,1079,578,64,149,231,728,1778,93,23,662,1198,81,92,491,1564,926,1910,411,94,1085,23,6,54,1150,1415,405,1908,2486,1315,45,1789,19,573,805,108,23,1493,89,936,343,528,1901,724,58,297,488,859,1574,69,17,2194,116,279,103,44,406,1363,236,39,137,79,63,1314,71,58,702,94,80,22,1211,1461,1968,1091,55,1366,313,62,92,72,655,704,54,178,1033,36,122,122,1123,497,691,1363,12,2440,56,37,968,270,278,1250,938,1178,1155,653,49,506,38,1650,1826,18,906,46,1477,766,47,467,2116,1298,22,396,20,967,357,1401,15,2087,981,17,523,23,1192,1958,133,777,73,121,424,868,756,12,937,1862,367,443,267,61,1323,63,64,562,312,1156,1104,16,2008,44,1574,63,426,96,635,757,125,332,135,330,384,1722,78,24,1168,957,15,57,1956,2013,326,77,1313,30,315,660,74,46,86,1103,61,145,684,411,27,1060,1459,18,1833,237,48,515,1020,1370,1026,301,684,499,1004,218,606,75,106,990,1097,16,34,1711,438,75,225,18,470,91,2525,504,235,1232,88,17,24,60,1020,155,51,1812,1461,96,160,139,908,183,1161,988,1072,174,758,195,31,1084,685,1672,43,49,133,363,545,1065,2047,296,140,530,152,1598,114,101,25,789,87,90,1215,811,61,405,72,189,40,63,52,39,805,130,1631,34,152,21,71,899,711,351,8,119,21,10,973,1536,992,1529,860,928,418,587,641,23,2279,49,1779,1804,48,83,1862,793,84,183,1383,999,825,246,610,76,1286,30,99,1192,362,2130,1229,38,485,434,44,496,78,2346,794,17,26,76,15,62,198,49,802,1736,57,59,2302,37,310,1305,832,401,1501,1189,1194,656,1540,311,820,274,57,448,44,102,61,1643,397,1121,473,50,1678,58,170,373,1196,101,316,1400,1424,844,311,1149,129,32,299,320,441,1178,85,24,112,30,410,800,1313,1483,1258,28,227,1555,861,103,634,1918,131,586,62,447,939,797,1143,415,30,187,251,237,91,35,493,971,371,396,68,322,317,222,177,45,21,45,1899,42,22,41,1440,325,95,42,72,20,789,15,59,908,417,289,769,188,354,727,146,319,794,454,152,797,1690,20,1428,209,545,96,222,61,44,8,817,1371,42,60,78,23,19,61,449,37,38,1131,34,294,48,289,30,125,156,70,22,65,1930,2283,310,1319,879,1244,690,209,1134,1507,57,529,1091,180,77,2349,534,556,637,46,44,47,795,586,1574,13,1471,65,175,40,1078,1115,134,1540,87,217,1034,1180,819,32,46,1159,860,1631,444,1910,380,736,269,2524,612,75,1045,55,1064,1443,1366,436,38,436,747,1396,928,642,1048,943,907,1198,120,1658,1638,73,275,854,78,106,106,1923,1662,84,48,5,733,1234,112,1658,55,1513,271,904,120,103,269,22,1156,1086,1128,72,964,1383,18,793,100,80,167,677,23,92,641,1106,1033,1174,25,240,20,102,1034,156,458,17,792,92,407,1269,841,633,1019,1315,54,2525,52,436,268,147,1798,137,507,15,1105,974,66,778,49,169,299,221,1682,155,892,58,311,95,424,47,339,1410,35,562,2352,1334,32,41,39,1141,710,401,506,1538,57,1722,270,31,882,16,311,227,1152,122,77,1289,561,211,233,1092,601,54,78,1095,244,116,15,425,734,638,894,41,31,34,1750,612,29,823,20,396,813,1179,138,55,1511,117,1730,32,67,335,825,694,1792,496,231,902,68,71,76,772,47,1586,1529,265,1603,2091,981,1533,82,244,36,404,71,1572,122,41,10,304,37,1754,815,1001,1157,688,1319,21,31,67,708,25,746,32,1695,1080,72,57,660,103,153,1220,279,745,264,2157,1526,69,1597,64,497,1067,31,211,877,11,2034,1991,1686,324,69,252,54,964,1327,68,60,55,1456,563,1504,564,1125,358,42,184,460,145,1376,792,1382,28,1033,882,2231,1101,369,48,467,44,38,81,167,45,664,622,48,461,1073,55,976,20,1149,43,224,101,209,968,1165,24,252,165,269,102,461,47,144,1338,917,318,253,502,119,1250,969,76,62,1382,84,255,43,398,76,902,823,1179,1921,185,433,34,907,416,44,1588,1797,40,1143,914,1502,1338,27,763,1331,525,9,953,68,131,882,1149,37,388,1428,1633,173,99,215,929,219,174,92,1052,275,587,1662,159,1024,35,1042,395,557,9,69,486,34,1365,13,1401,1574,1323,1217,103,84,1536,581,928,14,424,960,1555,656,55,20,367,2257,42,1049,48,685,39,43,835,1515,1039,1596,1828,34,149,946,28,450,46,1702,820,382,2126,2069,72,732,801,236,80,1685,277,507,68,49,397,39,306,976,1028,70,46,51,1263,1490,1564,1815,1198,416,85,47,137,21,70,909,1676,1735,1191,24,1182,1280,1336,749,91,414,44,63,901,38,455,775,15,38,1512,43,42,1089,162,1272,1173,816,74,134,157,561,1336,2092,463,1130,20,377,1544,138,1012,1766,45,161,144,1734,823,1138,1429,1371,982,44,318,434,198,359,576,88,63,27,193,101,2211,140,415,22,263,393,147,443,1958,174,2217,1691,25,809,895,484,413,331,25,13,115,16,92,52,1464,441,283,747,1870,165,1941,839,1655,23,66,37,21,22,78,79,265,1175,1305,46,25,46,874,100,930,868,45,1260,414,392,1109,639,79,1665,692,1392,44,50,467,223,158,1211,1575,1208,43,527,932,71,54,129,1615,1034,1088,721,137,47,1244,41,1174,993,100,1680,98,48,519,715,37,653,1455,602,26,102,97,207,176,450,433,1366,1564,1001,961,1518,56,22,400,26,350,1216,874,40,1367,264,2053,1376,45,976,51,1264,75,57,140,497,266,2006,615,1021,22,133,437,1013,57,1038,1573,28,123,13,132,732,66,1631,608,1822,1282,8,43,1931,8,103,1169,395,258,25,185,180,22,44,94,81,798,1334,38,61,300,88,54,1782,68,258,31,66,174,28,731,274,1701,312,414,1565,29,94,1338,1092,1479,54,568,1199,873,1213,731,2043,1893,424,575,257,56,542,125,69,40,1016,907,1566,1169,46,1644,59,17,1853,1528,35,141,546,500,61,106,704,424,849,85,199,1147,54,43,53,521,1623,45,1435,32,16,52,1234,15,415,470,1438,53,51,679,586,653,468,1679,50,84,1049,22,62,30,1341,444,1241,843,172],\"z\":[66,69,58,39,42,56,52,38,49,73,40,47,64,71,36,77,43,77,74,38,41,44,74,69,72,54,47,37,34,58,34,60,53,71,77,72,53,47,50,80,43,38,66,64,48,47,27,55,72,69,66,59,46,46,45,68,57,35,41,55,41,48,71,72,75,52,56,44,65,53,69,50,64,48,71,46,51,47,47,58,38,54,50,60,36,63,53,66,50,56,66,66,50,51,53,40,63,51,72,40,63,64,44,78,64,44,59,54,45,63,44,32,60,32,43,61,53,45,56,54,70,56,38,47,40,58,39,70,62,67,71,65,54,60,59,56,47,64,50,58,31,47,61,49,35,47,48,42,50,57,70,54,51,35,71,74,65,45,46,68,65,78,39,48,50,57,70,64,35,66,58,41,53,64,56,48,75,53,64,72,47,35,77,39,62,40,53,57,47,59,45,34,123,35,50,46,43,69,69,50,71,55,45,46,58,39,35,60,57,69,67,69,55,49,38,46,45,75,69,43,35,54,53,43,61,45,47,71,51,37,57,61,52,72,58,48,41,65,50,130,55,65,52,33,65,59,51,70,35,54,48,38,49,65,56,49,62,59,59,66,44,55,53,45,71,57,60,53,53,53,70,40,48,63,60,60,67,42,37,55,42,47,77,49,48,49,71,67,57,74,39,54,43,52,58,71,35,37,41,58,65,67,45,35,39,62,57,76,59,31,47,56,34,47,57,67,51,38,72,53,52,49,58,62,70,66,47,39,73,37,40,34,67,52,40,63,55,51,58,124,35,37,54,73,50,71,58,53,52,47,66,37,57,49,47,45,68,54,80,75,66,54,45,45,56,54,63,47,61,48,39,48,53,57,51,48,53,34,62,54,54,38,69,50,42,52,55,63,74,55,44,44,30,77,55,32,52,39,36,43,67,58,49,63,68,58,51,52,49,60,41,47,68,36,61,80,48,29,42,52,50,40,41,49,82,70,37,34,34,55,62,34,56,59,53,67,57,74,52,37,34,75,77,34,49,64,51,59,47,70,68,54,52,43,47,51,57,39,71,41,59,74,65,60,48,54,68,53,72,52,48,43,42,45,35,67,51,46,51,46,50,51,49,48,63,59,47,49,54,71,65,47,68,59,79,61,45,52,74,79,73,62,33,38,67,70,47,34,31,64,42,44,59,64,77,48,62,33,64,79,58,36,32,70,36,37,65,46,59,63,48,54,46,61,41,72,56,56,71,42,46,54,39,41,47,33,59,43,55,50,60,34,52,60,74,71,45,41,53,64,45,43,52,53,60,73,61,72,44,53,49,55,45,53,42,46,55,53,57,67,49,72,56,72,40,52,68,62,68,64,39,48,58,46,51,48,54,54,45,42,62,63,68,75,57,37,50,67,48,58,54,79,50,56,54,49,58,47,45,63,62,52,74,45,68,47,48,63,46,46,53,65,53,63,50,61,71,61,73,52,63,75,64,59,76,52,53,53,46,65,63,38,49,73,68,48,70,65,76,57,60,38,48,43,67,64,49,36,55,52,59,61,53,43,48,49,60,44,38,43,60,56,41,68,56,47,51,41,34,54,63,53,65,71,74,62,28,74,62,63,50,45,45,35,55,37,53,72,75,52,37,58,48,70,41,48,63,45,53,65,58,69,39,58,47,57,68,47,58,32,74,70,45,75,50,74,50,71,34,54,70,67,73,45,59,71,48,28,53,69,51,65,48,54,44,45,51,59,44,64,42,56,35,45,71,68,46,36,58,67,44,72,58,51,66,70,58,65,68,52,49,47,53,51,51,37,63,55,45,47,78,66,73,45,62,61,69,58,50,55,53,67,72,79,65,47,52,66,51,51,42,51,48,68,37,53,47,69,51,45,43,51,62,60,64,64,69,61,65,39,47,31,56,43,56,67,51,43,43,46,73,49,35,42,63,53,32,67,60,43,49,69,66,57,49,44,50,38,57,34,54,54,36,34,48,50,57,37,45,44,40,64,47,42,45,70,52,40,67,45,51,48,48,42,51,53,70,64,61,45,50,58,40,32,80,51,67,65,49,37,65,53,56,50,54,46,62,52,49,37,57,31,60,51,29,69,63,41,69,69,68,30,54,75,37,44,45,41,30,47,49,34,72,34,71,52,52,53,52,48,71,61,40,70,37,36,41,44,46,48,44,47,50,52,47,47,58,71,50,66,56,61,54,48,43,64,50,50,49,43,35,55,35,64,52,61,64,58,71,69,63,58,44,45,73,49,45,54,47,67,69,51,42,34,69,28,45,66,50,67,67,36,42,36,69,69,70,71,55,60,44,47,45,55,52,72,58,54,50,47,50,49,70,57,45,56,45,36,65,59,52,52,54,46,50,43,65,51,52,70,64,69,32,61,37,58,57,63,39,57,58,57,74,53,40,38,49,72,71,36,74,65,36,50,59,62,31,58,67,45,52,57,68,70,65,62,42,47,55,45,58,52,67,41,53,46,53,65,40,65,50,49,64,51,58,44,65,37,41,44,48,44,37,53,51,63,71,53,49,58,69,40,50,63,39,52,40,40,57,45,55,44,50,44,69,61,57,46,38,71,72,56,45,47,38,49,55,61,34,62,70,34,45,61,78,49,42,67,69,37,80,59,44,49,63,60,47,49,62,72,58,67,58,29,49,51,55,55,75,54,27,49,33,66,44,63,71,42,42,32,73,66,62,65,52,38,58,71,61,49,53,54,63,71,54,55,58,54,51,62,46,64,65,44,66,67,58,33,66,58,66,68,51,54,51,48,58,60,32,60,37,50,66,42,65,64,68,37,48,68,52,37,45,40,47,52,67,51,34,71,39,56,61,76,45,52,31,55,50,48,58,71,56,51,60,53,68,48,47,54,50,40,41,63,71,48,60,53,75,65,79,60,51,57,55,52,48,59,45,48,40,52,66,72,72,53,51,54,51,52,67,52,50,46,60,69,45,57,77,45,52,70,38,53,44,57,47,58,41,51,63,67,58,68,34,61,58,50,51,39,63,65,55,46,49,61,41,48,41,78,44,54,61,75,45,48,41,40,71,41,61,46,74,33,41,48,64,40,47,61,67,30,36,58,41,61,45,77,60,52,55,31,49,73,46,65,47,50,55,65,48,63,58,63,54,63,48,38,52,53,68,67,65,59,50,75,51,47,43,44,51,50,51,48,51,67,49,51,55,54,62,51,70,66,53,56,72,70,73,70,46,51,54,79,33,44,57,75,51,50,51,51,57,54,64,53,49,51,65,51,40,50,38,50,56,44,62,37,59,40,71,74,44,75,77,65,52,66,41,50,51,58,70,56,58,54,52,51,53,49,73,64,68,45,37,60,70,71,73,53,53,46,57,54,65,69,67,53,36,62,44,63,42,43,47,47,53,77,68,51,52,73,35,45,33,64,46,54,64,35,48,50,46,50,68,49,51,48,52,65,35,48,58,37,46,43,61,45,51,53,40,52,47,50,50,47,75,65,36,63,48,65,48,48,35,35,34,64,52,56,34,62,45,70,59,37,36,60,66,48,72,58,67,61,49,56,61,47,62,47,40,47,35,69,38,71,59,69,73,66,77,69,32,37,46,63,41,76,31,47,67,76,73,57,36,50,71,58,43,36,61,68,35,58,56,50,63,39,52,48,58,67,68,63,62,60,46,33,50,59,35,45,33,48,46,39,40,36,58,67,58,52,41,64,60,71,52,60,41,47,76,54,64,45,75,68,69,78,54,47,54,59,42,44,42,63,49,42,56,73,41,62,60,46,76,45,69,69,51,42,65,55,47,57,34,38,56,64,53,56,38,72,37,68,53,32,48,44,47,43,45,52,68,40,71,54,43,55,52,34,72,36,38,42,33,71,52,40,66,72,47,68,34,50,50,39,67,58,45,50,37,64,45,57,31,39,67,46,49,47,44,40,32,61,41,44,68,58,62,72,59,64,68,57,65,69,56,60,64,52,59,40,78,76,54,71,76,77,54,74,62,49,43,74,52,44,55,52,68,51,59,44,48,46,37,67,43,41,62,48,49,77,38,71,56,68,38,46,50,39,44,47,55,64,52,56,50,40,44,44,73,60,61,47,71,63,68,46,59,42,47,49,72,57,72,65,57,59,67,49,57,60,54,31,69,40,41,72,67,62,61,52,52,55,45,54,58,37,65,48,36,64,61,49,46,45,53,66,68,69,41,70,55,66,58,48,60,33,57,35,28,48,45,62,39,52,72,47,51,38,57,48,44,52,41,50,55,39,52,46,56,59,51,75,71,36,64,65,72,48,39,54,55,54,38,39,66,52,48,41,35,34,38,55,49,74,45,69,78,73,59,40,36,52,55,69,52,37,64,43,63,53,52,56,60,55,33,42,47,58,46,51,67,80,64,46,54,53,66,58,49,76,41,55,72,48,67,74,64,50,39,73,46,39,47,72,41,49,55,69,83,47,72,47,59,73,47,67,33,73,58,61,45,71,57,76,51,60,74,45,57,40,52,48,52,54,60,55,44,39,39,49,72,61,48,66,45,32,37,67,60,52,76,65,63,43,48,48,50,43,53,56,53,57,51,46,53,59,64,57,65,37,46,42,65,48,40,56,72,51,45,41,67,71,58,44,58,70,74,38,76,68,47,48,39,73,46,72,39,41,32,53,42,44,52,53,64,50,53,76,72,48,64,68,70,58,50,47,73,54,54,42,41,45,49,72,75,71,39,44,74,67,54,36,40,53,46,63,52,69,50,68,63,35,80,54,31,64,43,52,49,54,47,30,74,73,48,67,47,48,47,74,39,49,51,37,61,53,74,62,68,42,70,49,69,54,42,71,61,52,47,47,43,67,66,51,57,37,58,49,47,47,74,43,66,58,54,53,69,57,49,52,55,66,50,66,52,63,50,61,65,51,47,54,47,40,59,48,68,58,59,43,66,74,31,49,69,33,39,42,58,53,48,72,68,48,56,50,52,68,49,51,59,45,66,63,51,67,66,51,40,52,76,66,66,71,49,50,69,48,33,54,50,45,33,55,43,69,60,60,68,42,73,28,47,69,40,75,45,38,44,41,44,60,53,55,44,61,45,51,39,53,37,46,49,56,77,42,67,69],\"type\":\"scatter3d\"}],                        {\"template\":{\"data\":{\"bar\":[{\"error_x\":{\"color\":\"#2a3f5f\"},\"error_y\":{\"color\":\"#2a3f5f\"},\"marker\":{\"line\":{\"color\":\"#E5ECF6\",\"width\":0.5},\"pattern\":{\"fillmode\":\"overlay\",\"size\":10,\"solidity\":0.2}},\"type\":\"bar\"}],\"barpolar\":[{\"marker\":{\"line\":{\"color\":\"#E5ECF6\",\"width\":0.5},\"pattern\":{\"fillmode\":\"overlay\",\"size\":10,\"solidity\":0.2}},\"type\":\"barpolar\"}],\"carpet\":[{\"aaxis\":{\"endlinecolor\":\"#2a3f5f\",\"gridcolor\":\"white\",\"linecolor\":\"white\",\"minorgridcolor\":\"white\",\"startlinecolor\":\"#2a3f5f\"},\"baxis\":{\"endlinecolor\":\"#2a3f5f\",\"gridcolor\":\"white\",\"linecolor\":\"white\",\"minorgridcolor\":\"white\",\"startlinecolor\":\"#2a3f5f\"},\"type\":\"carpet\"}],\"choropleth\":[{\"colorbar\":{\"outlinewidth\":0,\"ticks\":\"\"},\"type\":\"choropleth\"}],\"contour\":[{\"colorbar\":{\"outlinewidth\":0,\"ticks\":\"\"},\"colorscale\":[[0.0,\"#0d0887\"],[0.1111111111111111,\"#46039f\"],[0.2222222222222222,\"#7201a8\"],[0.3333333333333333,\"#9c179e\"],[0.4444444444444444,\"#bd3786\"],[0.5555555555555556,\"#d8576b\"],[0.6666666666666666,\"#ed7953\"],[0.7777777777777778,\"#fb9f3a\"],[0.8888888888888888,\"#fdca26\"],[1.0,\"#f0f921\"]],\"type\":\"contour\"}],\"contourcarpet\":[{\"colorbar\":{\"outlinewidth\":0,\"ticks\":\"\"},\"type\":\"contourcarpet\"}],\"heatmap\":[{\"colorbar\":{\"outlinewidth\":0,\"ticks\":\"\"},\"colorscale\":[[0.0,\"#0d0887\"],[0.1111111111111111,\"#46039f\"],[0.2222222222222222,\"#7201a8\"],[0.3333333333333333,\"#9c179e\"],[0.4444444444444444,\"#bd3786\"],[0.5555555555555556,\"#d8576b\"],[0.6666666666666666,\"#ed7953\"],[0.7777777777777778,\"#fb9f3a\"],[0.8888888888888888,\"#fdca26\"],[1.0,\"#f0f921\"]],\"type\":\"heatmap\"}],\"heatmapgl\":[{\"colorbar\":{\"outlinewidth\":0,\"ticks\":\"\"},\"colorscale\":[[0.0,\"#0d0887\"],[0.1111111111111111,\"#46039f\"],[0.2222222222222222,\"#7201a8\"],[0.3333333333333333,\"#9c179e\"],[0.4444444444444444,\"#bd3786\"],[0.5555555555555556,\"#d8576b\"],[0.6666666666666666,\"#ed7953\"],[0.7777777777777778,\"#fb9f3a\"],[0.8888888888888888,\"#fdca26\"],[1.0,\"#f0f921\"]],\"type\":\"heatmapgl\"}],\"histogram\":[{\"marker\":{\"pattern\":{\"fillmode\":\"overlay\",\"size\":10,\"solidity\":0.2}},\"type\":\"histogram\"}],\"histogram2d\":[{\"colorbar\":{\"outlinewidth\":0,\"ticks\":\"\"},\"colorscale\":[[0.0,\"#0d0887\"],[0.1111111111111111,\"#46039f\"],[0.2222222222222222,\"#7201a8\"],[0.3333333333333333,\"#9c179e\"],[0.4444444444444444,\"#bd3786\"],[0.5555555555555556,\"#d8576b\"],[0.6666666666666666,\"#ed7953\"],[0.7777777777777778,\"#fb9f3a\"],[0.8888888888888888,\"#fdca26\"],[1.0,\"#f0f921\"]],\"type\":\"histogram2d\"}],\"histogram2dcontour\":[{\"colorbar\":{\"outlinewidth\":0,\"ticks\":\"\"},\"colorscale\":[[0.0,\"#0d0887\"],[0.1111111111111111,\"#46039f\"],[0.2222222222222222,\"#7201a8\"],[0.3333333333333333,\"#9c179e\"],[0.4444444444444444,\"#bd3786\"],[0.5555555555555556,\"#d8576b\"],[0.6666666666666666,\"#ed7953\"],[0.7777777777777778,\"#fb9f3a\"],[0.8888888888888888,\"#fdca26\"],[1.0,\"#f0f921\"]],\"type\":\"histogram2dcontour\"}],\"mesh3d\":[{\"colorbar\":{\"outlinewidth\":0,\"ticks\":\"\"},\"type\":\"mesh3d\"}],\"parcoords\":[{\"line\":{\"colorbar\":{\"outlinewidth\":0,\"ticks\":\"\"}},\"type\":\"parcoords\"}],\"pie\":[{\"automargin\":true,\"type\":\"pie\"}],\"scatter\":[{\"marker\":{\"colorbar\":{\"outlinewidth\":0,\"ticks\":\"\"}},\"type\":\"scatter\"}],\"scatter3d\":[{\"line\":{\"colorbar\":{\"outlinewidth\":0,\"ticks\":\"\"}},\"marker\":{\"colorbar\":{\"outlinewidth\":0,\"ticks\":\"\"}},\"type\":\"scatter3d\"}],\"scattercarpet\":[{\"marker\":{\"colorbar\":{\"outlinewidth\":0,\"ticks\":\"\"}},\"type\":\"scattercarpet\"}],\"scattergeo\":[{\"marker\":{\"colorbar\":{\"outlinewidth\":0,\"ticks\":\"\"}},\"type\":\"scattergeo\"}],\"scattergl\":[{\"marker\":{\"colorbar\":{\"outlinewidth\":0,\"ticks\":\"\"}},\"type\":\"scattergl\"}],\"scattermapbox\":[{\"marker\":{\"colorbar\":{\"outlinewidth\":0,\"ticks\":\"\"}},\"type\":\"scattermapbox\"}],\"scatterpolar\":[{\"marker\":{\"colorbar\":{\"outlinewidth\":0,\"ticks\":\"\"}},\"type\":\"scatterpolar\"}],\"scatterpolargl\":[{\"marker\":{\"colorbar\":{\"outlinewidth\":0,\"ticks\":\"\"}},\"type\":\"scatterpolargl\"}],\"scatterternary\":[{\"marker\":{\"colorbar\":{\"outlinewidth\":0,\"ticks\":\"\"}},\"type\":\"scatterternary\"}],\"surface\":[{\"colorbar\":{\"outlinewidth\":0,\"ticks\":\"\"},\"colorscale\":[[0.0,\"#0d0887\"],[0.1111111111111111,\"#46039f\"],[0.2222222222222222,\"#7201a8\"],[0.3333333333333333,\"#9c179e\"],[0.4444444444444444,\"#bd3786\"],[0.5555555555555556,\"#d8576b\"],[0.6666666666666666,\"#ed7953\"],[0.7777777777777778,\"#fb9f3a\"],[0.8888888888888888,\"#fdca26\"],[1.0,\"#f0f921\"]],\"type\":\"surface\"}],\"table\":[{\"cells\":{\"fill\":{\"color\":\"#EBF0F8\"},\"line\":{\"color\":\"white\"}},\"header\":{\"fill\":{\"color\":\"#C8D4E3\"},\"line\":{\"color\":\"white\"}},\"type\":\"table\"}]},\"layout\":{\"annotationdefaults\":{\"arrowcolor\":\"#2a3f5f\",\"arrowhead\":0,\"arrowwidth\":1},\"autotypenumbers\":\"strict\",\"coloraxis\":{\"colorbar\":{\"outlinewidth\":0,\"ticks\":\"\"}},\"colorscale\":{\"diverging\":[[0,\"#8e0152\"],[0.1,\"#c51b7d\"],[0.2,\"#de77ae\"],[0.3,\"#f1b6da\"],[0.4,\"#fde0ef\"],[0.5,\"#f7f7f7\"],[0.6,\"#e6f5d0\"],[0.7,\"#b8e186\"],[0.8,\"#7fbc41\"],[0.9,\"#4d9221\"],[1,\"#276419\"]],\"sequential\":[[0.0,\"#0d0887\"],[0.1111111111111111,\"#46039f\"],[0.2222222222222222,\"#7201a8\"],[0.3333333333333333,\"#9c179e\"],[0.4444444444444444,\"#bd3786\"],[0.5555555555555556,\"#d8576b\"],[0.6666666666666666,\"#ed7953\"],[0.7777777777777778,\"#fb9f3a\"],[0.8888888888888888,\"#fdca26\"],[1.0,\"#f0f921\"]],\"sequentialminus\":[[0.0,\"#0d0887\"],[0.1111111111111111,\"#46039f\"],[0.2222222222222222,\"#7201a8\"],[0.3333333333333333,\"#9c179e\"],[0.4444444444444444,\"#bd3786\"],[0.5555555555555556,\"#d8576b\"],[0.6666666666666666,\"#ed7953\"],[0.7777777777777778,\"#fb9f3a\"],[0.8888888888888888,\"#fdca26\"],[1.0,\"#f0f921\"]]},\"colorway\":[\"#636efa\",\"#EF553B\",\"#00cc96\",\"#ab63fa\",\"#FFA15A\",\"#19d3f3\",\"#FF6692\",\"#B6E880\",\"#FF97FF\",\"#FECB52\"],\"font\":{\"color\":\"#2a3f5f\"},\"geo\":{\"bgcolor\":\"white\",\"lakecolor\":\"white\",\"landcolor\":\"#E5ECF6\",\"showlakes\":true,\"showland\":true,\"subunitcolor\":\"white\"},\"hoverlabel\":{\"align\":\"left\"},\"hovermode\":\"closest\",\"mapbox\":{\"style\":\"light\"},\"paper_bgcolor\":\"white\",\"plot_bgcolor\":\"#E5ECF6\",\"polar\":{\"angularaxis\":{\"gridcolor\":\"white\",\"linecolor\":\"white\",\"ticks\":\"\"},\"bgcolor\":\"#E5ECF6\",\"radialaxis\":{\"gridcolor\":\"white\",\"linecolor\":\"white\",\"ticks\":\"\"}},\"scene\":{\"xaxis\":{\"backgroundcolor\":\"#E5ECF6\",\"gridcolor\":\"white\",\"gridwidth\":2,\"linecolor\":\"white\",\"showbackground\":true,\"ticks\":\"\",\"zerolinecolor\":\"white\"},\"yaxis\":{\"backgroundcolor\":\"#E5ECF6\",\"gridcolor\":\"white\",\"gridwidth\":2,\"linecolor\":\"white\",\"showbackground\":true,\"ticks\":\"\",\"zerolinecolor\":\"white\"},\"zaxis\":{\"backgroundcolor\":\"#E5ECF6\",\"gridcolor\":\"white\",\"gridwidth\":2,\"linecolor\":\"white\",\"showbackground\":true,\"ticks\":\"\",\"zerolinecolor\":\"white\"}},\"shapedefaults\":{\"line\":{\"color\":\"#2a3f5f\"}},\"ternary\":{\"aaxis\":{\"gridcolor\":\"white\",\"linecolor\":\"white\",\"ticks\":\"\"},\"baxis\":{\"gridcolor\":\"white\",\"linecolor\":\"white\",\"ticks\":\"\"},\"bgcolor\":\"#E5ECF6\",\"caxis\":{\"gridcolor\":\"white\",\"linecolor\":\"white\",\"ticks\":\"\"}},\"title\":{\"x\":0.05},\"xaxis\":{\"automargin\":true,\"gridcolor\":\"white\",\"linecolor\":\"white\",\"ticks\":\"\",\"title\":{\"standoff\":15},\"zerolinecolor\":\"white\",\"zerolinewidth\":2},\"yaxis\":{\"automargin\":true,\"gridcolor\":\"white\",\"linecolor\":\"white\",\"ticks\":\"\",\"title\":{\"standoff\":15},\"zerolinecolor\":\"white\",\"zerolinewidth\":2}}},\"scene\":{\"domain\":{\"x\":[0.0,1.0],\"y\":[0.0,1.0]},\"xaxis\":{\"title\":{\"text\":\"Income\"}},\"yaxis\":{\"title\":{\"text\":\"Total_Amount_spent\"}},\"zaxis\":{\"title\":{\"text\":\"Age\"}}},\"coloraxis\":{\"colorbar\":{\"title\":{\"text\":\"ClusterLabel\"}},\"colorscale\":[[0.0,\"#0d0887\"],[0.1111111111111111,\"#46039f\"],[0.2222222222222222,\"#7201a8\"],[0.3333333333333333,\"#9c179e\"],[0.4444444444444444,\"#bd3786\"],[0.5555555555555556,\"#d8576b\"],[0.6666666666666666,\"#ed7953\"],[0.7777777777777778,\"#fb9f3a\"],[0.8888888888888888,\"#fdca26\"],[1.0,\"#f0f921\"]]},\"legend\":{\"tracegroupgap\":0},\"title\":{\"text\":\"Visualizing Cluster Result Using 3 Features\"},\"height\":550},                        {\"responsive\": true}                    ).then(function(){\n",
              "                            \n",
              "var gd = document.getElementById('24ad45c0-e161-4af7-8864-e2ae63d0a938');\n",
              "var x = new MutationObserver(function (mutations, observer) {{\n",
              "        var display = window.getComputedStyle(gd).display;\n",
              "        if (!display || display === 'none') {{\n",
              "            console.log([gd, 'removed!']);\n",
              "            Plotly.purge(gd);\n",
              "            observer.disconnect();\n",
              "        }}\n",
              "}});\n",
              "\n",
              "// Listen for the removal of the full notebook cells\n",
              "var notebookContainer = gd.closest('#notebook-container');\n",
              "if (notebookContainer) {{\n",
              "    x.observe(notebookContainer, {childList: true});\n",
              "}}\n",
              "\n",
              "// Listen for the clearing of the current output cell\n",
              "var outputEl = gd.closest('.output');\n",
              "if (outputEl) {{\n",
              "    x.observe(outputEl, {childList: true});\n",
              "}}\n",
              "\n",
              "                        })                };                            </script>        </div>\n",
              "</body>\n",
              "</html>"
            ]
          },
          "metadata": {}
        }
      ]
    },
    {
      "cell_type": "markdown",
      "source": [
        "# ***Interpreting Result:--***\n",
        "\n",
        "`Cluster 1 depicts young customers that earn way lot and also spend a lot.`\n",
        "\n",
        "`Cluster 2 translates to old customer that earn lot and also spend high.`\n",
        "\n",
        "`Cluster 3 depicts young customers that earn lows and also spend low.`"
      ],
      "metadata": {
        "id": "DMn9TDXVv9dO"
      }
    },
    {
      "cell_type": "markdown",
      "source": [
        "**We can do Further Analysis Based on :**\n",
        "\n",
        "\n",
        "Geographic Segmentation.\n",
        "\n",
        "Psychographic Segmentation.\n",
        "\n",
        "Technographic Segmentation.\n",
        "\n",
        "Needs-based Segmentation.\n",
        "\n",
        "Value-based Segmentation."
      ],
      "metadata": {
        "id": "5Agz0QuPwRHV"
      }
    }
  ],
  "metadata": {
    "colab": {
      "provenance": [],
      "authorship_tag": "ABX9TyM4vVATXmm6v9E2FsjsBhds",
      "include_colab_link": true
    },
    "kernelspec": {
      "display_name": "Python 3",
      "name": "python3"
    },
    "language_info": {
      "name": "python"
    }
  },
  "nbformat": 4,
  "nbformat_minor": 0
}